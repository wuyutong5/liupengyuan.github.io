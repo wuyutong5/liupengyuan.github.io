{
 "cells": [
  {
   "cell_type": "code",
   "execution_count": 1,
   "metadata": {
    "collapsed": false
   },
   "outputs": [
    {
     "name": "stdout",
     "output_type": "stream",
     "text": [
      "请输入你的姓名，以回车结束。lai\n",
      "请输入你的出生日期，以回车结束。6.04\n",
      "lai 你是双子座\n"
     ]
    }
   ],
   "source": [
    "name=input('请输入你的姓名，以回车结束。')\n",
    "d=float(input('请输入你的出生日期，以回车结束。'))\n",
    "\n",
    "if d>=3.21 and d<=4.19:\n",
    "    print(name,'你是白羊座')\n",
    "elif d>=4.20 and d<=5.20:\n",
    "    print(name,'你是金牛座')\n",
    "elif d>=5.21 and d<=6.21:\n",
    "    print(name,'你是双子座')\n",
    "elif d>=6.22 and d<=7.22:\n",
    "    print(name,'你是巨蟹座')\n",
    "elif d>=7.23 and d<=8.22:\n",
    "    print(name,'你是狮子座')\n",
    "elif d>=8.23 and d<=9.22:\n",
    "    print(name,'你是处女座')\n",
    "elif d>=9.23 and d<=10.23:\n",
    "    print(name,'你是天秤座')\n",
    "elif d>=10.24 and d<=11.22:\n",
    "    print(name,'你是天蝎座')\n",
    "elif d>=11.23 and d<=12.21:\n",
    "    print(name,'你是射手座')\n",
    "elif d>=12.22 or d<=1.19:\n",
    "    print(name,'你是摩羯座')"
   ]
  },
  {
   "cell_type": "code",
   "execution_count": 3,
   "metadata": {
    "collapsed": false
   },
   "outputs": [
    {
     "name": "stdout",
     "output_type": "stream",
     "text": [
      "请输入一个整数m，以回车结束。3\n",
      "请输入一个整数n，以回车结束。6\n",
      "如果想要求和，输入1；想求积，输入2；想求余数，输入3；以回车结束。3\n",
      "3\n"
     ]
    }
   ],
   "source": [
    "m=int(input('请输入一个整数m，以回车结束。'))\n",
    "n=int(input('请输入一个整数n，以回车结束。'))\n",
    "k=int(input('如果想要求和，输入1；想求积，输入2；想求余数，输入3；以回车结束。'))\n",
    "he=0;\n",
    "ji=0;\n",
    "yu=0;\n",
    "\n",
    "if k==1:\n",
    "    he=m+n\n",
    "    print(he)\n",
    "elif k==2:\n",
    "    ji=m*n\n",
    "    print(ji)\n",
    "else:\n",
    "    yu=m%n\n",
    "    print(yu)"
   ]
  },
  {
   "cell_type": "code",
   "execution_count": 6,
   "metadata": {
    "collapsed": false
   },
   "outputs": [
    {
     "name": "stdout",
     "output_type": "stream",
     "text": [
      "请输入pm2.5数值，以回车结束600\n",
      "应打开空气净化器，戴防霾口罩\n"
     ]
    }
   ],
   "source": [
    "pm2 = int(input('请输入pm2.5数值，以回车结束'))\n",
    "if pm2>500:\n",
    "    print('应打开空气净化器，戴防霾口罩')\n",
    "elif pm2>250:\n",
    "    print('应戴防霾口罩')\n",
    "else:\n",
    "    print('多喝水')"
   ]
  },
  {
   "cell_type": "code",
   "execution_count": 7,
   "metadata": {
    "collapsed": false
   },
   "outputs": [
    {
     "name": "stdout",
     "output_type": "stream",
     "text": [
      "请输入要输入的英文单词，回车结束。knife\n",
      "复数为：把f或fe改为v再加es\n"
     ]
    }
   ],
   "source": [
    "m = str(input('请输入要输入的英文单词，回车结束。'))\n",
    "if  m.endswith('s') or m.endswith('x') or m.endswith('z') or m.endswith('ch') or m.endswith('sh'):\n",
    "    print('复数为:',m,'es')\n",
    "elif m.endswith('y'):\n",
    "    print('复数为：把y改为i再加es')\n",
    "elif m.endswith('f') or m.endswith('fe'):\n",
    "    print('复数为：把f或fe改为v再加es')\n",
    "else:\n",
    "    print('复数为:',m,'s')"
   ]
  },
  {
   "cell_type": "code",
   "execution_count": 9,
   "metadata": {
    "collapsed": false
   },
   "outputs": [
    {
     "name": "stdout",
     "output_type": "stream",
     "text": [
      "\n",
      "\n"
     ]
    }
   ],
   "source": [
    "#尝试性练习\n",
    "print('\\n')"
   ]
  },
  {
   "cell_type": "code",
   "execution_count": 10,
   "metadata": {
    "collapsed": false
   },
   "outputs": [
    {
     "name": "stdout",
     "output_type": "stream",
     "text": [
      "请输入一个整数，以回车结束2\n",
      "请输入一个整数，以回车结束4\n",
      "请输入一个整数，以回车结束1\n",
      "请输入一个整数，以回车结束-9999\n",
      "第二大的数为： 2\n"
     ]
    }
   ],
   "source": [
    "#挑战性练习\n",
    "maxn = int(input('请输入一个整数，以回车结束'))\n",
    "second = int(input('请输入一个整数，以回车结束'))\n",
    "if second > maxn:\n",
    "    second,maxn = maxn,second\n",
    "    \n",
    "n = None\n",
    "while n != -9999:\n",
    "    n = int(input('请输入一个整数，以回车结束'))\n",
    "    if n > maxn:\n",
    "        n,maxn = maxn,n\n",
    "        second,n = n,second\n",
    "    elif n > second:\n",
    "        second,n = n,second\n",
    "    else:\n",
    "        pass\n",
    "    \n",
    "print('第二大的数为：',second)"
   ]
  }
 ],
 "metadata": {
  "kernelspec": {
   "display_name": "Python 3",
   "language": "python",
   "name": "python3"
  },
  "language_info": {
   "codemirror_mode": {
    "name": "ipython",
    "version": 3
   },
   "file_extension": ".py",
   "mimetype": "text/x-python",
   "name": "python",
   "nbconvert_exporter": "python",
   "pygments_lexer": "ipython3",
   "version": "3.6.0"
  }
 },
 "nbformat": 4,
 "nbformat_minor": 2
}
