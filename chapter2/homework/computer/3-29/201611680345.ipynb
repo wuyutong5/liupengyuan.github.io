{
 "cells": [
  {
   "cell_type": "code",
   "execution_count": 6,
   "metadata": {
    "collapsed": false,
    "deletable": true,
    "editable": true
   },
   "outputs": [
    {
     "name": "stdout",
     "output_type": "stream",
     "text": [
      "请输入第1个整数，以回车结束。5\n",
      "请输入第2个整数，以回车结束。4\n",
      "请输入第3个整数，以回车结束。2\n",
      "最终的和是： 146\n"
     ]
    }
   ],
   "source": [
    "## 求m!+n!+k!\n",
    "\n",
    "def compute_ji(end):\n",
    "    i = 0\n",
    "    ji = 1\n",
    "\n",
    "    while i < end:\n",
    "        i = i + 1\n",
    "        ji = ji * i\n",
    "\n",
    "    return ji\n",
    "\n",
    "n = int(input('请输入第1个整数，以回车结束。'))\n",
    "m = int(input('请输入第2个整数，以回车结束。'))\n",
    "k = int(input('请输入第3个整数，以回车结束。'))\n",
    "\n",
    "print('最终的和是：', compute_ji(m) + compute_ji(n) + compute_ji(k))"
   ]
  },
  {
   "cell_type": "code",
   "execution_count": 4,
   "metadata": {
    "collapsed": false,
    "deletable": true,
    "editable": true
   },
   "outputs": [
    {
     "name": "stdout",
     "output_type": "stream",
     "text": [
      "n=1000时 4倍该函数和为： 3.1396006236934557\n",
      "n=100000时 4倍该函数和为： 3.1415726543897637\n"
     ]
    }
   ],
   "source": [
    "def compute_sum(end):\n",
    "    i = 1\n",
    "    j = 3\n",
    "    sum1 = 1\n",
    "    sum2 = 1/3\n",
    "    \n",
    "    while i <= end:\n",
    "        i = i+4\n",
    "        sum1 = sum1 + 1/i\n",
    "        j = j+4\n",
    "        sum2 = sum2 + 1/j\n",
    "        \n",
    "        \n",
    "    return sum1-sum2\n",
    "\n",
    "print('n=1000时 4倍该函数和为：',4*compute_sum(1000))\n",
    "print('n=100000时 4倍该函数和为：',4*compute_sum(100000))"
   ]
  },
  {
   "cell_type": "code",
   "execution_count": 12,
   "metadata": {
    "collapsed": false,
    "deletable": true,
    "editable": true
   },
   "outputs": [
    {
     "name": "stdout",
     "output_type": "stream",
     "text": [
      "请输入你的姓名，以回车结束。lai\n",
      "请输入你的出生日期，以回车结束。6.04\n",
      "lai 你是双子座\n"
     ]
    }
   ],
   "source": [
    "#task3 1\n",
    "\n",
    "def Constellation(d):\n",
    "    if d>=3.21 and d<=4.19:\n",
    "        print(name,'你是白羊座')\n",
    "    elif d>=4.20 and d<=5.20:\n",
    "        print(name,'你是金牛座')\n",
    "    elif d>=5.21 and d<=6.21:\n",
    "        print(name,'你是双子座')\n",
    "    elif d>=6.22 and d<=7.22:\n",
    "        print(name,'你是巨蟹座')\n",
    "    elif d>=7.23 and d<=8.22:\n",
    "        print(name,'你是狮子座')\n",
    "    elif d>=8.23 and d<=9.22:\n",
    "        print(name,'你是处女座')\n",
    "    elif d>=9.23 and d<=10.23:\n",
    "        print(name,'你是天秤座')\n",
    "    elif d>=10.24 and d<=11.22:\n",
    "        print(name,'你是天蝎座')\n",
    "    elif d>=11.23 and d<=12.21:\n",
    "        print(name,'你是射手座')\n",
    "    elif d>=12.22 or d<=1.19:\n",
    "        print(name,'你是摩羯座')\n",
    "        \n",
    "name=input('请输入你的姓名，以回车结束。')\n",
    "date=float(input('请输入你的出生日期，以回车结束。'))\n",
    "\n",
    "Constellation(date)\n"
   ]
  },
  {
   "cell_type": "code",
   "execution_count": 13,
   "metadata": {
    "collapsed": false
   },
   "outputs": [
    {
     "name": "stdout",
     "output_type": "stream",
     "text": [
      "请输入要输入的英文单词，回车结束。knife\n",
      "复数为：把f或fe改为v再加es\n"
     ]
    }
   ],
   "source": [
    "#task3 4\n",
    "\n",
    "def word(m):\n",
    "    if  m.endswith('s') or m.endswith('x') or m.endswith('z') or m.endswith('ch') or m.endswith('sh'):\n",
    "        print('复数为:',m,'es')\n",
    "    elif m.endswith('y'):\n",
    "        print('复数为：把y改为i再加es')\n",
    "    elif m.endswith('f') or m.endswith('fe'):\n",
    "        print('复数为：把f或fe改为v再加es')\n",
    "    else:\n",
    "        print('复数为:',m,'s')\n",
    "\n",
    "m = str(input('请输入要输入的英文单词，回车结束。'))\n",
    "word(m)"
   ]
  },
  {
   "cell_type": "code",
   "execution_count": 17,
   "metadata": {
    "collapsed": false
   },
   "outputs": [
    {
     "name": "stdout",
     "output_type": "stream",
     "text": [
      "请输入第1个整数，以回车结束。10\n",
      "请输入第2个整数，以回车结束。20\n",
      "请输入第3个整数，以回车结束。2\n",
      "和为: 90\n"
     ]
    }
   ],
   "source": [
    "def total(m,n,k):\n",
    "    i=m\n",
    "    total=0\n",
    "    while i<=n:\n",
    "        total=total+i\n",
    "        i=i+k\n",
    "    return(total)\n",
    "\n",
    "        \n",
    "m = int(input('请输入第1个整数，以回车结束。'))\n",
    "n = int(input('请输入第2个整数，以回车结束。'))\n",
    "k = int(input('请输入第3个整数，以回车结束。'))\n",
    "print('和为:',total(m,n,k))"
   ]
  }
 ],
 "metadata": {
  "kernelspec": {
   "display_name": "Python 3",
   "language": "python",
   "name": "python3"
  },
  "language_info": {
   "codemirror_mode": {
    "name": "ipython",
    "version": 3
   },
   "file_extension": ".py",
   "mimetype": "text/x-python",
   "name": "python",
   "nbconvert_exporter": "python",
   "pygments_lexer": "ipython3",
   "version": "3.6.0"
  }
 },
 "nbformat": 4,
 "nbformat_minor": 2
}
