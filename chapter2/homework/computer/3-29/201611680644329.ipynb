{
 "cells": [
  {
   "cell_type": "code",
   "execution_count": 2,
   "metadata": {
    "collapsed": false
   },
   "outputs": [
    {
     "name": "stdout",
     "output_type": "stream",
     "text": [
      "请输入第1个整数，以回车结束。2\n",
      "请输入第2个整数，以回车结束。2\n",
      "请输入第3个整数，以回车结束。2\n",
      "最终的和是： 6\n"
     ]
    }
   ],
   "source": [
    "def compute_sum(end):\n",
    "    i = 1\n",
    "    total_n = 1\n",
    "\n",
    "    while i < end:\n",
    "        i = i + 1\n",
    "        total_n = total_n * i\n",
    "\n",
    "    return total_n\n",
    "\n",
    "n = int(input('请输入第1个整数，以回车结束。'))\n",
    "m = int(input('请输入第2个整数，以回车结束。'))\n",
    "k = int(input('请输入第3个整数，以回车结束。'))\n",
    "\n",
    "print('最终的和是：', compute_sum(m) + compute_sum(n) + compute_sum(k))"
   ]
  },
  {
   "cell_type": "code",
   "execution_count": 7,
   "metadata": {
    "collapsed": false
   },
   "outputs": [
    {
     "ename": "SyntaxError",
     "evalue": "invalid syntax (<ipython-input-7-eb2a00517963>, line 4)",
     "output_type": "error",
     "traceback": [
      "\u001b[0;36m  File \u001b[0;32m\"<ipython-input-7-eb2a00517963>\"\u001b[0;36m, line \u001b[0;32m4\u001b[0m\n\u001b[0;31m    while i<m\u001b[0m\n\u001b[0m             ^\u001b[0m\n\u001b[0;31mSyntaxError\u001b[0m\u001b[0;31m:\u001b[0m invalid syntax\n"
     ]
    }
   ],
   "source": [
    "def compute_minus(m):\n",
    "    n=1\n",
    "    number=1\n",
    "    while i<m\n",
    "        i=2*n+1\n",
    "        number=1/i\n",
    "        minus=minus-number\n",
    "        n=n+1\n",
    "    return minus\n",
    "\n",
    "n = 1000\n",
    "m = 100000\n",
    "\n",
    "print(4*compute_minus(n))\n",
    "print(4*compute_minus(m))\n"
   ]
  },
  {
   "cell_type": "code",
   "execution_count": 9,
   "metadata": {
    "collapsed": false
   },
   "outputs": [
    {
     "ename": "SyntaxError",
     "evalue": "invalid syntax (<ipython-input-9-1d001055a6e3>, line 1)",
     "output_type": "error",
     "traceback": [
      "\u001b[0;36m  File \u001b[0;32m\"<ipython-input-9-1d001055a6e3>\"\u001b[0;36m, line \u001b[0;32m1\u001b[0m\n\u001b[0;31m    def constellation(month,day)\u001b[0m\n\u001b[0m                                ^\u001b[0m\n\u001b[0;31mSyntaxError\u001b[0m\u001b[0;31m:\u001b[0m invalid syntax\n"
     ]
    }
   ],
   "source": [
    "def constellation(month,day)\n",
    "    if month==1:  \n",
    "        if day>=20:\n",
    "            print(name,'你是非常有性格的水瓶座！')\n",
    "        else :print(name,'你是非常有性格的摩羯座！')\n",
    "    elif month==2:\n",
    "        if day<19:\n",
    "            print(name,'你是非常有性格的水瓶座！')\n",
    "        else :print(name,'你是非常有性格的双鱼座！')\n",
    "    elif month==3:\n",
    "        if day<21:\n",
    "            print(name,'你是非常有性格的双鱼座！')\n",
    "        else :print(name,'你是非常有性格的白羊座！')\n",
    "    elif month==4:\n",
    "        if day<20:\n",
    "            print(name,'你是非常有性格的白羊座！')\n",
    "        else :print(name,'你是非常有性格的金牛座！')\n",
    "    elif month==5:\n",
    "        if day<21:\n",
    "            print(name,'你是非常有性格的金牛座！')\n",
    "        else :print(name,'你是非常有性格的双子座！')\n",
    "    elif month==6:\n",
    "        if day<22:\n",
    "            print(name,'你是非常有性格的双子座！')\n",
    "        else :print(name,'你是非常有性格的巨蟹座！')\n",
    "    elif month==7:\n",
    "        if day<23:\n",
    "            print(name,'你是非常有性格的巨蟹座！')\n",
    "        else :print(name,'你是非常有性格的狮子座！')\n",
    "    elif month==8:\n",
    "        if day<23:\n",
    "            print(name,'你是非常有性格的狮子座！')\n",
    "        else :print(name,'你是非常有性格的处女座！')\n",
    "    elif month==9:\n",
    "        if day<23:\n",
    "            print(name,'你是非常有性格的处女座！')\n",
    "        else :print(name,'你是非常有性格的天秤座！')\n",
    "    elif month==10:\n",
    "        if day<24:\n",
    "            print(name,'你是非常有性格的天秤座！')\n",
    "        else :print(name,'你是非常有性格的天蝎座！')\n",
    "    elif month==11:\n",
    "        if day<23:\n",
    "            print(name,'你是非常有性格的天蝎座！')\n",
    "        else :print(name,'你是非常有性格的射手座！')\n",
    "    elif month==12:\n",
    "        if day<22:\n",
    "            print(name,'你是非常有性格的射手座！')\n",
    "        else :print(name,'你是非常有性格的摩羯座！')\n",
    "\n",
    "name = (input('请输入你的名字，回车结束。'))\n",
    "print('hello',name)\n",
    "month = (input('请输入你的出生月份，回车结束。'))\n",
    "day=(input('请输入你的出生日期，回车结束。'))\n"
   ]
  },
  {
   "cell_type": "code",
   "execution_count": 10,
   "metadata": {
    "collapsed": false
   },
   "outputs": [
    {
     "ename": "SyntaxError",
     "evalue": "invalid syntax (<ipython-input-10-76e0ce403481>, line 1)",
     "output_type": "error",
     "traceback": [
      "\u001b[0;36m  File \u001b[0;32m\"<ipython-input-10-76e0ce403481>\"\u001b[0;36m, line \u001b[0;32m1\u001b[0m\n\u001b[0;31m    def word.endswith(word)\u001b[0m\n\u001b[0m            ^\u001b[0m\n\u001b[0;31mSyntaxError\u001b[0m\u001b[0;31m:\u001b[0m invalid syntax\n"
     ]
    }
   ],
   "source": [
    "def word.endswith(word)\n",
    "\n",
    "if word.endswith('x')or word.endswith('ch')or word.endswith('sh')or word.endswith('o'):\n",
    "    newword=word,'es'\n",
    "elif word.endswith('y'):\n",
    "    newword=word[:-1],'ies'\n",
    "else:\n",
    "    newword=word,'s'\n",
    "    return newword\n",
    "# main\n",
    "word=input('plz input a word')\n",
    "print(word.endswith(word))"
   ]
  },
  {
   "cell_type": "code",
   "execution_count": 11,
   "metadata": {
    "collapsed": false
   },
   "outputs": [
    {
     "ename": "SyntaxError",
     "evalue": "invalid syntax (<ipython-input-11-82c99786dbe3>, line 4)",
     "output_type": "error",
     "traceback": [
      "\u001b[0;36m  File \u001b[0;32m\"<ipython-input-11-82c99786dbe3>\"\u001b[0;36m, line \u001b[0;32m4\u001b[0m\n\u001b[0;31m    if(m>n)\u001b[0m\n\u001b[0m           ^\u001b[0m\n\u001b[0;31mSyntaxError\u001b[0m\u001b[0;31m:\u001b[0m invalid syntax\n"
     ]
    }
   ],
   "source": [
    "#求从整数m到整数n累加的和，间隔为k，求和部分需用函数实现，主程序中由用户输入m，n，k调用函数验证正确性。\n",
    "\n",
    "def compute_sum(n,m,k):\n",
    "    if(m>n)\n",
    "        n,m=m,n\n",
    "    i = m\n",
    "    total_n =0\n",
    "    while i < n:\n",
    "        i = i + k\n",
    "        total_n = total_n + i\n",
    "\n",
    "    return total_n\n",
    "\n",
    "n = int(input('请输入1个整数，以回车结束。'))\n",
    "m = int(input('请输入1个整数，以回车结束。'))\n",
    "k = int(input('请输入1个整数，以回车结束。'))\n",
    "\n",
    "print('最终的和是：', compute_sum(n,m,k)"
   ]
  }
 ],
 "metadata": {
  "kernelspec": {
   "display_name": "Python 3",
   "language": "python",
   "name": "python3"
  },
  "language_info": {
   "codemirror_mode": {
    "name": "ipython",
    "version": 3
   },
   "file_extension": ".py",
   "mimetype": "text/x-python",
   "name": "python",
   "nbconvert_exporter": "python",
   "pygments_lexer": "ipython3",
   "version": "3.6.0"
  }
 },
 "nbformat": 4,
 "nbformat_minor": 2
}
