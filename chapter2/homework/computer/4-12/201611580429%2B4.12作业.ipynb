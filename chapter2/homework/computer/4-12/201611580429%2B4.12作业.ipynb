{
 "cells": [
  {
   "cell_type": "code",
   "execution_count": 1,
   "metadata": {
    "collapsed": false
   },
   "outputs": [
    {
     "name": "stdout",
     "output_type": "stream",
     "text": [
      "请输入第1个整数，以回车结束。4\n",
      "请输入第2个整数，以回车结束。8\n",
      "请输入第3个整数，以回车结束。2\n",
      "最终的和是： 40346\n"
     ]
    }
   ],
   "source": [
    "#将前面几章用while循环的习题，用for循环实现，并尽量写成函数。\n",
    "def compute_pro(end):\n",
    "    i = 1\n",
    "    factor_n = 1\n",
    "    for i in range(1,end):\n",
    "        i = i + 1\n",
    "        factor_n = factor_n*i\n",
    "    return factor_n\n",
    "\n",
    "n = int(input('请输入第1个整数，以回车结束。'))\n",
    "m = int(input('请输入第2个整数，以回车结束。'))\n",
    "k = int(input('请输入第3个整数，以回车结束。'))\n",
    "\n",
    "print('最终的和是：', compute_pro(m) + compute_pro(n) + compute_pro(k))"
   ]
  },
  {
   "cell_type": "code",
   "execution_count": 2,
   "metadata": {
    "collapsed": false
   },
   "outputs": [
    {
     "name": "stdout",
     "output_type": "stream",
     "text": [
      "  0.6936474305598223\n",
      "  0.6931521805849815\n"
     ]
    }
   ],
   "source": [
    "#将前面几章用while循环的习题，用for循环实现，并尽量写成函数。\n",
    "def compute_sum(end):\n",
    "    import math\n",
    "    n=0\n",
    "    i = 1\n",
    "    total_n = 0\n",
    "    for i in range(1,end):\n",
    "        total_n = total_n + 1/i*math.pow(-1,n)\n",
    "        i = i + 2\n",
    "        n=n+1\n",
    "    return total_n\n",
    "print(' ', compute_sum(1000))\n",
    "print(' ', compute_sum(100000))\n"
   ]
  },
  {
   "cell_type": "code",
   "execution_count": 3,
   "metadata": {
    "collapsed": false
   },
   "outputs": [
    {
     "name": "stdout",
     "output_type": "stream",
     "text": [
      "Enter the number of the integers: 4\n",
      "Enter the least num of the range: 2\n",
      "Enter the largest num of the range: 6\n",
      "4\n",
      "2\n",
      "2\n",
      "4\n",
      "1.7320508075688772\n"
     ]
    }
   ],
   "source": [
    "#for 循环\n",
    "import random,math\n",
    "def operation(n,m,k):\n",
    "    i=0\n",
    "    sum=0\n",
    "    for i in range(0,n):\n",
    "        t = random.randint(m,k)\n",
    "        sum=sum+t\n",
    "        print(t)\n",
    "        i += 1\n",
    "    print (math.sqrt(sum/n))\n",
    "n=int(input('Enter the number of the integers: '))\n",
    "m=int(input('Enter the least num of the range: '))\n",
    "k=int(input('Enter the largest num of the range: '))\n",
    "operation(n,m,k)\n"
   ]
  },
  {
   "cell_type": "code",
   "execution_count": 4,
   "metadata": {
    "collapsed": false
   },
   "outputs": [
    {
     "name": "stdout",
     "output_type": "stream",
     "text": [
      "Enter the number of the integers: 4\n",
      "Enter the least num of the range: 3\n",
      "Enter the largest num of the range: 5\n",
      "1.0986122886681098 0.9102392266268373\n",
      "1.0986122886681098 0.9102392266268373\n",
      "1.0986122886681098 0.9102392266268373\n",
      "1.6094379124341003 0.6213349345596119\n",
      "4.90527477843843 3.352052614440124\n"
     ]
    }
   ],
   "source": [
    "#for 循环\n",
    "import random,math\n",
    "def operation(m,n,k):\n",
    "    i=0\n",
    "    sum1=0\n",
    "    sum2=0\n",
    "    for i in range(0,n):\n",
    "        t = random.randint(m,k)\n",
    "        print(math.log(t),1/math.log(t))\n",
    "        sum1=sum1+math.log(t)\n",
    "        sum2=sum2+1/math.log(t)\n",
    "        i += 1\n",
    "    print (sum1,sum2)\n",
    "n=int(input('Enter the number of the integers: '))\n",
    "m=int(input('Enter the least num of the range: '))\n",
    "k=int(input('Enter the largest num of the range: '))\n",
    "operation(m,n,k)"
   ]
  },
  {
   "cell_type": "code",
   "execution_count": 5,
   "metadata": {
    "collapsed": false
   },
   "outputs": [
    {
     "name": "stdout",
     "output_type": "stream",
     "text": [
      "Enter the number of the integers: 4\n",
      "Enter the least num of the range: 6\n",
      "Enter the largest num of the range: 8\n",
      "1.791759469228055 0.5581106265512472\n",
      "2.0794415416798357 0.48089834696298783\n",
      "2.0794415416798357 0.48089834696298783\n",
      "1.791759469228055 0.5581106265512472\n",
      "7.742402021815781 2.07801794702847\n"
     ]
    }
   ],
   "source": [
    "#for 循环\n",
    "import random,math\n",
    "def operation(m,n,k):\n",
    "    i=0\n",
    "    sum1=0\n",
    "    sum2=0\n",
    "    for i in range(0,n):\n",
    "        t = random.randint(m,k)\n",
    "        print(math.log(t),1/math.log(t))\n",
    "        sum1=sum1+math.log(t)\n",
    "        sum2=sum2+1/math.log(t)\n",
    "        i += 1\n",
    "    print (sum1,sum2)\n",
    "n=int(input('Enter the number of the integers: '))\n",
    "m=int(input('Enter the least num of the range: '))\n",
    "k=int(input('Enter the largest num of the range: '))\n",
    "operation(m,n,k)"
   ]
  },
  {
   "cell_type": "code",
   "execution_count": 6,
   "metadata": {
    "collapsed": false
   },
   "outputs": [
    {
     "name": "stdout",
     "output_type": "stream",
     "text": [
      "Enter the number of the integers: 4\n",
      "6\n",
      "7404\n"
     ]
    }
   ],
   "source": [
    "\n",
    "#for 循环\n",
    "import random,math\n",
    "def operation(n):\n",
    "    i=0\n",
    "    sum=0\n",
    "    an=0\n",
    "    a=random.randint(1,9)\n",
    "    print(a)\n",
    "    for i in range(0,n):\n",
    "        an=an+a  \n",
    "        sum=sum+an \n",
    "        a=a*10  \n",
    "        i=i+1\n",
    "    print(sum)\n",
    "n=int(input('Enter the number of the integers: '))\n",
    "operation(n)"
   ]
  },
  {
   "cell_type": "code",
   "execution_count": 7,
   "metadata": {
    "collapsed": false
   },
   "outputs": [
    {
     "name": "stdout",
     "output_type": "stream",
     "text": [
      "  60\n"
     ]
    }
   ],
   "source": [
    "#写函数，返回一个list中所有数字的和\n",
    "def sum( mylist ):\n",
    "    i=0\n",
    "    sum=0\n",
    "    while i < len(mylist):\n",
    "        sum=sum+mylist[i]\n",
    "        i += 1\n",
    "    print (\" \", sum)\n",
    "    return \n",
    "\n",
    "mylist = [10,20,30]\n",
    "sum( mylist)"
   ]
  },
  {
   "cell_type": "code",
   "execution_count": 8,
   "metadata": {
    "collapsed": false
   },
   "outputs": [
    {
     "name": "stdout",
     "output_type": "stream",
     "text": [
      "  60\n"
     ]
    }
   ],
   "source": [
    "#写函数，返回一个list中所有数字的和\n",
    "def sum( mylist ):\n",
    "    i=0\n",
    "    sum=0\n",
    "    while i < len(mylist):\n",
    "        sum=sum+mylist[i]\n",
    "        i += 1\n",
    "    print (\" \", sum)\n",
    "    return \n",
    "\n",
    "mylist = [10,20,30]\n",
    "sum( mylist)"
   ]
  },
  {
   "cell_type": "code",
   "execution_count": 9,
   "metadata": {
    "collapsed": false
   },
   "outputs": [
    {
     "data": {
      "text/plain": [
       "2"
      ]
     },
     "execution_count": 9,
     "metadata": {},
     "output_type": "execute_result"
    }
   ],
   "source": [
    "#写函数，返回一个list中的最小值\n",
    "def least(mylist):\n",
    "    mylist.sort()\n",
    "    return mylist[0]\n",
    "\n",
    "mylist = [9,2,6,4,7]\n",
    "least( mylist)\n"
   ]
  },
  {
   "cell_type": "code",
   "execution_count": 11,
   "metadata": {
    "collapsed": false
   },
   "outputs": [
    {
     "data": {
      "text/plain": [
       "1"
      ]
     },
     "execution_count": 11,
     "metadata": {},
     "output_type": "execute_result"
    }
   ],
   "source": [
    "#写函数，返回某个元素/对象在一个list中的位置，如果不在，则返回-1.\n",
    "\n",
    "def find(mylist):\n",
    "    i=0\n",
    "    correct=0\n",
    "    for i in range(0,len(mylist)):\n",
    "        if ('xyz'==mylist[i]):\n",
    "            correct=1\n",
    "            break\n",
    "        else:\n",
    "            correct=0\n",
    "    if correct==1:\n",
    "        return i\n",
    "    else:\n",
    "        return -1\n",
    "mylist = [123, 'xyz', 'zara', 'abc']\n",
    "find(mylist)"
   ]
  },
  {
   "cell_type": "code",
   "execution_count": 12,
   "metadata": {
    "collapsed": false
   },
   "outputs": [
    {
     "data": {
      "text/plain": [
       "-1"
      ]
     },
     "execution_count": 12,
     "metadata": {},
     "output_type": "execute_result"
    }
   ],
   "source": [
    "#写函数，返回某个元素/对象在一个list中的位置，如果不在，则返回-1.\n",
    "#写函数，返回某个元素/对象在一个list中的位置，如果不在，则返回-1.\n",
    "def find(mylist):\n",
    "    i=0\n",
    "    correct=0\n",
    "    for i in range(0,len(mylist)):\n",
    "        if ('xyz'==mylist[i]):\n",
    "            correct=1\n",
    "            break\n",
    "        else:\n",
    "            correct=0\n",
    "    if correct==1:\n",
    "        return i\n",
    "    else:\n",
    "        return -1\n",
    "mylist = [123,  'zara', 'abc']\n",
    "find(mylist)"
   ]
  },
  {
   "cell_type": "code",
   "execution_count": 13,
   "metadata": {
    "collapsed": false
   },
   "outputs": [
    {
     "name": "stdout",
     "output_type": "stream",
     "text": [
      "result is 0.9486832980505138\n"
     ]
    }
   ],
   "source": [
    "def cosVector(x,y):\n",
    "    if(len(x)!=len(y)):\n",
    "        print('error input,x and y is not in the same space')\n",
    "        return\n",
    "    result1=0.0\n",
    "    result2=0.0\n",
    "    result3=0.0\n",
    "    for i in range(len(x)):\n",
    "        result1+=x[i]*y[i]  \n",
    "        result2+=x[i]**2    \n",
    "        result3+=y[i]**2    \n",
    "    print(\"result is \"+str(result1/((result2*result3)**0.5))) \n",
    "cosVector([2,1],[1,1])"
   ]
  },
  {
   "cell_type": "code",
   "execution_count": 14,
   "metadata": {
    "collapsed": false
   },
   "outputs": [
    {
     "name": "stdout",
     "output_type": "stream",
     "text": [
      "3678\n"
     ]
    }
   ],
   "source": [
    "x=0\n",
    "for i in range(5,85):\n",
    "    for j in range(5,85):\n",
    "        for k in range(5,85):\n",
    "            if(i+j+k==100):\n",
    "                x=x+1\n",
    "\n",
    "print (x)"
   ]
  },
  {
   "cell_type": "code",
   "execution_count": null,
   "metadata": {
    "collapsed": true
   },
   "outputs": [],
   "source": []
  },
  {
   "cell_type": "code",
   "execution_count": null,
   "metadata": {
    "collapsed": true
   },
   "outputs": [],
   "source": []
  }
 ],
 "metadata": {
  "anaconda-cloud": {},
  "kernelspec": {
   "display_name": "Python [default]",
   "language": "python",
   "name": "python3"
  },
  "language_info": {
   "codemirror_mode": {
    "name": "ipython",
    "version": 3
   },
   "file_extension": ".py",
   "mimetype": "text/x-python",
   "name": "python",
   "nbconvert_exporter": "python",
   "pygments_lexer": "ipython3",
   "version": "3.5.2"
  }
 },
 "nbformat": 4,
 "nbformat_minor": 1
}
