{
 "cells": [
  {
   "cell_type": "code",
   "execution_count": null,
   "metadata": {
    "collapsed": false
   },
   "outputs": [],
   "source": [
    "n=int(input('请输入整数个数'))\n",
    "i=0\n",
    "total=0\n",
    "for i in range(n):\n",
    "    x=int(input())\n",
    "    total=total+x\n",
    "    i+=1\n",
    "print(total)\n"
   ]
  },
  {
   "cell_type": "code",
   "execution_count": null,
   "metadata": {
    "collapsed": true
   },
   "outputs": [],
   "source": [
    "i=1\n",
    "print('当输入0时表示最后一次输入')\n",
    "for i in range(100000):\n",
    "    i=int(input())\n",
    "    if i==0:\n",
    "        break\n",
    "print(i)\n"
   ]
  },
  {
   "cell_type": "code",
   "execution_count": null,
   "metadata": {
    "collapsed": true
   },
   "outputs": [],
   "source": [
    "def f(a,b):\n",
    "    import math\n",
    "    m=(a[0]*b[0]+a[1]*b[1])/(math.sqrt(a[0]**2+a[1]**2)*math.sqrt(b[0]**2+b[1]**2))\n",
    "    return(m)\n",
    "x=float(input())\n",
    "y=float(input())\n",
    "a=(x,y)\n",
    "p=float(input())\n",
    "q=float(input())\n",
    "b=(p,q)\n",
    "al=list(a)\n",
    "bl=list(b)\n",
    "m=f(al,bl)\n",
    "print(m)\n"
   ]
  },
  {
   "cell_type": "code",
   "execution_count": null,
   "metadata": {
    "collapsed": true
   },
   "outputs": [],
   "source": [
    "x=5\n",
    "y=5\n",
    "z=5\n",
    "i=0\n",
    "for x in range(5,90):\n",
    "    for y in range(5,90):\n",
    "        for z in range(5,90):\n",
    "            if x+y+z==100:\n",
    "                i+=1\n",
    "            z+=1\n",
    "        y+=1\n",
    "        z=5\n",
    "    x+=1\n",
    "    y=5\n",
    "print(i)"
   ]
  }
 ],
 "metadata": {
  "kernelspec": {
   "display_name": "Python 3",
   "language": "python",
   "name": "python3"
  },
  "language_info": {
   "codemirror_mode": {
    "name": "ipython",
    "version": 3
   },
   "file_extension": ".py",
   "mimetype": "text/x-python",
   "name": "python",
   "nbconvert_exporter": "python",
   "pygments_lexer": "ipython3",
   "version": "3.6.0"
  }
 },
 "nbformat": 4,
 "nbformat_minor": 2
}
