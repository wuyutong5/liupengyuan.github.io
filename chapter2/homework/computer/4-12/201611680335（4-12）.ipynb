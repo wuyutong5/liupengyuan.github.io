{
 "cells": [
  {
   "cell_type": "code",
   "execution_count": 8,
   "metadata": {
    "collapsed": false,
    "deletable": true,
    "editable": true
   },
   "outputs": [
    {
     "name": "stdout",
     "output_type": "stream",
     "text": [
      "请输入一个整数，以回车结束3\n",
      "6\n",
      "请输入整数的个数：3\n",
      "3\n",
      "4\n",
      "5\n",
      "输入整数的和是: 12\n",
      "请输入任意的整数2\n",
      "the end\n"
     ]
    }
   ],
   "source": [
    "#将前面几章用while循环的习题，用for循环实现，并尽量写成函数。\n",
    "#第二次作业中 1：\n",
    "n=int(input('请输入一个整数，以回车结束'))\n",
    "\n",
    "i=0\n",
    "total=0\n",
    "\n",
    "for i in range(n):\n",
    "    i=i+1\n",
    "    total=total+i\n",
    "\n",
    "print(total)\n",
    "#2\n",
    "n=int(input('请输入整数的个数：'))\n",
    "i=0\n",
    "total=0\n",
    "\n",
    "for i in range(n):\n",
    "    i=i+1\n",
    "    m=int(input())\n",
    "    total=total+m\n",
    "    \n",
    "print('输入整数的和是:',total)\n",
    "#3\n",
    "n=0\n",
    "sum=0\n",
    "mult=1\n",
    "for n in range(1):\n",
    "    m=int(input('请输入任意的整数'))\n",
    "    sum=sum+m\n",
    "    mult=mult*m\n",
    "    if sum < m and mult < m**2:\n",
    "           break;\n",
    "print('the end')\n",
    "#3.29作业中\n",
    "def compute_sum(end):\n",
    "    i=0\n",
    "    total_n=0\n",
    "    for i in range(end):\n",
    "        i+=1\n",
    "        total_m=((-1)**(i+1))/(2*i+1)\n",
    "        total_n=total_n+total_m\n",
    "    return total_n\n",
    "a=4*compute_sum(1000)\n",
    "b=4*compute_sum(100000)\n",
    "print('当n=1000时，4倍该函数的和为：',a)\n",
    "print('当n=100000时，4倍该函数的和为：',b)"
   ]
  },
  {
   "cell_type": "code",
   "execution_count": 22,
   "metadata": {
    "collapsed": false,
    "deletable": true,
    "editable": true
   },
   "outputs": [
    {
     "name": "stdout",
     "output_type": "stream",
     "text": [
      "请输入一个整数：3\n",
      "-1\n"
     ]
    }
   ],
   "source": [
    "#写函数，返回某个元素/对象在一个list中的位置，如果不在，则返回-1.\n",
    "def number_place(n):\n",
    "        for i in range(k):\n",
    "            if n==numbers[i]:\n",
    "                m=i+1\n",
    "            else:\n",
    "                m=-1\n",
    "        print(m)\n",
    "numbers=[1,2,3,4,5,6,7,8,9]\n",
    "k=len(numbers)\n",
    "n=int(input('请输入一个整数：'))\n",
    "p=0\n",
    "number_place(n)"
   ]
  },
  {
   "cell_type": "code",
   "execution_count": 9,
   "metadata": {
    "collapsed": false,
    "deletable": true,
    "editable": true,
    "scrolled": false
   },
   "outputs": [
    {
     "name": "stdout",
     "output_type": "stream",
     "text": [
      "请输入一个整数，表示将要输入的整数个数，回车结束。3\n",
      "1\n",
      "2\n",
      "3\n"
     ]
    },
    {
     "data": {
      "text/plain": [
       "1"
      ]
     },
     "execution_count": 9,
     "metadata": {},
     "output_type": "execute_result"
    }
   ],
   "source": [
    "## 写函数，返回一个list中的最小值\n",
    "def number_min(end):\n",
    "    min=numbers[0]\n",
    "    for i in range(n):\n",
    "        if min>numbers[i]:\n",
    "            min=numbers[i]\n",
    "    return min\n",
    "numbers=[]\n",
    "n = int(input('请输入一个整数，表示将要输入的整数个数，回车结束。'))\n",
    "\n",
    "for i in range(n):\n",
    "    number=int(input())\n",
    "    numbers.append(number)\n",
    "number_min(numbers)"
   ]
  },
  {
   "cell_type": "code",
   "execution_count": 7,
   "metadata": {
    "collapsed": false,
    "deletable": true,
    "editable": true
   },
   "outputs": [
    {
     "name": "stdout",
     "output_type": "stream",
     "text": [
      "请输入一个整数，表示将要输入的整数个数，回车结束:3\n",
      "1\n",
      "2\n",
      "3\n",
      "6\n"
     ]
    }
   ],
   "source": [
    "#写函数，返回一个list中所有数字的和\n",
    "def number_sum(end):\n",
    "    total=0\n",
    "    for i in range(n):\n",
    "        total=total+numbers[i]\n",
    "    return total\n",
    "numbers=[]\n",
    "total=0\n",
    "n = int(input('请输入一个整数，表示将要输入的整数个数，回车结束:'))  \n",
    "for i in range(n):\n",
    "    numbers.append(int(input()))\n",
    "print(number_sum(numbers))"
   ]
  },
  {
   "cell_type": "code",
   "execution_count": 2,
   "metadata": {
    "collapsed": false,
    "deletable": true,
    "editable": true
   },
   "outputs": [
    {
     "name": "stdout",
     "output_type": "stream",
     "text": [
      "请输入两向量的维数(2 or 3):2\n",
      "请输入向量x的坐标：2\n",
      "请输入向量x的坐标：2\n",
      "请输入向量y的坐标：2\n",
      "请输入向量y的坐标：2\n"
     ]
    },
    {
     "data": {
      "text/plain": [
       "1.0"
      ]
     },
     "execution_count": 2,
     "metadata": {},
     "output_type": "execute_result"
    }
   ],
   "source": [
    "#写函数，可求两个向量的夹角余弦值，向量可放在list中。主程序调用该函数。\n",
    "import math\n",
    "def number_cosz(x,y):\n",
    "    b=0\n",
    "    b1=0\n",
    "    a1=0\n",
    "    a=1\n",
    "    b=1\n",
    "    for i in range(n):\n",
    "        a=x[i]*a\n",
    "        b=y[i]*b\n",
    "        a0=x[i]**2\n",
    "        b0=y[i]**2\n",
    "        a1=a1+a0\n",
    "        b1=b1+b0\n",
    "        k=b+a\n",
    "    cos=k/(math.sqrt(a1*b1))\n",
    "    return cos\n",
    "    \n",
    "x=[]\n",
    "y=[]\n",
    "n=int(input('请输入两向量的维数(2 or 3):'))\n",
    "for i in range(n):\n",
    "    x.append(int(input('请输入向量x的坐标：')))\n",
    "for i in range(n):\n",
    "    y.append(int(input('请输入向量y的坐标：')))\n",
    "number_cosz(x,y)"
   ]
  },
  {
   "cell_type": "code",
   "execution_count": 16,
   "metadata": {
    "collapsed": false,
    "deletable": true,
    "editable": true
   },
   "outputs": [
    {
     "name": "stdout",
     "output_type": "stream",
     "text": [
      "3741\n"
     ]
    }
   ],
   "source": [
    "#挑战性习题：python语言老师为了激励学生学python，自费买了100个完全相同的\n",
    "#Macbook Pro，分给三个班级，每个班级至少分5个，用穷举法计算共有多少种分法？\n",
    "\n",
    "n=0\n",
    "for i in range(5,91):\n",
    "    for j in range(5,91):\n",
    "        for k in range(5,91):\n",
    "            if i+j+k==100:\n",
    "                n=n+1\n",
    "print(n)"
   ]
  }
 ],
 "metadata": {
  "kernelspec": {
   "display_name": "Python 3",
   "language": "python",
   "name": "python3"
  },
  "language_info": {
   "codemirror_mode": {
    "name": "ipython",
    "version": 3
   },
   "file_extension": ".py",
   "mimetype": "text/x-python",
   "name": "python",
   "nbconvert_exporter": "python",
   "pygments_lexer": "ipython3",
   "version": "3.6.0"
  }
 },
 "nbformat": 4,
 "nbformat_minor": 2
}
