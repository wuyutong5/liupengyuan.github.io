{
 "cells": [
  {
   "cell_type": "code",
   "execution_count": null,
   "metadata": {
    "collapsed": true
   },
   "outputs": [],
   "source": [
    "#1.写函数，返回一个list中所有数字的和\n",
    "#2.写函数，返回一个list中的最小值\n",
    "#3.写函数，返回某个元素/对象在一个list中的位置，如果不在，则返回-1.\n",
    "#4.写函数，可求两个向量的夹角余弦值，向量可放在list中。主程序调用该函数。\n",
    "#5.挑战性习题：python语言老师为了激励学生学python，自费买了100个完全相同的Macbook Pro，分给三个班级，每个班级至少分5个，用穷举法计算共有多少种分法？"
   ]
  },
  {
   "cell_type": "code",
   "execution_count": 8,
   "metadata": {
    "collapsed": false
   },
   "outputs": [
    {
     "name": "stdout",
     "output_type": "stream",
     "text": [
      "请输入一个数字，回车结束。2\n",
      "请输入一个数字，回车结束。3\n",
      "请输入一个数字，回车结束。4\n",
      "请输入一个数字，回车结束。5\n",
      "请输入一个数字，回车结束。6\n",
      "以上 5 个数字的和为：\n"
     ]
    },
    {
     "data": {
      "text/plain": [
       "20"
      ]
     },
     "execution_count": 8,
     "metadata": {},
     "output_type": "execute_result"
    }
   ],
   "source": [
    "#练习1.写函数，返回一个list中所有数字的和\n",
    "def sum_of_list(n): \n",
    "    numbers=[] \n",
    "    Sum = 0 \n",
    "    for i in range(n): \n",
    "        number = int(input('请输入一个数字，回车结束。'))\n",
    "        numbers.append(number)\n",
    "        Sum+=numbers[i]\n",
    "    print('以上',n,'个数字的和为：')\n",
    "    return Sum\n",
    "\n",
    "sum_of_list(5)"
   ]
  },
  {
   "cell_type": "code",
   "execution_count": 11,
   "metadata": {
    "collapsed": false
   },
   "outputs": [
    {
     "name": "stdout",
     "output_type": "stream",
     "text": [
      "请输入一个数字，回车结束。9\n",
      "请输入一个数字，回车结束。2\n",
      "请输入一个数字，回车结束。1\n",
      "请输入一个数字，回车结束。8\n",
      "请输入一个数字，回车结束。5\n",
      "以上 5 个数字中最小的为：\n"
     ]
    },
    {
     "data": {
      "text/plain": [
       "1"
      ]
     },
     "execution_count": 11,
     "metadata": {},
     "output_type": "execute_result"
    }
   ],
   "source": [
    "#练习2.写函数，返回一个list中的最小值\n",
    "def min_of_list(n): \n",
    "    numbers = []  \n",
    "    for i in range(n): \n",
    "        number = int(input('请输入一个数字，回车结束。')) \n",
    "        numbers.append(number) \n",
    "    Min = numbers[0] \n",
    "    for i in range(n):      \n",
    "        if(numbers[i]<Min):\n",
    "            Min=numbers[i] \n",
    "    print('以上',n,'个数字中最小的为：') \n",
    "    return Min \n",
    "\n",
    "min_of_list(5)"
   ]
  },
  {
   "cell_type": "code",
   "execution_count": 12,
   "metadata": {
    "collapsed": false
   },
   "outputs": [
    {
     "name": "stdout",
     "output_type": "stream",
     "text": [
      "the 在列表中的位置是：\n"
     ]
    },
    {
     "data": {
      "text/plain": [
       "4"
      ]
     },
     "execution_count": 12,
     "metadata": {},
     "output_type": "execute_result"
    }
   ],
   "source": [
    "#练习3.写函数，返回某个元素/对象在一个list中的位置，如果不在，则返回-1.\\n\",\n",
    "def position(n):\n",
    "    lists = ['you',1,'are','the',3]\n",
    "    j=0\n",
    "    print(n,'在列表中的位置是：')\n",
    "    for i in range(len(lists)):\n",
    "        if(n==lists[i]): \n",
    "            j=1 \n",
    "            return i+1 \n",
    "    if(j==0): \n",
    "            return -1 \n",
    "   \n",
    "position('the')"
   ]
  },
  {
   "cell_type": "code",
   "execution_count": 16,
   "metadata": {
    "collapsed": false
   },
   "outputs": [
    {
     "name": "stdout",
     "output_type": "stream",
     "text": [
      "请输入向量1的坐标，回车结束。（分别是x,y,z）1\n",
      "请输入向量1的坐标，回车结束。（分别是x,y,z）0\n",
      "请输入向量1的坐标，回车结束。（分别是x,y,z）0\n",
      "请输入向量2的坐标，回车结束。（分别是x,y,z）1\n",
      "请输入向量2的坐标，回车结束。（分别是x,y,z）1\n",
      "请输入向量2的坐标，回车结束。（分别是x,y,z）0\n",
      "两个向量夹角的余弦值为：\n"
     ]
    },
    {
     "data": {
      "text/plain": [
       "0.7071067811865475"
      ]
     },
     "execution_count": 16,
     "metadata": {},
     "output_type": "execute_result"
    }
   ],
   "source": [
    "#练习4.写函数，可求两个向量的夹角余弦值，向量可放在list中。主程序调用该函数。\n",
    "import math\n",
    "def cos_of_vectors():\n",
    "    list1 = []\n",
    "    list2 = []\n",
    "    i=0\n",
    "    j=0\n",
    "    for i in range(3): #第一个向量的x,y,z\n",
    "        vector1 = int(input('请输入向量1的坐标，回车结束。（分别是x,y,z）'))\n",
    "        list1.append(vector1)\n",
    "    for j in range(3): #第二个向量的x,y,z\n",
    "        vector2 = int(input('请输入向量2的坐标，回车结束。（分别是x,y,z）'))\n",
    "        list2.append(vector2)\n",
    "    dianji=list1[0]*list2[0]+list1[1]*list2[1]+list1[2]*list2[2]\n",
    "    mo = (math.sqrt(list1[0]**2+list1[1]**2+list1[2]**2))*(math.sqrt(list2[0]**2+list2[1]**2+list2[2]**2))\n",
    "    print (\"两个向量夹角的余弦值为：\")\n",
    "    return dianji/mo\n",
    "\n",
    "cos_of_vectors()"
   ]
  },
  {
   "cell_type": "code",
   "execution_count": 30,
   "metadata": {
    "collapsed": false
   },
   "outputs": [
    {
     "name": "stdout",
     "output_type": "stream",
     "text": [
      "3741\n"
     ]
    }
   ],
   "source": [
    "#练习5.挑战性习题：python语言老师为了激励学生学python，自费买了100个完全相同的Macbook Pro，分给三个班级，每个班级至少分5个，用穷举法计算共有多少种分法？\n",
    "num=0\n",
    "for i in range(100):\n",
    "    for j in range(100):\n",
    "        for k in range(100):\n",
    "            if(i>=5 and j>=5 and k>=5 and i+j+k==100):\n",
    "                num+=1\n",
    "print (num)"
   ]
  }
 ],
 "metadata": {
  "kernelspec": {
   "display_name": "Python 3",
   "language": "python",
   "name": "python3"
  },
  "language_info": {
   "codemirror_mode": {
    "name": "ipython",
    "version": 3
   },
   "file_extension": ".py",
   "mimetype": "text/x-python",
   "name": "python",
   "nbconvert_exporter": "python",
   "pygments_lexer": "ipython3",
   "version": "3.6.0"
  }
 },
 "nbformat": 4,
 "nbformat_minor": 2
}
