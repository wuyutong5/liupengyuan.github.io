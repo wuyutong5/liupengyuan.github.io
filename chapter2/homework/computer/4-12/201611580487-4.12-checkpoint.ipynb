{
 "cells": [
  {
   "cell_type": "code",
   "execution_count": 1,
   "metadata": {
    "collapsed": false
   },
   "outputs": [
    {
     "name": "stdout",
     "output_type": "stream",
     "text": [
      "请输入一个数\n",
      "5\n",
      "120\n"
     ]
    }
   ],
   "source": [
    "n=int(input(\"请输入一个数\\n\"))\n",
    "sum=1\n",
    "i=1\n",
    "for i in range(n):\n",
    "    sum*=(i+1)\n",
    "print(sum)"
   ]
  },
  {
   "cell_type": "code",
   "execution_count": 2,
   "metadata": {
    "collapsed": false
   },
   "outputs": [
    {
     "name": "stdout",
     "output_type": "stream",
     "text": [
      "请输入一个整数，输入0表示结束\n",
      "0\n",
      "请输入一个整数,输入0表示结束\n",
      "2\n",
      "请输入一个整数,输入0表示结束\n",
      "0\n",
      "2\n"
     ]
    }
   ],
   "source": [
    "sum=0\n",
    "m=int(input(\"请输入一个整数，输入0表示结束\\n\"))\n",
    "for i in range(1000):  \n",
    "    sum=sum+m\n",
    "    m=int(input(\"请输入一个整数,输入0表示结束\\n\"))\n",
    "    if(m==0):\n",
    "        break\n",
    "print(sum)"
   ]
  },
  {
   "cell_type": "code",
   "execution_count": 3,
   "metadata": {
    "collapsed": false
   },
   "outputs": [
    {
     "name": "stdout",
     "output_type": "stream",
     "text": [
      "请输入一个整数，以回车结束1\n",
      "积为 1\n"
     ]
    }
   ],
   "source": [
    "m=int(input(\"请输入一个整数，以回车结束\"))\n",
    "sum=m\n",
    "mul=m\n",
    "for i in range(1000):\n",
    "    if(m<=sum and mul>=m**2):\n",
    "        sum=sum+m\n",
    "        mul=mul*m\n",
    "        break\n",
    "    m=int(input(\"请输入一个整数,以回车结束\\n\"))\n",
    "print(\"积为\",mul)"
   ]
  },
  {
   "cell_type": "code",
   "execution_count": 4,
   "metadata": {
    "collapsed": false
   },
   "outputs": [
    {
     "name": "stdout",
     "output_type": "stream",
     "text": [
      "Please enter the rows of blank places5\n",
      "\n",
      "\n",
      "\n",
      "\n",
      "\n",
      "end\n"
     ]
    }
   ],
   "source": [
    "m=int(input(\"Please enter the rows of blank places\"))\n",
    "i=0\n",
    "for i in range(m):\n",
    "    print()\n",
    "print(\"end\")"
   ]
  },
  {
   "cell_type": "code",
   "execution_count": 5,
   "metadata": {
    "collapsed": false
   },
   "outputs": [
    {
     "name": "stdout",
     "output_type": "stream",
     "text": [
      "请输入要输入的整数个数，回车结束。1\n",
      "请输入一个整数，回车结束1\n",
      "请输入一个整数，回车结束1\n",
      "第二大的数为 1\n"
     ]
    }
   ],
   "source": [
    "m=int(input('请输入要输入的整数个数，回车结束。'))\n",
    "max1=int(input('请输入一个整数，回车结束'))\n",
    "max2=int(input('请输入一个整数，回车结束'))\n",
    "if max2>max1:\n",
    "    temp=max1\n",
    "    max1=max2\n",
    "    max2=temp\n",
    "for i in range(m-2):\n",
    "    n=int(input('请输入一个整数，回车结束'))\n",
    "    if n>max2 and n<max1:\n",
    "        max2=n\n",
    "    elif n>max1:\n",
    "        temp=max2\n",
    "        max2=max1\n",
    "        max1=n  \n",
    "print(\"第二大的数为\",max2)"
   ]
  },
  {
   "cell_type": "code",
   "execution_count": 6,
   "metadata": {
    "collapsed": false
   },
   "outputs": [
    {
     "name": "stdout",
     "output_type": "stream",
     "text": [
      "请输入第1个整数，以回车结束。2\n",
      "请输入第2个整数，以回车结束。3\n",
      "请输入第3个整数，以回车结束。2\n",
      "最终的和是： 10\n"
     ]
    }
   ],
   "source": [
    "def fact (end):\n",
    "    j=1\n",
    "    for num in range(end):\n",
    "        j=(num+1)*j\n",
    "    return j\n",
    "n = int(input('请输入第1个整数，以回车结束。'))\n",
    "m = int(input('请输入第2个整数，以回车结束。'))\n",
    "k = int(input('请输入第3个整数，以回车结束。'))\n",
    "\n",
    "print('最终的和是：', fact(m) +  fact(n) +  fact(k))"
   ]
  },
  {
   "cell_type": "code",
   "execution_count": 7,
   "metadata": {
    "collapsed": false
   },
   "outputs": [
    {
     "name": "stdout",
     "output_type": "stream",
     "text": [
      "请输入一个整数5\n",
      "最终的和为: 3.3396825396825403\n",
      "最终的和为: 3.140592653839794\n",
      "最终的和为: 3.1415826535897198\n"
     ]
    }
   ],
   "source": [
    "def fun (end):\n",
    "    i=1\n",
    "    j=1\n",
    "    m=1\n",
    "    sum=0\n",
    "    for p in range(end):\n",
    "        m=j/i\n",
    "        i=i+2\n",
    "        j=-1*j\n",
    "        sum=sum+m\n",
    "    return sum\n",
    "n=int(input(\"请输入一个整数\"))\n",
    "print(\"最终的和为:\",4*fun(n))\n",
    "n=1000\n",
    "print(\"最终的和为:\",4*fun(n))\n",
    "n=100000\n",
    "print(\"最终的和为:\",4*fun(n))"
   ]
  },
  {
   "cell_type": "code",
   "execution_count": 8,
   "metadata": {
    "collapsed": false
   },
   "outputs": [
    {
     "name": "stdout",
     "output_type": "stream",
     "text": [
      "plz enter an positive interger\n",
      "3\n",
      "plz enter an positive interger and bigger than a\n",
      "4\n",
      "plz enter an positive interger\n",
      "6\n",
      "The sum is 3\n"
     ]
    }
   ],
   "source": [
    "def total (m,n,k):\n",
    "    sum=0\n",
    "    for i in range(m,n,k):\n",
    "        sum=sum+i\n",
    "    return sum\n",
    "a=int(input(\"plz enter an positive interger\\n\"))\n",
    "b=int(input(\"plz enter an positive interger and bigger than a\\n\"))\n",
    "c=int(input(\"plz enter an positive interger\\n\"))\n",
    "print(\"The sum is\",total (a,b,c))"
   ]
  },
  {
   "cell_type": "code",
   "execution_count": 9,
   "metadata": {
    "collapsed": false
   },
   "outputs": [
    {
     "name": "stdout",
     "output_type": "stream",
     "text": [
      "共 3738 种分法\n"
     ]
    }
   ],
   "source": [
    "num=0\n",
    "for i in range (5,90):\n",
    "    for j in range (5,90):\n",
    "        for p in range (5,90):\n",
    "            if(i+j+p==100):\n",
    "               ##print(\"分别分给三个班级\",i,j,p,\"个\")\n",
    "                num+=1\n",
    "print(\"共\",num,\"种分法\",sep=' ')"
   ]
  },
  {
   "cell_type": "code",
   "execution_count": null,
   "metadata": {
    "collapsed": true
   },
   "outputs": [],
   "source": []
  }
 ],
 "metadata": {
  "kernelspec": {
   "display_name": "Python 3",
   "language": "python",
   "name": "python3"
  },
  "language_info": {
   "codemirror_mode": {
    "name": "ipython",
    "version": 3
   },
   "file_extension": ".py",
   "mimetype": "text/x-python",
   "name": "python",
   "nbconvert_exporter": "python",
   "pygments_lexer": "ipython3",
   "version": "3.6.0"
  }
 },
 "nbformat": 4,
 "nbformat_minor": 2
}
