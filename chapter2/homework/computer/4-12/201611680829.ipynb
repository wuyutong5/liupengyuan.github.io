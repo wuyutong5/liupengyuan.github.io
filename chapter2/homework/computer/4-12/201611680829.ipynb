{
 "cells": [
  {
   "cell_type": "code",
   "execution_count": 2,
   "metadata": {
    "collapsed": false,
    "deletable": true,
    "editable": true
   },
   "outputs": [
    {
     "name": "stdout",
     "output_type": "stream",
     "text": [
      "请输入一个整数5\n",
      "请输入一个整数3\n",
      "请输入一个整数5\n",
      "请输入一个整数7\n",
      "请输入一个整数2\n",
      "请输入一个整数8\n",
      "25\n"
     ]
    }
   ],
   "source": [
    "def total(n):\n",
    "    i=0\n",
    "    total=0\n",
    "    for i in range(n):\n",
    "        a=int(input('请输入一个整数')) \n",
    "        total+=a\n",
    "    return total\n",
    "\n",
    "n=int(input('请输入一个整数')) \n",
    "sum=total(n)\n",
    "print(sum)"
   ]
  },
  {
   "cell_type": "code",
   "execution_count": 5,
   "metadata": {
    "collapsed": false,
    "deletable": true,
    "editable": true
   },
   "outputs": [
    {
     "name": "stdout",
     "output_type": "stream",
     "text": [
      "请输入要输入的整数个数6\n",
      "请输入整数，回车结束1\n",
      "[1]\n",
      "请输入整数，回车结束3\n",
      "[1, 3]\n",
      "请输入整数，回车结束5\n",
      "[1, 3, 5]\n",
      "请输入整数，回车结束7\n",
      "[1, 3, 5, 7]\n",
      "请输入整数，回车结束9\n",
      "[1, 3, 5, 7, 9]\n",
      "请输入整数，回车结束11\n",
      "[1, 3, 5, 7, 9, 11]\n",
      "66\n"
     ]
    }
   ],
   "source": [
    "def total(n):\n",
    "    total=0\n",
    "    i=0\n",
    "    numbers=[]\n",
    "    for i in range(n):\n",
    "        number=int(input('请输入整数，回车结束'))\n",
    "        numbers.append(number)\n",
    "        print(numbers)\n",
    "    for i in range(n):\n",
    "        total+=number\n",
    "    return total\n",
    "\n",
    "n=int(input('请输入要输入的整数个数'))\n",
    "sum=total(n)\n",
    "print(sum)"
   ]
  },
  {
   "cell_type": "code",
   "execution_count": 29,
   "metadata": {
    "collapsed": false
   },
   "outputs": [
    {
     "name": "stdout",
     "output_type": "stream",
     "text": [
      "请输入想输入的整数个数:5\n",
      "请输入整数，回车结束34\n",
      "请输入整数，回车结束21\n",
      "请输入整数，回车结束67\n",
      "请输入整数，回车结束85\n",
      "请输入整数，回车结束43\n",
      "21\n"
     ]
    },
    {
     "data": {
      "text/plain": [
       "21"
      ]
     },
     "execution_count": 29,
     "metadata": {},
     "output_type": "execute_result"
    }
   ],
   "source": [
    "def minn(n):\n",
    "    \n",
    "    i=0\n",
    "    numbers=[]\n",
    "    for i in range(n):\n",
    "        number=int(input('请输入整数，回车结束'))\n",
    "        numbers.append(number)\n",
    "    i=0\n",
    "    min=numbers[i]\n",
    "    for i in range(n):\n",
    "        for j in range(n):\n",
    "            if numbers[i] > numbers[j]:\n",
    "                temp=numbers[i]\n",
    "                numbers[i]=numbers[j]\n",
    "                numbers[j]=temp\n",
    "                min=numbers[i]\n",
    "            else:\n",
    "                min=numbers[i]\n",
    "    print(min)\n",
    "    return min\n",
    "\n",
    "n=int(input('请输入想输入的整数个数:'))\n",
    "minn(n)"
   ]
  },
  {
   "cell_type": "code",
   "execution_count": 56,
   "metadata": {
    "collapsed": false
   },
   "outputs": [
    {
     "name": "stdout",
     "output_type": "stream",
     "text": [
      "输入向量a坐标x，y:3\n",
      "输入向量a坐标x，y:4\n",
      "[3, 4]\n",
      "输入向量b坐标x，y:6\n",
      "输入向量b坐标x，y:8\n",
      "[6, 8]\n",
      "cos<a,b>= 1.0\n"
     ]
    },
    {
     "data": {
      "text/plain": [
       "1.0"
      ]
     },
     "execution_count": 56,
     "metadata": {},
     "output_type": "execute_result"
    }
   ],
   "source": [
    "import math\n",
    "def cos_def(a,b):\n",
    "    a·b=a[0]*b[0]+a[1]*b[1]\n",
    "    丨a丨=math.sqrt(a[0]**2+a[1]**2)\n",
    "    丨b丨=math.sqrt(b[0]**2+b[1]**2)\n",
    "    cos=(a·b)/(丨a丨*丨b丨)\n",
    "    print('cos<a,b>=',cos)\n",
    "    return cos\n",
    "\n",
    "a=[]\n",
    "i=0\n",
    "for i in range(2):\n",
    "    m=int(input('输入向量a坐标x，y:'))\n",
    "    a.append(m)\n",
    "print(a)\n",
    "b=[]\n",
    "i=0\n",
    "for i in range(2):\n",
    "    n=int(input('输入向量b坐标x，y:'))\n",
    "    b.append(n)\n",
    "print(b)\n",
    "cos_def(a,b)"
   ]
  },
  {
   "cell_type": "raw",
   "metadata": {},
   "source": []
  },
  {
   "cell_type": "code",
   "execution_count": 21,
   "metadata": {
    "collapsed": false
   },
   "outputs": [
    {
     "name": "stdout",
     "output_type": "stream",
     "text": [
      "请输入要输入的对象个数：5\n",
      "任意输入we\n",
      "任意输入are\n",
      "任意输入the\n",
      "任意输入best\n",
      "任意输入one\n",
      "请输入一个对象the\n",
      "lists= ['we', 'are', 'the', 'best', 'one']\n",
      "step= 2\n"
     ]
    }
   ],
   "source": [
    "def step(n):\n",
    "    lists=[]\n",
    "    i=0\n",
    "    for i in range(n):\n",
    "        list=input('任意输入')\n",
    "        lists.append(list)\n",
    "    a=input('请输入一个对象')\n",
    "    print('lists=',lists)\n",
    "    i=0\n",
    "    for i in range(n):\n",
    "        if a==lists[i]:\n",
    "            print('step=',i)\n",
    "        elif a not in lists:\n",
    "            print('-1')\n",
    "        else:\n",
    "            continue\n",
    "           \n",
    "n=int(input('请输入要输入的对象个数：'))\n",
    "step(n)   "
   ]
  },
  {
   "cell_type": "markdown",
   "metadata": {},
   "source": [
    "a,b,c三个班级分的数目\n",
    "n=5，sum_n=15\n",
    "a+b+c=75\n"
   ]
  },
  {
   "cell_type": "code",
   "execution_count": 22,
   "metadata": {
    "collapsed": false
   },
   "outputs": [
    {
     "name": "stdout",
     "output_type": "stream",
     "text": [
      "i= 6080\n"
     ]
    }
   ],
   "source": [
    "a=0\n",
    "b=0\n",
    "c=0\n",
    "i=0\n",
    "for a in range(6,101):\n",
    "    for b in range(6,101):\n",
    "        for b in range(6,101):\n",
    "            if a+b+c==75:\n",
    "                i+=1\n",
    "            else:\n",
    "                continue\n",
    "print('i=',i)"
   ]
  }
 ],
 "metadata": {
  "kernelspec": {
   "display_name": "Python 3",
   "language": "python",
   "name": "python3"
  },
  "language_info": {
   "codemirror_mode": {
    "name": "ipython",
    "version": 3
   },
   "file_extension": ".py",
   "mimetype": "text/x-python",
   "name": "python",
   "nbconvert_exporter": "python",
   "pygments_lexer": "ipython3",
   "version": "3.6.0"
  }
 },
 "nbformat": 4,
 "nbformat_minor": 2
}
