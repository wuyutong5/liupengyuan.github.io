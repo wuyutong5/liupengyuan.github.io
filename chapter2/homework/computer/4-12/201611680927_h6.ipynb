{
 "cells": [
  {
   "cell_type": "code",
   "execution_count": 17,
   "metadata": {
    "collapsed": false,
    "deletable": true,
    "editable": true
   },
   "outputs": [
    {
     "name": "stdout",
     "output_type": "stream",
     "text": [
      "请输入要输入的整数个数，回车结束。5\n",
      "请输入一个整数，回车结束1\n",
      "请输入一个整数，回车结束2\n",
      "请输入一个整数，回车结束3\n",
      "请输入一个整数，回车结束4\n",
      "请输入一个整数，回车结束5\n",
      "次大值是： 4\n"
     ]
    }
   ],
   "source": [
    "m = int(input('请输入要输入的整数个数，回车结束。'))\n",
    "i=1\n",
    "max_number = int(input('请输入一个整数，回车结束'))\n",
    "submax_number=max_number\n",
    "for i in range(m-1):\n",
    "    i += 1\n",
    "    n = int(input('请输入一个整数，回车结束'))\n",
    "    if n > max_number:\n",
    "        submax_number=max_number\n",
    "        max_number = n\n",
    "print('次大值是：', submax_number)"
   ]
  },
  {
   "cell_type": "code",
   "execution_count": 19,
   "metadata": {
    "collapsed": false,
    "deletable": true,
    "editable": true
   },
   "outputs": [
    {
     "name": "stdout",
     "output_type": "stream",
     "text": [
      "请输入第1个整数，以回车结束。3\n",
      "请输入第2个整数，以回车结束。1\n",
      "请输入第3个整数，以回车结束。2\n",
      "最终的和是： 9\n"
     ]
    }
   ],
   "source": [
    "def compute_multi(end):\n",
    "    i = 1\n",
    "    total_n = 1\n",
    "\n",
    "    for i in range(end):\n",
    "        i = i + 1\n",
    "        total_n = total_n * i\n",
    "\n",
    "    return total_n\n",
    "\n",
    "n = int(input('请输入第1个整数，以回车结束。'))\n",
    "m = int(input('请输入第2个整数，以回车结束。'))\n",
    "k = int(input('请输入第3个整数，以回车结束。'))\n",
    "\n",
    "print('最终的和是：', compute_multi(m) + compute_multi(n) + compute_multi(k))"
   ]
  },
  {
   "cell_type": "code",
   "execution_count": 21,
   "metadata": {
    "collapsed": false,
    "deletable": true,
    "editable": true
   },
   "outputs": [
    {
     "name": "stdout",
     "output_type": "stream",
     "text": [
      "当n等于1000时： -9.744529693840175\n",
      "当n=10000时： -14.347900786829019\n"
     ]
    }
   ],
   "source": [
    "def compute(n):\n",
    "    i=0\n",
    "    total=0\n",
    "    \n",
    "    for i in range(n+1):\n",
    "        if i/2==0:\n",
    "            total=total+ 1/(2*i+1)\n",
    "        else:\n",
    "            total=total- 1/(2*i+1)\n",
    "        i=i+1\n",
    "    return total \n",
    "\n",
    "print('当n等于1000时：',4*compute(1000))\n",
    "print('当n=10000时：',4*compute(10000))"
   ]
  },
  {
   "cell_type": "code",
   "execution_count": 20,
   "metadata": {
    "collapsed": false,
    "deletable": true,
    "editable": true
   },
   "outputs": [
    {
     "name": "stdout",
     "output_type": "stream",
     "text": [
      "请输入开始整数，以回车结束。5\n",
      "请输入结束整数，以回车结束。15\n",
      "请输入间隔整数，以回车结束。3\n",
      "最终的和是： 38\n"
     ]
    }
   ],
   "source": [
    "def compute_total(m,n,tap):\n",
    "    i=m\n",
    "    total=0\n",
    "    \n",
    "    for i in range(i,n,tap) :\n",
    "        total=total+i\n",
    "        i=i+tap\n",
    "    return total\n",
    "m = int(input('请输入开始整数，以回车结束。'))\n",
    "n = int(input('请输入结束整数，以回车结束。'))\n",
    "k = int(input('请输入间隔整数，以回车结束。'))\n",
    "print('最终的和是：', compute_total(m,n,k))"
   ]
  },
  {
   "cell_type": "code",
   "execution_count": 14,
   "metadata": {
    "collapsed": false,
    "deletable": true,
    "editable": true
   },
   "outputs": [
    {
     "name": "stdout",
     "output_type": "stream",
     "text": [
      "请输入想要计算的整数个数：2\n",
      "请输入一个大于0的整数，作为随机数的下界，回车结束。1\n",
      "请输入一个大于0的整数，作为随机数的上界，回车结束。50\n",
      "均值的平方根为: 4.123105625617661\n"
     ]
    }
   ],
   "source": [
    "import random,math\n",
    "n = int(input('请输入想要计算的整数个数：'))\n",
    "m = int(input('请输入一个大于0的整数，作为随机数的下界，回车结束。'))\n",
    "k = int(input('请输入一个大于0的整数，作为随机数的上界，回车结束。'))\n",
    "i=0\n",
    "sum=0\n",
    "if i in range(n):\n",
    "    number=random.randint(m,k)\n",
    "    sum=sum+number\n",
    "    i=i+1\n",
    "average=sum/n\n",
    "print('均值的平方根为:',math.sqrt(average))"
   ]
  },
  {
   "cell_type": "code",
   "execution_count": 16,
   "metadata": {
    "collapsed": false,
    "deletable": true,
    "editable": true
   },
   "outputs": [
    {
     "name": "stdout",
     "output_type": "stream",
     "text": [
      "请输入想要计算的整数个数：2\n",
      "请输入一个大于0的整数，作为随机数的下界，回车结束。1\n",
      "请输入一个大于0的整数，作为随机数的上界，回车结束。50\n",
      "7.495541943884255 , 0.5337823416956798\n"
     ]
    }
   ],
   "source": [
    "import random,math\n",
    "n = int(input('请输入想要计算的整数个数：'))\n",
    "m = int(input('请输入一个大于0的整数，作为随机数的下界，回车结束。'))\n",
    "k = int(input('请输入一个大于0的整数，作为随机数的上界，回车结束。'))\n",
    "i=0\n",
    "sum1=0\n",
    "sum2=0\n",
    "for i in range(n):\n",
    "    number=random.randint(m,k)\n",
    "    sum1=sum1+math.log(number)\n",
    "    sum2=sum2+1/math.log(number)\n",
    "    i=i+1\n",
    "print(sum1,',',sum2)"
   ]
  },
  {
   "cell_type": "code",
   "execution_count": 17,
   "metadata": {
    "collapsed": false,
    "deletable": true,
    "editable": true
   },
   "outputs": [
    {
     "name": "stdout",
     "output_type": "stream",
     "text": [
      "将要计算的整数为： 6\n",
      "请输入想要计算的整数个数：2\n",
      "72\n"
     ]
    }
   ],
   "source": [
    "def compute():\n",
    "    import random\n",
    "    a=random.randint(1,9)\n",
    "    print('将要计算的整数为：',a)\n",
    "    n=int(input('请输入想要计算的整数个数：'))\n",
    "    i=0\n",
    "    s=0\n",
    "    for i in range(n):\n",
    "        s=s+s+a*(10**i)\n",
    "        i=i+1\n",
    "    print(s)\n",
    "compute()"
   ]
  },
  {
   "cell_type": "code",
   "execution_count": 23,
   "metadata": {
    "collapsed": false,
    "deletable": true,
    "editable": true
   },
   "outputs": [
    {
     "name": "stdout",
     "output_type": "stream",
     "text": [
      "请在脑海中生成一个神秘数\n",
      "请输入一个大于0的整数，作为神秘整数的上界，回车结束。12\n",
      "请输入一个大于0的整数，作为电脑猜数次数的上限，回车结束。5\n",
      "电脑猜出的数字是： 3\n",
      "如果比你的数字大请输入1，比你的数字小请输入2，和你的数字相等请输入0：1\n",
      "电脑猜出的数字是： 1\n",
      "如果比你的数字大请输入1，比你的数字小请输入2，和你的数字相等请输入0：1\n",
      "电脑猜出的数字是： 1\n",
      "如果比你的数字大请输入1，比你的数字小请输入2，和你的数字相等请输入0：0\n",
      "电脑猜中了。\n",
      "电脑比规定的次数少了 2 次\n"
     ]
    }
   ],
   "source": [
    "import random\n",
    "print('请在脑海中生成一个神秘数')\n",
    "n = int(input('请输入一个大于0的整数，作为神秘整数的上界，回车结束。'))\n",
    "m = int(input('请输入一个大于0的整数，作为电脑猜数次数的上限，回车结束。'))\n",
    "a = random.randint(1, n)\n",
    "print('电脑猜出的数字是：', a)\n",
    "i=0\n",
    "j = int(input('如果比你的数字大请输入1，比你的数字小请输入2，和你的数字相等请输入0：'))\n",
    "for i in range(m):\n",
    "    if j==1:\n",
    "        if i==m-1:\n",
    "            print('电脑输了')\n",
    "            break\n",
    "        else:\n",
    "            a = random.randint(1,a)\n",
    "            print('电脑猜出的数字是：',a)\n",
    "            j = int(input('如果比你的数字大请输入1，比你的数字小请输入2，和你的数字相等请输入0：'))\n",
    "    elif j==2:\n",
    "        if i==m-1:\n",
    "            print('电脑输了')\n",
    "            break\n",
    "        else:\n",
    "            a = random.randint(a,n)\n",
    "            print('电脑猜出的数字是：',a)\n",
    "            j = int(input('如果比你的数字大请输入1，比你的数字小请输入2，和你的数字相等请输入0：'))\n",
    "    elif j==0:\n",
    "        print('电脑猜中了。')\n",
    "        break\n",
    "    i=i+1\n",
    "print('电脑比规定的次数少了',m-i-1,'次')"
   ]
  },
  {
   "cell_type": "code",
   "execution_count": 2,
   "metadata": {
    "collapsed": false,
    "deletable": true,
    "editable": true
   },
   "outputs": [],
   "source": [
    "def sum():\n",
    "    numbers=[]\n",
    "    for i in range(numbers):\n",
    "        sum = sum + i\n",
    "    print (sum)"
   ]
  },
  {
   "cell_type": "code",
   "execution_count": 1,
   "metadata": {
    "collapsed": false,
    "deletable": true,
    "editable": true
   },
   "outputs": [],
   "source": [
    "def min():\n",
    "    numbers=[ ]\n",
    "    for i in range(numbers):\n",
    "        min=number[0]\n",
    "        if number[i]>number[0]:\n",
    "            min=number[i]\n",
    "        i=i+1\n",
    "    print(min)"
   ]
  },
  {
   "cell_type": "code",
   "execution_count": 51,
   "metadata": {
    "collapsed": false,
    "deletable": true,
    "editable": true
   },
   "outputs": [
    {
     "name": "stdout",
     "output_type": "stream",
     "text": [
      "请输入一个数字：3\n",
      "所在的位置是： 2\n"
     ]
    }
   ],
   "source": [
    "def back():\n",
    "    numbers=[2,3,5,6]\n",
    "    a=0\n",
    "    i=int(input(\"请输入一个数字：\"))\n",
    "    if i in numbers:\n",
    "        for a in range(5):\n",
    "            if i==numbers[a]:\n",
    "                print ('所在的位置是：',a+1)\n",
    "                break\n",
    "            else:\n",
    "                a+=1\n",
    "    else:\n",
    "        return(-1)\n",
    "back()"
   ]
  },
  {
   "cell_type": "code",
   "execution_count": 31,
   "metadata": {
    "collapsed": false,
    "deletable": true,
    "editable": true
   },
   "outputs": [
    {
     "name": "stdout",
     "output_type": "stream",
     "text": [
      "result is 0.9486832980505138\n"
     ]
    }
   ],
   "source": [
    "def cosVector(x,y):\n",
    "    result1=0.0\n",
    "    result2=0.0\n",
    "    result3=0.0\n",
    "    for i in range(len(x)):\n",
    "        result1+=x[i]*y[i]   \n",
    "        result2+=x[i]**2     \n",
    "        result3+=y[i]**2     \n",
    "    \n",
    "    print(\"result is: \", str(result1/((result2*result3)**0.5))) \n",
    "cosVector([2,1],[1,1])"
   ]
  },
  {
   "cell_type": "code",
   "execution_count": 45,
   "metadata": {
    "collapsed": false,
    "deletable": true,
    "editable": true
   },
   "outputs": [
    {
     "name": "stdout",
     "output_type": "stream",
     "text": [
      "共有： 3570 种分法。\n"
     ]
    }
   ],
   "source": [
    "students=[0,1,2,3,4,5,6,7,8,9,10,11,12,13,14,15,16,17,18,19,20,21,22,23,24,25,26,27,28,29,30,31,32,33,34,35,36,37,38,39,40,41,42,43,44,45,46,47,48,49,50,51,52,53,54,55,56,57,58,59,60,61,62,63,64,65,66,67,68,69,70,71,72,73,74,75,76,77,78,79,80,81,82,83,84,85]\n",
    "n=0\n",
    "for i in students:\n",
    "    if i+j+k==85:\n",
    "        n+=1\n",
    "    else:\n",
    "        i+=1\n",
    "    for j in students:\n",
    "        if i+j+k==85:\n",
    "            n+=1\n",
    "        else:\n",
    "            j+=1\n",
    "        for k in students:\n",
    "            if i+j+k==85:\n",
    "                n+=1\n",
    "            else:\n",
    "                k+=1\n",
    "           \n",
    "print('共有：',n,'种分法。')"
   ]
  }
 ],
 "metadata": {
  "kernelspec": {
   "display_name": "Python 3",
   "language": "python",
   "name": "python3"
  },
  "language_info": {
   "codemirror_mode": {
    "name": "ipython",
    "version": 3
   },
   "file_extension": ".py",
   "mimetype": "text/x-python",
   "name": "python",
   "nbconvert_exporter": "python",
   "pygments_lexer": "ipython3",
   "version": "3.6.0"
  }
 },
 "nbformat": 4,
 "nbformat_minor": 2
}
