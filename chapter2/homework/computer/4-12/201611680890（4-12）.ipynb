{
 "cells": [
  {
   "cell_type": "code",
   "execution_count": 48,
   "metadata": {
    "collapsed": false,
    "deletable": true,
    "editable": true
   },
   "outputs": [
    {
     "name": "stdout",
     "output_type": "stream",
     "text": [
      "请输入一个整数，以回车结束。5\n",
      "120\n"
     ]
    }
   ],
   "source": [
    "def sum():\n",
    "    n = int(input('请输入一个整数，以回车结束。'))\n",
    "    num = 1\n",
    "    for i in range(n):\n",
    "        num *= (i + 1)\n",
    "    print(num)\n",
    "    \n",
    "sum()"
   ]
  },
  {
   "cell_type": "code",
   "execution_count": 51,
   "metadata": {
    "collapsed": false,
    "deletable": true,
    "editable": true
   },
   "outputs": [
    {
     "name": "stdout",
     "output_type": "stream",
     "text": [
      "请输入一个整数，表示将要输入的数字个数，回车结束。3\n",
      "请输入一个数字，回车结束。1.2\n",
      "请输入一个数字，回车结束。2.1\n",
      "请输入一个数字，回车结束。3.3\n",
      "所有数字的和为: 6.6\n"
     ]
    }
   ],
   "source": [
    "def sum():\n",
    "    numbers = []\n",
    "    n = int(input('请输入一个整数，表示将要输入的数字个数，回车结束。'))\n",
    "\n",
    "    for i in range(n):\n",
    "        number = float(input('请输入一个数字，回车结束。'))\n",
    "        numbers.append(number)\n",
    "\n",
    "    total = 0.0\n",
    "    for number in numbers:\n",
    "        total += number\n",
    "    \n",
    "    print('所有数字的和为:',total)\n",
    "    \n",
    "sum()"
   ]
  },
  {
   "cell_type": "code",
   "execution_count": 52,
   "metadata": {
    "collapsed": false,
    "deletable": true,
    "editable": true
   },
   "outputs": [
    {
     "name": "stdout",
     "output_type": "stream",
     "text": [
      "请输入一个整数，表示将要输入的单词数，回车结束。5\n",
      "请输入一个数字，回车结束。6\n",
      "请输入一个数字，回车结束。9\n",
      "请输入一个数字，回车结束。1\n",
      "请输入一个数字，回车结束。2\n",
      "请输入一个数字，回车结束。7\n",
      "所有数字的最小值为: 1.0\n"
     ]
    }
   ],
   "source": [
    "def min():\n",
    "    numbers = []\n",
    "    n = int(input('请输入一个整数，表示将要输入的单词数，回车结束。'))\n",
    "\n",
    "    for i in range(n):\n",
    "        number = float(input('请输入一个数字，回车结束。'))\n",
    "        numbers.append(number)\n",
    "\n",
    "    min = numbers[0]\n",
    "    for number in numbers:\n",
    "        if number < min:\n",
    "            min = number\n",
    "    \n",
    "    print('所有数字的最小值为:',min)\n",
    "    \n",
    "min()"
   ]
  },
  {
   "cell_type": "code",
   "execution_count": 55,
   "metadata": {
    "collapsed": false,
    "deletable": true,
    "editable": true
   },
   "outputs": [
    {
     "name": "stdout",
     "output_type": "stream",
     "text": [
      "请输入一个整数，表示将要输入的数字个数，回车结束。5\n",
      "请输入一个数字，回车结束。1\n",
      "请输入一个数字，回车结束。2\n",
      "请输入一个数字，回车结束。3\n",
      "请输入一个数字，回车结束。4\n",
      "请输入一个数字，回车结束。5\n",
      "请输入要搜索的数字，回车结束。6\n",
      "-1\n"
     ]
    }
   ],
   "source": [
    "def search():\n",
    "    numbers = []\n",
    "    n = int(input('请输入一个整数，表示将要输入的数字个数，回车结束。'))\n",
    "\n",
    "    for i in range(n):\n",
    "        number = int(input('请输入一个数字，回车结束。'))\n",
    "        numbers.append(number)\n",
    "    \n",
    "    num = float(input('请输入要搜索的数字，回车结束。'))\n",
    "    for i in range(n):\n",
    "        if numbers[i] == num:\n",
    "            print(i)\n",
    "            break\n",
    "    else:\n",
    "        print(-1)\n",
    "        \n",
    "search()\n"
   ]
  },
  {
   "cell_type": "code",
   "execution_count": 7,
   "metadata": {
    "collapsed": false,
    "deletable": true,
    "editable": true
   },
   "outputs": [
    {
     "name": "stdout",
     "output_type": "stream",
     "text": [
      "请输入一个数字作为向量1，回车结束。1\n",
      "请输入一个数字作为向量1，回车结束。0\n",
      "请输入一个数字作为向量2，回车结束。0\n",
      "请输入一个数字作为向量2，回车结束。1\n"
     ]
    },
    {
     "data": {
      "text/plain": [
       "0.0"
      ]
     },
     "execution_count": 7,
     "metadata": {},
     "output_type": "execute_result"
    }
   ],
   "source": [
    "import math\n",
    "def cos(vectors1, vectors2):\n",
    "    up = vectors1[0] * vectors2[0] + vectors1[1] * vectors2[1]\n",
    "    down = math.sqrt(vectors1[0] ** 2 + vectors1[1] ** 2) * math.sqrt(vectors2[0] ** 2 + vectors2[1] ** 2)\n",
    "    return up / down\n",
    "\n",
    "vectors1 = []\n",
    "for i in range(2):\n",
    "    vector = int(input('请输入一个数字作为向量1，回车结束。'))\n",
    "    vectors1.append(vector)\n",
    "    \n",
    "vectors2 = []\n",
    "for i in range(2):\n",
    "    vector = int(input('请输入一个数字作为向量2，回车结束。'))\n",
    "    vectors2.append(vector)\n",
    "\n",
    "cos(vectors1, vectors2)"
   ]
  },
  {
   "cell_type": "code",
   "execution_count": 10,
   "metadata": {
    "collapsed": false,
    "deletable": true,
    "editable": true
   },
   "outputs": [
    {
     "name": "stdout",
     "output_type": "stream",
     "text": [
      "3738\n"
     ]
    }
   ],
   "source": [
    "way = 0\n",
    "for i in range(5,90):\n",
    "    for j in range(5,90):\n",
    "        for k in range(5,90):\n",
    "            if i + j + k == 100:\n",
    "                way += 1\n",
    "print(way)"
   ]
  }
 ],
 "metadata": {
  "kernelspec": {
   "display_name": "Python 3",
   "language": "python",
   "name": "python3"
  },
  "language_info": {
   "codemirror_mode": {
    "name": "ipython",
    "version": 3
   },
   "file_extension": ".py",
   "mimetype": "text/x-python",
   "name": "python",
   "nbconvert_exporter": "python",
   "pygments_lexer": "ipython3",
   "version": "3.6.0"
  }
 },
 "nbformat": 4,
 "nbformat_minor": 2
}
