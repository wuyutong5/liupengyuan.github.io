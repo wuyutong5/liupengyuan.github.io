{
 "cells": [
  {
   "cell_type": "code",
   "execution_count": 2,
   "metadata": {
    "collapsed": false
   },
   "outputs": [
    {
     "name": "stdout",
     "output_type": "stream",
     "text": [
      "53\n"
     ]
    }
   ],
   "source": [
    "#写函数，返回一个list中所有数字的和\n",
    "\n",
    "def a(): \n",
    "    numbers =[2,3,4,6,7,3,5,4,8,2,9]\n",
    "    i=0\n",
    "    sum=0\n",
    "    for i in numbers:\n",
    "        sum=sum+i\n",
    "        i=i+1\n",
    "    return sum\n",
    "\n",
    "print(a())"
   ]
  },
  {
   "cell_type": "code",
   "execution_count": 3,
   "metadata": {
    "collapsed": false
   },
   "outputs": [
    {
     "name": "stdout",
     "output_type": "stream",
     "text": [
      "2\n"
     ]
    }
   ],
   "source": [
    "#写函数，返回一个list中的最小值\n",
    "\n",
    "def a():\n",
    "    numbers=[2,34,5,6,7,23,67,10,9]\n",
    "    i=0\n",
    "    b=numbers[1]\n",
    "    for i in numbers:\n",
    "        if(b>i):\n",
    "            m=b\n",
    "            b=i\n",
    "            i=m\n",
    "    return b\n",
    "\n",
    "print(a())"
   ]
  },
  {
   "cell_type": "code",
   "execution_count": 2,
   "metadata": {
    "collapsed": false
   },
   "outputs": [
    {
     "name": "stdout",
     "output_type": "stream",
     "text": [
      "请输入一个元素：3\n",
      "2\n"
     ]
    }
   ],
   "source": [
    "#写函数，返回某个元素/对象在一个list中的位置，如果不在，则返回-1\n",
    "\n",
    "def a():\n",
    "    numbers=[2,3,5,7,9,45,60,6]\n",
    "    n=int(input(\"请输入一个元素：\"))\n",
    "    for i in range(0,len(numbers)):\n",
    "        if n==numbers[i]:\n",
    "            m=1\n",
    "            break\n",
    "        else:\n",
    "            m=0\n",
    "    if m==1:\n",
    "        return i+1\n",
    "    else:\n",
    "        return -1\n",
    "\n",
    "print(a())"
   ]
  },
  {
   "cell_type": "code",
   "execution_count": 3,
   "metadata": {
    "collapsed": false
   },
   "outputs": [
    {
     "name": "stdout",
     "output_type": "stream",
     "text": [
      "请输入第1个整数，以回车结束。4\n",
      "请输入第2个整数，以回车结束。2\n",
      "请输入第3个整数，以回车结束。3\n",
      "32\n"
     ]
    }
   ],
   "source": [
    "#将前面几章用while循环的习题，用for循环实现，并尽量写成函数。\n",
    "\n",
    "def compute_pro(end):\n",
    "    i = 1\n",
    "    factor_n = 1\n",
    "    for i in range(1,end):\n",
    "        i = i + 1\n",
    "        factor_n = factor_n*i\n",
    "    return factor_n\n",
    "\n",
    "n = int(input('请输入第1个整数，以回车结束。'))\n",
    "m = int(input('请输入第2个整数，以回车结束。'))\n",
    "k = int(input('请输入第3个整数，以回车结束。'))\n",
    "\n",
    "print(compute_pro(m) + compute_pro(n) + compute_pro(k))"
   ]
  },
  {
   "cell_type": "code",
   "execution_count": 24,
   "metadata": {
    "collapsed": false
   },
   "outputs": [
    {
     "name": "stdout",
     "output_type": "stream",
     "text": [
      "0.6936474305598223\n",
      "0.6931521805849815\n"
     ]
    }
   ],
   "source": [
    "#将前面几章用while循环的习题，用for循环实现，并尽量写成函数。\n",
    "\n",
    "def compute_sum(end):\n",
    "    import math\n",
    "    n=0\n",
    "    i = 1\n",
    "    total_n = 0\n",
    "    for i in range(1,end):\n",
    "        total_n = total_n + 1/i*math.pow(-1,n)\n",
    "        i = i + 2\n",
    "        n=n+1\n",
    "    return total_n\n",
    "\n",
    "print(compute_sum(1000))\n",
    "print(compute_sum(100000))"
   ]
  },
  {
   "cell_type": "code",
   "execution_count": 3,
   "metadata": {
    "collapsed": false
   },
   "outputs": [
    {
     "name": "stdout",
     "output_type": "stream",
     "text": [
      "0.6757246285173463\n"
     ]
    }
   ],
   "source": [
    "#写函数，可求两个向量的夹角余弦值，向量可放在list中。主程序调用该函数\n",
    "\n",
    "def a(x,y):\n",
    "    if(len(x)!=len(y)):\n",
    "        print('error input,x and y is not in the same space')\n",
    "        return\n",
    "    result1=0.0\n",
    "    result2=0.0\n",
    "    result3=0.0\n",
    "    for i in range(len(x)):\n",
    "        result1+=x[i]*y[i]  \n",
    "        result2+=x[i]**2    \n",
    "        result3+=y[i]**2    \n",
    "    print(result1/((result2*result3)**0.5))\n",
    "    \n",
    "a([2,7],[6,3])"
   ]
  },
  {
   "cell_type": "code",
   "execution_count": 4,
   "metadata": {
    "collapsed": false
   },
   "outputs": [
    {
     "name": "stdout",
     "output_type": "stream",
     "text": [
      "3678\n"
     ]
    }
   ],
   "source": [
    "#python语言老师为了激励学生学python，自费买了100个完全相同的Macbook Pro，分给三个班级，每个班级至少分5个，用穷举法计算共有多少种分法？\n",
    "\n",
    "x=0\n",
    "for i in range(5,85):\n",
    "    for j in range(5,85):\n",
    "        for k in range(5,85):\n",
    "            if(i+j+k==100):\n",
    "                x=x+1\n",
    "\n",
    "print (x)"
   ]
  },
  {
   "cell_type": "code",
   "execution_count": null,
   "metadata": {
    "collapsed": true
   },
   "outputs": [],
   "source": []
  }
 ],
 "metadata": {
  "kernelspec": {
   "display_name": "Python 3",
   "language": "python",
   "name": "python3"
  },
  "language_info": {
   "codemirror_mode": {
    "name": "ipython",
    "version": 3
   },
   "file_extension": ".py",
   "mimetype": "text/x-python",
   "name": "python",
   "nbconvert_exporter": "python",
   "pygments_lexer": "ipython3",
   "version": "3.6.0"
  }
 },
 "nbformat": 4,
 "nbformat_minor": 2
}
