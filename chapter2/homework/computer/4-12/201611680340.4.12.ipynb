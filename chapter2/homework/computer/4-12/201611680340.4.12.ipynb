{
 "cells": [
  {
   "cell_type": "code",
   "execution_count": 5,
   "metadata": {
    "collapsed": false
   },
   "outputs": [
    {
     "name": "stdout",
     "output_type": "stream",
     "text": [
      "请输入第1个整数，以回车结束。3\n",
      "请输入第2个整数，以回车结束。3\n",
      "请输入第3个整数，以回车结束。3\n",
      "最终的和是： 18\n"
     ]
    }
   ],
   "source": [
    "def compute_jicheng(end):\n",
    "    i = 1\n",
    "    val=1\n",
    "\n",
    "    for i in range(end):\n",
    "        i = i + 1\n",
    "        val = val * i\n",
    "\n",
    "    return val\n",
    "\n",
    "n = int(input('请输入第1个整数，以回车结束。'))\n",
    "m = int(input('请输入第2个整数，以回车结束。'))\n",
    "k = int(input('请输入第3个整数，以回车结束。'))\n",
    "\n",
    "print('最终的和是：', compute_jicheng(m) + compute_jicheng(n) + compute_jicheng(k))"
   ]
  },
  {
   "cell_type": "code",
   "execution_count": 1,
   "metadata": {
    "collapsed": false
   },
   "outputs": [
    {
     "name": "stdout",
     "output_type": "stream",
     "text": [
      "请输入list中的数字个数，回车结束。3\n",
      "请输入一个数字，回车结束。1\n",
      "请输入一个数字，回车结束。2\n",
      "请输入一个数字，回车结束。3\n"
     ]
    },
    {
     "data": {
      "text/plain": [
       "6"
      ]
     },
     "execution_count": 1,
     "metadata": {},
     "output_type": "execute_result"
    }
   ],
   "source": [
    "#写函数，返回一个list中所有数字的和\n",
    "def total_list():\n",
    "    n = int(input('请输入list中的数字个数，回车结束。'))\n",
    "    numbers=[]\n",
    "    total=0\n",
    "    i=0\n",
    "    for i in range(n):\n",
    "        number= int(input('请输入一个数字，回车结束。'))\n",
    "        numbers.append(number)\n",
    "        total=total+numbers[i]\n",
    "        i+=1\n",
    "    return total\n",
    "\n",
    "total_list()\n",
    "\n",
    "\n",
    "    "
   ]
  },
  {
   "cell_type": "code",
   "execution_count": 1,
   "metadata": {
    "collapsed": false
   },
   "outputs": [
    {
     "name": "stdout",
     "output_type": "stream",
     "text": [
      "请输入list中的数字个数，回车结束。4\n",
      "请输入一个数字，回车结束。4\n",
      "请输入一个数字，回车结束。3\n",
      "请输入一个数字，回车结束。2\n",
      "请输入一个数字，回车结束。1\n",
      "[4, 3, 2, 1]\n",
      "1\n"
     ]
    }
   ],
   "source": [
    "# 写函数，返回一个list中的最小值\n",
    "n = int(input('请输入list中的数字个数，回车结束。'))\n",
    "numbers=[]\n",
    "i=0\n",
    "for i in range(n):\n",
    "    number= int(input('请输入一个数字，回车结束。'))\n",
    "    numbers.append(number)\n",
    "    i=i+1   \n",
    "print(numbers)\n",
    "\n",
    "print(min(numbers))\n",
    "    \n",
    "        "
   ]
  },
  {
   "cell_type": "code",
   "execution_count": 28,
   "metadata": {
    "collapsed": false
   },
   "outputs": [
    {
     "name": "stdout",
     "output_type": "stream",
     "text": [
      "请输入list中的数字个数，回车结束。4\n",
      "请输入一个数字，回车结束。4\n",
      "请输入一个数字，回车结束。3\n",
      "请输入一个数字，回车结束。2\n",
      "请输入一个数字，回车结束。1\n",
      "请输入一个数字，回车结束。2\n"
     ]
    },
    {
     "data": {
      "text/plain": [
       "3"
      ]
     },
     "execution_count": 28,
     "metadata": {},
     "output_type": "execute_result"
    }
   ],
   "source": [
    "# 写函数，返回某个元素/对象在一个list中的位置，如果不在，则返回-1.\n",
    "\n",
    "def exist_list(x):\n",
    "    i=0\n",
    "    if x in numbers:\n",
    "        for i in range(n):\n",
    "            if x==numbers[i]:\n",
    "                return i+1\n",
    "    else:\n",
    "        return -1\n",
    "n = int(input('请输入list中的数字个数，回车结束。'))       \n",
    "numbers=[]\n",
    "i=0\n",
    "for i in range(n):\n",
    "    number= int(input('请输入一个数字，回车结束。'))\n",
    "    numbers.append(number)\n",
    "    i=i+1   \n",
    "x=int(input('请输入一个数字，回车结束。'))\n",
    "exist_list(x)\n",
    "\n",
    "\n",
    "\n"
   ]
  },
  {
   "cell_type": "code",
   "execution_count": null,
   "metadata": {
    "collapsed": true
   },
   "outputs": [],
   "source": [
    "# 写函数，可求两个向量的夹角余弦值，向量可放在list中。主程序调用该函数。\n",
    "def cos_vector(a,b):\n",
    "    if len(a)==len(b):\n",
    "        aCb=0\n",
    "        a2=0\n",
    "        b2=0\n",
    "        for i in range(len(a)):\n",
    "            aCb+=a[i]*b[i]\n",
    "            a2+=a[i]**2\n",
    "            b2+=b[i]**2\n",
    "        print(a,'和',b,'夹角的余弦值为',aCb/(a2*b2)**0.5)\n",
    "a=[]\n",
    "b=[]\n",
    "n=int(input('请输入向量所在的空间的维数，2或3：'))\n",
    "j=0\n",
    "for i in range(n):\n",
    "    for j in range(n):\n",
    "        if(i==0):\n",
    "            a.append(int(input('请输入向量a的一个坐标')))\n",
    "        else:\n",
    "            b.append(int(input('请输入z坐标')))\n",
    "\n",
    "print('a=',a,',','b=',b)\n",
    "cos_vector(a,b)"
   ]
  },
  {
   "cell_type": "code",
   "execution_count": 4,
   "metadata": {
    "collapsed": false
   },
   "outputs": [
    {
     "name": "stdout",
     "output_type": "stream",
     "text": [
      "3741\n"
     ]
    }
   ],
   "source": [
    "#挑战性习题：python语言老师为了激励学生学python，自费买了100个完全相同的Macbook Pro，\n",
    "#分给三个班级，每个班级至少分5个，用穷举法计算共有多少种分法？\n",
    "n=0\n",
    "for i in range(5,91):\n",
    "    for j in range(5,91):\n",
    "        for k in range(5,91):\n",
    "            if(100==i+j+k):\n",
    "                n=n+1\n",
    "print(n)"
   ]
  },
  {
   "cell_type": "code",
   "execution_count": null,
   "metadata": {
    "collapsed": true
   },
   "outputs": [],
   "source": []
  }
 ],
 "metadata": {
  "kernelspec": {
   "display_name": "Python 3",
   "language": "python",
   "name": "python3"
  },
  "language_info": {
   "codemirror_mode": {
    "name": "ipython",
    "version": 3
   },
   "file_extension": ".py",
   "mimetype": "text/x-python",
   "name": "python",
   "nbconvert_exporter": "python",
   "pygments_lexer": "ipython3",
   "version": "3.6.0"
  }
 },
 "nbformat": 4,
 "nbformat_minor": 2
}
