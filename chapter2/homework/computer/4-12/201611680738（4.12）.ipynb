{
 "cells": [
  {
   "cell_type": "code",
   "execution_count": 1,
   "metadata": {
    "collapsed": false
   },
   "outputs": [
    {
     "name": "stdout",
     "output_type": "stream",
     "text": [
      "请输入一个数\n",
      "5\n",
      "120\n"
     ]
    }
   ],
   "source": [
    "n=int(input(\"请输入一个数\\n\"))\n",
    "sum=1\n",
    "i=1\n",
    "for i in range(n):\n",
    "    sum*=(i+1)\n",
    "print(sum)"
   ]
  },
  {
   "cell_type": "code",
   "execution_count": null,
   "metadata": {
    "collapsed": false
   },
   "outputs": [],
   "source": [
    "numbers = []\n",
    "n = int(input('请输入要输入的整数个数'))\n",
    "for i in range(n):\n",
    "    number = int(input('请输入一个整数'))\n",
    "    numbers.append(number)\n",
    "print ('和为：',sum(numbers),sep='')"
   ]
  },
  {
   "cell_type": "code",
   "execution_count": 14,
   "metadata": {
    "collapsed": false
   },
   "outputs": [
    {
     "name": "stdout",
     "output_type": "stream",
     "text": [
      "请输入要输入的整数个数2\n",
      "请输入一个整数1\n",
      "请输入一个整数1\n"
     ]
    },
    {
     "ename": "TypeError",
     "evalue": "'int' object is not callable",
     "output_type": "error",
     "traceback": [
      "\u001b[1;31m---------------------------------------------------------------------------\u001b[0m",
      "\u001b[1;31mTypeError\u001b[0m                                 Traceback (most recent call last)",
      "\u001b[1;32m<ipython-input-14-78791fca3153>\u001b[0m in \u001b[0;36m<module>\u001b[1;34m()\u001b[0m\n\u001b[0;32m      4\u001b[0m     \u001b[0mnumber\u001b[0m \u001b[1;33m=\u001b[0m \u001b[0mint\u001b[0m\u001b[1;33m(\u001b[0m\u001b[0minput\u001b[0m\u001b[1;33m(\u001b[0m\u001b[1;34m'请输入一个整数'\u001b[0m\u001b[1;33m)\u001b[0m\u001b[1;33m)\u001b[0m\u001b[1;33m\u001b[0m\u001b[0m\n\u001b[0;32m      5\u001b[0m     \u001b[0mnumbers\u001b[0m\u001b[1;33m.\u001b[0m\u001b[0mappend\u001b[0m\u001b[1;33m(\u001b[0m\u001b[0mnumber\u001b[0m\u001b[1;33m)\u001b[0m\u001b[1;33m\u001b[0m\u001b[0m\n\u001b[1;32m----> 6\u001b[1;33m \u001b[0mprint\u001b[0m \u001b[1;33m(\u001b[0m\u001b[1;34m'和为：'\u001b[0m\u001b[1;33m,\u001b[0m\u001b[0msum\u001b[0m\u001b[1;33m(\u001b[0m\u001b[0mnumbers\u001b[0m\u001b[1;33m)\u001b[0m\u001b[1;33m,\u001b[0m\u001b[0msep\u001b[0m\u001b[1;33m=\u001b[0m\u001b[1;34m''\u001b[0m\u001b[1;33m)\u001b[0m\u001b[1;33m\u001b[0m\u001b[0m\n\u001b[0m",
      "\u001b[1;31mTypeError\u001b[0m: 'int' object is not callable"
     ]
    }
   ],
   "source": [
    "numbers = []\n",
    "n = int(input('请输入要输入的整数个数'))\n",
    "for i in range(n):\n",
    "    number = int(input('请输入一个整数'))\n",
    "    numbers.append(number)\n",
    "print ('和为：',sum(numbers),sep='')"
   ]
  },
  {
   "cell_type": "code",
   "execution_count": 7,
   "metadata": {
    "collapsed": false
   },
   "outputs": [
    {
     "name": "stdout",
     "output_type": "stream",
     "text": [
      "请输入要输入的整数个数3\n",
      "请输入一个整数3\n",
      "请输入一个整数9\n",
      "请输入一个整数7\n",
      "最小的数是：3\n"
     ]
    }
   ],
   "source": [
    "numbers = []\n",
    "n = int(input('请输入要输入的整数个数'))\n",
    "for i in range(n):\n",
    "    number = int(input('请输入一个整数'))\n",
    "    numbers.append(number)\n",
    "print ('最小的数是：',min(numbers),sep='')"
   ]
  },
  {
   "cell_type": "code",
   "execution_count": 8,
   "metadata": {
    "collapsed": false
   },
   "outputs": [
    {
     "name": "stdout",
     "output_type": "stream",
     "text": [
      "请输入你要寻找的整数9\n",
      "9 的位置是 第 6 个\n"
     ]
    }
   ],
   "source": [
    "def find(m):\n",
    "    n=[1,2,5,7,8,9,10,15,18]\n",
    "    for i in range(len(n)):\n",
    "        if m!=n[i]:\n",
    "            continue\n",
    "        else: return(i+1)\n",
    "    if(i==len(n)-1):\n",
    "        if(m!=n[i]):\n",
    "            return(-1)\n",
    "m=int(input(\"请输入你要寻找的整数\"))\n",
    "a=find(m)\n",
    "if(a!=-1):\n",
    "    print(m,\"的位置是\",\"第\",a,\"个\")\n",
    "else: print(\"查无此数\")"
   ]
  },
  {
   "cell_type": "code",
   "execution_count": 9,
   "metadata": {
    "collapsed": false
   },
   "outputs": [
    {
     "name": "stdout",
     "output_type": "stream",
     "text": [
      "Plz enter the deminsion of the vector:2\n",
      "Plz enter the number:1\n",
      "Plz enter the number:-1\n",
      "Plz enter the number:1\n",
      "Plz enter the number:3\n",
      "-0.4472135954999579\n"
     ]
    }
   ],
   "source": [
    "import math\n",
    "def cos(d):\n",
    "    product=0\n",
    "    len1=len2=0\n",
    "    Vector=[]\n",
    "    for i in range(2*d):\n",
    "        m=int(input(\"Plz enter the number:\"))\n",
    "        Vector.append(m)\n",
    "    for i in range(d):\n",
    "        product=Vector[i]*Vector[i+d]+product\n",
    "    for i in range(d):\n",
    "        len1=Vector[i]**2+len1\n",
    "        len2=Vector[i+d]**2+len2\n",
    "    cos=product/(math.sqrt(len1)*math.sqrt(len2))\n",
    "    return(cos)\n",
    "d=int(input(\"Plz enter the deminsion of the vector:\"))\n",
    "print(cos(d))"
   ]
  },
  {
   "cell_type": "code",
   "execution_count": 10,
   "metadata": {
    "collapsed": false
   },
   "outputs": [
    {
     "name": "stdout",
     "output_type": "stream",
     "text": [
      "共 3738 种分法\n"
     ]
    }
   ],
   "source": [
    "num=0\n",
    "for i in range (5,90):\n",
    "    for j in range (5,90):\n",
    "        for p in range (5,90):\n",
    "            if(i+j+p==100):\n",
    "               ##print(\"分别分给三个班级\",i,j,p,\"个\")\n",
    "                num+=1\n",
    "print(\"共\",num,\"种分法\",sep=' ')"
   ]
  }
 ],
 "metadata": {
  "kernelspec": {
   "display_name": "Python 3",
   "language": "python",
   "name": "python3"
  },
  "language_info": {
   "codemirror_mode": {
    "name": "ipython",
    "version": 3
   },
   "file_extension": ".py",
   "mimetype": "text/x-python",
   "name": "python",
   "nbconvert_exporter": "python",
   "pygments_lexer": "ipython3",
   "version": "3.6.0"
  }
 },
 "nbformat": 4,
 "nbformat_minor": 2
}
