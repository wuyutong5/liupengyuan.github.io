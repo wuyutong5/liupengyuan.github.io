{
 "cells": [
  {
   "cell_type": "markdown",
   "metadata": {},
   "source": [
    "以下 题为练习1：\n",
    "(1)chapter1/task2/练习1："
   ]
  },
  {
   "cell_type": "code",
   "execution_count": 16,
   "metadata": {
    "collapsed": false
   },
   "outputs": [
    {
     "name": "stdout",
     "output_type": "stream",
     "text": [
      "请输入一个正整数，以回车结束。3\n",
      "3 的阶乘是： 6\n"
     ]
    }
   ],
   "source": [
    "n = int(input('请输入一个正整数，以回车结束。'))\n",
    "\n",
    "i = 0\n",
    "total = 1\n",
    "\n",
    "for i in range(n):\n",
    "    i = i + 1\n",
    "    total = total * i\n",
    "    \n",
    "print(n,'的阶乘是：',total)"
   ]
  },
  {
   "cell_type": "markdown",
   "metadata": {},
   "source": [
    "(2)chapter1/task2/练习2："
   ]
  },
  {
   "cell_type": "code",
   "execution_count": 1,
   "metadata": {
    "collapsed": false
   },
   "outputs": [
    {
     "name": "stdout",
     "output_type": "stream",
     "text": [
      "请输入一个整数，作为加数的个数3\n",
      "请输入一个整数，作为加数2\n",
      "请输入一个整数，作为加数3\n",
      "请输入一个整数，作为加数2\n",
      "7\n"
     ]
    }
   ],
   "source": [
    "n=int(input('请输入一个整数，作为加数的个数'))\n",
    "m=0\n",
    "total=0\n",
    "\n",
    "for m in range(n):\n",
    "    i=int(input('请输入一个整数，作为加数'))\n",
    "    total=total+i\n",
    "    \n",
    "print(total)"
   ]
  },
  {
   "cell_type": "markdown",
   "metadata": {},
   "source": [
    "(3)chapter1/task2/练习3："
   ]
  },
  {
   "cell_type": "code",
   "execution_count": 3,
   "metadata": {
    "collapsed": false
   },
   "outputs": [
    {
     "name": "stdout",
     "output_type": "stream",
     "text": [
      "请键入1表示用户开始输入数字：1\n",
      "用户输入数字：3\n",
      "键入1表示用户想继续输入数字，键入0表示用户不想再输入数字：1\n",
      "用户输入数字：78\n",
      "键入1表示用户想继续输入数字，键入0表示用户不想再输入数字：1\n",
      "用户输入数字：4483\n",
      "键入1表示用户想继续输入数字，键入0表示用户不想再输入数字：1\n",
      "用户输入数字：343\n",
      "键入1表示用户想继续输入数字，键入0表示用户不想再输入数字：1\n",
      "用户输入数字：890\n",
      "键入1表示用户想继续输入数字，键入0表示用户不想再输入数字：0\n",
      "再见！\n"
     ]
    }
   ],
   "source": [
    "m=int(input('请键入1表示用户开始输入数字：'))\n",
    "\n",
    "while m==1:\n",
    "    for n in range(m):\n",
    "        n=int(input('用户输入数字：'))\n",
    "    m=int(input('键入1表示用户想继续输入数字，键入0表示用户不想再输入数字：'))\n",
    "print('再见！')"
   ]
  },
  {
   "cell_type": "markdown",
   "metadata": {},
   "source": [
    "(4)chapter1/task2/练习4："
   ]
  },
  {
   "cell_type": "code",
   "execution_count": 1,
   "metadata": {
    "collapsed": false,
    "scrolled": true
   },
   "outputs": [
    {
     "name": "stdout",
     "output_type": "stream",
     "text": [
      "请输入数字第一个数字1：1\n",
      "现在所有数字的和为 1\n",
      "现在所有数字的积为 1\n",
      "提示：若要继续输入，请输入数字1，否则，请输入数字0：1\n",
      "请再输入一个数字2\n",
      "已达到要求，可结束！！！\n",
      "现在所有数字的和为 3 现在所有数字的积为 2\n",
      "提示：若要继续输入，请输入数字1，否则，请输入数字0：1\n",
      "请再输入一个数字3\n",
      "现在所有数字的和为 6 现在所有数字的积为 6\n",
      "提示：若要继续输入，请输入数字1，否则，请输入数字0：1\n",
      "请再输入一个数字88\n",
      "已达到要求，可结束！！！\n",
      "现在所有数字的和为 94 现在所有数字的积为 528\n",
      "提示：若要继续输入，请输入数字1，否则，请输入数字0：0\n"
     ]
    }
   ],
   "source": [
    "n=int(input('请输入数字第一个数字1：')) \n",
    "a=n \n",
    "b=n \n",
    "print('现在所有数字的和为',a)\n",
    "print('现在所有数字的积为',b) \n",
    "num=1\n",
    "while num==1:\n",
    "    num=int(input('提示：若要继续输入，请输入数字1，否则，请输入数字0：'))\n",
    "    for m in range(num): \n",
    "        m=int(input('请再输入一个数字'))\n",
    "        if a<m and b<m**2: \n",
    "            print('已达到要求，可结束！！！')\n",
    "        a=a+m \n",
    "        b=b*m \n",
    "        print('现在所有数字的和为',a,'现在所有数字的积为',b)"
   ]
  },
  {
   "cell_type": "markdown",
   "metadata": {},
   "source": [
    "(5)chapter2/task4/练习1:"
   ]
  },
  {
   "cell_type": "code",
   "execution_count": 4,
   "metadata": {
    "collapsed": false,
    "scrolled": true
   },
   "outputs": [
    {
     "name": "stdout",
     "output_type": "stream",
     "text": [
      "请输入第1个整数，以回车结束。2\n",
      "请输入第2个整数，以回车结束。3\n",
      "请输入第3个整数，以回车结束。2\n",
      "m!+n!+k!= 10\n"
     ]
    }
   ],
   "source": [
    "def compute_sum(end):\n",
    "    i = 0\n",
    "    total_n = 1\n",
    "\n",
    "    for i in range(end):\n",
    "        total_n = total_n * (i+1)\n",
    "\n",
    "    return total_n\n",
    "\n",
    "n = int(input('请输入第1个整数，以回车结束。'))\n",
    "m = int(input('请输入第2个整数，以回车结束。'))\n",
    "k = int(input('请输入第3个整数，以回车结束。'))\n",
    "\n",
    "print('m!+n!+k!=', compute_sum(m) + compute_sum(n) + compute_sum(k))"
   ]
  },
  {
   "cell_type": "markdown",
   "metadata": {},
   "source": [
    "(6)chapter2/task4/练习2:"
   ]
  },
  {
   "cell_type": "code",
   "execution_count": 1,
   "metadata": {
    "collapsed": false
   },
   "outputs": [
    {
     "name": "stdout",
     "output_type": "stream",
     "text": [
      "请输入一个整数，以回车结束：1000\n",
      "最终和的四倍是： 3.140592653839794\n",
      "请输入一个整数，以回车结束：100000\n",
      "最终和的四倍是： 3.1415826535897198\n"
     ]
    }
   ],
   "source": [
    "def compute(end):\n",
    "    pro = 1\n",
    "    num = 0\n",
    "    i = 1.0\n",
    "    j = 1.0/i\n",
    "    total_m = 0\n",
    "    \n",
    "    for num in range(end):\n",
    "        j = 1.0/i * pro\n",
    "        total_m = total_m + j\n",
    "        pro = pro * (-1)\n",
    "        i = i + 2\n",
    "        num = num + 1\n",
    "        \n",
    "    return total_m\n",
    "\n",
    "n1 = int(input('请输入一个整数，以回车结束：'))\n",
    "print('最终和的四倍是：',compute(n1) * 4.0)\n",
    "n2 = int(input('请输入一个整数，以回车结束：'))\n",
    "print('最终和的四倍是：',compute(n2) * 4.0)"
   ]
  },
  {
   "cell_type": "markdown",
   "metadata": {},
   "source": [
    "(7)chapter2/task4/挑战性练习："
   ]
  },
  {
   "cell_type": "code",
   "execution_count": 12,
   "metadata": {
    "collapsed": false
   },
   "outputs": [
    {
     "name": "stdout",
     "output_type": "stream",
     "text": [
      "请输入开始整数，以回车结束。1\n",
      "请输入结束整数，以回车结束。100\n",
      "请输入间隔整数，以回车结束。2\n",
      "最终的和是： 2500\n"
     ]
    }
   ],
   "source": [
    "def compute_sum(star,end,tap):\n",
    "    i = star\n",
    "    total_n = 0\n",
    "\n",
    "    for n in range(int(end/tap)):\n",
    "        total_n = total_n + i\n",
    "        i = i + tap\n",
    "    return total_n\n",
    "\n",
    "m = int(input('请输入开始整数，以回车结束。'))\n",
    "n = int(input('请输入结束整数，以回车结束。'))\n",
    "k = int(input('请输入间隔整数，以回车结束。'))\n",
    "print('最终的和是：', compute_sum(m,n,k))"
   ]
  },
  {
   "cell_type": "markdown",
   "metadata": {},
   "source": [
    "(8)chapter2/task5/练习1："
   ]
  },
  {
   "cell_type": "code",
   "execution_count": 2,
   "metadata": {
    "collapsed": false
   },
   "outputs": [
    {
     "name": "stdout",
     "output_type": "stream",
     "text": [
      "请输入整数的个数：4\n",
      "请输入随机整数前界：1\n",
      "请输入随机整数后界：3\n",
      "3.5\n"
     ]
    }
   ],
   "source": [
    "import random\n",
    "\n",
    "a=0\n",
    "sum_n=0\n",
    "n=int(input('请输入整数的个数：'))\n",
    "m=int(input('请输入随机整数前界：'))\n",
    "k=int(input('请输入随机整数后界：'))\n",
    "\n",
    "def test(m,k):\n",
    "    number = random.randint(m,k)\n",
    "    return number\n",
    "\n",
    "for a in range(n):\n",
    "    sum_n = sum_n + test(m,k)\n",
    "\n",
    "x = sum_n/n ** 0.5\n",
    "print(x)"
   ]
  },
  {
   "cell_type": "markdown",
   "metadata": {},
   "source": [
    "(9)chapter2/task5/练习2："
   ]
  },
  {
   "cell_type": "code",
   "execution_count": 3,
   "metadata": {
    "collapsed": false
   },
   "outputs": [
    {
     "name": "stdout",
     "output_type": "stream",
     "text": [
      "请输入整数的个数：5\n",
      "请输入前界：300\n",
      "请输入后界：500\n",
      "西格玛log(随机整数) 和 西格玛1/log(随机整数) 分别为： (2.696356388733332, 0.370870855269162)\n"
     ]
    }
   ],
   "source": [
    "import random, math\n",
    "\n",
    "n=int(input('请输入整数的个数：'))\n",
    "m=int(input('请输入前界：'))\n",
    "k=int(input('请输入后界：'))\n",
    "\n",
    "def test(m,n,k):\n",
    "    a=0\n",
    "    sum1=0\n",
    "    sum2=0\n",
    "    for a in range(n):\n",
    "        number = random.randint(m,k)\n",
    "        num1 = math.log(number,10)\n",
    "        num2 = 1/math.log(number,10)\n",
    "        sum1 = sum1 + num1\n",
    "        sum2 = sum2 + num2\n",
    "        return sum1,sum2\n",
    "        \n",
    "print('西格玛log(随机整数) 和 西格玛1/log(随机整数) 分别为：',test(m,n,k))"
   ]
  },
  {
   "cell_type": "markdown",
   "metadata": {},
   "source": [
    "(10)chapter2/task5/练习3："
   ]
  },
  {
   "cell_type": "code",
   "execution_count": 5,
   "metadata": {
    "collapsed": false
   },
   "outputs": [
    {
     "name": "stdout",
     "output_type": "stream",
     "text": [
      "请输入和数的个数：5\n",
      "8 + 8 8 + 8 8 8 +...+ 8 8 8 8 8 ... 8 =:  98760\n"
     ]
    }
   ],
   "source": [
    "import random\n",
    "def compute(a,n):\n",
    "    m=n\n",
    "    s=0\n",
    "    while m>0:\n",
    "        num=a*(10**(m-1))*(n-m+1)\n",
    "        s=s+num\n",
    "        m=m-1\n",
    "    return s\n",
    "\n",
    "a=random.randint(1,9)\n",
    "n=int(input('请输入和数的个数：'))\n",
    "print(a,'+',a,a,'+',a,a,a,'+...+',a,a,a,a,a,'...',a,'=: ',compute(a,n))"
   ]
  },
  {
   "cell_type": "markdown",
   "metadata": {},
   "source": [
    "(11)chapter2/task5/挑战性练习："
   ]
  },
  {
   "cell_type": "code",
   "execution_count": 1,
   "metadata": {
    "collapsed": false
   },
   "outputs": [
    {
     "name": "stdout",
     "output_type": "stream",
     "text": [
      "=====游戏菜单=====\n",
      "                1. 游戏说明\n",
      "                2. 开始游戏\n",
      "                3. 退出游戏\n",
      "                4. 制作团队\n",
      "             =====游戏菜单=====\n",
      "我帮你选择，计算机：1\n",
      "\n",
      "        人在1~1000间随机选取一个数字，然后告诉计算机要在某个\n",
      "        限定次数内将这个数字猜出来。计算机每输入一个猜测值，计算\n",
      "        机会告诉计算机，猜大了，小了还是对了，猜中则游戏结束，失\n",
      "        败则游戏重新开始。\n",
      "        \n",
      "=====游戏菜单=====\n",
      "                1. 游戏说明\n",
      "                2. 开始游戏\n",
      "                3. 退出游戏\n",
      "                4. 制作团队\n",
      "             =====游戏菜单=====\n",
      "我帮你选择，计算机：2\n",
      "我输入一个大于0的整数，作为神秘整数的上界。10\n",
      "我确定你最终要猜的那个数：5\n",
      "计算机现在开始猜数！\n",
      "9\n",
      "计算机一共可以猜 4 次\n",
      "计算机已经猜了 1 次\n",
      "抱歉计算机，你猜大了\n",
      "计算机现在开始猜数！\n",
      "4\n",
      "计算机一共可以猜 4 次\n",
      "计算机已经猜了 2 次\n",
      "抱歉计算机，你猜小了\n",
      "计算机现在开始猜数！\n",
      "6\n",
      "计算机一共可以猜 4 次\n",
      "计算机已经猜了 3 次\n",
      "抱歉计算机，你猜大了\n",
      "神秘数字是： 5\n",
      "\n",
      "           ======YOU LOSE,computer=======\n",
      "        \n",
      "    \n",
      "                \n",
      "\n",
      "                   .-\"      \"-.\n",
      "                  /                             |              |\n",
      "                 |,  .-.  .-.  ,|\n",
      "                 | )(__/  \\__)( |\n",
      "                 |/     /\\     \\|\n",
      "       (@_       (_     ^^     _)\n",
      "  _     ) \\_______\\__|IIIIII|__/__________________________\n",
      " (_)@8@8{}<________|-\\IIIIII/-|___________________________>\n",
      "        )_/        \\          /\n",
      "       (@           `--------`\n",
      "       \n",
      "       \n",
      "       \n",
      "          ======YOU LOSE,computer=======\n",
      "        \n",
      "=====游戏菜单=====\n",
      "                1. 游戏说明\n",
      "                2. 开始游戏\n",
      "                3. 退出游戏\n",
      "                4. 制作团队\n",
      "             =====游戏菜单=====\n",
      "我帮你选择，计算机：3\n",
      "\n",
      "           ======GAME OVER=======\n",
      "        \n",
      "             _________ \n",
      "            / ======= \\ \n",
      "           / __________\\ \n",
      "          | ___________ | \n",
      "          | | -       | | \n",
      "          | |         | | \n",
      "          | |_________| |________________ \n",
      "          \\=____________/                ) \n",
      "          / \"\"\"\"\"\"\"\"\"\"\" \\               / \n",
      "         / ::::::::::::: \\          =D-' \n",
      "        (_________________) \n",
      "\n",
      "       \n",
      "          ======GAME OVER=======\n",
      "        \n"
     ]
    }
   ],
   "source": [
    "import random, math\n",
    "\n",
    "def win():\n",
    "    print(\n",
    "        '''\n",
    "           ======恭喜computer，你赢了=======\n",
    "        \n",
    "    \n",
    "                .\"\".    .\"\",\n",
    "                |  |   /  /\n",
    "                |  |  /  /\n",
    "                |  | /  /\n",
    "                |  |/  ;-._ \n",
    "                }  ` _/  / ;\n",
    "                |  /` ) /  /\n",
    "                | /  /_/\\_/\\\n",
    "                |/  /      |\n",
    "                (  ' \\ '-  |\n",
    "                 \\    `.  /\n",
    "                  |      |\n",
    "                  |      |\n",
    "          \n",
    "          ======恭喜computer，你赢了=======\n",
    "        '''\n",
    "    )\n",
    "\n",
    "    \n",
    "def lose():\n",
    "    print(\n",
    "        '''\n",
    "           ======YOU LOSE,computer=======\n",
    "        \n",
    "    \n",
    "                \n",
    "\n",
    "                   .-\"      \"-.\n",
    "                  /            \\\n",
    "                 |              |\n",
    "                 |,  .-.  .-.  ,|\n",
    "                 | )(__/  \\__)( |\n",
    "                 |/     /\\     \\|\n",
    "       (@_       (_     ^^     _)\n",
    "  _     ) \\_______\\__|IIIIII|__/__________________________\n",
    " (_)@8@8{}<________|-\\IIIIII/-|___________________________>\n",
    "        )_/        \\          /\n",
    "       (@           `--------`\n",
    "       \n",
    "       \n",
    "       \n",
    "          ======YOU LOSE,computer=======\n",
    "        '''\n",
    "    )\n",
    "\n",
    "    \n",
    "def game_over():\n",
    "    print(\n",
    "        '''\n",
    "           ======GAME OVER=======\n",
    "        \n",
    "             _________ \n",
    "            / ======= \\ \n",
    "           / __________\\ \n",
    "          | ___________ | \n",
    "          | | -       | | \n",
    "          | |         | | \n",
    "          | |_________| |________________ \n",
    "          \\=____________/                ) \n",
    "          / \"\"\"\"\"\"\"\"\"\"\" \\               / \n",
    "         / ::::::::::::: \\          =D-' \n",
    "        (_________________) \n",
    "\n",
    "       \n",
    "          ======GAME OVER=======\n",
    "        '''\n",
    "    )\n",
    "\n",
    "def show_team():\n",
    "    print(\n",
    "        '''\n",
    "        \n",
    "        whoever,我就是制作团队，就是我！\n",
    "        \n",
    "        ''')\n",
    "\n",
    "def show_instruction():\n",
    "    print(\n",
    "        '''\n",
    "        人在1~1000间随机选取一个数字，然后告诉计算机要在某个\n",
    "        限定次数内将这个数字猜出来。计算机每输入一个猜测值，计算\n",
    "        机会告诉计算机，猜大了，小了还是对了，猜中则游戏结束，失\n",
    "        败则游戏重新开始。\n",
    "        ''')\n",
    "\n",
    "def menu():\n",
    "    print('''=====游戏菜单=====\n",
    "                1. 游戏说明\n",
    "                2. 开始游戏\n",
    "                3. 退出游戏\n",
    "                4. 制作团队\n",
    "             =====游戏菜单=====''')\n",
    "             \n",
    "def guess_game():\n",
    "    n = int(input('我输入一个大于0的整数，作为神秘整数的上界。'))\n",
    "    number = int(input('我确定你最终要猜的那个数：'))\n",
    "    max_times = math.ceil(math.log(n, 2))\n",
    "    guess_times = 0\n",
    "    min_ = 1\n",
    "    max_ = n\n",
    "    for guess_times in range(max_times-1):\n",
    "        print('计算机现在开始猜数！')\n",
    "        guess = random.randint(min_,max_)\n",
    "        print(guess)\n",
    "        guess_times += 1\n",
    "        print('计算机一共可以猜', max_times, '次')\n",
    "        print('计算机已经猜了', guess_times, '次')\n",
    "        \n",
    "        if guess == number:\n",
    "            win()\n",
    "            print('神秘数字是：', guess)\n",
    "            print('计算机猜的次数比标准次数少', max_times-guess_times, '次')\n",
    "            break\n",
    "        elif guess > number:\n",
    "            print('抱歉计算机，你猜大了')\n",
    "            max_ = guess\n",
    "        else:\n",
    "            print('抱歉计算机，你猜小了')\n",
    "            min_ = guess\n",
    "            \n",
    "    else:\n",
    "        print('神秘数字是：', number)\n",
    "        lose()\n",
    "\n",
    "# 主函数\n",
    "def main():\n",
    "    while True:\n",
    "        menu()\n",
    "        choice = int(input('我帮你选择，计算机：'))\n",
    "        if choice == 1:\n",
    "            show_instruction()\n",
    "        elif choice == 2:\n",
    "            guess_game()\n",
    "        elif choice == 3:\n",
    "            game_over()\n",
    "            break\n",
    "        else:\n",
    "            show_team()\n",
    "\n",
    "\n",
    "#主程序\n",
    "if __name__ == '__main__':\n",
    "    main()"
   ]
  },
  {
   "cell_type": "markdown",
   "metadata": {},
   "source": [
    "练习2："
   ]
  },
  {
   "cell_type": "code",
   "execution_count": 9,
   "metadata": {
    "collapsed": false
   },
   "outputs": [
    {
     "name": "stdout",
     "output_type": "stream",
     "text": [
      "这个数字组的和是： 1971\n"
     ]
    }
   ],
   "source": [
    "list=[2,34,35,342,556,346,656]\n",
    "total=0\n",
    "\n",
    "for number in list:\n",
    "    total=total+number\n",
    "    \n",
    "print('这个数字组的和是：',total)"
   ]
  },
  {
   "cell_type": "markdown",
   "metadata": {},
   "source": [
    "练习3："
   ]
  },
  {
   "cell_type": "code",
   "execution_count": 22,
   "metadata": {
    "collapsed": false
   },
   "outputs": [
    {
     "name": "stdout",
     "output_type": "stream",
     "text": [
      "list中最小的数是： 23\n"
     ]
    }
   ],
   "source": [
    "list=[23,233,4345,2452,1414,742,314]\n",
    "i=0\n",
    "j=1\n",
    "\n",
    "for number in list:\n",
    "    for i in range(6):\n",
    "        for j in range(6):\n",
    "            if list[i]<list[j]:\n",
    "                temp=list[i]\n",
    "                list[j]=list[i]\n",
    "                list[i]=temp\n",
    "                \n",
    "print('list中最小的数是：',list[0])"
   ]
  },
  {
   "cell_type": "markdown",
   "metadata": {},
   "source": [
    "练习4："
   ]
  },
  {
   "cell_type": "code",
   "execution_count": 39,
   "metadata": {
    "collapsed": false
   },
   "outputs": [
    {
     "name": "stdout",
     "output_type": "stream",
     "text": [
      "请输入一个数字，让计算机判断是否属于list：240\n",
      "位置是： 6\n"
     ]
    }
   ],
   "source": [
    "list=[23,65,67,245,876,240,64,943]\n",
    "i=0\n",
    "flag=0\n",
    "\n",
    "num=int(input('请输入一个数字，让计算机判断是否属于list：'))\n",
    "for i in range(7):\n",
    "    for number in list:\n",
    "        if num==list[i]:\n",
    "            flag=1\n",
    "            print('位置是：',i+1)\n",
    "            break\n",
    "    \n",
    "if flag==0:\n",
    "    print(-1)"
   ]
  },
  {
   "cell_type": "markdown",
   "metadata": {},
   "source": [
    "练习5："
   ]
  },
  {
   "cell_type": "code",
   "execution_count": 43,
   "metadata": {
    "collapsed": false
   },
   "outputs": [
    {
     "name": "stdout",
     "output_type": "stream",
     "text": [
      "两向量的夹角余弦时： 0.9946115458726394\n"
     ]
    }
   ],
   "source": [
    "import math\n",
    "list1=[2.0,3.0,4.0]\n",
    "list2=[4.0,5.0,6.0]\n",
    "i=0\n",
    "j=0\n",
    "\n",
    "for number1 in list1:\n",
    "    for number2 in list2:\n",
    "        cosab=(list1[0]*list2[0]+list1[1]*list2[1]+list1[2]*list2[2])/math.sqrt((list1[0]**2+list1[1]**2+list1[2]**2)*(list2[0]**2+list2[1]**2+list2[2]**2))\n",
    "print('两向量的夹角余弦时：',cosab)"
   ]
  },
  {
   "cell_type": "markdown",
   "metadata": {},
   "source": [
    "挑战性练习："
   ]
  },
  {
   "cell_type": "code",
   "execution_count": 7,
   "metadata": {
    "collapsed": false
   },
   "outputs": [
    {
     "name": "stdout",
     "output_type": "stream",
     "text": [
      "一共有 3741 种分法。\n"
     ]
    }
   ],
   "source": [
    "i=0\n",
    "j=0\n",
    "k=0\n",
    "n=0\n",
    "\n",
    "for i in range(100):\n",
    "    for j in range(100):\n",
    "        for k in range(100):\n",
    "            if(i+j+k==100 and i>4 and j>4 and k>4):\n",
    "                n=n+1\n",
    "                \n",
    "print('一共有',n,'种分法。')"
   ]
  }
 ],
 "metadata": {
  "kernelspec": {
   "display_name": "Python 3",
   "language": "python",
   "name": "python3"
  },
  "language_info": {
   "codemirror_mode": {
    "name": "ipython",
    "version": 3
   },
   "file_extension": ".py",
   "mimetype": "text/x-python",
   "name": "python",
   "nbconvert_exporter": "python",
   "pygments_lexer": "ipython3",
   "version": "3.6.0"
  }
 },
 "nbformat": 4,
 "nbformat_minor": 2
}
