{
 "cells": [
  {
   "cell_type": "code",
   "execution_count": 1,
   "metadata": {
    "collapsed": false
   },
   "outputs": [
    {
     "name": "stdout",
     "output_type": "stream",
     "text": [
      "totally has 3696 ways\n"
     ]
    }
   ],
   "source": [
    "#tiaozhan\n",
    "i=0\n",
    "for m in range(5,86):\n",
    "    for n in range(5,86):\n",
    "        for k in range(5,86):\n",
    "            if m+n+k==100:\n",
    "                i=i+1\n",
    "print('totally has',i,'ways')"
   ]
  },
  {
   "cell_type": "code",
   "execution_count": 3,
   "metadata": {
    "collapsed": false
   },
   "outputs": [
    {
     "name": "stdout",
     "output_type": "stream",
     "text": [
      "result is : 0.9761870601839528\n"
     ]
    }
   ],
   "source": [
    "#yuxian\n",
    "def COS(x,y):\n",
    "    if len(x) == len(y):\n",
    "        r1 = 0\n",
    "        r2 = 0\n",
    "        r3 = 0\n",
    "        for i in range(len(x)):\n",
    "            r1+=x[i]*y[i]\n",
    "            r2+=x[i]**2\n",
    "            r3+=y[i]**2\n",
    "        print('result is :',str(r1/((r2*r3)**0.5)))\n",
    "COS([3,5],[2,6])"
   ]
  },
  {
   "cell_type": "code",
   "execution_count": null,
   "metadata": {
    "collapsed": false
   },
   "outputs": [],
   "source": [
    "#fanhuiweizhihuozhe-1\n",
    "def location():\n",
    "    numbers=[]\n",
    "    a = int(input('enter an element'))\n",
    "    \n",
    "    for i in range(x):\n",
    "        a = int(input('enter element'))\n",
    "        list.append(a)\n",
    "        b=int(input('jiance'))\n",
    "    \n",
    "        if b in numbers:\n",
    "            posation = x.index(i)\n",
    "            print('posation is',posation)\n",
    "        else:  print(-1)\n",
    "location()\n",
    "    \n",
    "    "
   ]
  },
  {
   "cell_type": "code",
   "execution_count": 1,
   "metadata": {
    "collapsed": false
   },
   "outputs": [
    {
     "name": "stdout",
     "output_type": "stream",
     "text": [
      "请输入数字个数。2\n",
      "请输入一个数字3\n",
      "请输入一个数字3\n"
     ]
    },
    {
     "data": {
      "text/plain": [
       "3"
      ]
     },
     "execution_count": 1,
     "metadata": {},
     "output_type": "execute_result"
    }
   ],
   "source": [
    "#fanhuizuixiao\n",
    "def mini():\n",
    "    numbers=[]\n",
    "    n=int(input('请输入数字个数。'))\n",
    "    for i in range(n):\n",
    "        n=int(input('请输入一个数字'))\n",
    "        numbers.append(n)\n",
    "    for n in numbers:\n",
    "        return(min(numbers))\n",
    "    print(min(n))\n",
    "        \n",
    "mini()"
   ]
  },
  {
   "cell_type": "code",
   "execution_count": 2,
   "metadata": {
    "collapsed": false
   },
   "outputs": [
    {
     "name": "stdout",
     "output_type": "stream",
     "text": [
      "个数:5\n",
      "整数:5\n",
      "整数:4\n",
      "整数:3\n",
      "整数:3\n",
      "整数:2\n",
      "17\n"
     ]
    }
   ],
   "source": [
    "#fanhuihe\n",
    "def SUM():\n",
    "    \n",
    "    numbers=[]\n",
    "    a=int(input('个数:'))\n",
    "    total=0\n",
    "    \n",
    "    for i in range(a):\n",
    "        number=int(input('整数:'))\n",
    "        numbers.append(number)\n",
    "        \n",
    "    for number in numbers:\n",
    "        total+=number\n",
    "    print(total)\n",
    "        \n",
    "SUM()"
   ]
  },
  {
   "cell_type": "markdown",
   "metadata": {},
   "source": []
  }
 ],
 "metadata": {
  "kernelspec": {
   "display_name": "Python 3",
   "language": "python",
   "name": "python3"
  },
  "language_info": {
   "codemirror_mode": {
    "name": "ipython",
    "version": 3
   },
   "file_extension": ".py",
   "mimetype": "text/x-python",
   "name": "python",
   "nbconvert_exporter": "python",
   "pygments_lexer": "ipython3",
   "version": "3.6.0"
  }
 },
 "nbformat": 4,
 "nbformat_minor": 2
}
