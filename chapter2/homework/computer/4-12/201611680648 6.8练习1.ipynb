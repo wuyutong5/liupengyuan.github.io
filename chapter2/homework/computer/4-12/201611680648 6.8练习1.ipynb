{
 "cells": [
  {
   "cell_type": "code",
   "execution_count": 4,
   "metadata": {
    "collapsed": false
   },
   "outputs": [
    {
     "name": "stdout",
     "output_type": "stream",
     "text": [
      "+3.140000; -3.140000\n",
      " 3.140000; -3.140000\n",
      "1,234,567,890\n"
     ]
    }
   ],
   "source": [
    "def jc(n):\n",
    "    i=0\n",
    "    p=1\n",
    "    for i in range(n):\n",
    "        p*=i\n",
    "    return p\n",
    "m=int(input('请输入整数m的值'))\n",
    "n=int(input('请输入整数n的值'))\n",
    "k=int(input('请输入整数k的值'))\n",
    "print('m!+n!+k!=',jc(m)+jc(n)+jc(k))"
   ]
  },
  {
   "cell_type": "code",
   "execution_count": null,
   "metadata": {
    "collapsed": true
   },
   "outputs": [],
   "source": [
    "import random, math\n",
    "\n",
    "def log2(n,m,k):\n",
    "    total=0\n",
    "    for i in range(n):\n",
    "        x=random.randint(m,k)\n",
    "        total+=math.log2(x)\n",
    "    return total\n",
    "def log2_(n,m,k):\n",
    "    total=0\n",
    "    for i in range(n):\n",
    "        x=random.randint(m,k)\n",
    "        total+=1/math.log2(x)\n",
    "    return total\n",
    "def main():\n",
    "    n=int(input('请输入随机整数的个数'))\n",
    "    m=int(input('请输入整数的下限'))\n",
    "    k=int(input('请输入整数的上限'))\n",
    "    print('西格玛log(随机整数)=',log2(n,m,k))\n",
    "    print('西格玛1/log(随机整数)=',log2_(n,m,k))\n",
    "if __name__ == '__main__':\n",
    "    main()\n",
    "    "
   ]
  },
  {
   "cell_type": "code",
   "execution_count": null,
   "metadata": {
    "collapsed": true
   },
   "outputs": [],
   "source": [
    "import random\n",
    "def jia(m,n):\n",
    "    total=0\n",
    "    total2=0\n",
    "    i=0\n",
    "    print('随机整数为m=',m,'相加次数n=',n)\n",
    "    for i in range(n):\n",
    "        x=10**i\n",
    "        t=x*m\n",
    "        total+=t\n",
    "        total2+=total\n",
    "        print(total)\n",
    "    return total2\n",
    "def main():\n",
    "    m=random.randint(1,9)\n",
    "    n=int(input('请输入相加的次数'))\n",
    "    print('s=',jia(m,n))\n",
    "if __name__ == '__main__':\n",
    "    main()\n",
    "    "
   ]
  }
 ],
 "metadata": {
  "kernelspec": {
   "display_name": "Python 3",
   "language": "python",
   "name": "python3"
  },
  "language_info": {
   "codemirror_mode": {
    "name": "ipython",
    "version": 3
   },
   "file_extension": ".py",
   "mimetype": "text/x-python",
   "name": "python",
   "nbconvert_exporter": "python",
   "pygments_lexer": "ipython3",
   "version": "3.6.0"
  }
 },
 "nbformat": 4,
 "nbformat_minor": 2
}
