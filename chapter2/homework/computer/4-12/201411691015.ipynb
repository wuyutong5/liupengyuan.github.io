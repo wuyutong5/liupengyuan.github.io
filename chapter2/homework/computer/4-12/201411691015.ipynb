{
 "cells": [
  {
   "cell_type": "markdown",
   "metadata": {
    "deletable": true,
    "editable": true
   },
   "source": [
    "将前面几章用while循环的习题，用for循环实现，并尽量写成函数......\n",
    "以前的：\n",
    "    chapter1-task2：\n",
    "    练习2：仿照实践1，写出由用户指定整数个数，并由用户输入多个整数，并求和的代码。"
   ]
  },
  {
   "cell_type": "code",
   "execution_count": 1,
   "metadata": {
    "collapsed": false,
    "deletable": true,
    "editable": true
   },
   "outputs": [
    {
     "name": "stdout",
     "output_type": "stream",
     "text": [
      "请输入一个正整数为次数，以回车结束。   3\n",
      "请输入一个正整数为加数，以回车结束。   3\n",
      "请输入一个正整数为加数，以回车结束。   3\n",
      "请输入一个正整数为加数，以回车结束。   3\n",
      "total= 9\n"
     ]
    }
   ],
   "source": [
    "def compute_sum(n):\n",
    "    total = 0\n",
    "    for i in range(n):\n",
    "        m = int(input('请输入一个正整数为加数，以回车结束。   '))\n",
    "        total += m\n",
    "    return total\n",
    "    \n",
    "n = int(input('请输入一个正整数为次数，以回车结束。   '))\n",
    "print ('total=',compute_sum(n))"
   ]
  },
  {
   "cell_type": "markdown",
   "metadata": {
    "deletable": true,
    "editable": true
   },
   "source": [
    "以前的：\n",
    "    chapter2-task4：\n",
    "    练习 1：仿照求$ \\sum_{i=1}^mi + \\sum_{i=1}^ni  + \\sum_{i=1}^ki$的完整代码，写程序，可求m!+n!+k!"
   ]
  },
  {
   "cell_type": "code",
   "execution_count": 2,
   "metadata": {
    "collapsed": false,
    "deletable": true,
    "editable": true
   },
   "outputs": [
    {
     "name": "stdout",
     "output_type": "stream",
     "text": [
      "请输入第一个整数，回车结束  3\n",
      "请输入第二个整数，回车结束  3\n",
      "请输入第三个整数，回车结束  3\n",
      "tatol = 18\n"
     ]
    }
   ],
   "source": [
    "def computer_sum(num):\n",
    "    total = 1\n",
    "    for i in range(1,num+1):\n",
    "        total *= i\n",
    "    return total\n",
    "\n",
    "m = int(input('请输入第一个整数，回车结束  '))\n",
    "n = int(input('请输入第二个整数，回车结束  '))\n",
    "k = int(input('请输入第三个整数，回车结束  '))\n",
    "print ('tatol =',computer_sum(m)+computer_sum(n)+computer_sum(k))"
   ]
  },
  {
   "cell_type": "markdown",
   "metadata": {
    "deletable": true,
    "editable": true
   },
   "source": [
    "以前的：\n",
    "    chapter2-task4：\n",
    "    练习 2：写函数可返回1 - 1/3 + 1/5 - 1/7...的前n项的和。在主程序中，分别令n=1000及100000，打印4倍该函数的和。"
   ]
  },
  {
   "cell_type": "code",
   "execution_count": 3,
   "metadata": {
    "collapsed": false,
    "deletable": true,
    "editable": true
   },
   "outputs": [
    {
     "name": "stdout",
     "output_type": "stream",
     "text": [
      "请输入第一个整数，回车结束  1000\n",
      "4倍的和：tatol1 = 3.140592653839794\n",
      "请输入第二个整数，回车结束  10000\n",
      "4倍的和：tatol2 = 3.1414926535900345\n"
     ]
    }
   ],
   "source": [
    "def computer_add(num):\n",
    "    total = 0\n",
    "    for i in range(num):\n",
    "        j = 2*i + 1\n",
    "        if (i+1)%2 != 0:\n",
    "            total += 1/j\n",
    "        else:\n",
    "            total -= 1/j\n",
    "    return total\n",
    "\n",
    "m = int(input('请输入第一个整数，回车结束  '))\n",
    "print ('4倍的和：tatol1 =',4*computer_add(m))\n",
    "n = int(input('请输入第二个整数，回车结束  '))\n",
    "print ('4倍的和：tatol2 =',4*computer_add(n))"
   ]
  },
  {
   "cell_type": "markdown",
   "metadata": {
    "deletable": true,
    "editable": true
   },
   "source": [
    "以前的：\n",
    "    chapter2-task4：\n",
    "    挑战性练习：写程序，可以求从整数m到整数n累加的和，间隔为k，求和部分需用函数实现，主程序中由用户输入m，n，k调用函数验证正确性。"
   ]
  },
  {
   "cell_type": "code",
   "execution_count": 4,
   "metadata": {
    "collapsed": false,
    "deletable": true,
    "editable": true,
    "scrolled": true
   },
   "outputs": [
    {
     "name": "stdout",
     "output_type": "stream",
     "text": [
      "请输入第一个整数即m，回车结束  2\n",
      "请输入第二个整数即n，回车结束  6\n",
      "请输入第三个整数即k，回车结束  1\n",
      "tatol = 6\n"
     ]
    }
   ],
   "source": [
    "def computer_sum(m,n,k):\n",
    "    for i in range(m,n):\n",
    "        i += k\n",
    "    return i\n",
    "\n",
    "m = int(input('请输入第一个整数即m，回车结束  '))\n",
    "n = int(input('请输入第二个整数即n，回车结束  '))\n",
    "k = int(input('请输入第三个整数即k，回车结束  '))\n",
    "print ('tatol =',computer_sum(m,n,k))"
   ]
  },
  {
   "cell_type": "markdown",
   "metadata": {
    "deletable": true,
    "editable": true
   },
   "source": [
    "以前的：\n",
    "    chapter2-task5：\n",
    "    练习 1：求n个随机整数均值的平方根，整数范围在m与k之间。"
   ]
  },
  {
   "cell_type": "code",
   "execution_count": 5,
   "metadata": {
    "collapsed": false,
    "deletable": true,
    "editable": true
   },
   "outputs": [
    {
     "name": "stdout",
     "output_type": "stream",
     "text": [
      "please input a smaller number     1\n",
      "please input a bigger number      2\n",
      "please input a  number for times  2\n",
      "num0: 1\n",
      "num1: 1\n",
      "2 个随机整数均值的平方根等于: 1.0\n"
     ]
    }
   ],
   "source": [
    "import random,math\n",
    "\n",
    "def compute_sqrt(n,m,k,total,avg):\n",
    "    for i in range(1,n):\n",
    "        num = random.randint(m,k)\n",
    "        print ('num',i,': ',num,sep='')\n",
    "        total += num\n",
    "        avg = total/2\n",
    "        sqr = math.sqrt(avg)\n",
    "    return sqr\n",
    "        \n",
    "m = int(input('please input a smaller number     '))\n",
    "k = int(input('please input a bigger number      '))\n",
    "n = int(input('please input a  number for times  '))\n",
    "total = 0\n",
    "avg = 0\n",
    "num = random.randint(m,k)\n",
    "print ('num0:',num)\n",
    "total += num\n",
    "print (n,'个随机整数均值的平方根等于:',compute_sqrt(n,m,k,total,avg))"
   ]
  },
  {
   "cell_type": "markdown",
   "metadata": {
    "deletable": true,
    "editable": true
   },
   "source": [
    "以前的：\n",
    "    chapter2-task5：\n",
    "    练习 2：共n个随机整数，整数范围在m与k之间，求西格玛log(随机整数)及西格玛1/log(随机整数)"
   ]
  },
  {
   "cell_type": "code",
   "execution_count": 6,
   "metadata": {
    "collapsed": false,
    "deletable": true,
    "editable": true
   },
   "outputs": [
    {
     "name": "stdout",
     "output_type": "stream",
     "text": [
      "please input a smaller number     2\n",
      "please input a bigger number      6\n",
      "please input a  number for times  2\n",
      "num0: 4\n",
      "num1: 4\n",
      "西格玛log总和为: 2.772588722239781 \n",
      "西格玛1/log总和为: 1.4426950408889634\n"
     ]
    }
   ],
   "source": [
    "import random,math\n",
    "\n",
    "def compute_sqrt(n,m,k):\n",
    "    total1 = 0\n",
    "    total2 = 0\n",
    "    for i in range(n):\n",
    "        num = random.randint(m,k)\n",
    "        print ('num',i,': ',num,sep='')\n",
    "        num1 = math.log(num)\n",
    "        num2 = 1/math.log(num)\n",
    "        total1 += num1\n",
    "        total2 += num2\n",
    "        i += 1\n",
    "    print ('西格玛log总和为:',total1,'\\n西格玛1/log总和为:',total2)\n",
    "    return\n",
    "    \n",
    "m = int(input('please input a smaller number     '))\n",
    "k = int(input('please input a bigger number      '))\n",
    "n = int(input('please input a  number for times  '))\n",
    "\n",
    "compute_sqrt(n,m,k)"
   ]
  },
  {
   "cell_type": "markdown",
   "metadata": {
    "deletable": true,
    "editable": true
   },
   "source": [
    "以前的：\n",
    "    chapter2-task5：\n",
    "    练习 3：写函数，求s=a+aa+aaa+aaaa+aa...a的值，其中a是[1,9]之间的随机整数。\n",
    "    例如2+22+222+2222+22222(此时共有5个数相加)，几个数相加由键盘输入。"
   ]
  },
  {
   "cell_type": "code",
   "execution_count": 7,
   "metadata": {
    "collapsed": false,
    "deletable": true,
    "editable": true
   },
   "outputs": [
    {
     "name": "stdout",
     "output_type": "stream",
     "text": [
      "a: 5\n",
      "please input a  number for times  3\n",
      "n: 3\n",
      "total: 615\n"
     ]
    }
   ],
   "source": [
    "import random,math\n",
    "\n",
    "def compute(n,a):\n",
    "    b = a\n",
    "    total = a\n",
    "    for i in range(n-1):\n",
    "        b = b*10+a   \n",
    "        total += b\n",
    "    print ('total:',total)\n",
    "    return\n",
    "\n",
    "a = random.randint(1,9)\n",
    "print ('a:',a)\n",
    "n = int(input('please input a  number for times  '))\n",
    "print ('n:',n)\n",
    "\n",
    "compute(n,a)"
   ]
  },
  {
   "cell_type": "markdown",
   "metadata": {
    "deletable": true,
    "editable": true
   },
   "source": [
    "6.8 习题: 写函数，返回一个list中所有数字的和"
   ]
  },
  {
   "cell_type": "code",
   "execution_count": 8,
   "metadata": {
    "collapsed": false,
    "deletable": true,
    "editable": true
   },
   "outputs": [
    {
     "name": "stdout",
     "output_type": "stream",
     "text": [
      "numTotal: 45\n"
     ]
    }
   ],
   "source": [
    "def compute_sum(numbers):\n",
    "    numTotal = 0\n",
    "    for num in numbers:\n",
    "        numTotal += num\n",
    "    print ('numTotal:',numTotal)\n",
    "    \n",
    "numbers = [i for i in range(1,10)]\n",
    "compute_sum(numbers)"
   ]
  },
  {
   "cell_type": "markdown",
   "metadata": {
    "deletable": true,
    "editable": true
   },
   "source": [
    "6.8 习题: 写函数，返回一个list中的最小值"
   ]
  },
  {
   "cell_type": "code",
   "execution_count": 9,
   "metadata": {
    "collapsed": false,
    "deletable": true,
    "editable": true,
    "scrolled": true
   },
   "outputs": [
    {
     "name": "stdout",
     "output_type": "stream",
     "text": [
      "Min: 1\n"
     ]
    }
   ],
   "source": [
    "def compute_min(numbers):\n",
    "    min = numbers[0]\n",
    "    for num in numbers:\n",
    "        if num < min:\n",
    "            min = num\n",
    "    print ('Min:',min)\n",
    "    return\n",
    "    \n",
    "numbers = [i for i in range(1,10)]\n",
    "compute_min(numbers)"
   ]
  },
  {
   "cell_type": "markdown",
   "metadata": {
    "deletable": true,
    "editable": true
   },
   "source": [
    "6.8 习题: 写函数，返回某个元素/对象在一个list中的位置，如果不在，则返回-1."
   ]
  },
  {
   "cell_type": "code",
   "execution_count": 11,
   "metadata": {
    "collapsed": false,
    "deletable": true,
    "editable": true
   },
   "outputs": [
    {
     "name": "stdout",
     "output_type": "stream",
     "text": [
      "[1, 2, 3, 4, 5, 6, 7, 8, 9]\n",
      "please input a number:  10\n",
      "pos: -1\n"
     ]
    }
   ],
   "source": [
    "def compute_pos(numbers):\n",
    "    n = int(input('please input a number:  '))\n",
    "    num = 0\n",
    "    for i in range(len(numbers)):\n",
    "        if numbers[i] == n :\n",
    "            print ('pos:',i+1)\n",
    "            break\n",
    "        num += 1\n",
    "    if num >= len(numbers):\n",
    "        print ('pos:',-1)\n",
    "            \n",
    "numbers = [i for i in range(1,10)]\n",
    "print (numbers)\n",
    "compute_pos(numbers)"
   ]
  },
  {
   "cell_type": "markdown",
   "metadata": {
    "deletable": true,
    "editable": true
   },
   "source": [
    "6.8 习题: 写函数，可求两个向量的夹角余弦值，向量可放在list中。主程序调用该函数。"
   ]
  },
  {
   "cell_type": "code",
   "execution_count": 12,
   "metadata": {
    "collapsed": false,
    "deletable": true,
    "editable": true
   },
   "outputs": [
    {
     "name": "stdout",
     "output_type": "stream",
     "text": [
      "请输入第 1 个向量的坐标\n",
      "请输入x坐标： 1\n",
      "请输入y坐标： 0\n",
      "请输入第 2 个向量的坐标\n",
      "请输入x坐标： 1\n",
      "请输入y坐标： 1\n",
      "vector1: [1,0]\n",
      "vector2: [1,1]\n",
      "两个向量的夹角余弦值为： 0.7071067811865475\n"
     ]
    }
   ],
   "source": [
    "def compute_cos():\n",
    "    vector_frt = []\n",
    "    vector_sec = []\n",
    "    for i in range(2):\n",
    "        print ('请输入第',i+1,'个向量的坐标')\n",
    "        x = int(input('请输入x坐标： ')) \n",
    "        y = int(input('请输入y坐标： '))\n",
    "        if i == 0:\n",
    "            vector_frt.append(x)\n",
    "            vector_frt.append(y)\n",
    "        else:\n",
    "            vector_sec.append(x)\n",
    "            vector_sec.append(y)\n",
    "    print ('vector1: [',vector_frt[0],',',vector_frt[1],']',sep = '')\n",
    "    print ('vector2: [',vector_sec[0],',',vector_sec[1],']',sep = '')\n",
    "    vect_a = math.sqrt(vector_frt[0]*vector_frt[0] + vector_frt[1]*vector_frt[1])\n",
    "    vect_b = math.sqrt(vector_sec[0]*vector_sec[0] + vector_sec[1]*vector_sec[1])\n",
    "    vect_ab = vector_frt[0]*vector_sec[0] + vector_frt[1]*vector_sec[1]\n",
    "    vect_cos = vect_ab/(vect_a*vect_b)\n",
    "    print ('两个向量的夹角余弦值为：',vect_cos)\n",
    "    \n",
    "compute_cos()"
   ]
  },
  {
   "cell_type": "markdown",
   "metadata": {
    "deletable": true,
    "editable": true
   },
   "source": [
    "6.8 习题: 挑战性习题：python语言老师为了激励学生学python，自费买了100个完全相同的Macbook Pro，分给三个班级，每个班级至少分5个，用穷举法计算共有多少种分法？"
   ]
  },
  {
   "cell_type": "code",
   "execution_count": 1,
   "metadata": {
    "collapsed": false,
    "deletable": true,
    "editable": true
   },
   "outputs": [
    {
     "name": "stdout",
     "output_type": "stream",
     "text": [
      "total: 3741\n"
     ]
    }
   ],
   "source": [
    "def compute_counts():  \n",
    "    num = 0\n",
    "    for i in range(5,100):\n",
    "        for j in range(5,100):\n",
    "            for k in range(5,100):\n",
    "                if i+j+k == 100:\n",
    "                    num += 1\n",
    "                    #print (i,j,k,sep = '--')\n",
    "    print ('total:',num)\n",
    "\n",
    "compute_counts()"
   ]
  }
 ],
 "metadata": {
  "kernelspec": {
   "display_name": "Python 3",
   "language": "python",
   "name": "python3"
  },
  "language_info": {
   "codemirror_mode": {
    "name": "ipython",
    "version": 3
   },
   "file_extension": ".py",
   "mimetype": "text/x-python",
   "name": "python",
   "nbconvert_exporter": "python",
   "pygments_lexer": "ipython3",
   "version": "3.6.0"
  }
 },
 "nbformat": 4,
 "nbformat_minor": 2
}
