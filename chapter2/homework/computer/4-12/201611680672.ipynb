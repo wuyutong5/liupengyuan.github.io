{
 "cells": [
  {
   "cell_type": "markdown",
   "metadata": {
    "deletable": true,
    "editable": true
   },
   "source": [
    "- 倒序打印用户输入的n个单词。"
   ]
  },
  {
   "cell_type": "code",
   "execution_count": 5,
   "metadata": {
    "collapsed": false,
    "deletable": true,
    "editable": true
   },
   "outputs": [
    {
     "name": "stdout",
     "output_type": "stream",
     "text": [
      "please enter an integer as the number of the word you want to enter. 11\n",
      "please enter a word. one\n",
      "please enter a word. two\n",
      "please enter a word. three\n",
      "please enter a word. four\n",
      "please enter a word. five\n",
      "please enter a word. six\n",
      "please enter a word. seven\n",
      "please enter a word. eight\n",
      "please enter a word. nine\n",
      "please enter a word. ten\n",
      "please enter a word. eleven\n",
      "eleven\n",
      "ten\n",
      "nine\n",
      "eight\n",
      "seven\n",
      "six\n",
      "five\n",
      "four\n",
      "three\n",
      "two\n"
     ]
    }
   ],
   "source": [
    "words=[]\n",
    "i=0\n",
    "n=int(input('please enter an integer as the number of the word you want to enter. '))\n",
    "\n",
    "while i < n :\n",
    "    words.append(input('please enter a word. '))\n",
    "    i+=1\n",
    "\n",
    "for i in range (n-1,n-11,-1):\n",
    "    print(words[i])\n"
   ]
  },
  {
   "cell_type": "markdown",
   "metadata": {
    "deletable": true,
    "editable": true
   },
   "source": [
    "- 蒙特卡洛方法求π的值"
   ]
  },
  {
   "cell_type": "code",
   "execution_count": 11,
   "metadata": {
    "collapsed": false,
    "deletable": true,
    "editable": true,
    "scrolled": true
   },
   "outputs": [
    {
     "name": "stdout",
     "output_type": "stream",
     "text": [
      "please enter times. 50000\n",
      "3.14504\n"
     ]
    }
   ],
   "source": [
    "import random\n",
    "\n",
    "def mentekaluo_pi (n):\n",
    "    inside_number=0\n",
    "    for i in range (n):\n",
    "        x,y=random.random(),random.random()\n",
    "        if x*x+y*y<=1 :\n",
    "            inside_number+=1\n",
    "    return 4*inside_number/n\n",
    "\n",
    "n=int(input('please enter times. '))\n",
    "pi=mentekaluo_pi(n)\n",
    "print(pi)"
   ]
  },
  {
   "cell_type": "code",
   "execution_count": 14,
   "metadata": {
    "collapsed": false,
    "deletable": true,
    "editable": true
   },
   "outputs": [
    {
     "name": "stdout",
     "output_type": "stream",
     "text": [
      "|1x1= 1| \n",
      "---------------------------------------------------------------------------------------------------------------------------\n",
      "|2x1= 2| |2x2= 4| \n",
      "---------------------------------------------------------------------------------------------------------------------------\n",
      "|3x1= 3| |3x2= 6| |3x3= 9| \n",
      "---------------------------------------------------------------------------------------------------------------------------\n",
      "|4x1= 4| |4x2= 8| |4x3=12| |4x4=16| \n",
      "---------------------------------------------------------------------------------------------------------------------------\n",
      "|5x1= 5| |5x2=10| |5x3=15| |5x4=20| |5x5=25| \n",
      "---------------------------------------------------------------------------------------------------------------------------\n",
      "|6x1= 6| |6x2=12| |6x3=18| |6x4=24| |6x5=30| |6x6=36| \n",
      "---------------------------------------------------------------------------------------------------------------------------\n",
      "|7x1= 7| |7x2=14| |7x3=21| |7x4=28| |7x5=35| |7x6=42| |7x7=49| \n",
      "---------------------------------------------------------------------------------------------------------------------------\n",
      "|8x1= 8| |8x2=16| |8x3=24| |8x4=32| |8x5=40| |8x6=48| |8x7=56| |8x8=64| \n",
      "---------------------------------------------------------------------------------------------------------------------------\n",
      "|9x1= 9| |9x2=18| |9x3=27| |9x4=36| |9x5=45| |9x6=54| |9x7=63| |9x8=72| |9x9=81| \n",
      "---------------------------------------------------------------------------------------------------------------------------\n"
     ]
    }
   ],
   "source": [
    "#9*9 乘法表\n",
    "for i in range(1, 10):\n",
    "    j=1\n",
    "    while j <= i :\n",
    "        print('|{}x{}={:2}| '.format(i, j, i*j), end = '')\n",
    "        j+=1\n",
    "    print()\n",
    "    print('---------------------------------------------------------------------------------------------------------------------------')"
   ]
  },
  {
   "cell_type": "markdown",
   "metadata": {
    "deletable": true,
    "editable": true
   },
   "source": [
    "- 将前面几章用while循环的习题，用for循环实现，并尽量写成函数。\n",
    "- 1.可求m!+n!+k!\n",
    "- 2.写函数可返回1 - 1/3 + 1/5 - 1/7...的前n项的和。在主程序中，分别令n=1000及100000，打印4倍该函数的和。"
   ]
  },
  {
   "cell_type": "code",
   "execution_count": 17,
   "metadata": {
    "collapsed": false,
    "deletable": true,
    "editable": true
   },
   "outputs": [
    {
     "name": "stdout",
     "output_type": "stream",
     "text": [
      "please enter an integer. 3\n",
      "please enter an integer. 3\n",
      "please enter an integer. 3\n",
      "18\n"
     ]
    }
   ],
   "source": [
    "#1\n",
    "def factorial (m):\n",
    "    result=1\n",
    "    for i in range(1,m+1,1):\n",
    "        result*=i\n",
    "    return result\n",
    "m=int(input('please enter an integer. '))\n",
    "n=int(input('please enter an integer. '))\n",
    "k=int(input('please enter an integer. '))\n",
    "\n",
    "total=factorial(m)+factorial(n)+factorial(k)\n",
    "print(total)"
   ]
  },
  {
   "cell_type": "code",
   "execution_count": 2,
   "metadata": {
    "collapsed": false
   },
   "outputs": [
    {
     "name": "stdout",
     "output_type": "stream",
     "text": [
      "3.140592653839794\n",
      "3.1415826535897198\n"
     ]
    }
   ],
   "source": [
    "# 2\n",
    "def calculate (n):\n",
    "    sum=0\n",
    "    for i in range (1,n+1,1) :\n",
    "        if i%2==0 :\n",
    "            sum-=1/(i*2-1)\n",
    "        else :\n",
    "            sum+=1/(i*2-1)\n",
    "    return sum\n",
    "\n",
    "\n",
    "print(4*calculate(1000))\n",
    "print(4*calculate(100000))"
   ]
  },
  {
   "cell_type": "markdown",
   "metadata": {
    "deletable": true,
    "editable": true
   },
   "source": [
    "- 写函数，返回一个list中所有数字的和"
   ]
  },
  {
   "cell_type": "code",
   "execution_count": 8,
   "metadata": {
    "collapsed": false,
    "deletable": true,
    "editable": true
   },
   "outputs": [
    {
     "name": "stdout",
     "output_type": "stream",
     "text": [
      "The sum of the number in the list is : 26\n"
     ]
    }
   ],
   "source": [
    "def sum_list (mylist):\n",
    "    mysum=sum(mylist)\n",
    "    return mysum\n",
    "\n",
    "number=[1,2,3,6,5,9]\n",
    "print('The sum of the number in the list is :',sum_list(number))"
   ]
  },
  {
   "cell_type": "markdown",
   "metadata": {
    "deletable": true,
    "editable": true
   },
   "source": [
    "- 写函数，返回一个list中最小的数"
   ]
  },
  {
   "cell_type": "code",
   "execution_count": 7,
   "metadata": {
    "collapsed": false,
    "deletable": true,
    "editable": true
   },
   "outputs": [
    {
     "name": "stdout",
     "output_type": "stream",
     "text": [
      "The smallest number in the list is : 1\n"
     ]
    }
   ],
   "source": [
    "def find_min (mylist):\n",
    "    mymin=min(mylist)\n",
    "    return mymin\n",
    "\n",
    "number=[1,2,3,6,5,9]\n",
    "print('The smallest number in the list is :',find_min(number))"
   ]
  },
  {
   "cell_type": "markdown",
   "metadata": {
    "deletable": true,
    "editable": true
   },
   "source": [
    "- 写函数，返回某个元素/对象在一个list中的位置，如果不在，则返回-1."
   ]
  },
  {
   "cell_type": "code",
   "execution_count": 13,
   "metadata": {
    "collapsed": false,
    "deletable": true,
    "editable": true
   },
   "outputs": [
    {
     "name": "stdout",
     "output_type": "stream",
     "text": [
      "plesase enter an integer. 3\n",
      "3 在列表中的位置为第： 3 个\n"
     ]
    }
   ],
   "source": [
    "def find_pos (mylist,m):\n",
    "    pos=-1\n",
    "    for i in range(len(mylist)) :\n",
    "        if m==mylist[i] :\n",
    "             pos=i\n",
    "    return pos\n",
    "    \n",
    "number=[1,2,3,4,5,6,7,8,9]\n",
    "i=int(input('plesase enter an integer. '))\n",
    "pos=find_pos(number,i)\n",
    "if pos==-1:\n",
    "    print(i,'不在列表中。')\n",
    "else :\n",
    "    print(i,'在列表中的位置为第：',pos+1,'个')"
   ]
  },
  {
   "cell_type": "markdown",
   "metadata": {
    "deletable": true,
    "editable": true
   },
   "source": [
    "- 练习二：写函数，可求两个向量的夹角余弦值，向量可放在list中。主程序调用该函数。"
   ]
  },
  {
   "cell_type": "code",
   "execution_count": 1,
   "metadata": {
    "collapsed": false,
    "deletable": true,
    "editable": true
   },
   "outputs": [
    {
     "name": "stdout",
     "output_type": "stream",
     "text": [
      "请输入向量a的一个坐标值，以f 结束2\n",
      "请输入向量a的一个坐标值，以f 结束2\n",
      "请输入向量a的一个坐标值，以f 结束f\n",
      "请输入向量b的一个坐标值，以f 结束1\n",
      "请输入向量b的一个坐标值，以f 结束1\n",
      "请输入向量b的一个坐标值，以f 结束f\n",
      "这两个向量夹角的余弦值是： 1.0\n"
     ]
    }
   ],
   "source": [
    "import math\n",
    "def calculate_cos(a,b):\n",
    "    moa=0\n",
    "    mob=0\n",
    "    s=0\n",
    "    for x in a :\n",
    "        moa+=x*x\n",
    "    for y in b :\n",
    "        mob+=y*y\n",
    "    for i in range(len(a)) :\n",
    "        s+=a[i]*b[i]\n",
    "    cos=s/(math.sqrt(moa*mob))\n",
    "    return cos\n",
    "a=[]\n",
    "b=[]\n",
    "while True :\n",
    "    x=input('请输入向量a的一个坐标值，以f 结束')\n",
    "    if x=='f' :\n",
    "        break\n",
    "    a.append(int(x))\n",
    "while True :\n",
    "    y=input('请输入向量b的一个坐标值，以f 结束')\n",
    "    if y=='f' :\n",
    "        break\n",
    "    b.append(int(y)) \n",
    "print('这两个向量夹角的余弦值是：',calculate_cos(a,b) )\n"
   ]
  },
  {
   "cell_type": "markdown",
   "metadata": {
    "deletable": true,
    "editable": true
   },
   "source": [
    "- 挑战性习题：python语言老师为了激励学生学python，自费买了100个完全相同的Macbook Pro，分给三个班级，每个班级至少分5个，用穷举法计算共有多少种分法？"
   ]
  },
  {
   "cell_type": "code",
   "execution_count": 3,
   "metadata": {
    "collapsed": false
   },
   "outputs": [
    {
     "name": "stdout",
     "output_type": "stream",
     "text": [
      "2766\n"
     ]
    }
   ],
   "source": [
    "method=0\n",
    "for i in range (5,66,1):\n",
    "    for j in range (5,66,1):\n",
    "        for k in range(5,66,1) :\n",
    "            if i+j+k==100 :\n",
    "                method+=1\n",
    "print(method)"
   ]
  }
 ],
 "metadata": {
  "kernelspec": {
   "display_name": "Python 3",
   "language": "python",
   "name": "python3"
  },
  "language_info": {
   "codemirror_mode": {
    "name": "ipython",
    "version": 3
   },
   "file_extension": ".py",
   "mimetype": "text/x-python",
   "name": "python",
   "nbconvert_exporter": "python",
   "pygments_lexer": "ipython3",
   "version": "3.6.0"
  }
 },
 "nbformat": 4,
 "nbformat_minor": 2
}
