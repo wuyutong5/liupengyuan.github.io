{
 "cells": [
  {
   "cell_type": "markdown",
   "metadata": {},
   "source": [
    "写函数，返回一个list中所有数字的和"
   ]
  },
  {
   "cell_type": "code",
   "execution_count": 3,
   "metadata": {
    "collapsed": false
   },
   "outputs": [
    {
     "name": "stdout",
     "output_type": "stream",
     "text": [
      "55\n"
     ]
    }
   ],
   "source": [
    "numbers=[1,2,3,4,5,6,7,8,9,10]\n",
    "total=0\n",
    "i=0\n",
    "for i in numbers:\n",
    "    total+=i\n",
    "print (total)    "
   ]
  },
  {
   "cell_type": "markdown",
   "metadata": {},
   "source": [
    "写函数，返回一个list中的最小值"
   ]
  },
  {
   "cell_type": "code",
   "execution_count": 4,
   "metadata": {
    "collapsed": false
   },
   "outputs": [
    {
     "name": "stdout",
     "output_type": "stream",
     "text": [
      "5\n"
     ]
    }
   ],
   "source": [
    "numbers=[121,25,38,47,5,68,72,81,99,10]\n",
    "min_num=10086\n",
    "i=0\n",
    "for i in numbers:\n",
    "    if(i<min_num):\n",
    "        min_num=i\n",
    "print (min_num)"
   ]
  },
  {
   "cell_type": "markdown",
   "metadata": {},
   "source": [
    "写函数，返回某个元素/对象在一个list中的位置，如果不在，则返回-1"
   ]
  },
  {
   "cell_type": "code",
   "execution_count": 5,
   "metadata": {
    "collapsed": false
   },
   "outputs": [
    {
     "name": "stdout",
     "output_type": "stream",
     "text": [
      "plz input a num you want:38\n",
      "No 3\n"
     ]
    }
   ],
   "source": [
    "numbers=[121,25,38,47,5,68,72,81,99,10]\n",
    "n=int(input(\"plz input a num you want:\"))\n",
    "count=0\n",
    "\n",
    "for i in numbers:\n",
    "    count+=1\n",
    "\n",
    "    if(i==n):\n",
    "        print('No',count)\n",
    "        break\n",
    "    if(count>=len(numbers)):\n",
    "        print ('-1')       "
   ]
  },
  {
   "cell_type": "markdown",
   "metadata": {},
   "source": [
    "写函数，可求两个向量的夹角余弦值，向量可放在list中。主程序调用该函数。"
   ]
  },
  {
   "cell_type": "code",
   "execution_count": 14,
   "metadata": {
    "collapsed": false
   },
   "outputs": [
    {
     "name": "stdout",
     "output_type": "stream",
     "text": [
      "plz input x1:2\n",
      "plz input x2:3\n",
      "plz input y1:4\n",
      "plz input y2:5\n",
      "2.2980063616172774\n"
     ]
    }
   ],
   "source": [
    "import math\n",
    "def vector(i,j,n,m):\n",
    "    print ((i*n+j*m) /(math.sqrt(i*i+j*j) + math.sqrt(n*n+m*m) ))\n",
    "x1=int(input('plz input x1:'))\n",
    "x2=int(input('plz input x2:'))\n",
    "y1=int(input('plz input y1:'))\n",
    "y2=int(input('plz input y2:'))\n",
    "vector(x1,x2,y1,y2)"
   ]
  },
  {
   "cell_type": "markdown",
   "metadata": {},
   "source": [
    "挑战性习题：python语言老师为了激励学生学python，自费买了100个完全相同的Macbook Pro，分给三个班级，每个班级至少分5个，用穷举法计算共有多少种分法"
   ]
  },
  {
   "cell_type": "code",
   "execution_count": 17,
   "metadata": {
    "collapsed": false
   },
   "outputs": [
    {
     "name": "stdout",
     "output_type": "stream",
     "text": [
      "160\n"
     ]
    }
   ],
   "source": [
    "a=5\n",
    "b=5\n",
    "c=100-a-b\n",
    "count=0\n",
    "for i in range(5,85):\n",
    "    b+=i\n",
    "    count +=1\n",
    "for j in range(5,85):\n",
    "    count +=1\n",
    "print(count)"
   ]
  }
 ],
 "metadata": {
  "kernelspec": {
   "display_name": "Python 3",
   "language": "python",
   "name": "python3"
  },
  "language_info": {
   "codemirror_mode": {
    "name": "ipython",
    "version": 3
   },
   "file_extension": ".py",
   "mimetype": "text/x-python",
   "name": "python",
   "nbconvert_exporter": "python",
   "pygments_lexer": "ipython3",
   "version": "3.6.0"
  }
 },
 "nbformat": 4,
 "nbformat_minor": 2
}
