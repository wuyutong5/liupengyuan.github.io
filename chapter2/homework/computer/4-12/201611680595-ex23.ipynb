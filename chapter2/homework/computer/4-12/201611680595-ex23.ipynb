{
 "cells": [
  {
   "cell_type": "code",
   "execution_count": 22,
   "metadata": {
    "collapsed": false
   },
   "outputs": [
    {
     "name": "stdout",
     "output_type": "stream",
     "text": [
      "40\n"
     ]
    }
   ],
   "source": [
    "#写函数，返回一个list中所有数字的和\n",
    "\n",
    "def sum_in_list():\n",
    "    numbers = [2,5,4,3,6,7,8,2,3]\n",
    "    i = 0\n",
    "    total = 0\n",
    "    for i in numbers:\n",
    "        total += i\n",
    "        i += 1\n",
    "    return total\n",
    "\n",
    "print(sum_in_list())\n",
    "        "
   ]
  },
  {
   "cell_type": "code",
   "execution_count": 24,
   "metadata": {
    "collapsed": false
   },
   "outputs": [
    {
     "name": "stdout",
     "output_type": "stream",
     "text": [
      "2\n"
     ]
    }
   ],
   "source": [
    "#写函数，返回一个list中的最小值\n",
    "\n",
    "def minimum():\n",
    "    numbers = [2,4,45,6,43,23,4,5,76]\n",
    "    i = 0\n",
    "    min = numbers[i]\n",
    "    i += 1\n",
    "    while i < 8:        #observed\n",
    "        if min > numbers[i]:\n",
    "            temp = min\n",
    "            min = numbers[i]\n",
    "            numbers[i] = temp\n",
    "        i += 1\n",
    "    return min\n",
    "\n",
    "print(minimum())\n",
    "        \n",
    "        \n",
    "        "
   ]
  },
  {
   "cell_type": "code",
   "execution_count": 28,
   "metadata": {
    "collapsed": false
   },
   "outputs": [
    {
     "name": "stdout",
     "output_type": "stream",
     "text": [
      "please enter an element you like, end with a tab: 8\n",
      "-1\n"
     ]
    }
   ],
   "source": [
    "#写函数，返回某个元素/对象在一个list中的位置，如果不在，则返回-1.\n",
    "\n",
    "def place(n):\n",
    "    n = int(input(\"please enter an element you like, end with a tab: \"))\n",
    "    numbers = [2,3,43,54,67,6,4,2,2,7,5,4,3,2]\n",
    "    location = 0\n",
    "    if n in numbers:\n",
    "        i = 0\n",
    "        if n == numbers[i]:\n",
    "            location = i\n",
    "        else :\n",
    "            i += 1\n",
    "            \n",
    "    else :\n",
    "        location = -1\n",
    "        \n",
    "    return location\n",
    "\n",
    "print(place(n))\n",
    "    \n",
    "            "
   ]
  }
 ],
 "metadata": {
  "kernelspec": {
   "display_name": "Python 3",
   "language": "python",
   "name": "python3"
  },
  "language_info": {
   "codemirror_mode": {
    "name": "ipython",
    "version": 3
   },
   "file_extension": ".py",
   "mimetype": "text/x-python",
   "name": "python",
   "nbconvert_exporter": "python",
   "pygments_lexer": "ipython3",
   "version": "3.6.0"
  }
 },
 "nbformat": 4,
 "nbformat_minor": 2
}
