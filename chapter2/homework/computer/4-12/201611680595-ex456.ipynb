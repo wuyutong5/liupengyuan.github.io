{
 "cells": [
  {
   "cell_type": "code",
   "execution_count": 14,
   "metadata": {
    "collapsed": false
   },
   "outputs": [
    {
     "ename": "SyntaxError",
     "evalue": "invalid syntax (<ipython-input-14-83ae6fbb92da>, line 10)",
     "output_type": "error",
     "traceback": [
      "\u001b[1;36m  File \u001b[1;32m\"<ipython-input-14-83ae6fbb92da>\"\u001b[1;36m, line \u001b[1;32m10\u001b[0m\n\u001b[1;33m    for n in numbers :\u001b[0m\n\u001b[1;37m                     ^\u001b[0m\n\u001b[1;31mSyntaxError\u001b[0m\u001b[1;31m:\u001b[0m invalid syntax\n"
     ]
    }
   ],
   "source": [
    "#写函数，返回某个元素/对象在一个list中的位置，如果不在，则返回-1.\n",
    "\n",
    "def place():\n",
    "    \n",
    "    numbers = ['3','ert','34','3','f','3','5','r345','d','rtr','we','26']\n",
    "    i = 0\n",
    "    n = char(input(\"please enter an element,end with a tab: \")\n",
    "    \n",
    "\n",
    "    for n in numbers : \n",
    "        if numbers[i] == n :\n",
    "             print(\"the place is: \",i+1)\n",
    "             i = i+1\n",
    "        else :\n",
    "             i = i+1\n",
    "    else :\n",
    "        i = -1\n",
    "             \n",
    "    return i\n",
    "             \n",
    "print(place())\n",
    "             \n",
    "\n",
    "             "
   ]
  },
  {
   "cell_type": "code",
   "execution_count": 18,
   "metadata": {
    "collapsed": false
   },
   "outputs": [
    {
     "ename": "SyntaxError",
     "evalue": "invalid syntax (<ipython-input-18-7424f6ed3415>, line 14)",
     "output_type": "error",
     "traceback": [
      "\u001b[1;36m  File \u001b[1;32m\"<ipython-input-18-7424f6ed3415>\"\u001b[1;36m, line \u001b[1;32m14\u001b[0m\n\u001b[1;33m    for i < 2:\u001b[0m\n\u001b[1;37m          ^\u001b[0m\n\u001b[1;31mSyntaxError\u001b[0m\u001b[1;31m:\u001b[0m invalid syntax\n"
     ]
    }
   ],
   "source": [
    "#写函数，可求两个向量的夹角余弦值，向量可放在list中。主程序调用该函数。\n",
    "import math\n",
    "\n",
    "def cosine():\n",
    "    vector1 = []\n",
    "    vector2 = []\n",
    "    i = 0\n",
    "    x1 = 0\n",
    "    x2 = 0\n",
    "    y1 = 0\n",
    "    y2 = 0\n",
    "    cos = 0\n",
    "    \n",
    "    for i < 2:\n",
    "        vector1.append(i)\n",
    "        vector2.append(i)\n",
    "        i += 1\n",
    "        \n",
    "    x1 = vector1[0]\n",
    "    y1 = vector1[1]\n",
    "    x2 = vector2[0]\n",
    "    y2 = vector2[1]\n",
    "        \n",
    "    m1 = sqrt(x1*x1+y1*y1)\n",
    "    m2 = sqrt(x2*x2+y2*y2)\n",
    "    cos = (x1*x2 + y1*y2)/(m1*m2)\n",
    "    \n",
    "    return cos\n",
    "\n",
    "print(cosine())\n",
    "    \n",
    "    \n",
    "    "
   ]
  },
  {
   "cell_type": "code",
   "execution_count": 5,
   "metadata": {
    "collapsed": false
   },
   "outputs": [
    {
     "ename": "SyntaxError",
     "evalue": "invalid syntax (<ipython-input-5-bd0c1eede77c>, line 12)",
     "output_type": "error",
     "traceback": [
      "\u001b[1;36m  File \u001b[1;32m\"<ipython-input-5-bd0c1eede77c>\"\u001b[1;36m, line \u001b[1;32m12\u001b[0m\n\u001b[1;33m    for i >= 0 and i <= 85:\u001b[0m\n\u001b[1;37m           ^\u001b[0m\n\u001b[1;31mSyntaxError\u001b[0m\u001b[1;31m:\u001b[0m invalid syntax\n"
     ]
    }
   ],
   "source": [
    "#挑战性习题：python语言老师为了激励学生学python，自费买了100个完全相同的Macbook Pro，分给三个班级，每个班级至少分5个\n",
    "#用穷举法计算共有多少种分法？\n",
    "\n",
    "def method():\n",
    "    n1 = 5\n",
    "    n2 = 5\n",
    "    n3 = 5\n",
    "    i = 0\n",
    "    j = 85\n",
    "    k = (85-i-j)\n",
    "    \n",
    "    for (i >= 0) and (i <= 85):\n",
    "        for (j >= 0） and (j <= 85）:\n",
    "            for （k >= 0） and (k <= 85）:\n",
    "                n1 = n1 + i\n",
    "                n2 = n2 + j\n",
    "                n3 = n3 + k\n",
    "                i = i+1\n",
    "                j = j-1\n",
    "                print(\"class1: \",n1)\n",
    "                print(\"class2: \",n2)\n",
    "                print(\"class3: \",n3)\n",
    "\n",
    "method()"
   ]
  }
 ],
 "metadata": {
  "kernelspec": {
   "display_name": "Python 3",
   "language": "python",
   "name": "python3"
  },
  "language_info": {
   "codemirror_mode": {
    "name": "ipython",
    "version": 3
   },
   "file_extension": ".py",
   "mimetype": "text/x-python",
   "name": "python",
   "nbconvert_exporter": "python",
   "pygments_lexer": "ipython3",
   "version": "3.6.0"
  }
 },
 "nbformat": 4,
 "nbformat_minor": 2
}
