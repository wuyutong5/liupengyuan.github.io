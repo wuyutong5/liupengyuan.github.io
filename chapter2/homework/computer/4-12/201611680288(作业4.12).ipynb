{
 "cells": [
  {
   "cell_type": "code",
   "execution_count": 7,
   "metadata": {
    "collapsed": false
   },
   "outputs": [
    {
     "name": "stdout",
     "output_type": "stream",
     "text": [
      "请输入你要输入的整数个数，以回车结束4\n",
      "请输入一个整数1\n",
      "请输入一个整数2\n",
      "请输入一个整数3\n",
      "请输入一个整数4\n",
      "[1, 2, 3, 4]\n",
      "1\n"
     ]
    }
   ],
   "source": [
    "#写函数，返回一个LIST 中的最小值\n",
    "n=int(input('请输入list的元素个数，以回车结束'))\n",
    "a=[]\n",
    "i=0\n",
    "while i<n:\n",
    "    a.append(int(input('请输入一个整数')))\n",
    "    i=i+1\n",
    "print(a)\n",
    "\n",
    "print(min(a))"
   ]
  },
  {
   "cell_type": "code",
   "execution_count": 9,
   "metadata": {
    "collapsed": false
   },
   "outputs": [
    {
     "name": "stdout",
     "output_type": "stream",
     "text": [
      "请输入list的元素个数，以回车结束4\n",
      "请输入一个整数1\n",
      "请输入一个整数2\n",
      "请输入一个整数3\n",
      "请输入一个整数4\n",
      "[1, 2, 3, 4]\n",
      "10\n"
     ]
    }
   ],
   "source": [
    "#写函数，返回一个LIST 中所有数字的和\n",
    "def sum_list(numbers):\n",
    "    sum=0\n",
    "    for i in  numbers:\n",
    "        sum+=i\n",
    "    return sum\n",
    "\n",
    "numbers=[]\n",
    "n=int(input('请输入list的元素个数，以回车结束'))\n",
    "i=0\n",
    "while i<n:\n",
    "    numbers.append(int(input('请输入一个整数')))\n",
    "    i=i+1\n",
    "print(numbers)\n",
    "\n",
    "print(sum_list(numbers))"
   ]
  },
  {
   "cell_type": "code",
   "execution_count": 14,
   "metadata": {
    "collapsed": false
   },
   "outputs": [
    {
     "name": "stdout",
     "output_type": "stream",
     "text": [
      "请输入list的元素个数，以回车结束3\n",
      "请输入一个整数1\n",
      "请输入一个整数2\n",
      "请输入一个整数3\n",
      "[1, 2, 3]\n",
      "请输入要判断的一个整数，以回车结束4\n",
      "-1\n"
     ]
    }
   ],
   "source": [
    "#写函数，返回某个元素在list中的位置，如果不在，则返回-1\n",
    "def location_a(a):\n",
    "    if k in a:\n",
    "        i=0\n",
    "        while i<n:\n",
    "            if k==a[i]:\n",
    "                return i+1\n",
    "            i+=1\n",
    "            \n",
    "    if k not in a:\n",
    "        return -1\n",
    "\n",
    "\n",
    "n=int(input('请输入list的元素个数，以回车结束'))\n",
    "a=[]\n",
    "i=0\n",
    "while i<n:\n",
    "    a.append(int(input('请输入一个整数')))\n",
    "    i=i+1\n",
    "print(a)\n",
    "\n",
    "k=int(input('请输入要判断的一个整数，以回车结束'))           \n",
    "print(location_a(a))"
   ]
  },
  {
   "cell_type": "code",
   "execution_count": 18,
   "metadata": {
    "collapsed": false
   },
   "outputs": [
    {
     "name": "stdout",
     "output_type": "stream",
     "text": [
      "请输入向量所在空间的维数，2或3: 2\n",
      "请输入向量a的一个坐标1\n",
      "请输入向量a的一个坐标1\n",
      "请输入x坐标1\n",
      "请输入x坐标0\n",
      "a=  [1, 1] b=  [1, 0]\n",
      "[1, 1] 和  [1, 0] 夹角的余弦值是:  0.7071067811865475\n"
     ]
    }
   ],
   "source": [
    "#写函数，可求两个向量的夹角余弦值，向量可放在list中\n",
    "def cosx(a,b):\n",
    "    if len(a)==len(b):\n",
    "        aCb=0\n",
    "        a2=0\n",
    "        b2=0\n",
    "        for i in range(len(a)):\n",
    "            aCb+=a[i]*b[i]\n",
    "            a2+=a[i]**2\n",
    "            b2+=b[i]**2\n",
    "        print(a,'和 ',b,'夹角的余弦值是: ',aCb/((a2* b2)**0.5))\n",
    "        \n",
    "\n",
    "a=[]\n",
    "b=[]\n",
    "n=int(input('请输入向量所在空间的维数，2或3: '))\n",
    "j=0\n",
    "for i in range(n):\n",
    "     for j in range(n):\n",
    "            if i==0:\n",
    "                a.append(int(input('请输入向量a的一个坐标')))\n",
    "            else:\n",
    "                b.append(int(input('请输入x坐标')))\n",
    "                \n",
    "print('a= ',a,'b= ',b)\n",
    "cosx(a,b)"
   ]
  },
  {
   "cell_type": "code",
   "execution_count": 20,
   "metadata": {
    "collapsed": false
   },
   "outputs": [
    {
     "name": "stdout",
     "output_type": "stream",
     "text": [
      "3741\n"
     ]
    }
   ],
   "source": [
    "#挑战性习题\n",
    "n=0\n",
    "for i in  range(5,91):\n",
    "    for j in  range(5,91):\n",
    "        for k in  range(5,91):\n",
    "            if 100==i+j+k:\n",
    "                n=n+1\n",
    "print(n)\n"
   ]
  }
 ],
 "metadata": {
  "kernelspec": {
   "display_name": "Python 3",
   "language": "python",
   "name": "python3"
  },
  "language_info": {
   "codemirror_mode": {
    "name": "ipython",
    "version": 3
   },
   "file_extension": ".py",
   "mimetype": "text/x-python",
   "name": "python",
   "nbconvert_exporter": "python",
   "pygments_lexer": "ipython3",
   "version": "3.6.0"
  }
 },
 "nbformat": 4,
 "nbformat_minor": 2
}
