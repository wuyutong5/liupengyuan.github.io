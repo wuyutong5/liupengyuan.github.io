{
 "cells": [
  {
   "cell_type": "code",
   "execution_count": 1,
   "metadata": {
    "collapsed": false,
    "deletable": true,
    "editable": true
   },
   "outputs": [
    {
     "name": "stdout",
     "output_type": "stream",
     "text": [
      "请输入一个数\n",
      "5\n",
      "120\n"
     ]
    }
   ],
   "source": [
    "n=int(input(\"请输入一个数\\n\"))\n",
    "sum=1\n",
    "i=1\n",
    "for i in range(n):\n",
    "    sum*=(i+1)\n",
    "print(sum)"
   ]
  },
  {
   "cell_type": "markdown",
   "metadata": {
    "deletable": true,
    "editable": true
   },
   "source": [
    "### *如何无限循环*"
   ]
  },
  {
   "cell_type": "code",
   "execution_count": 2,
   "metadata": {
    "collapsed": false,
    "deletable": true,
    "editable": true
   },
   "outputs": [
    {
     "name": "stdout",
     "output_type": "stream",
     "text": [
      "请输入一个整数，输入0表示结束\n",
      "2\n",
      "请输入一个整数,输入0表示结束\n",
      "5\n",
      "请输入一个整数,输入0表示结束\n",
      "0\n",
      "7\n"
     ]
    }
   ],
   "source": [
    "sum=0\n",
    "m=int(input(\"请输入一个整数，输入0表示结束\\n\"))\n",
    "for i in range(1000):  \n",
    "    sum=sum+m\n",
    "    m=int(input(\"请输入一个整数,输入0表示结束\\n\"))\n",
    "    if(m==0):\n",
    "        break\n",
    "print(sum)"
   ]
  },
  {
   "cell_type": "code",
   "execution_count": 3,
   "metadata": {
    "collapsed": false,
    "deletable": true,
    "editable": true
   },
   "outputs": [
    {
     "name": "stdout",
     "output_type": "stream",
     "text": [
      "请输入一个整数，以回车结束3\n",
      "请输入一个整数,以回车结束\n",
      "1\n",
      "积为 3\n"
     ]
    }
   ],
   "source": [
    "m=int(input(\"请输入一个整数，以回车结束\"))\n",
    "sum=m\n",
    "mul=m\n",
    "for i in range(1000):\n",
    "    if(m<=sum and mul>=m**2):\n",
    "        sum=sum+m\n",
    "        mul=mul*m\n",
    "        break\n",
    "    m=int(input(\"请输入一个整数,以回车结束\\n\"))\n",
    "print(\"积为\",mul)"
   ]
  },
  {
   "cell_type": "code",
   "execution_count": 4,
   "metadata": {
    "collapsed": false,
    "deletable": true,
    "editable": true
   },
   "outputs": [
    {
     "name": "stdout",
     "output_type": "stream",
     "text": [
      "Please enter the rows of blank places4\n",
      "\n",
      "\n",
      "\n",
      "\n",
      "end\n"
     ]
    }
   ],
   "source": [
    "m=int(input(\"Please enter the rows of blank places\"))\n",
    "i=0\n",
    "for i in range(m):\n",
    "    print()\n",
    "print(\"end\")"
   ]
  },
  {
   "cell_type": "code",
   "execution_count": 5,
   "metadata": {
    "collapsed": false,
    "deletable": true,
    "editable": true
   },
   "outputs": [
    {
     "name": "stdout",
     "output_type": "stream",
     "text": [
      "请输入要输入的整数个数，回车结束。6\n",
      "请输入一个整数，回车结束2\n",
      "请输入一个整数，回车结束5\n",
      "请输入一个整数，回车结束8\n",
      "请输入一个整数，回车结束7\n",
      "请输入一个整数，回车结束10\n",
      "请输入一个整数，回车结束4\n",
      "第二大的数为 8\n"
     ]
    }
   ],
   "source": [
    "m=int(input('请输入要输入的整数个数，回车结束。'))\n",
    "max1=int(input('请输入一个整数，回车结束'))\n",
    "max2=int(input('请输入一个整数，回车结束'))\n",
    "if max2>max1:\n",
    "    temp=max1\n",
    "    max1=max2\n",
    "    max2=temp\n",
    "for i in range(m-2):\n",
    "    n=int(input('请输入一个整数，回车结束'))\n",
    "    if n>max2 and n<max1:\n",
    "        max2=n\n",
    "    elif n>max1:\n",
    "        temp=max2\n",
    "        max2=max1\n",
    "        max1=n  \n",
    "print(\"第二大的数为\",max2)"
   ]
  },
  {
   "cell_type": "code",
   "execution_count": 6,
   "metadata": {
    "collapsed": false,
    "deletable": true,
    "editable": true
   },
   "outputs": [
    {
     "name": "stdout",
     "output_type": "stream",
     "text": [
      "请输入第1个整数，以回车结束。2\n",
      "请输入第2个整数，以回车结束。3\n",
      "请输入第3个整数，以回车结束。4\n",
      "最终的和是： 32\n"
     ]
    }
   ],
   "source": [
    "def fact (end):\n",
    "    j=1\n",
    "    for num in range(end):\n",
    "        j=(num+1)*j\n",
    "    return j\n",
    "n = int(input('请输入第1个整数，以回车结束。'))\n",
    "m = int(input('请输入第2个整数，以回车结束。'))\n",
    "k = int(input('请输入第3个整数，以回车结束。'))\n",
    "\n",
    "print('最终的和是：', fact(m) +  fact(n) +  fact(k))"
   ]
  },
  {
   "cell_type": "code",
   "execution_count": 7,
   "metadata": {
    "collapsed": false,
    "deletable": true,
    "editable": true
   },
   "outputs": [
    {
     "name": "stdout",
     "output_type": "stream",
     "text": [
      "请输入一个整数2\n",
      "最终的和为: 2.666666666666667\n",
      "最终的和为: 3.140592653839794\n",
      "最终的和为: 3.1415826535897198\n"
     ]
    }
   ],
   "source": [
    "def fun (end):\n",
    "    i=1\n",
    "    j=1\n",
    "    m=1\n",
    "    sum=0\n",
    "    for p in range(end):\n",
    "        m=j/i\n",
    "        i=i+2\n",
    "        j=-1*j\n",
    "        sum=sum+m\n",
    "    return sum\n",
    "n=int(input(\"请输入一个整数\"))\n",
    "print(\"最终的和为:\",4*fun(n))\n",
    "n=1000\n",
    "print(\"最终的和为:\",4*fun(n))\n",
    "n=100000\n",
    "print(\"最终的和为:\",4*fun(n))"
   ]
  },
  {
   "cell_type": "code",
   "execution_count": 8,
   "metadata": {
    "collapsed": false,
    "deletable": true,
    "editable": true
   },
   "outputs": [
    {
     "name": "stdout",
     "output_type": "stream",
     "text": [
      "plz enter an positive interger\n",
      "3\n",
      "plz enter an positive interger and bigger than a\n",
      "5\n",
      "plz enter an positive interger\n",
      "6\n",
      "The sum is 3\n"
     ]
    }
   ],
   "source": [
    "def total (m,n,k):\n",
    "    sum=0\n",
    "    for i in range(m,n,k):\n",
    "        sum=sum+i\n",
    "    return sum\n",
    "a=int(input(\"plz enter an positive interger\\n\"))\n",
    "b=int(input(\"plz enter an positive interger and bigger than a\\n\"))\n",
    "c=int(input(\"plz enter an positive interger\\n\"))\n",
    "print(\"The sum is\",total (a,b,c))"
   ]
  },
  {
   "cell_type": "code",
   "execution_count": null,
   "metadata": {
    "collapsed": false,
    "deletable": true,
    "editable": true
   },
   "outputs": [],
   "source": [
    "import math,random\n",
    "m=int(input(\"请输入一个整数作为上界\\n\"))\n",
    "k=int(input(\"请输入一个整数作为下界\\n\"))\n",
    "n=int(input(\"请输入你要随机生成的整数的个数\\n\"))\n",
    "def fun ():\n",
    "    i=0\n",
    "    total=0\n",
    "    for i in range (n):\n",
    "        num=random.randint(k,m)\n",
    "        print(\"第\",i+1,\"次随机生成的数为:\",num)\n",
    "        total=total+num\n",
    "    aver=total/n\n",
    "    root=math.sqrt(aver)\n",
    "    print(n,\"个平均数的平方根为\",root)\n",
    "fun()\n",
    "\n",
    "    "
   ]
  },
  {
   "cell_type": "code",
   "execution_count": null,
   "metadata": {
    "collapsed": false,
    "deletable": true,
    "editable": true
   },
   "outputs": [],
   "source": [
    "import math,random\n",
    "n=int(input(\"请输入你要随机生成的整数的个数\\n\"))\n",
    "max=int(input(\"请输入一个整数作为上界\\n\"))\n",
    "min=int(input(\"请输入一个整数作为下界\\n\"))\n",
    "i=0\n",
    "sum1=0\n",
    "sum2=0\n",
    "for i in range(n):\n",
    "    num=random.randint(min,max)\n",
    "    print(\"第\",i+1,\"次随机生成的数为\",num)\n",
    "    a=math.log10(num)\n",
    "    sum1=sum1+a\n",
    "    sum2=sum2+1/a\n",
    "    i+=1\n",
    "print(\"∑log(random,2)=\",sum1,\"∑1/log(random,2)=\",sum2)"
   ]
  },
  {
   "cell_type": "code",
   "execution_count": null,
   "metadata": {
    "collapsed": false,
    "deletable": true,
    "editable": true
   },
   "outputs": [],
   "source": [
    "import math,random\n",
    "n=int(input(\"请输入你要相加的数字的个数\\n\"))\n",
    "a=random.randint(1,9)\n",
    "print(\"本次随机生成的数为:\",a)\n",
    "b=math.pow(10,0)*a\n",
    "i=0\n",
    "sum=0\n",
    "for i in range(n):\n",
    "    sum=sum+b\n",
    "    print(b)\n",
    "    b=math.pow(10,i+1)*a+b\n",
    "    \n",
    "print(n,\"个数相加的和为\",sum)\n",
    "    "
   ]
  },
  {
   "cell_type": "code",
   "execution_count": 2,
   "metadata": {
    "collapsed": false,
    "deletable": true,
    "editable": true
   },
   "outputs": [
    {
     "name": "stdout",
     "output_type": "stream",
     "text": [
      "请输入一个整数，表示将要输入的数字个数，回车结束。\n",
      "1\n",
      "请输入一个整数:2\n",
      "和为 2\n"
     ]
    }
   ],
   "source": [
    "def total(m):\n",
    "    sum=0\n",
    "    numbers=[]\n",
    "    for i in  range(m):\n",
    "        n=int(input(\"请输入一个整数:\"))\n",
    "        numbers.append(n)\n",
    "    for i in range(m):\n",
    "        sum=sum+numbers[i]\n",
    "    return(sum)\n",
    "m = int(input('请输入一个整数，表示将要输入的数字个数，回车结束。\\n')) \n",
    "print (\"和为\",total(m))"
   ]
  },
  {
   "cell_type": "code",
   "execution_count": 6,
   "metadata": {
    "collapsed": false,
    "deletable": true,
    "editable": true
   },
   "outputs": [
    {
     "name": "stdout",
     "output_type": "stream",
     "text": [
      "请输入将要输入的数字的个数\n",
      "3\n",
      "请输入一个整数6\n",
      "请输入一个整数8\n",
      "请输入一个整数4\n",
      "[6, 8, 4]\n",
      "最小数为 4\n"
     ]
    }
   ],
   "source": [
    "def Min(a):\n",
    "    n=[]\n",
    "    for i in range(a):\n",
    "        num=int(input(\"请输入一个整数\"))\n",
    "        n.append(num)\n",
    "    min=n[i]\n",
    "    for i in range(a):\n",
    "        if n[i]<min:\n",
    "            min=n[i]\n",
    "    print(n)\n",
    "    return(min)\n",
    "a=int(input(\"请输入将要输入的数字的个数\\n\"))\n",
    "print(\"最小数为\",Min(a))"
   ]
  },
  {
   "cell_type": "code",
   "execution_count": null,
   "metadata": {
    "collapsed": false,
    "deletable": true,
    "editable": true
   },
   "outputs": [],
   "source": [
    "def find(m):\n",
    "    n=[1,2,5,7,8,9,10,15,18]\n",
    "    for i in range(len(n)):\n",
    "        if m!=n[i]:\n",
    "            continue\n",
    "        else: return(i+1)\n",
    "    if(i==len(n)-1):\n",
    "        if(m!=n[i]):\n",
    "            return(-1)\n",
    "m=int(input(\"请输入你要寻找的整数\"))\n",
    "a=find(m)\n",
    "if(a!=-1):\n",
    "    print(m,\"的位置是\",\"第\",a,\"个\")\n",
    "else: print(\"查无此数\")"
   ]
  },
  {
   "cell_type": "code",
   "execution_count": 12,
   "metadata": {
    "collapsed": false,
    "deletable": true,
    "editable": true
   },
   "outputs": [
    {
     "name": "stdout",
     "output_type": "stream",
     "text": [
      "Plz enter the deminsion of the vector:2\n",
      "Plz enter the number:1\n",
      "Plz enter the number:1\n",
      "Plz enter the number:1\n",
      "Plz enter the number:-1\n",
      "0.0\n"
     ]
    }
   ],
   "source": [
    "import math\n",
    "def cos(d):\n",
    "    product=0\n",
    "    len1=len2=0\n",
    "    Vector=[]\n",
    "    for i in range(2*d):\n",
    "        m=int(input(\"Plz enter the number:\"))\n",
    "        Vector.append(m)\n",
    "    for i in range(d):\n",
    "        product=Vector[i]*Vector[i+d]+product\n",
    "    for i in range(d):\n",
    "        len1=Vector[i]**2+len1\n",
    "        len2=Vector[i+d]**2+len2\n",
    "    cos=product/(math.sqrt(len1)*math.sqrt(len2))\n",
    "    return(cos)\n",
    "d=int(input(\"Plz enter the deminsion of the vector:\"))\n",
    "print(cos(d))"
   ]
  },
  {
   "cell_type": "code",
   "execution_count": 2,
   "metadata": {
    "collapsed": false,
    "deletable": true,
    "editable": true
   },
   "outputs": [
    {
     "name": "stdout",
     "output_type": "stream",
     "text": [
      "共 3738 种分法\n"
     ]
    }
   ],
   "source": [
    "num=0\n",
    "for i in range (5,90):\n",
    "    for j in range (5,90):\n",
    "        for p in range (5,90):\n",
    "            if(i+j+p==100):\n",
    "               ##print(\"分别分给三个班级\",i,j,p,\"个\")\n",
    "                num+=1\n",
    "print(\"共\",num,\"种分法\",sep=' ')"
   ]
  }
 ],
 "metadata": {
  "kernelspec": {
   "display_name": "Python 3",
   "language": "python",
   "name": "python3"
  },
  "language_info": {
   "codemirror_mode": {
    "name": "ipython",
    "version": 3
   },
   "file_extension": ".py",
   "mimetype": "text/x-python",
   "name": "python",
   "nbconvert_exporter": "python",
   "pygments_lexer": "ipython3",
   "version": "3.6.0"
  }
 },
 "nbformat": 4,
 "nbformat_minor": 2
}
