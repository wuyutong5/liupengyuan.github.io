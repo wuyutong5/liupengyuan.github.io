{
 "cells": [
  {
   "cell_type": "code",
   "execution_count": null,
   "metadata": {
    "collapsed": true,
    "deletable": true,
    "editable": true
   },
   "outputs": [],
   "source": [
    "import random\n",
    "def equal():\n",
    "    m=int(input('请输入整数下限:'))\n",
    "    k=int(input('请输入整数上限:'))\n",
    "    n=int(input('请输入整数个数:'))\n",
    "    i=0\n",
    "    total=0\n",
    "    for i in range(n+1):\n",
    "        x=random.randint(m,k)\n",
    "        total=total+x\n",
    "    print('所有随机数的均值为:',total/n)\n",
    "equal()"
   ]
  },
  {
   "cell_type": "code",
   "execution_count": 4,
   "metadata": {
    "collapsed": false,
    "deletable": true,
    "editable": true
   },
   "outputs": [
    {
     "name": "stdout",
     "output_type": "stream",
     "text": [
      "请输入数字个数:5\n",
      "请输入一个数字，回车结束。1\n",
      "请输入一个数字，回车结束。2\n",
      "请输入一个数字，回车结束。3\n",
      "请输入一个数字，回车结束。4\n",
      "请输入一个数字，回车结束。5\n",
      "1 2 3 4 5 \n",
      "所有数字的和为: 15\n"
     ]
    }
   ],
   "source": [
    "def task2():\n",
    "    numbers=[]\n",
    "    n=int(input('请输入数字个数:'))\n",
    "    total=0\n",
    "    i=0\n",
    "    for i in range(n):\n",
    "        num=int(input('请输入一个数字，回车结束。'))\n",
    "        numbers.append(num)\n",
    "        total+=numbers[i]\n",
    "    for numb in numbers:\n",
    "        print(numb,end=' ')\n",
    "    print()\n",
    "    print('所有数字的和为:',total)\n",
    "task2()"
   ]
  },
  {
   "cell_type": "code",
   "execution_count": 15,
   "metadata": {
    "collapsed": false,
    "deletable": true,
    "editable": true
   },
   "outputs": [
    {
     "name": "stdout",
     "output_type": "stream",
     "text": [
      "请输入数字个数:5\n",
      "请输入一个数字，回车结束。1\n",
      "请输入一个数字，回车结束。2\n",
      "请输入一个数字，回车结束。3\n",
      "请输入一个数字，回车结束。4\n",
      "请输入一个数字，回车结束。5\n",
      "最小的数为: 1\n"
     ]
    }
   ],
   "source": [
    "def task3():\n",
    "    t=numbers[0]\n",
    "    for numb in numbers:\n",
    "        if t>numbers[i]:\n",
    "            t=numbers[i]\n",
    "    print('最小的数为:',t)\n",
    "\n",
    "numbers=[]\n",
    "n=int(input('请输入数字个数:'))\n",
    "i=0\n",
    "for i in range(n):\n",
    "    num=int(input('请输入一个数字，回车结束。'))\n",
    "    numbers.append(num)\n",
    "task3()"
   ]
  },
  {
   "cell_type": "code",
   "execution_count": 16,
   "metadata": {
    "collapsed": false,
    "deletable": true,
    "editable": true
   },
   "outputs": [
    {
     "name": "stdout",
     "output_type": "stream",
     "text": [
      "请输入元素个数:5\n",
      "请输入一个元素，回车结束。a\n",
      "请输入一个元素，回车结束。s\n",
      "请输入一个元素，回车结束。d\n",
      "请输入一个元素，回车结束。f\n",
      "请输入一个元素，回车结束。g\n",
      "请随意输入一个元素：h\n",
      "-1\n"
     ]
    }
   ],
   "source": [
    "def task4():\n",
    "    if x in list:\n",
    "        print(i-1)\n",
    "    else:\n",
    "        print(-1)\n",
    "\n",
    "list=[]\n",
    "n=int(input('请输入元素个数:'))\n",
    "i=0\n",
    "for i in range(n):\n",
    "    ele=input('请输入一个元素，回车结束。')\n",
    "    list.append(ele)\n",
    "x=input('请随意输入一个元素：')\n",
    "task4()"
   ]
  },
  {
   "cell_type": "code",
   "execution_count": 18,
   "metadata": {
    "collapsed": false,
    "deletable": true,
    "editable": true
   },
   "outputs": [
    {
     "name": "stdout",
     "output_type": "stream",
     "text": [
      "请分别输入向量1横、纵坐标，回车结束:1\n",
      "请分别输入向量1横、纵坐标，回车结束:2\n",
      "请分别输入向量2横、纵坐标，回车结束:3\n",
      "请分别输入向量2横、纵坐标，回车结束:4\n",
      "两向量的夹角余弦值为: 0.7071067811865475\n"
     ]
    }
   ],
   "source": [
    "def Q_cos():\n",
    "    r=n2[0]-n1[0]\n",
    "    s=n2[1]-n1[1]\n",
    "    m=math.sqrt(r*r+s*s)\n",
    "    cos=r/m\n",
    "    print('两向量的夹角余弦值为:',cos)\n",
    "\n",
    "import math\n",
    "n1=[]\n",
    "n2=[]\n",
    "i=0\n",
    "for i in range(2):\n",
    "    n=float(input('请分别输入向量1横、纵坐标，回车结束:'))\n",
    "    n1.append(n)\n",
    "for i in range(2):\n",
    "    n=float(input('请分别输入向量2横、纵坐标，回车结束:'))\n",
    "    n2.append(n)\n",
    "Q_cos()"
   ]
  },
  {
   "cell_type": "code",
   "execution_count": 3,
   "metadata": {
    "collapsed": false,
    "deletable": true,
    "editable": true
   },
   "outputs": [
    {
     "name": "stdout",
     "output_type": "stream",
     "text": [
      "3738\n"
     ]
    }
   ],
   "source": [
    "amount=[]\n",
    "n=0\n",
    "for i in range(5,90):\n",
    "    for j in range(5,90):\n",
    "        for k in range(5,90):\n",
    "            if i+j+k==100:\n",
    "                amount.append(i)\n",
    "                amount.append(j)\n",
    "                amount.append(k)\n",
    "                amount.append('/')\n",
    "                n+=1\n",
    "print(n)"
   ]
  },
  {
   "cell_type": "code",
   "execution_count": null,
   "metadata": {
    "collapsed": true,
    "deletable": true,
    "editable": true
   },
   "outputs": [],
   "source": []
  }
 ],
 "metadata": {
  "kernelspec": {
   "display_name": "Python 3",
   "language": "python",
   "name": "python3"
  },
  "language_info": {
   "codemirror_mode": {
    "name": "ipython",
    "version": 3
   },
   "file_extension": ".py",
   "mimetype": "text/x-python",
   "name": "python",
   "nbconvert_exporter": "python",
   "pygments_lexer": "ipython3",
   "version": "3.6.0"
  }
 },
 "nbformat": 4,
 "nbformat_minor": 2
}
