{
 "cells": [
  {
   "cell_type": "code",
   "execution_count": 3,
   "metadata": {
    "collapsed": false
   },
   "outputs": [
    {
     "name": "stdout",
     "output_type": "stream",
     "text": [
      "请输入一个整数\n",
      "7\n",
      "5040\n"
     ]
    }
   ],
   "source": [
    "\n",
    "n=int(input(\"请输入一个整数\\n\"))\n",
    "sum=1\n",
    "i=1\n",
    "for i in range(n):\n",
    "    sum*=(i+1)\n",
    "print(sum)"
   ]
  },
  {
   "cell_type": "code",
   "execution_count": 4,
   "metadata": {
    "collapsed": false
   },
   "outputs": [
    {
     "name": "stdout",
     "output_type": "stream",
     "text": [
      "请输入一个整数，输入0表示结束\n",
      "7\n",
      "请输入一个整数,输入0表示结束\n",
      "6\n",
      "请输入一个整数,输入0表示结束\n",
      "0\n",
      "13\n"
     ]
    }
   ],
   "source": [
    "sum=0\n",
    "m=int(input(\"请输入一个整数，输入0表示结束\\n\"))\n",
    "for i in range(1000):  \n",
    "    sum=sum+m\n",
    "    m=int(input(\"请输入一个整数,输入0表示结束\\n\"))\n",
    "    if(m==0):\n",
    "        break\n",
    "print(sum)"
   ]
  },
  {
   "cell_type": "code",
   "execution_count": 3,
   "metadata": {
    "collapsed": false
   },
   "outputs": [
    {
     "name": "stdout",
     "output_type": "stream",
     "text": [
      "请输入第1个整数，以回车结束。2\n",
      "请输入第2个整数，以回车结束。3\n",
      "请输入第3个整数，以回车结束。4\n",
      "n!+m!+k!= 32\n"
     ]
    }
   ],
   "source": [
    "\n",
    "#将前面几章用while循环的习题，用for循环实现，并尽量写成函数。\n",
    "## 求m!+n!+k!\n",
    "\n",
    "def compute_ji(end):\n",
    "    i = 0\n",
    "    ji = 1\n",
    "\n",
    "    for i in range(end):\n",
    "        i = i + 1\n",
    "        ji = ji * i\n",
    "\n",
    "    return ji\n",
    "\n",
    "n = int(input('请输入第1个整数，以回车结束。'))\n",
    "m = int(input('请输入第2个整数，以回车结束。'))\n",
    "k = int(input('请输入第3个整数，以回车结束。'))\n",
    "\n",
    "print('n!+m!+k!=', compute_ji(m) + compute_ji(n) + compute_ji(k))"
   ]
  },
  {
   "cell_type": "code",
   "execution_count": 4,
   "metadata": {
    "collapsed": false
   },
   "outputs": [
    {
     "name": "stdout",
     "output_type": "stream",
     "text": [
      "sum = 45\n"
     ]
    }
   ],
   "source": [
    "#写函数，返回一个list中所有数字的和\n",
    "import math\n",
    "\n",
    "def sum_(list):\n",
    "    sum_ = 0\n",
    "    for i in list:\n",
    "        sum_ = sum_ + i\n",
    "    return sum_\n",
    "\n",
    "list = [i for i in range(10)]\n",
    "print('sum =',sum_(list))"
   ]
  },
  {
   "cell_type": "code",
   "execution_count": 8,
   "metadata": {
    "collapsed": false
   },
   "outputs": [
    {
     "name": "stdout",
     "output_type": "stream",
     "text": [
      "min = 0\n"
     ]
    }
   ],
   "source": [
    "\n",
    "#写函数，返回一个list中的最小值\n",
    "import math\n",
    "\n",
    "def min(list):\n",
    "    min = list[0]\n",
    "    for i in list:\n",
    "        if i < min:\n",
    "            min = i\n",
    "    return(min)\n",
    "list = [i for i in range(10)]\n",
    "print('min =',min(list))"
   ]
  },
  {
   "cell_type": "code",
   "execution_count": 9,
   "metadata": {
    "collapsed": false
   },
   "outputs": [
    {
     "name": "stdout",
     "output_type": "stream",
     "text": [
      "请输入一个整数，回车结束7\n",
      "location = 8\n"
     ]
    }
   ],
   "source": [
    "#写函数，返回某个元素/对象在一个list中的位置，如果不在，则返回-1.\n",
    "\n",
    "import math\n",
    "def location(list):\n",
    "    n = int(input('请输入一个整数，回车结束'))\n",
    "    l = len(list)\n",
    "    if n in list:\n",
    "        i = 0\n",
    "        for k in range(l):\n",
    "            i = i + 1\n",
    "            if n == list[k]:\n",
    "                break\n",
    "        return(i)\n",
    "        \n",
    "    \n",
    "    else:\n",
    "        return(-1)\n",
    "list = [i for i in range(10)]\n",
    "print('location =',location(list))"
   ]
  },
  {
   "cell_type": "code",
   "execution_count": 1,
   "metadata": {
    "collapsed": false
   },
   "outputs": [
    {
     "name": "stdout",
     "output_type": "stream",
     "text": [
      "请输入向量所在空间的维数，2或3: 2\n",
      "请输入向量a的一个坐标7\n",
      "请输入向量a的一个坐标7\n",
      "请输入x坐标1\n",
      "请输入x坐标1\n",
      "a=  [7, 7] b=  [1, 1]\n",
      "[7, 7] 和  [1, 1] 夹角的余弦值是:  1.0\n"
     ]
    }
   ],
   "source": [
    "\n",
    "#写函数，可求两个向量的夹角余弦值，向量可放在list中\n",
    "def cos(a,b):\n",
    "    if len(a)==len(b):\n",
    "        aCb=0\n",
    "        a2=0\n",
    "        b2=0\n",
    "        for i in range(len(a)):\n",
    "            aCb+=a[i]*b[i]\n",
    "            a2+=a[i]**2\n",
    "            b2+=b[i]**2\n",
    "        print(a,'和 ',b,'夹角的余弦值是: ',aCb/((a2* b2)**0.5))\n",
    "        \n",
    "\n",
    "a=[]\n",
    "b=[]\n",
    "n=int(input('请输入向量所在空间的维数，2或3: '))\n",
    "j=0\n",
    "for i in range(n):\n",
    "     for j in range(n):\n",
    "            if i==0:\n",
    "                a.append(int(input('请输入向量a的一个坐标')))\n",
    "            else:\n",
    "                b.append(int(input('请输入x坐标')))\n",
    "                \n",
    "print('a= ',a,'b= ',b)\n",
    "cos(a,b)"
   ]
  }
 ],
 "metadata": {
  "kernelspec": {
   "display_name": "Python 3",
   "language": "python",
   "name": "python3"
  },
  "language_info": {
   "codemirror_mode": {
    "name": "ipython",
    "version": 3
   },
   "file_extension": ".py",
   "mimetype": "text/x-python",
   "name": "python",
   "nbconvert_exporter": "python",
   "pygments_lexer": "ipython3",
   "version": "3.6.0"
  }
 },
 "nbformat": 4,
 "nbformat_minor": 2
}
