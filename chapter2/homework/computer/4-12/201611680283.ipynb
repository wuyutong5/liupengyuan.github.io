{
 "cells": [
  {
   "cell_type": "markdown",
   "metadata": {},
   "source": [
    "6.8 习题\n"
   ]
  },
  {
   "cell_type": "markdown",
   "metadata": {},
   "source": [
    "1.将前面几章用while循环的习题，用for循环实现，并尽量写成函数。"
   ]
  },
  {
   "cell_type": "code",
   "execution_count": 12,
   "metadata": {
    "collapsed": false
   },
   "outputs": [
    {
     "name": "stdout",
     "output_type": "stream",
     "text": [
      "请输入一个你想要输入的整数个数，以回车结束：10\n",
      "55\n"
     ]
    }
   ],
   "source": [
    "#练习2：仿照实践1，写出由用户指定整数个数，并由用户输入多个整数，并求和的代码。\n",
    "n = int(input('请输入一个你想要输入的整数个数，以回车结束：'))\n",
    "numbers = [i for i in range(n+1)]\n",
    "print(sum(numbers))"
   ]
  },
  {
   "cell_type": "code",
   "execution_count": null,
   "metadata": {
    "collapsed": true
   },
   "outputs": [],
   "source": []
  },
  {
   "cell_type": "markdown",
   "metadata": {},
   "source": [
    "2.写函数，返回一个list中所有数字的和"
   ]
  },
  {
   "cell_type": "code",
   "execution_count": 2,
   "metadata": {
    "collapsed": false
   },
   "outputs": [
    {
     "name": "stdout",
     "output_type": "stream",
     "text": [
      "请输入list中元素的个数：4\n",
      "请输入一个整数1\n",
      "请输入一个整数2\n",
      "请输入一个整数3\n",
      "请输入一个整数4\n",
      "[1, 2, 3, 4]\n",
      "10\n"
     ]
    }
   ],
   "source": [
    "#写函数，返回一个list中所有数字的和\n",
    "def sum_list(numbers):\n",
    "    sum=0\n",
    "    for i in numbers:\n",
    "        sum += i\n",
    "    return sum\n",
    "\n",
    "numbers=[]\n",
    "n = int(input('请输入list中元素的个数：'))\n",
    "j = 0\n",
    "while j < n:\n",
    "    numbers.append(int(input('请输入一个整数')))\n",
    "    j += 1\n",
    "print(numbers)\n",
    "print(sum_list(numbers))\n",
    "    \n"
   ]
  },
  {
   "cell_type": "markdown",
   "metadata": {},
   "source": [
    "3.写函数，返回一个list中的最小值"
   ]
  },
  {
   "cell_type": "code",
   "execution_count": 3,
   "metadata": {
    "collapsed": false
   },
   "outputs": [
    {
     "name": "stdout",
     "output_type": "stream",
     "text": [
      "请输入你要输入的整数个数，以回车结束4\n",
      "请输入一个整数5\n",
      "请输入一个整数1\n",
      "请输入一个整数3\n",
      "请输入一个整数2\n",
      "[5, 1, 3, 2]\n",
      "1\n"
     ]
    }
   ],
   "source": [
    "n=int(input('请输入你要输入的整数个数，以回车结束'))\n",
    "a=[]\n",
    "i=0\n",
    "while i<n:\n",
    "    a.append(int(input('请输入一个整数')))\n",
    "    i=i+1\n",
    "print(a)\n",
    "\n",
    "print(min(a))"
   ]
  },
  {
   "cell_type": "markdown",
   "metadata": {},
   "source": [
    "4.写函数，返回某个元素/对象在一个list中的位置，如果不在，则返回-1."
   ]
  },
  {
   "cell_type": "code",
   "execution_count": 6,
   "metadata": {
    "collapsed": false
   },
   "outputs": [
    {
     "name": "stdout",
     "output_type": "stream",
     "text": [
      "请输入你要输入的整数个数，以回车结束:5\n",
      "请输入一个整数:2\n",
      "请输入一个整数:6\n",
      "请输入一个整数:9\n",
      "请输入一个整数:1\n",
      "请输入一个整数:5\n",
      "[2, 6, 9, 1, 5]\n",
      "请输入要判断的一个整数，回车结束:6\n",
      "2\n"
     ]
    }
   ],
   "source": [
    "def location_a(a):\n",
    "    if k in a:\n",
    "        i=0\n",
    "        while i<n:\n",
    "            if k==a[i]:\n",
    "                return i+1\n",
    "            i += 1\n",
    "            \n",
    "    if k not in a:\n",
    "        return -1\n",
    "    \n",
    "n=int(input('请输入你要输入的整数个数，以回车结束:'))\n",
    "a=[]\n",
    "i=0\n",
    "while i<n:\n",
    "    a.append(int(input('请输入一个整数:')))\n",
    "    i=i+1\n",
    "print(a)\n",
    "\n",
    "k = int(input('请输入要判断的一个整数，回车结束:'))\n",
    "print(location_a(a))"
   ]
  },
  {
   "cell_type": "markdown",
   "metadata": {},
   "source": [
    "5.写函数，可求两个向量的夹角余弦值，向量可放在list中。主程序调用该函数。"
   ]
  },
  {
   "cell_type": "code",
   "execution_count": 5,
   "metadata": {
    "collapsed": false
   },
   "outputs": [
    {
     "name": "stdout",
     "output_type": "stream",
     "text": [
      "请输入向量所在的空间的维数，2或3：2\n",
      "请输入向量a的一个坐标2\n",
      "请输入向量a的一个坐标3\n",
      "请输入x坐标-2\n",
      "请输入x坐标-3\n",
      "a = [2, 3] , b = [-2, -3]\n",
      "[2, 3] 和 [-2, -3] 夹角的的余弦值为 -1.0\n"
     ]
    }
   ],
   "source": [
    "def cosx(a,b):\n",
    "    if len(a)==len(b):\n",
    "        aCb=0\n",
    "        a2=0\n",
    "        b2=0\n",
    "        for i in range(len(a)):\n",
    "            aCb+=a[i]*b[i]\n",
    "            a2+=a[i]**2\n",
    "            b2+=b[i]**2\n",
    "        print(a,'和',b,'夹角的的余弦值为',aCb/((a2*b2)**0.5))\n",
    "        \n",
    "a=[]\n",
    "b=[]\n",
    "n = int(input('请输入向量所在的空间的维数，2或3：'))\n",
    "j = 0\n",
    "for i in range(n):\n",
    "    for j in range(n):\n",
    "        if(i==0):\n",
    "            a.append(int(input('请输入向量a的一个坐标')))\n",
    "        else:\n",
    "            b.append(int(input('请输入x坐标')))\n",
    "        \n",
    "print('a =',a,',','b =',b)        \n",
    "\n",
    "cosx(a,b)  "
   ]
  },
  {
   "cell_type": "markdown",
   "metadata": {},
   "source": [
    "6.挑战性习题：python语言老师为了激励学生学python，自费买了100个完全相同的Macbook Pro，\n",
    "分给三个班级，每个班级至少分5个，用穷举法计算共有多少种分法？"
   ]
  },
  {
   "cell_type": "code",
   "execution_count": 1,
   "metadata": {
    "collapsed": false
   },
   "outputs": [
    {
     "name": "stdout",
     "output_type": "stream",
     "text": [
      "3741\n"
     ]
    }
   ],
   "source": [
    "n=0\n",
    "for i in range(5,91):\n",
    "    for j in range(5,91):\n",
    "        for k in range(5,91):\n",
    "            if(100==i+j+k):\n",
    "                n=n+1# print('第一个班级：',i,'  第二个班级:',j,'  第三个班级：',k)\n",
    "print(n)"
   ]
  }
 ],
 "metadata": {
  "kernelspec": {
   "display_name": "Python 3",
   "language": "python",
   "name": "python3"
  },
  "language_info": {
   "codemirror_mode": {
    "name": "ipython",
    "version": 3
   },
   "file_extension": ".py",
   "mimetype": "text/x-python",
   "name": "python",
   "nbconvert_exporter": "python",
   "pygments_lexer": "ipython3",
   "version": "3.6.0"
  }
 },
 "nbformat": 4,
 "nbformat_minor": 2
}
