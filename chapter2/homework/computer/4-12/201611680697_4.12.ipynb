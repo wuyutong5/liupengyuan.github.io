{
 "cells": [
  {
   "cell_type": "code",
   "execution_count": 1,
   "metadata": {
    "collapsed": false,
    "deletable": true,
    "editable": true
   },
   "outputs": [
    {
     "name": "stdout",
     "output_type": "stream",
     "text": [
      "yan\n",
      "你好 yan\n",
      "3\n",
      "你指定的整数个数是： 3\n",
      "1\n",
      "3\n",
      "5\n",
      "这几个数的的和是： 9\n",
      "再见! yan\n"
     ]
    }
   ],
   "source": [
    "name=input()\n",
    "print('你好',name)\n",
    "n=int(input())\n",
    "print('你指定的整数个数是：',n)\n",
    "\n",
    "total=0\n",
    "i=0\n",
    "for i in range(n):\n",
    "    m=int(input())\n",
    "    total=total+m\n",
    "print('这几个数的的和是：',total)\n",
    "print('再见!',name)    "
   ]
  },
  {
   "cell_type": "code",
   "execution_count": 4,
   "metadata": {
    "collapsed": false,
    "deletable": true,
    "editable": true
   },
   "outputs": [
    {
     "name": "stdout",
     "output_type": "stream",
     "text": [
      "请输入第1个整数，以回车结束。2\n",
      "请输入第2个整数，以回车结束。3\n",
      "请输入第3个整数，以回车结束。4\n",
      "最终的和是： 32\n"
     ]
    }
   ],
   "source": [
    "def factorial_sum(end):\n",
    "    factorial_n = 1\n",
    "    \n",
    "    for i in range(end):\n",
    "        factorial_n = factorial_n *(i+1)\n",
    "\n",
    "    return factorial_n\n",
    "\n",
    "m= int(input('请输入第1个整数，以回车结束。'))\n",
    "n= int(input('请输入第2个整数，以回车结束。'))\n",
    "k = int(input('请输入第3个整数，以回车结束。'))\n",
    "\n",
    "print('最终的和是：', factorial_sum(m) + factorial_sum(n) + factorial_sum(k))"
   ]
  },
  {
   "cell_type": "code",
   "execution_count": 9,
   "metadata": {
    "collapsed": false,
    "deletable": true,
    "editable": true
   },
   "outputs": [
    {
     "name": "stdout",
     "output_type": "stream",
     "text": [
      "当n=1000时，最终值为： 3.140592653839794\n",
      "当n=100000时，最终值为： 3.1415826535897198\n"
     ]
    }
   ],
   "source": [
    "def number_sum(end):\n",
    "    total=0\n",
    "    for i in range(end):\n",
    "        if (i+1)%2!=0:\n",
    "            total=total+(1/(2*(i+1)-1))\n",
    "        else:\n",
    "            total=total-(1/(2*(i+1)-1))\n",
    "    return total\n",
    "\n",
    "n=1000\n",
    "m=100000\n",
    "print('当n=1000时，最终值为：',4*number_sum(n))\n",
    "print('当n=100000时，最终值为：',4*number_sum(m))"
   ]
  },
  {
   "cell_type": "code",
   "execution_count": 8,
   "metadata": {
    "collapsed": false,
    "deletable": true,
    "editable": true
   },
   "outputs": [
    {
     "name": "stdout",
     "output_type": "stream",
     "text": [
      "list中的所有值和为； 15\n"
     ]
    }
   ],
   "source": [
    "def fct():\n",
    "    numbers=[1,2,3,4,5]\n",
    "    print('list中的所有值和为；',sum(numbers))\n",
    "fct()"
   ]
  },
  {
   "cell_type": "code",
   "execution_count": 3,
   "metadata": {
    "collapsed": false,
    "deletable": true,
    "editable": true
   },
   "outputs": [
    {
     "name": "stdout",
     "output_type": "stream",
     "text": [
      "12\n",
      "34\n",
      "53\n",
      "13\n",
      "list中的最小值是： 12\n"
     ]
    }
   ],
   "source": [
    "def fct():\n",
    "    numbers=[]\n",
    "    for i in range(4):\n",
    "        number=int(input())\n",
    "        numbers.append(number)\n",
    "    print('list中的最小值是：',min(numbers))\n",
    "fct()      "
   ]
  },
  {
   "cell_type": "code",
   "execution_count": 8,
   "metadata": {
    "collapsed": false
   },
   "outputs": [
    {
     "name": "stdout",
     "output_type": "stream",
     "text": [
      "请输入list中的数：1\n",
      "请输入list中的数：3\n",
      "请输入list中的数：5\n",
      "请输入list中的数：7\n",
      "请输入你要找的数：7\n",
      "4\n",
      "你要找的数在list中的第 4 位\n"
     ]
    }
   ],
   "source": [
    "def fct():\n",
    "    numbers=[]\n",
    "    for i in range(4):\n",
    "        number=int(input('请输入list中的数：'))\n",
    "        numbers.append(number)\n",
    "    element=int(input('请输入你要找的数：'))\n",
    "    for i in range(4):\n",
    "        if element==numbers[i]:\n",
    "            return (i+1)\n",
    "            break\n",
    "    if i==4 and element!=numbers[3]:\n",
    "        return (-1)\n",
    "Return=fct()\n",
    "print(Return)\n",
    "if Return>0:\n",
    "    print('你要找的数在list中的第',Return,'位')\n",
    "else:\n",
    "    print('你要找的数不存在')"
   ]
  },
  {
   "cell_type": "code",
   "execution_count": 3,
   "metadata": {
    "collapsed": false
   },
   "outputs": [
    {
     "name": "stdout",
     "output_type": "stream",
     "text": [
      "请输入向量1各维数中的值：1\n",
      "请输入向量1各维数中的值：3\n",
      "请输入向量2各维数中的值：2\n",
      "请输入向量2各维数中的值：1\n",
      "这两个向量的夹角余弦值是： 0.7071067811865475\n"
     ]
    }
   ],
   "source": [
    "import math\n",
    "def fct():\n",
    "    vector1=[]\n",
    "    vector2=[]\n",
    "    total_1=0\n",
    "    total_2=0\n",
    "    total_3=0\n",
    "    for i in range(2):\n",
    "        number=int(input('请输入向量1各维数中的值：'))\n",
    "        vector1.append(number)\n",
    "    for i in range(2):\n",
    "        number=int(input('请输入向量2各维数中的值：'))\n",
    "        vector2.append(number)\n",
    "    for i in range(2):\n",
    "        total_1+=vector1[i]*vector2[i]\n",
    "        total_2+=vector1[i]*vector1[i]\n",
    "        total_3+=vector2[i]*vector2[i]\n",
    "    value=total_1/(math.sqrt(total_2)*math.sqrt(total_3))\n",
    "    print('这两个向量的夹角余弦值是：',value)\n",
    "    \n",
    "fct()    "
   ]
  },
  {
   "cell_type": "code",
   "execution_count": 27,
   "metadata": {
    "collapsed": false
   },
   "outputs": [
    {
     "name": "stdout",
     "output_type": "stream",
     "text": [
      "种数共有： 3741\n"
     ]
    }
   ],
   "source": [
    "def fct():\n",
    "    i=-1\n",
    "    total=0\n",
    "    for a in range(90,4,-1):\n",
    "        i+=1\n",
    "        for b in range(5,6+i,1):\n",
    "            total+=1\n",
    "    print('种数共有：',total)\n",
    "fct()"
   ]
  }
 ],
 "metadata": {
  "kernelspec": {
   "display_name": "Python 3",
   "language": "python",
   "name": "python3"
  },
  "language_info": {
   "codemirror_mode": {
    "name": "ipython",
    "version": 3
   },
   "file_extension": ".py",
   "mimetype": "text/x-python",
   "name": "python",
   "nbconvert_exporter": "python",
   "pygments_lexer": "ipython3",
   "version": "3.6.0"
  }
 },
 "nbformat": 4,
 "nbformat_minor": 2
}
