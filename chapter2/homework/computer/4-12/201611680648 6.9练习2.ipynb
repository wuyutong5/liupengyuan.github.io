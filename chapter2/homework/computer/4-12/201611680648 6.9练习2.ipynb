{
 "cells": [
  {
   "cell_type": "code",
   "execution_count": 4,
   "metadata": {
    "collapsed": false
   },
   "outputs": [
    {
     "ename": "SyntaxError",
     "evalue": "invalid syntax (<ipython-input-4-ea36be9da285>, line 23)",
     "output_type": "error",
     "traceback": [
      "\u001b[1;36m  File \u001b[1;32m\"<ipython-input-4-ea36be9da285>\"\u001b[1;36m, line \u001b[1;32m23\u001b[0m\n\u001b[1;33m    print('两向量的夹角的余弦值为：'cos(x1,x2))\u001b[0m\n\u001b[1;37m                          ^\u001b[0m\n\u001b[1;31mSyntaxError\u001b[0m\u001b[1;31m:\u001b[0m invalid syntax\n"
     ]
    }
   ],
   "source": [
    "import math\n",
    "def cos(m,n):\n",
    "    m=[]\n",
    "    n=[]\n",
    "    k=0\n",
    "    for i in range(2):\n",
    "        t=m[i]*n[i]\n",
    "        k+=t\n",
    "    for i in range(2):\n",
    "        p=math.sqrt(m[i]*m[i])\n",
    "        q=math.sqrt(n[i]*n[i])\n",
    "    return k/(p*q)\n",
    "def main():\n",
    "    \n",
    "    x1=[]\n",
    "    for i in range(2):\n",
    "        degree=input('请输入第一个向量的两个维度值，回车结束。')\n",
    "        angle.append(degree)\n",
    "    x2=[] \n",
    "    for i in range(2):\n",
    "        degree=input('请输入第二个向量的两个维度值，回车结束。')\n",
    "        angle.append(degree)\n",
    "    print('两向量的夹角的余弦值为：'cos(x1,x2))\n",
    "if __name__=='__main__':\n",
    "    main()\n",
    "    "
   ]
  }
 ],
 "metadata": {
  "kernelspec": {
   "display_name": "Python 3",
   "language": "python",
   "name": "python3"
  },
  "language_info": {
   "codemirror_mode": {
    "name": "ipython",
    "version": 3
   },
   "file_extension": ".py",
   "mimetype": "text/x-python",
   "name": "python",
   "nbconvert_exporter": "python",
   "pygments_lexer": "ipython3",
   "version": "3.6.0"
  }
 },
 "nbformat": 4,
 "nbformat_minor": 2
}
