{
 "cells": [
  {
   "cell_type": "code",
   "execution_count": null,
   "metadata": {
    "collapsed": false,
    "deletable": true,
    "editable": true
   },
   "outputs": [],
   "source": [
    "def reverse (s):\n",
    "    print(s[len(s)-1::-1])\n",
    "s=str(input(\"plz enter a string\"))\n",
    "reverse(s)"
   ]
  },
  {
   "cell_type": "code",
   "execution_count": 2,
   "metadata": {
    "collapsed": false,
    "deletable": true,
    "editable": true
   },
   "outputs": [
    {
     "name": "stdout",
     "output_type": "stream",
     "text": [
      "plz enter the height of the triangle\n",
      "4\n",
      "|\\\n",
      "| \\\n",
      "|  \\\n",
      "|___\\\n",
      " \n",
      "    /\\\n",
      "   /  \\\n",
      "  /    \\\n",
      " /______\\\n"
     ]
    }
   ],
   "source": [
    "def triangle (x):\n",
    "    for i in range (x): \n",
    "        if i<x-1:\n",
    "            print('|'+' '*i+'\\\\')\n",
    "        elif i==x-1:  print('|'+'_'*i+'\\\\')\n",
    "    print(' ')\n",
    "    for i in range (x):\n",
    "        if i<x-1:\n",
    "            print(' '*(x-i)+'/'+' '*(2*i)+'\\\\')\n",
    "        elif i==x-1:\n",
    "            print(' '+'/'+'_'*(i+x-1)+'\\\\')\n",
    "    \n",
    "x=int(input(\"plz enter the height of the triangle\\n\"))\n",
    "triangle(x)"
   ]
  },
  {
   "cell_type": "code",
   "execution_count": 14,
   "metadata": {
    "collapsed": false,
    "deletable": true,
    "editable": true
   },
   "outputs": [
    {
     "name": "stdout",
     "output_type": "stream",
     "text": [
      "plz enter a countable noun\n",
      "scarf\n",
      "The plurality of the noun is  scarves\n"
     ]
    }
   ],
   "source": [
    "def change(word):\n",
    "    print('The plurality of the noun is  ',end='')\n",
    "    if word.endswith('ch') or word.endswith('sh'):\n",
    "        print(word+'es')\n",
    "    elif word.endswith('x') or word.endswith('s') or word.endswith('es'):\n",
    "        print(word+'es')\n",
    "    elif word.endswith('f'):\n",
    "        print(word[:len(word)-1:]+'ves')\n",
    "    elif word.endswith('y'):\n",
    "        print(word[:len(word)-1:]+'ies')\n",
    "    else: print(word+'s')\n",
    "        \n",
    "word=str(input(\"plz enter a countable noun\\n\"))\n",
    "change(word)"
   ]
  },
  {
   "cell_type": "code",
   "execution_count": null,
   "metadata": {
    "collapsed": false,
    "deletable": true,
    "editable": true
   },
   "outputs": [],
   "source": [
    "def trapezoid (x,y,h):\n",
    "    d=h-1\n",
    "    for i in range(h):\n",
    "        if i==0:\n",
    "            print(' '*(d-i)+'/'+'-'*x+'\\\\'+' '*(d-i))\n",
    "        elif i<h-1:\n",
    "            print(' '*(d-i)+'/'+' '*(x+2*(i))+'\\\\'+' '*(d-i))\n",
    "        elif i==h-1:\n",
    "            print(' '*(d-i)+'/'+'_'*(2*i+x)+'\\\\')\n",
    "x=int(input('请输入梯形的上底长'))\n",
    "h=int(input('请输入梯形的高'))\n",
    "print('由于技术不娴熟，梯形的底由前两个输入值计算得出\\n')\n",
    "trapezoid(x,y,h)"
   ]
  },
  {
   "cell_type": "code",
   "execution_count": 18,
   "metadata": {
    "collapsed": false
   },
   "outputs": [
    {
     "name": "stdout",
     "output_type": "stream",
     "text": [
      "请输入菱形的边长  3\n",
      "   /\\\n",
      "  /  \\\n",
      " /    \\\n",
      " \\    /\n",
      "  \\  /\n",
      "   \\/\n"
     ]
    }
   ],
   "source": [
    "def rhombus (x):\n",
    "    for i in range (x):\n",
    "            print(' '*(x-i)+'/'+' '*(2*i)+'\\\\')\n",
    "    for i in range(x-1,-1,-1):\n",
    "        print(' '*(x-i)+'\\\\'+' '*(2*(i))+'/')\n",
    "x=int(input('请输入菱形的边长  '))\n",
    "rhombus(x)"
   ]
  },
  {
   "cell_type": "code",
   "execution_count": 21,
   "metadata": {
    "collapsed": false
   },
   "outputs": [
    {
     "name": "stdout",
     "output_type": "stream",
     "text": [
      "赏花归去马如飞飞如马去归花赏\n",
      " 赏花归去马如飞如马去归花赏\n",
      "  赏花归去马如如马去归花赏\n",
      "   赏花归去马如马去归花赏\n",
      "    赏花归去马马去归花赏\n",
      "     赏花归去马去归花赏\n",
      "      赏花归去去归花赏\n",
      "       赏花归去归花赏\n",
      "        赏花归归花赏\n",
      "         赏花归花赏\n",
      "          赏花花赏\n",
      "           赏花赏\n",
      "            赏赏\n",
      "             赏\n"
     ]
    }
   ],
   "source": [
    "def inverted(x):\n",
    "    for i in range(len(x)*2,0,-1):\n",
    "        if i == 1:\n",
    "            print(' '*(len(x)*2-1) +x[0])\n",
    "        elif i%2 == 1:\n",
    "            print(' '*(len(x)*2-i) + x[:i//2] + x[i//2] + x[i//2-1::-1])\n",
    "        else:\n",
    "            print(' '*(len(x)*2-i) + x[:i//2] + x[i//2-1::-1])\n",
    "\n",
    "def main():\n",
    "    word = '赏花归去马如飞'\n",
    "    inverted (word)\n",
    "    \n",
    "\n",
    "if __name__ == '__main__':\n",
    "    main()"
   ]
  }
 ],
 "metadata": {
  "kernelspec": {
   "display_name": "Python 3",
   "language": "python",
   "name": "python3"
  },
  "language_info": {
   "codemirror_mode": {
    "name": "ipython",
    "version": 3
   },
   "file_extension": ".py",
   "mimetype": "text/x-python",
   "name": "python",
   "nbconvert_exporter": "python",
   "pygments_lexer": "ipython3",
   "version": "3.6.0"
  }
 },
 "nbformat": 4,
 "nbformat_minor": 2
}
