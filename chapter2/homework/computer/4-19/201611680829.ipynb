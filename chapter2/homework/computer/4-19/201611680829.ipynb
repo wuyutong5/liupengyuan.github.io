{
 "cells": [
  {
   "cell_type": "code",
   "execution_count": 1,
   "metadata": {
    "collapsed": false,
    "deletable": true,
    "editable": true
   },
   "outputs": [
    {
     "name": "stdout",
     "output_type": "stream",
     "text": [
      "☀蹄马没能才浅草，眼人迷欲溅花乱\n",
      "\n",
      "乱花溅欲迷人眼，草浅才能没马蹄\n"
     ]
    }
   ],
   "source": [
    "def my_reverse(s):\n",
    "    n=len(s)\n",
    "    print(s[n::-1])\n",
    "\n",
    "s=input('☀')\n",
    "print()\n",
    "my_reverse(s)"
   ]
  },
  {
   "cell_type": "code",
   "execution_count": 8,
   "metadata": {
    "collapsed": false
   },
   "outputs": [
    {
     "name": "stdout",
     "output_type": "stream",
     "text": [
      "please enter a word:leaf\n",
      "leaves \n"
     ]
    }
   ],
   "source": [
    "def plural(words):\n",
    "    n=len(words)\n",
    "    if words.endswith('o' or 'x'):\n",
    "        words += 'es'\n",
    "        print(words)\n",
    "        \n",
    "    elif words.endswith('f'):\n",
    "        n=len(words)\n",
    "        for i in range(n-1):\n",
    "            print(words[i],end='')\n",
    "        print('ves',end='')\n",
    "        \n",
    "    elif words.endswith('y'):\n",
    "        n=len(words)\n",
    "        for i in range(n-1):\n",
    "            print(words[i],end='')\n",
    "        print('ies',end='')\n",
    "        \n",
    "    else:\n",
    "        words += 's'\n",
    "        print(words)\n",
    "    return ' '\n",
    "\n",
    "words=input('please enter a word:')\n",
    "print(plural(words))"
   ]
  },
  {
   "cell_type": "code",
   "execution_count": 27,
   "metadata": {
    "collapsed": false
   },
   "outputs": [
    {
     "name": "stdout",
     "output_type": "stream",
     "text": [
      "please enter a str.:红红火火恍恍惚惚\n",
      "直角三角形：\n",
      "红\n",
      "红红\n",
      "红红火\n",
      "红红火火\n",
      "红红火火恍\n",
      "红红火火恍恍\n",
      "红红火火恍恍惚\n",
      "红红火火恍恍惚惚\n",
      "\n",
      "------------------------------\n",
      "\n",
      "等腰三角形：\n",
      "       红\n",
      "      红红\n",
      "     红红红\n",
      "    红红红红\n",
      "   红红火红红\n",
      "  红红火火红红\n",
      " 红红火火火红红\n"
     ]
    }
   ],
   "source": [
    "def picture(char):\n",
    "    for i in range(1, len(char)+1):\n",
    "        if i == 1:\n",
    "            print('直角三角形：')\n",
    "            print(char[0])\n",
    "        else:\n",
    "            print(char[0:i])\n",
    "            \n",
    "    print()\n",
    "    print('-'*30)\n",
    "    print()\n",
    "            \n",
    "    for i in range(1, len(char)):\n",
    "        if i == 1:\n",
    "            print('等腰三角形：')\n",
    "            print(' '*(len(char)-1) +char[0])\n",
    "        elif i%2 == 1:\n",
    "            print(' '*(len(char)-i) + char[:i//2] + char[i//2] + char[i//2-1::-1])\n",
    "        else:\n",
    "            print(' '*(len(char)-i) + char[:i//2] + char[i//2-1::-1])\n",
    "\n",
    "\n",
    "char=input('please enter a str.:')\n",
    "picture(char)"
   ]
  }
 ],
 "metadata": {
  "kernelspec": {
   "display_name": "Python 3",
   "language": "python",
   "name": "python3"
  },
  "language_info": {
   "codemirror_mode": {
    "name": "ipython",
    "version": 3
   },
   "file_extension": ".py",
   "mimetype": "text/x-python",
   "name": "python",
   "nbconvert_exporter": "python",
   "pygments_lexer": "ipython3",
   "version": "3.6.0"
  }
 },
 "nbformat": 4,
 "nbformat_minor": 2
}
