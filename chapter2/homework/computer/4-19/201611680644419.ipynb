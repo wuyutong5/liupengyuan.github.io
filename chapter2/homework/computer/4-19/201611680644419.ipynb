{
 "cells": [
  {
   "cell_type": "code",
   "execution_count": 3,
   "metadata": {
    "collapsed": false
   },
   "outputs": [
    {
     "name": "stdout",
     "output_type": "stream",
     "text": [
      "             赏\n",
      "            赏赏\n",
      "           赏花赏\n",
      "          赏花花赏\n",
      "         赏花归花赏\n",
      "        赏花归归花赏\n",
      "       赏花归去归花赏\n",
      "      赏花归去去归花赏\n",
      "     赏花归去马去归花赏\n",
      "    赏花归去马马去归花赏\n",
      "   赏花归去马如马去归花赏\n",
      "  赏花归去马如如马去归花赏\n",
      " 赏花归去马如飞如马去归花赏\n"
     ]
    }
   ],
   "source": [
    "\n",
    "line = '赏花归去马如飞'\n",
    "\n",
    "for i in range(1, len(line)*2):\n",
    "    if i == 1:\n",
    "        print((len(line)*2-i)*' '+line[0])\n",
    "    elif i%2 == 1:\n",
    "        print((len(line)*2-i)*' '+line[:i//2] + line[i//2] + line[i//2-1::-1])\n",
    "    else:\n",
    "        print((len(line)*2-i)*' '+line[:i//2] + line[i//2-1::-1])"
   ]
  },
  {
   "cell_type": "code",
   "execution_count": 13,
   "metadata": {
    "collapsed": false
   },
   "outputs": [
    {
     "name": "stdout",
     "output_type": "stream",
     "text": [
      "             赏\n",
      "            赏赏\n",
      "           赏花赏\n",
      "          赏花花赏\n",
      "         赏花归花赏\n",
      "        赏花归归花赏\n",
      "       赏花归去归花赏\n",
      "      赏花归去去归花赏\n",
      "     赏花归去马去归花赏\n",
      "    赏花归去马马去归花赏\n",
      "   赏花归去马如马去归花赏\n",
      "  赏花归去马如如马去归花赏\n",
      " 赏花归去马如飞如马去归花赏\n"
     ]
    }
   ],
   "source": [
    "def plalindrome(line):\n",
    "    for i in range(1, len(line)*2):\n",
    "        if i == 1:\n",
    "            print(' '*(len(line)*2-1) +line[0])\n",
    "        elif i%2 == 1:\n",
    "            print(' '*(len(line)*2-i) + line[:i//2] + line[i//2] + line[i//2-1::-1])\n",
    "        else:\n",
    "            print(' '*(len(line)*2-i) + line[:i//2] + line[i//2-1::-1])\n",
    "\n",
    "def main():\n",
    "    text = '赏花归去马如飞'\n",
    "    plalindrome(text)\n",
    "    \n",
    "\n",
    "if __name__ == '__main__':\n",
    "    main()"
   ]
  },
  {
   "cell_type": "code",
   "execution_count": 9,
   "metadata": {
    "collapsed": false
   },
   "outputs": [
    {
     "name": "stdout",
     "output_type": "stream",
     "text": [
      "[3, 2, 1]\n"
     ]
    }
   ],
   "source": [
    "#自己定义一个reverse(s)函数，功能返回字符串s的倒序字符串。\n",
    "def reverse(s):\n",
    "    s.reverse()\n",
    "    return s \n",
    "\n",
    "s=[1,2,3]\n",
    "reverse(s)\n",
    "print(s)"
   ]
  },
  {
   "cell_type": "code",
   "execution_count": 19,
   "metadata": {
    "collapsed": false
   },
   "outputs": [
    {
     "ename": "SyntaxError",
     "evalue": "invalid syntax (<ipython-input-19-bc60f528b82c>, line 3)",
     "output_type": "error",
     "traceback": [
      "\u001b[0;36m  File \u001b[0;32m\"<ipython-input-19-bc60f528b82c>\"\u001b[0;36m, line \u001b[0;32m3\u001b[0m\n\u001b[0;31m    def right triangle():\u001b[0m\n\u001b[0m                     ^\u001b[0m\n\u001b[0;31mSyntaxError\u001b[0m\u001b[0;31m:\u001b[0m invalid syntax\n"
     ]
    }
   ],
   "source": [
    "#写函数，根据给定符号和行数，打印相应直角三角形，等腰三角形及其他形式的三角形。\n",
    "\n",
    "def right triangle(i):\n",
    "    for number in i:\n",
    "        print(i* '@')\n",
    "        \n",
    "def isosceles triangle(i):\n",
    "    for i in range(1, len(line)*2):\n",
    "        print(' '*(i*2-i) + '@'* i)\n",
    "\n",
    "        \n",
    "i=int(input('输入你想要的行数'))\n",
    "right triangle(i)\n",
    "isosceles triangle(i)"
   ]
  },
  {
   "cell_type": "code",
   "execution_count": 20,
   "metadata": {
    "collapsed": false
   },
   "outputs": [
    {
     "name": "stdout",
     "output_type": "stream",
     "text": [
      "plz input a wordboo\n",
      "booes\n"
     ]
    }
   ],
   "source": [
    "#将任务4中的英语名词单数变复数的函数，尽可能的考虑多种情况，重新进行实现。\n",
    "line=input('plz input a word')\n",
    "if line.endswith('x')or line.endswith('ch') or line.endswith('sh') or line.endswith('o'):\n",
    "    print(line[:len(line)]+'es')\n",
    "elif line.endswith('y'):\n",
    "    print(line[:len(line)-1]+'ies')\n",
    "else:\n",
    "    print(line[:len(line)]+'s')"
   ]
  },
  {
   "cell_type": "code",
   "execution_count": 3,
   "metadata": {
    "collapsed": false
   },
   "outputs": [
    {
     "name": "stdout",
     "output_type": "stream",
     "text": [
      "输入你想要的上底 3\n",
      "输入你想要的下底5\n",
      "输入你想要的高1\n"
     ]
    },
    {
     "ename": "TypeError",
     "evalue": "'int' object is not iterable",
     "output_type": "error",
     "traceback": [
      "\u001b[0;31m---------------------------------------------------------------------------\u001b[0m",
      "\u001b[0;31mTypeError\u001b[0m                                 Traceback (most recent call last)",
      "\u001b[0;32m<ipython-input-3-e7b57f74934e>\u001b[0m in \u001b[0;36m<module>\u001b[0;34m()\u001b[0m\n\u001b[1;32m     20\u001b[0m \u001b[0mn\u001b[0m\u001b[1;33m=\u001b[0m\u001b[0ms\u001b[0m\u001b[1;33m\u001b[0m\u001b[0m\n\u001b[1;32m     21\u001b[0m \u001b[0madd\u001b[0m\u001b[1;33m=\u001b[0m\u001b[0mint\u001b[0m\u001b[1;33m(\u001b[0m\u001b[1;33m(\u001b[0m\u001b[0ms\u001b[0m\u001b[1;33m-\u001b[0m\u001b[0mx\u001b[0m\u001b[1;33m)\u001b[0m\u001b[1;33m/\u001b[0m\u001b[0mh\u001b[0m\u001b[1;33m)\u001b[0m\u001b[1;33m\u001b[0m\u001b[0m\n\u001b[0;32m---> 22\u001b[0;31m \u001b[0mtrapezoid\u001b[0m\u001b[1;33m(\u001b[0m\u001b[0ms\u001b[0m\u001b[1;33m,\u001b[0m\u001b[0mx\u001b[0m\u001b[1;33m,\u001b[0m\u001b[0mh\u001b[0m\u001b[1;33m)\u001b[0m\u001b[1;33m\u001b[0m\u001b[0m\n\u001b[0m",
      "\u001b[0;32m<ipython-input-3-e7b57f74934e>\u001b[0m in \u001b[0;36mtrapezoid\u001b[0;34m(s, x, h)\u001b[0m\n\u001b[1;32m      7\u001b[0m             \u001b[0ms\u001b[0m\u001b[1;33m=\u001b[0m\u001b[0ms\u001b[0m\u001b[1;33m+\u001b[0m\u001b[1;36m1\u001b[0m\u001b[1;33m\u001b[0m\u001b[0m\n\u001b[1;32m      8\u001b[0m     \u001b[1;32melse\u001b[0m\u001b[1;33m:\u001b[0m\u001b[1;33m\u001b[0m\u001b[0m\n\u001b[0;32m----> 9\u001b[0;31m         \u001b[1;32mfor\u001b[0m \u001b[0mi\u001b[0m \u001b[1;32min\u001b[0m \u001b[0mh\u001b[0m\u001b[1;33m-\u001b[0m\u001b[1;36m1\u001b[0m\u001b[1;33m:\u001b[0m\u001b[1;33m\u001b[0m\u001b[0m\n\u001b[0m\u001b[1;32m     10\u001b[0m             \u001b[0mprint\u001b[0m\u001b[1;33m(\u001b[0m\u001b[1;34m' '\u001b[0m\u001b[1;33m*\u001b[0m\u001b[1;33m(\u001b[0m\u001b[1;33m(\u001b[0m\u001b[0mx\u001b[0m\u001b[1;33m-\u001b[0m\u001b[0ms\u001b[0m\u001b[1;33m)\u001b[0m\u001b[1;33m/\u001b[0m\u001b[1;36m2\u001b[0m\u001b[1;33m)\u001b[0m\u001b[1;33m+\u001b[0m\u001b[1;34m'@'\u001b[0m\u001b[1;33m*\u001b[0m\u001b[0mn\u001b[0m\u001b[1;33m)\u001b[0m\u001b[1;33m\u001b[0m\u001b[0m\n\u001b[1;32m     11\u001b[0m             \u001b[0mn\u001b[0m\u001b[1;33m=\u001b[0m\u001b[0mn\u001b[0m\u001b[1;33m+\u001b[0m\u001b[0madd\u001b[0m\u001b[1;33m\u001b[0m\u001b[0m\n",
      "\u001b[0;31mTypeError\u001b[0m: 'int' object is not iterable"
     ]
    }
   ],
   "source": [
    "#写函数，根据给定符号，上底、下底、高，打印各种梯形。\n",
    "\n",
    "def trapezoid(s,x,h):\n",
    "    if s+h==x:\n",
    "        for i in h:\n",
    "            print('@'*s)\n",
    "            s=s+1\n",
    "    else: \n",
    "        for i in h-1:\n",
    "            print(' '*((x-s)/2)+'@'*n)\n",
    "            n=n+add\n",
    "        print('@'*x)\n",
    "            \n",
    "        \n",
    "\n",
    "s=int(input('输入你想要的上底 '))\n",
    "x=int(input('输入你想要的下底'))\n",
    "h=int(input('输入你想要的高'))\n",
    "i=1\n",
    "n=s\n",
    "add=int((s-x)/h)\n",
    "trapezoid(s,x,h)\n"
   ]
  },
  {
   "cell_type": "code",
   "execution_count": 45,
   "metadata": {
    "collapsed": false
   },
   "outputs": [
    {
     "name": "stdout",
     "output_type": "stream",
     "text": [
      "             *\n",
      "            ***\n",
      "           *****\n",
      "          *******\n",
      "         *********\n",
      "        ***********\n",
      "       *************\n",
      "      ***************\n",
      "     *****************\n",
      "    *******************\n",
      "   *********************\n",
      "  ***********************\n",
      " *************************\n",
      " *************************\n",
      "  ***********************\n",
      "   *********************\n",
      "    *******************\n",
      "     *****************\n",
      "      ***************\n",
      "       *************\n",
      "        ***********\n",
      "         *********\n",
      "          *******\n",
      "           *****\n",
      "            ***\n",
      "             *\n"
     ]
    }
   ],
   "source": [
    "#写函数，根据给定符号，打印各种菱形。\n",
    "def plalindrome1(line):\n",
    "    for i in range(1, len(line)*2):\n",
    "        if i == 1:\n",
    "            print(' '*(len(line)*2-1) +line[0])\n",
    "        elif i%2 == 1:\n",
    "            print(' '*(len(line)*2-i) + line[:i//2] + line[i//2] + line[i//2-1::-1]+'*'*(i-1))\n",
    "        else:\n",
    "            print(' '*(len(line)*2-i) + line[:i//2] + line[i//2-1::-1]+'*'*(i-1))\n",
    "\n",
    "def plalindrome2(line):\n",
    "    for i in range(1, len(line)*2-1):\n",
    "        if i%2 == 0:\n",
    "            print(' '*i + line[:len(line)-(i//2)] +line[len(line)-(i//2)-1::-1]+'*'*(13-i))\n",
    "        else :\n",
    "            print(' '*i + line[:len(line)-((i//2)+1)]  +line[len(line)-(i//2)-1::-1]+'*'*(13-i))\n",
    "    print(' '*(len(line)*2-1) + line[0] )\n",
    "    \n",
    "\n",
    "text1 = '*******'\n",
    "text2 = '*******'\n",
    "plalindrome1(text1)\n",
    "plalindrome2(text2)\n"
   ]
  },
  {
   "cell_type": "code",
   "execution_count": 36,
   "metadata": {
    "collapsed": false,
    "scrolled": true
   },
   "outputs": [
    {
     "name": "stdout",
     "output_type": "stream",
     "text": [
      " 赏花归去马如飞如马去归花赏\n",
      "  赏花归去马如如马去归花赏\n",
      "   赏花归去马如马去归花赏\n",
      "    赏花归去马马去归花赏\n",
      "     赏花归去马去归花赏\n",
      "      赏花归去去归花赏\n",
      "       赏花归去归花赏\n",
      "        赏花归归花赏\n",
      "         赏花归花赏\n",
      "          赏花花赏\n",
      "           赏花赏\n",
      "            赏赏\n",
      "             赏\n"
     ]
    }
   ],
   "source": [
    "#与本小节任务基本相同，但要求打印回文字符倒三角形。\n",
    "def plalindrome(line):\n",
    "    for i in range(1, len(line)*2-1):\n",
    "        if i%2 == 0:\n",
    "            print(' '*i + line[:len(line)-(i//2)] +line[len(line)-(i//2)-1::-1])\n",
    "        else :\n",
    "            print(' '*i + line[:len(line)-((i//2)+1)]  +line[len(line)-(i//2)-1::-1])\n",
    "    print(' '*(len(line)*2-1) + line[0] )\n",
    "\n",
    "def main():\n",
    "    text = '赏花归去马如飞'\n",
    "    plalindrome(text)\n",
    "    \n",
    "\n",
    "if __name__ == '__main__':\n",
    "    main()"
   ]
  },
  {
   "cell_type": "code",
   "execution_count": 18,
   "metadata": {
    "collapsed": false,
    "scrolled": true
   },
   "outputs": [
    {
     "ename": "SyntaxError",
     "evalue": "invalid syntax (<ipython-input-18-ac90aa3ca72b>, line 6)",
     "output_type": "error",
     "traceback": [
      "\u001b[0;36m  File \u001b[0;32m\"<ipython-input-18-ac90aa3ca72b>\"\u001b[0;36m, line \u001b[0;32m6\u001b[0m\n\u001b[0;31m    print(line[(len(line)*2-i::1) + line[:i//2] + line[i//2] + line[i//2-1::-1])\u001b[0m\n\u001b[0m                             ^\u001b[0m\n\u001b[0;31mSyntaxError\u001b[0m\u001b[0;31m:\u001b[0m invalid syntax\n"
     ]
    }
   ],
   "source": []
  }
 ],
 "metadata": {
  "kernelspec": {
   "display_name": "Python 3",
   "language": "python",
   "name": "python3"
  },
  "language_info": {
   "codemirror_mode": {
    "name": "ipython",
    "version": 3
   },
   "file_extension": ".py",
   "mimetype": "text/x-python",
   "name": "python",
   "nbconvert_exporter": "python",
   "pygments_lexer": "ipython3",
   "version": "3.6.0"
  }
 },
 "nbformat": 4,
 "nbformat_minor": 2
}
