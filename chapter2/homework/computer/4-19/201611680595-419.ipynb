{
 "cells": [
  {
   "cell_type": "code",
   "execution_count": null,
   "metadata": {
    "collapsed": false
   },
   "outputs": [],
   "source": [
    "#练习一：自己定义一个reverse(s)函数，功能返回字符串s的倒序字符串。\n",
    "def reverse():\n",
    "    s = tuple(input(\"please enter a string,end with a tab: \"))\n",
    "    print(s[::-1])\n",
    "    \n",
    "reverse()\n"
   ]
  },
  {
   "cell_type": "code",
   "execution_count": 5,
   "metadata": {
    "collapsed": false
   },
   "outputs": [
    {
     "name": "stdout",
     "output_type": "stream",
     "text": [
      "please enter a noun,end with a tab: apple\n",
      "apples"
     ]
    }
   ],
   "source": [
    "#练习三:和发音规则无关的特例咋整啊...呜呜呜呜呜呜呜\n",
    "#s[i] = x [1,2,1,4,5,6,7,8] s中第i个对象替换成x\n",
    "#s.append(x) [1,2,3,4,5,6,7,8,1] 将x加入到s的末端，等价于s[len(s):len(s)] = [x]\n",
    "\n",
    "def plural():\n",
    "    word = [input('please enter a noun,end with a tab: ')]\n",
    "    i = 0\n",
    "\n",
    "    if word[len(word)-1] == 'o' or word[len(word)-1] == 's' or word[len(word)-1] == 'x' or word[len(word)-1] == 'sh' or word[len(word)-1] == 'ch':\n",
    "        word.append('e')\n",
    "        word.append('s')\n",
    "    elif word[len(word)-1] == 'y':\n",
    "        if word[len(word)-2] != 'a' or word[len(word)-2] != 'e' or word[len(word)-2] != 'i' or word[len(word)-2] != 'o' or word[len(word)-2] != 'u':\n",
    "            word[len(word)-1] = 'i'\n",
    "            word.append('e')\n",
    "            word.append('s')\n",
    "        else :\n",
    "            word.append('s')\n",
    "    else :\n",
    "        word.append('s')\n",
    "        \n",
    "    for i in range(len(word)):\n",
    "        print(word[i],end='')\n",
    "    \n",
    "    \n",
    "\n",
    "plural()\n",
    "        \n",
    "    \n",
    "\n",
    "   "
   ]
  },
  {
   "cell_type": "code",
   "execution_count": 17,
   "metadata": {
    "collapsed": false
   },
   "outputs": [
    {
     "name": "stdout",
     "output_type": "stream",
     "text": [
      "please enter a row,end with a tab: 5\n",
      "t\n",
      "tt\n",
      "ttt\n",
      "tttt\n",
      "ttttt\n",
      "please enter an odd integer,end with a tab: 5\n",
      "      t\n",
      "     ttt\n",
      "    ttttt\n",
      "   ttttttt\n",
      "  ttttttttt\n"
     ]
    }
   ],
   "source": [
    "#练习二：写函数，根据给定符号和行数，打印相应直角三角形，等腰三角形及其他形式的三角形。\n",
    "def right_tri():\n",
    "    l = int(input('please enter a row,end with a tab: '))\n",
    "    s = 't'*l\n",
    "    \n",
    "    for i in range(1,len(s)+1):\n",
    "        for j in range(0,i):\n",
    "            print(s[0],end='')\n",
    "        print()\n",
    "def iso_tri():\n",
    "    l = int(input('please enter an odd integer,end with a tab: '))\n",
    "    s = 't'*l\n",
    "    t = l\n",
    "    \n",
    "    for i in range(1,l+1):\n",
    "        print(' '*t,s[0]*(2*i-1))\n",
    "        t -=1\n",
    "     \n",
    "right_tri()\n",
    "iso_tri()"
   ]
  }
 ],
 "metadata": {
  "kernelspec": {
   "display_name": "Python 3",
   "language": "python",
   "name": "python3"
  },
  "language_info": {
   "codemirror_mode": {
    "name": "ipython",
    "version": 3
   },
   "file_extension": ".py",
   "mimetype": "text/x-python",
   "name": "python",
   "nbconvert_exporter": "python",
   "pygments_lexer": "ipython3",
   "version": "3.6.0"
  }
 },
 "nbformat": 4,
 "nbformat_minor": 2
}
