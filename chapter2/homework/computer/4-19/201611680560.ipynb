{
 "cells": [
  {
   "cell_type": "markdown",
   "metadata": {
    "deletable": true,
    "editable": true
   },
   "source": [
    "练习一：自定义reverse函数"
   ]
  },
  {
   "cell_type": "code",
   "execution_count": 1,
   "metadata": {
    "collapsed": false,
    "deletable": true,
    "editable": true
   },
   "outputs": [
    {
     "name": "stdout",
     "output_type": "stream",
     "text": [
      "[5, 4, 3, 2, 1]\n"
     ]
    }
   ],
   "source": [
    "def myreverse(s):\n",
    "    r = str()\n",
    "    r = s[::-1]\n",
    "    return r\n",
    "\n",
    "s = [1,2,3,4,5]\n",
    "print(myreverse(s))"
   ]
  },
  {
   "cell_type": "markdown",
   "metadata": {
    "collapsed": true,
    "deletable": true,
    "editable": true
   },
   "source": [
    "练习二：写函数，根据给定符号和行数，打印相应直角三角形，等腰三角形及其他形式的三角形。"
   ]
  },
  {
   "cell_type": "code",
   "execution_count": 11,
   "metadata": {
    "collapsed": false
   },
   "outputs": [
    {
     "name": "stdout",
     "output_type": "stream",
     "text": [
      "6\n",
      "66\n",
      "666\n",
      "6666\n",
      "66666\n",
      "666666\n",
      "--------------------\n",
      "       6\n",
      "      666\n",
      "     66666\n",
      "    6666666\n",
      "   666666666\n",
      "  66666666666\n",
      "--------------------\n",
      "  6\n",
      "   666\n",
      "    66666\n",
      "     6666666\n",
      "      666666666\n",
      "       66666666666\n"
     ]
    }
   ],
   "source": [
    "def triangle(s,l):\n",
    "    for i in range(1,l+1):\n",
    "        print(s*i)\n",
    "    print('-'*20)\n",
    "    \n",
    "    t = l\n",
    "    for i in range(1,l+1):\n",
    "        print(' '*t,s*(2*i-1))\n",
    "        t -= 1\n",
    "    print('-'*20)\n",
    "        \n",
    "    for i in range(1,l+1):\n",
    "        print(' '*i,s*(2*i-1))\n",
    "        \n",
    "s = '6'\n",
    "l = 6\n",
    "triangle(s,l)"
   ]
  },
  {
   "cell_type": "markdown",
   "metadata": {},
   "source": [
    "练习三：将任务4中的英语名词单数变复数的函数，尽可能的考虑多种情况，重新进行实现。"
   ]
  },
  {
   "cell_type": "code",
   "execution_count": 13,
   "metadata": {
    "collapsed": false
   },
   "outputs": [
    {
     "name": "stdout",
     "output_type": "stream",
     "text": [
      "请输入一个英文单词：box\n",
      "boxes\n"
     ]
    }
   ],
   "source": [
    "def danci(word):\n",
    "    if word.endswith('x') or word.endswith('o'):\n",
    "        print(word+\"es\")\n",
    "    elif word.endswith('ch') or word.endswith('sh'):\n",
    "        print(word+\"es\")\n",
    "    else :\n",
    "        print(word+\"s\")\n",
    "        \n",
    "word=input(\"请输入一个英文单词：\")\n",
    "danci(word)"
   ]
  }
 ],
 "metadata": {
  "kernelspec": {
   "display_name": "Python 3",
   "language": "python",
   "name": "python3"
  },
  "language_info": {
   "codemirror_mode": {
    "name": "ipython",
    "version": 3
   },
   "file_extension": ".py",
   "mimetype": "text/x-python",
   "name": "python",
   "nbconvert_exporter": "python",
   "pygments_lexer": "ipython3",
   "version": "3.6.0"
  }
 },
 "nbformat": 4,
 "nbformat_minor": 2
}
