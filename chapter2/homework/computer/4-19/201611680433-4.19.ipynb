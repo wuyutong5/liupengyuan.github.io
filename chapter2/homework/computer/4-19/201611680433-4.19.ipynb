{
 "cells": [
  {
   "cell_type": "code",
   "execution_count": null,
   "metadata": {
    "collapsed": true
   },
   "outputs": [],
   "source": [
    "练习一：自己定义一个reverse(s)函数，功能返回字符串s的倒序字符串。"
   ]
  },
  {
   "cell_type": "code",
   "execution_count": 1,
   "metadata": {
    "collapsed": false
   },
   "outputs": [
    {
     "name": "stdout",
     "output_type": "stream",
     "text": [
      "请输入字符串：abcdefg\n",
      "gfedcba\n"
     ]
    }
   ],
   "source": [
    "def reverse(line):\n",
    "    print(line[len(line)::-1])\n",
    "\n",
    "line=[]\n",
    "line=input('请输入字符串：')\n",
    "reverse(line)"
   ]
  },
  {
   "cell_type": "code",
   "execution_count": null,
   "metadata": {
    "collapsed": true
   },
   "outputs": [],
   "source": [
    "练习二：写函数，根据给定符号和行数，打印相应直角三角形，等腰三角形及其他形式的三角形。"
   ]
  },
  {
   "cell_type": "code",
   "execution_count": 2,
   "metadata": {
    "collapsed": false
   },
   "outputs": [
    {
     "name": "stdout",
     "output_type": "stream",
     "text": [
      "请输入给定符号：tttttttt\n",
      "请输入所打行数：7\n",
      "t\n",
      "tt\n",
      "ttt\n",
      "tttt\n",
      "ttttt\n",
      "tttttt\n",
      "ttttttt\n",
      "      t\n",
      "     ttt\n",
      "    ttttt\n",
      "   ttttttt\n",
      "  ttttttttt\n",
      " ttttttttttt\n",
      "ttttttttttttt\n"
     ]
    }
   ],
   "source": [
    "def funxprintzhijiao(line,hang):\n",
    "    for i in range(1,hang+1):\n",
    "        if i==1:\n",
    "            print(line[0])\n",
    "        elif i%2==1:\n",
    "            print(line[:i//2]+line[i//2]+line[i//2-1::-1])\n",
    "        else:\n",
    "            print(line[:i//2]+line[i//2-1::-1])\n",
    "            \n",
    "            \n",
    "            \n",
    "def funxprintdengyao(line,hang):\n",
    "    for i in range(1,hang+1):\n",
    "        if i == 1:\n",
    "            print(' '*(hang-1)+line[0])\n",
    "        else:\n",
    "            print(' '*(hang-i)+line[0]*(2*i-1))\n",
    "\n",
    "\n",
    "line=[]\n",
    "line=input('请输入给定符号：')\n",
    "n=int(input('请输入所打行数：'))\n",
    "funxprintzhijiao(line,n)\n",
    "funxprintdengyao(line,n)"
   ]
  },
  {
   "cell_type": "code",
   "execution_count": null,
   "metadata": {
    "collapsed": true
   },
   "outputs": [],
   "source": [
    "练习三：将任务4中的英语名词单数变复数的函数，尽可能的考虑多种情况，重新进行实现。"
   ]
  },
  {
   "cell_type": "code",
   "execution_count": 3,
   "metadata": {
    "collapsed": false
   },
   "outputs": [
    {
     "name": "stdout",
     "output_type": "stream",
     "text": [
      "please input a word:stress\n",
      "stresses\n"
     ]
    }
   ],
   "source": [
    "def zimubianxing(danshu):\n",
    "    if danshu.endswith('x') or danshu.endswith('s') or danshu.endswith('sh') or danshu.endswith('ch'):\n",
    "        print(danshu+'es')\n",
    "    else:\n",
    "        print(danshu+'s')\n",
    "        \n",
    "word=[]\n",
    "word=input('please input a word:')\n",
    "\n",
    "zimubianxing(word)"
   ]
  },
  {
   "cell_type": "code",
   "execution_count": null,
   "metadata": {
    "collapsed": true
   },
   "outputs": [],
   "source": []
  }
 ],
 "metadata": {
  "kernelspec": {
   "display_name": "Python 3",
   "language": "python",
   "name": "python3"
  },
  "language_info": {
   "codemirror_mode": {
    "name": "ipython",
    "version": 3
   },
   "file_extension": ".py",
   "mimetype": "text/x-python",
   "name": "python",
   "nbconvert_exporter": "python",
   "pygments_lexer": "ipython3",
   "version": "3.6.0"
  }
 },
 "nbformat": 4,
 "nbformat_minor": 2
}
