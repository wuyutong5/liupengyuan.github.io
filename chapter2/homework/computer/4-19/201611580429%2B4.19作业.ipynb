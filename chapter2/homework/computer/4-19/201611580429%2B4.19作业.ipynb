{
 "cells": [
  {
   "cell_type": "code",
   "execution_count": 2,
   "metadata": {
    "collapsed": false
   },
   "outputs": [
    {
     "name": "stdout",
     "output_type": "stream",
     "text": [
      "学大言语京北\n"
     ]
    }
   ],
   "source": [
    "#自己定义一个reverse(s)函数，功能返回字符串s的倒序字符串。\n",
    "def reverse(s):\n",
    "    x=len(s)\n",
    "    print(s[x-1:0:-1] + s[0])\n",
    "reverse(\"北京语言大学\")"
   ]
  },
  {
   "cell_type": "code",
   "execution_count": 4,
   "metadata": {
    "collapsed": false
   },
   "outputs": [
    {
     "name": "stdout",
     "output_type": "stream",
     "text": [
      "4\n",
      "*\n",
      "**\n",
      "***\n",
      "****\n"
     ]
    }
   ],
   "source": [
    "#写函数，根据给定符号和行数，打印相应直角三角形，等腰三角形及其他形式的三角形。\n",
    "#直角三角形\n",
    "def ratriangle(s):\n",
    "    k=int(input())\n",
    "    for i in range(0, k):\n",
    "        for j in range(0,i+1):\n",
    "            print(s[0], end='')\n",
    "        print()\n",
    "ratriangle(\"*\")\n"
   ]
  },
  {
   "cell_type": "code",
   "execution_count": 5,
   "metadata": {
    "collapsed": false
   },
   "outputs": [
    {
     "name": "stdout",
     "output_type": "stream",
     "text": [
      "5\n",
      "    *\n",
      "   ***\n",
      "  *****\n",
      " *******\n",
      "*********\n"
     ]
    }
   ],
   "source": [
    "#等腰三角形\n",
    "def triangle(s):\n",
    "    t=int(input())\n",
    "    for i in range(1, t+1):\n",
    "        for k in range(t-i,0,-1):\n",
    "            print(' ', end='')\n",
    "        for j in range(1,i*2):\n",
    "            print(s[0], end='')\n",
    "        print()\n",
    "triangle(\"*\")"
   ]
  },
  {
   "cell_type": "code",
   "execution_count": 6,
   "metadata": {
    "collapsed": false
   },
   "outputs": [
    {
     "data": {
      "text/plain": [
       "'fixes'"
      ]
     },
     "execution_count": 6,
     "metadata": {},
     "output_type": "execute_result"
    }
   ],
   "source": [
    "#练习三：将任务4中的英语名词单数变复数的函数，尽可能的考虑多种情况，重新进行实现。\n",
    "def plural(word):  \n",
    "    if word.endswith('y'):  \n",
    "        return word[:-1] + 'ies'  \n",
    "    elif word[-1] in 'sx' or word[-2:] in ['sh', 'ch']:  \n",
    "        return word + 'es'  \n",
    "    elif word.endswith('an'):  \n",
    "        return word[:-2] + 'en'  \n",
    "    else:  \n",
    "        return word + 's'  \n",
    "plural(\"fix\")"
   ]
  },
  {
   "cell_type": "code",
   "execution_count": null,
   "metadata": {
    "collapsed": true
   },
   "outputs": [],
   "source": []
  },
  {
   "cell_type": "code",
   "execution_count": null,
   "metadata": {
    "collapsed": true
   },
   "outputs": [],
   "source": []
  },
  {
   "cell_type": "code",
   "execution_count": null,
   "metadata": {
    "collapsed": true
   },
   "outputs": [],
   "source": []
  }
 ],
 "metadata": {
  "kernelspec": {
   "display_name": "Python [default]",
   "language": "python",
   "name": "python3"
  },
  "language_info": {
   "codemirror_mode": {
    "name": "ipython",
    "version": 3
   },
   "file_extension": ".py",
   "mimetype": "text/x-python",
   "name": "python",
   "nbconvert_exporter": "python",
   "pygments_lexer": "ipython3",
   "version": "3.5.2"
  }
 },
 "nbformat": 4,
 "nbformat_minor": 1
}
