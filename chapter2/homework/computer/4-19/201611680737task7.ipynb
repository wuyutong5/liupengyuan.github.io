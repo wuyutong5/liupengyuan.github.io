{
 "cells": [
  {
   "cell_type": "markdown",
   "metadata": {
    "deletable": true,
    "editable": true
   },
   "source": [
    "自己定义一个reverse(s)函数，功能返回字符串s的倒序字符串。"
   ]
  },
  {
   "cell_type": "code",
   "execution_count": 2,
   "metadata": {
    "collapsed": false,
    "deletable": true,
    "editable": true
   },
   "outputs": [
    {
     "name": "stdout",
     "output_type": "stream",
     "text": [
      "我爱你\n"
     ]
    }
   ],
   "source": [
    "def reverse(s):\n",
    "    x=len(s)\n",
    "    print(s[x-1:0:-1] + s[0])\n",
    "reverse(\"你爱我\")"
   ]
  },
  {
   "cell_type": "markdown",
   "metadata": {
    "deletable": true,
    "editable": true
   },
   "source": [
    "写函数，根据给定符号和行数，打印相应直角三角形，等腰三角形及其他形式的三角形。"
   ]
  },
  {
   "cell_type": "code",
   "execution_count": 5,
   "metadata": {
    "collapsed": false,
    "deletable": true,
    "editable": true
   },
   "outputs": [
    {
     "name": "stdout",
     "output_type": "stream",
     "text": [
      "\n",
      "啦\n",
      "啦啦\n",
      "啦啦啦\n",
      "啦啦啦啦\n",
      "啦啦啦啦啦\n",
      "啦啦啦啦啦啦\n",
      "啦啦啦啦啦啦啦\n",
      "啦啦啦啦啦啦啦啦\n",
      "啦啦啦啦啦啦啦啦啦\n",
      "         啦\n",
      "        啦啦\n",
      "       啦啦啦\n",
      "      啦啦啦啦\n",
      "     啦啦啦啦啦\n",
      "    啦啦啦啦啦啦\n",
      "   啦啦啦啦啦啦啦\n",
      "  啦啦啦啦啦啦啦啦\n",
      " 啦啦啦啦啦啦啦啦啦\n",
      "啦啦啦啦啦啦啦啦啦啦\n"
     ]
    }
   ],
   "source": [
    "def Right(a):\n",
    "    for i in range(1, len(a)*2+1):\n",
    "        for j in range(1,i):\n",
    "            print(a[0], end='')\n",
    "        print()\n",
    "        \n",
    "def Equilateral(a):\n",
    "    for m in range(1, len(a)*2+1):\n",
    "        print((len(a)*2-m)*' ' + a[0]*m, end='')\n",
    "        print()        \n",
    "Right(\"啦啦啦啦啦\")\n",
    "Equilateral(\"啦啦啦啦啦\")\n"
   ]
  },
  {
   "cell_type": "markdown",
   "metadata": {
    "deletable": true,
    "editable": true
   },
   "source": [
    "将任务4中的英语名词单数变复数的函数，尽可能的考虑多种情况，重新进行实现。"
   ]
  },
  {
   "cell_type": "code",
   "execution_count": 6,
   "metadata": {
    "collapsed": false,
    "deletable": true,
    "editable": true
   },
   "outputs": [
    {
     "name": "stdout",
     "output_type": "stream",
     "text": [
      "请输入一个英文单词：girl\n",
      "girls\n"
     ]
    }
   ],
   "source": [
    "def danci(word):\n",
    "    if word.endswith('x') or word.endswith('o'):\n",
    "        print(word+\"es\")\n",
    "    elif word.endswith('ch') or word.endswith('sh'):\n",
    "        print(word+\"es\")\n",
    "    else :\n",
    "        print(word+\"s\")\n",
    "        \n",
    "word=input(\"请输入一个英文单词：\")\n",
    "danci(word)"
   ]
  },
  {
   "cell_type": "markdown",
   "metadata": {},
   "source": [
    "练习四，写函数，根据给定符号、上底、下底、高，打印各种梯形。"
   ]
  },
  {
   "cell_type": "code",
   "execution_count": 1,
   "metadata": {
    "collapsed": false
   },
   "outputs": [
    {
     "name": "stdout",
     "output_type": "stream",
     "text": [
      "请输入符号：o\n",
      "请输入上底：3\n",
      "请输入高：7\n",
      "          ooo\n",
      "          oooo\n",
      "          ooooo\n",
      "          oooooo\n",
      "          ooooooo\n",
      "          oooooooo\n",
      "          ooooooooo\n"
     ]
    }
   ],
   "source": [
    "def print_trapezoid(a,b,d):\n",
    "    for i in range(0,d):\n",
    "        print(' '*(h + ul) + a*(i + ul))\n",
    "            \n",
    "s = input('请输入符号：')\n",
    "ul = int(input('请输入上底：'))\n",
    "\n",
    "h = int(input('请输入高：'))\n",
    "print_trapezoid(s,ul,h)"
   ]
  },
  {
   "cell_type": "markdown",
   "metadata": {},
   "source": [
    "练习五：写函数，根据给定符号，打印各种菱形。"
   ]
  },
  {
   "cell_type": "code",
   "execution_count": 2,
   "metadata": {
    "collapsed": false
   },
   "outputs": [
    {
     "name": "stdout",
     "output_type": "stream",
     "text": [
      "请输入符号：o\n",
      "请输入菱形边长: 5\n",
      "     \n",
      "    o\n",
      "   ooo\n",
      "  ooooo\n",
      " ooooooo\n",
      "ooooooooo\n",
      " ooooooo\n",
      "  ooooo\n",
      "   ooo\n",
      "    o\n",
      "\n"
     ]
    }
   ],
   "source": [
    "def rhombus(symbol,a):\n",
    "    for i in range(0, a):\n",
    "        for j in range(0,a-i):           \n",
    "            print(' ',end='')\n",
    "        for k in range(0,2*i-1):\n",
    "            print (symbol,end='')\n",
    "        print()\n",
    "    for i in range(a,0,-1):\n",
    "        for j in range(0,a-i):           \n",
    "            print(' ',end='')\n",
    "        for k in range(0,2*i-1):\n",
    "            print (symbol,end='')\n",
    "        print()\n",
    "\n",
    "        \n",
    "symbol=input('请输入符号：')\n",
    "a=int(input('请输入菱形边长: '))\n",
    "rhombus(symbol,a) \n",
    "print()"
   ]
  },
  {
   "cell_type": "markdown",
   "metadata": {},
   "source": [
    "练习六：与本小节任务基本相同，但要求打印回文字符倒三角形"
   ]
  },
  {
   "cell_type": "code",
   "execution_count": 3,
   "metadata": {
    "collapsed": false
   },
   "outputs": [
    {
     "name": "stdout",
     "output_type": "stream",
     "text": [
      "赏花归去马如飞飞如马去归花赏\n",
      " 赏花归去马如飞如马去归花赏\n",
      "  赏花归去马如如马去归花赏\n",
      "   赏花归去马如马去归花赏\n",
      "    赏花归去马马去归花赏\n",
      "     赏花归去马去归花赏\n",
      "      赏花归去去归花赏\n",
      "       赏花归去归花赏\n",
      "        赏花归归花赏\n",
      "         赏花归花赏\n",
      "          赏花花赏\n",
      "           赏花赏\n",
      "            赏赏\n",
      "             赏\n"
     ]
    }
   ],
   "source": [
    "def plalindrome(line):\n",
    "    for i in range( len(line)*2,0,-1):\n",
    "        if i == 1:\n",
    "            print(' '*(len(line)*2-1) +line[0])\n",
    "        elif i%2 == 1:\n",
    "            print(' '*(len(line)*2-i) + line[:i//2] + line[i//2] + line[i//2-1::-1])\n",
    "        else:\n",
    "            print(' '*(len(line)*2-i) + line[:i//2] + line[i//2-1::-1])\n",
    "\n",
    "\n",
    "text = '赏花归去马如飞'\n",
    "plalindrome(text)"
   ]
  }
 ],
 "metadata": {
  "kernelspec": {
   "display_name": "Python 3",
   "language": "python",
   "name": "python3"
  },
  "language_info": {
   "codemirror_mode": {
    "name": "ipython",
    "version": 3
   },
   "file_extension": ".py",
   "mimetype": "text/x-python",
   "name": "python",
   "nbconvert_exporter": "python",
   "pygments_lexer": "ipython3",
   "version": "3.6.0"
  }
 },
 "nbformat": 4,
 "nbformat_minor": 2
}
