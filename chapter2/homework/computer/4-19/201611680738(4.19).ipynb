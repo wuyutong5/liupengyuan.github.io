{
 "cells": [
  {
   "cell_type": "code",
   "execution_count": 2,
   "metadata": {
    "collapsed": false,
    "deletable": true,
    "editable": true
   },
   "outputs": [
    {
     "name": "stdout",
     "output_type": "stream",
     "text": [
      "请输入一串字符asdf\n",
      "fdsa\n"
     ]
    }
   ],
   "source": [
    "def revers(line):\n",
    "    print(line[len(line)-1::-1])\n",
    "s = str(input('请输入一串字符'))\n",
    "revers(s)"
   ]
  },
  {
   "cell_type": "code",
   "execution_count": 1,
   "metadata": {
    "collapsed": false,
    "deletable": true,
    "editable": true
   },
   "outputs": [
    {
     "name": "stdout",
     "output_type": "stream",
     "text": [
      "plz enter the height of the triangle\n",
      "5\n",
      "|\\\n",
      "| \\\n",
      "|  \\\n",
      "|   \\\n",
      "|____\\\n",
      " \n",
      "     /\\\n",
      "    /  \\\n",
      "   /    \\\n",
      "  /      \\\n",
      " /________\\\n"
     ]
    }
   ],
   "source": [
    "def triangle (x):\n",
    "    for i in range (x): \n",
    "        if i<x-1:\n",
    "            print('|'+' '*i+'\\\\')\n",
    "        elif i==x-1:  print('|'+'_'*i+'\\\\')\n",
    "    print(' ')\n",
    "    for i in range (x):\n",
    "        if i<x-1:\n",
    "            print(' '*(x-i)+'/'+' '*(2*i)+'\\\\')\n",
    "        elif i==x-1:\n",
    "            print(' '+'/'+'_'*(i+x-1)+'\\\\')\n",
    "    \n",
    "x=int(input(\"plz enter the height of the triangle\\n\"))\n",
    "triangle(x)\n"
   ]
  },
  {
   "cell_type": "code",
   "execution_count": 5,
   "metadata": {
    "collapsed": false,
    "deletable": true,
    "editable": true
   },
   "outputs": [
    {
     "name": "stdout",
     "output_type": "stream",
     "text": [
      "请输入一个单词的单数形式box\n",
      "boxes\n"
     ]
    }
   ],
   "source": [
    "def pl(line):\n",
    "    x = len(line)\n",
    "    if line[x-1] == 'y':\n",
    "        print(line[:x-1]+'ies')\n",
    "    elif line[x-1] == 's' or line[x-1] == 'x' or line[x-1] == 'z' or line[x-2:x] == 'ch' or line[x-2:x] == 'sh':\n",
    "        print(line[:]+'es')\n",
    "    else:\n",
    "        print(line[:]+'s')\n",
    "word = input('请输入一个单词的单数形式')\n",
    "pl(word)"
   ]
  }
 ],
 "metadata": {
  "kernelspec": {
   "display_name": "Python 3",
   "language": "python",
   "name": "python3"
  },
  "language_info": {
   "codemirror_mode": {
    "name": "ipython",
    "version": 3
   },
   "file_extension": ".py",
   "mimetype": "text/x-python",
   "name": "python",
   "nbconvert_exporter": "python",
   "pygments_lexer": "ipython3",
   "version": "3.6.0"
  }
 },
 "nbformat": 4,
 "nbformat_minor": 2
}
