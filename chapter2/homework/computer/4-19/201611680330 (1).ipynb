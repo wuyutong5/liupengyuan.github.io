{
 "cells": [
  {
   "cell_type": "code",
   "execution_count": 12,
   "metadata": {
    "collapsed": false,
    "deletable": true,
    "editable": true
   },
   "outputs": [
    {
     "name": "stdout",
     "output_type": "stream",
     "text": [
      "qwe\n",
      "ewq\n"
     ]
    }
   ],
   "source": [
    "#自己定义一个reverse(s)函数，功能返回字符串s的倒序字符串。\n",
    "def order(line):\n",
    "    i=0\n",
    "    for n in line:\n",
    "        i+=1\n",
    "    print(line[i+1::-1])\n",
    "lin=str(input())\n",
    "order(lin)"
   ]
  },
  {
   "cell_type": "code",
   "execution_count": 9,
   "metadata": {
    "collapsed": false,
    "deletable": true,
    "editable": true
   },
   "outputs": [
    {
     "name": "stdout",
     "output_type": "stream",
     "text": [
      "请输入一个符号\n",
      "*\n",
      "请输入指定行数\n",
      "4\n",
      "直角三角形\n",
      "*\n",
      "**\n",
      "***\n",
      "****\n",
      "\n",
      "等腰三角形\n",
      "   *\n",
      "  ***\n",
      " *****\n",
      "*******\n",
      "\n",
      "其它三角形\n",
      "   *\n",
      "  ****\n",
      " *******\n",
      "**********\n"
     ]
    }
   ],
   "source": [
    "#写函数，根据给定符号和行数，打印相应直角三角形，等腰三角形及其他形式的三角形。\n",
    "print('请输入一个符号')\n",
    "line=str(input())\n",
    "print('请输入指定行数')\n",
    "n=int(input())\n",
    "print('直角三角形')\n",
    "def zhijiao(line):\n",
    "    for i in range(1, n+1):\n",
    "        print(line[0]*i)\n",
    "        i+=1\n",
    "zhijiao(line)\n",
    "print()\n",
    "print('等腰三角形')\n",
    "def dengyao(line):\n",
    "    for i in range(1, n+1):\n",
    "        if i == 1:\n",
    "            print(' '*(n-i) +line[0])\n",
    "        else:\n",
    "            print(' '*(n-i)+ line[0]*(i*2-1))\n",
    "dengyao(line)\n",
    "print()\n",
    "print('其它三角形')\n",
    "def qita(line):\n",
    "    for i in range(1, n+1):\n",
    "        if i == 1:\n",
    "            print(' '*(n-i) +line[0])\n",
    "        else:\n",
    "            print(' '*(n-i)+ line[0]*(i*3-2))\n",
    "qita(line)"
   ]
  },
  {
   "cell_type": "code",
   "execution_count": 49,
   "metadata": {
    "collapsed": false,
    "deletable": true,
    "editable": true
   },
   "outputs": [
    {
     "name": "stdout",
     "output_type": "stream",
     "text": [
      "boy\n",
      "boies\n"
     ]
    }
   ],
   "source": [
    "#将任务4中的英语名词单数变复数的函数，尽可能的考虑多种情况，重新进行实现。\n",
    "line=str(input())\n",
    "def fushu(line):\n",
    "    n=len(line)\n",
    "    if line[n-1]=='s' or line[n-1]=='x' or (line[n-2]=='s' and line[n-1]=='h') or (line[n-2]=='c' and line[n-1]=='h'):\n",
    "        print(line,'es',sep='')\n",
    "    elif (line[n-2]=='a' or line[n-2]=='e' or line[n-2]=='i' or line[n-2]=='o' or line[n-2]=='u') and line[n-1]=='y':\n",
    "        print(line[0:-1],'ies',sep='')\n",
    "    else:\n",
    "        print(line,'s',sep='')\n",
    "fushu(line)\n"
   ]
  },
  {
   "cell_type": "code",
   "execution_count": 1,
   "metadata": {
    "collapsed": false,
    "deletable": true,
    "editable": true
   },
   "outputs": [
    {
     "name": "stdout",
     "output_type": "stream",
     "text": [
      "请输入一个符号\n",
      "@\n",
      "请输入上底\n",
      "3\n",
      "请输入下底\n",
      "8\n",
      "请输入高\n",
      "2\n",
      "--------------------------\n",
      "直角\n",
      "@@@\n",
      "@@@@@@@@\n",
      "--------------------------\n",
      "等腰\n",
      "无法输出等腰梯形\n",
      "--------------------------\n",
      "任意\n",
      "  @@@\n",
      " @@@@@@@@@@@@@\n"
     ]
    }
   ],
   "source": [
    "#练习四：写函数，根据给定符号，上底、下底、高，打印各种梯形。\n",
    "print('请输入一个符号')\n",
    "line=str(input())\n",
    "print('请输入上底')\n",
    "s=int(input())\n",
    "print('请输入下底')\n",
    "x=int(input())\n",
    "print('请输入高')\n",
    "h=int(input())\n",
    "print('--------------------------')\n",
    "print('直角')\n",
    "def zhijiao(line):\n",
    "    if((x-s)//(h-1)>0):\n",
    "        for i in range(0, h):\n",
    "            print(line[0]*s+(i*(x-s)//(h-1))*line[0])\n",
    "            i+=1\n",
    "    else:\n",
    "        print('无法输出直角梯形')\n",
    "zhijiao(line)\n",
    "print('--------------------------')\n",
    "print('等腰')\n",
    "def dengyao(line):\n",
    "    if((x-s)//(h-1)>1 and (x-s)//(h-1)//2==0):\n",
    "        for i in range(0, h):\n",
    "            print(((h-i-1)*(x-s)//(h-1))*' '+line[0]*s+(i*(x-s)//(h-1)*2)*line[0])\n",
    "            i+=1\n",
    "    else:\n",
    "        print('无法输出等腰梯形')\n",
    "dengyao(line)\n",
    "print('--------------------------')\n",
    "print('任意')\n",
    "def renyi(line):\n",
    "    if(x-s)//(h-1)>2 :\n",
    "        for i in range(0, h):\n",
    "            print((h-i)*' '+line[0]*s+(i*(x-s)//(h-1)*2)*line[0])\n",
    "            i+=1\n",
    "    else:\n",
    "        print('无法输出任意梯形')\n",
    "renyi(line)\n",
    "    "
   ]
  },
  {
   "cell_type": "code",
   "execution_count": 40,
   "metadata": {
    "collapsed": false,
    "deletable": true,
    "editable": true
   },
   "outputs": [
    {
     "name": "stdout",
     "output_type": "stream",
     "text": [
      "请输入一个符号\n",
      "*\n",
      "请输入奇数行数\n",
      "5\n",
      "--------------------------\n",
      "任意菱形\n",
      "*\n",
      "**\n",
      "***\n",
      " **\n",
      "  *\n",
      "--------------------------\n",
      "特殊菱形\n",
      "* * * * * \n",
      "* * * * * \n",
      "* * * * * \n",
      "* * * * * \n",
      "* * * * * \n"
     ]
    }
   ],
   "source": [
    "#写函数，根据给定符号，打印各种菱形。\n",
    "print('请输入一个符号')\n",
    "line=str(input())\n",
    "print('请输入奇数行数')\n",
    "n=int(input())\n",
    "print('--------------------------')\n",
    "print('任意菱形')\n",
    "def renyi(line):\n",
    "    for i in range(1, n+1):\n",
    "        if i<=(n)//2:\n",
    "            print(line[0]*i)\n",
    "            i+=1\n",
    "        else:\n",
    "            print((i+(n)//2-n)*' '+(n-i+1)*line[0])\n",
    "renyi(line)\n",
    "print('--------------------------')\n",
    "print('特殊菱形')\n",
    "def teshu(line):\n",
    "     for i in range(1, n+1):\n",
    "            print((line[0]+' ')*n)\n",
    "teshu(line)\n"
   ]
  },
  {
   "cell_type": "code",
   "execution_count": 15,
   "metadata": {
    "collapsed": false
   },
   "outputs": [
    {
     "name": "stdout",
     "output_type": "stream",
     "text": [
      " 赏花归去马如飞如马去归花赏\n",
      "  赏花归去马如如马去归花赏\n",
      "   赏花归去马如马去归花赏\n",
      "    赏花归去马马去归花赏\n",
      "     赏花归去马去归花赏\n",
      "      赏花归去去归花赏\n",
      "       赏花归去归花赏\n",
      "        赏花归归花赏\n",
      "         赏花归花赏\n",
      "          赏花花赏\n",
      "           赏花赏\n",
      "            赏赏\n",
      "             赏\n"
     ]
    }
   ],
   "source": [
    "def plalindrome(line):\n",
    "    i=len(line)*2-1\n",
    "    while i>0:\n",
    "        if i == 1:\n",
    "            print(' '*(len(line)*2-1) +line[0])\n",
    "        elif i%2 == 1:\n",
    "            print(' '*(len(line)*2-i) + line[:i//2] + line[i//2] + line[i//2-1::-1])\n",
    "        else:\n",
    "            print(' '*(len(line)*2-i) + line[:i//2] + line[i//2-1::-1])\n",
    "        i=i-1\n",
    "\n",
    "def main():\n",
    "    text = '赏花归去马如飞'\n",
    "    plalindrome(text)\n",
    "    \n",
    "\n",
    "if __name__ == '__main__':\n",
    "    main()"
   ]
  },
  {
   "cell_type": "code",
   "execution_count": null,
   "metadata": {
    "collapsed": true
   },
   "outputs": [],
   "source": []
  }
 ],
 "metadata": {
  "kernelspec": {
   "display_name": "Python 3",
   "language": "python",
   "name": "python3"
  },
  "language_info": {
   "codemirror_mode": {
    "name": "ipython",
    "version": 3
   },
   "file_extension": ".py",
   "mimetype": "text/x-python",
   "name": "python",
   "nbconvert_exporter": "python",
   "pygments_lexer": "ipython3",
   "version": "3.6.0"
  }
 },
 "nbformat": 4,
 "nbformat_minor": 2
}
