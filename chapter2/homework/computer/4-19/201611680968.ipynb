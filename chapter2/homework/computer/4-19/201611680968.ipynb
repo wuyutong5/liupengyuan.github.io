{
 "cells": [
  {
   "cell_type": "code",
   "execution_count": 1,
   "metadata": {
    "collapsed": false
   },
   "outputs": [
    {
     "name": "stdout",
     "output_type": "stream",
     "text": [
      "plz enter a stringi love u\n",
      "u evol i\n"
     ]
    }
   ],
   "source": [
    "#exercise 1\n",
    "def reverse (s):\n",
    "    print(s[len(s)-1::-1])\n",
    "s=str(input(\"plz enter a string\"))\n",
    "reverse(s)"
   ]
  },
  {
   "cell_type": "code",
   "execution_count": 2,
   "metadata": {
    "collapsed": false
   },
   "outputs": [
    {
     "name": "stdout",
     "output_type": "stream",
     "text": [
      "plz enter the height of the triangle\n",
      "2\n",
      "|\\\n",
      "|_\\\n",
      " \n",
      "  /\\\n",
      " /__\\\n"
     ]
    }
   ],
   "source": [
    "#exercise 2\n",
    "def triangle (x):\n",
    "    for i in range (x): \n",
    "        if i<x-1:\n",
    "            print('|'+' '*i+'\\\\')\n",
    "        elif i==x-1:  print('|'+'_'*i+'\\\\')\n",
    "    print(' ')\n",
    "    for i in range (x):\n",
    "        if i<x-1:\n",
    "            print(' '*(x-i)+'/'+' '*(2*i)+'\\\\')\n",
    "        elif i==x-1:\n",
    "            print(' '+'/'+'_'*(i+x-1)+'\\\\')\n",
    "    \n",
    "x=int(input(\"plz enter the height of the triangle\\n\"))\n",
    "triangle(x)"
   ]
  },
  {
   "cell_type": "code",
   "execution_count": 3,
   "metadata": {
    "collapsed": false
   },
   "outputs": [
    {
     "name": "stdout",
     "output_type": "stream",
     "text": [
      "plz enter a countable noun\n",
      "eye\n",
      "The plurality of the noun is  eyes\n"
     ]
    }
   ],
   "source": [
    "#exercise 3\n",
    "def change(word):\n",
    "    print('The plurality of the noun is  ',end='')\n",
    "    if word.endswith('ch') or word.endswith('sh'):\n",
    "        print(word+'es')\n",
    "    elif word.endswith('x') or word.endswith('s') or word.endswith('es'):\n",
    "        print(word+'es')\n",
    "    elif word.endswith('f'):\n",
    "        print(word[:len(word)-1:]+'ves')\n",
    "    elif word.endswith('y'):\n",
    "        print(word[:len(word)-1:]+'ies')\n",
    "    else: print(word+'s')\n",
    "        \n",
    "word=str(input(\"plz enter a countable noun\\n\"))\n",
    "change(word)"
   ]
  },
  {
   "cell_type": "code",
   "execution_count": 10,
   "metadata": {
    "collapsed": false
   },
   "outputs": [
    {
     "name": "stdout",
     "output_type": "stream",
     "text": [
      "请输入给定符号-\n",
      "请输入上底长度5\n",
      "请输入下底长度3\n",
      "请输入高度2\n",
      "-----\n",
      "---\n"
     ]
    }
   ],
   "source": [
    "#exercise 4\n",
    "def tixing(a,b,c,d):\n",
    "    if b<=c:\n",
    "        k=(c-b)//(d-1)\n",
    "        for i in range(d):\n",
    "            print(b*a+k*a*i)\n",
    "    else:\n",
    "        k=k=(b-c)//(d-1)\n",
    "        for i in range(d):\n",
    "            print((b-k*i)*a)\n",
    "x=input('请输入给定符号')\n",
    "A=int(input('请输入上底长度'))\n",
    "B=int(input('请输入下底长度'))\n",
    "h=int(input('请输入高度'))\n",
    "tixing(x,A,B,h)"
   ]
  },
  {
   "cell_type": "code",
   "execution_count": 5,
   "metadata": {
    "collapsed": false
   },
   "outputs": [
    {
     "name": "stdout",
     "output_type": "stream",
     "text": [
      "请输入菱形的边长  4\n",
      "    /\\\n",
      "   /  \\\n",
      "  /    \\\n",
      " /      \\\n",
      " \\      /\n",
      "  \\    /\n",
      "   \\  /\n",
      "    \\/\n"
     ]
    }
   ],
   "source": [
    "#exercise 5\n",
    "def rhombus (x):\n",
    "    for i in range (x):\n",
    "            print(' '*(x-i)+'/'+' '*(2*i)+'\\\\')\n",
    "    for i in range(x-1,-1,-1):\n",
    "        print(' '*(x-i)+'\\\\'+' '*(2*(i))+'/')\n",
    "x=int(input('请输入菱形的边长  '))\n",
    "rhombus(x)"
   ]
  },
  {
   "cell_type": "code",
   "execution_count": 6,
   "metadata": {
    "collapsed": false
   },
   "outputs": [
    {
     "name": "stdout",
     "output_type": "stream",
     "text": [
      "赏花归去马如飞飞如马去归花赏\n",
      " 赏花归去马如飞如马去归花赏\n",
      "  赏花归去马如如马去归花赏\n",
      "   赏花归去马如马去归花赏\n",
      "    赏花归去马马去归花赏\n",
      "     赏花归去马去归花赏\n",
      "      赏花归去去归花赏\n",
      "       赏花归去归花赏\n",
      "        赏花归归花赏\n",
      "         赏花归花赏\n",
      "          赏花花赏\n",
      "           赏花赏\n",
      "            赏赏\n",
      "             赏\n"
     ]
    }
   ],
   "source": [
    "#exercise 6\n",
    "def inverted(x):\n",
    "    for i in range(len(x)*2,0,-1):\n",
    "        if i == 1:\n",
    "            print(' '*(len(x)*2-1) +x[0])\n",
    "        elif i%2 == 1:\n",
    "            print(' '*(len(x)*2-i) + x[:i//2] + x[i//2] + x[i//2-1::-1])\n",
    "        else:\n",
    "            print(' '*(len(x)*2-i) + x[:i//2] + x[i//2-1::-1])\n",
    "\n",
    "def main():\n",
    "    word = '赏花归去马如飞'\n",
    "    inverted (word)\n",
    "    \n",
    "\n",
    "if __name__ == '__main__':\n",
    "    main()"
   ]
  },
  {
   "cell_type": "code",
   "execution_count": null,
   "metadata": {
    "collapsed": true
   },
   "outputs": [],
   "source": []
  }
 ],
 "metadata": {
  "kernelspec": {
   "display_name": "Python 3",
   "language": "python",
   "name": "python3"
  },
  "language_info": {
   "codemirror_mode": {
    "name": "ipython",
    "version": 3
   },
   "file_extension": ".py",
   "mimetype": "text/x-python",
   "name": "python",
   "nbconvert_exporter": "python",
   "pygments_lexer": "ipython3",
   "version": "3.6.0"
  }
 },
 "nbformat": 4,
 "nbformat_minor": 2
}
