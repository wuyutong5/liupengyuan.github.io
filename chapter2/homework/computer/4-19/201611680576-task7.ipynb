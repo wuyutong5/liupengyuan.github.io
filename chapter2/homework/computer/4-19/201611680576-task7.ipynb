{
 "cells": [
  {
   "cell_type": "markdown",
   "metadata": {
    "deletable": true,
    "editable": true
   },
   "source": [
    "练习一：实现reverse(s)函数，功能与s.reverse()相同。"
   ]
  },
  {
   "cell_type": "code",
   "execution_count": 9,
   "metadata": {
    "collapsed": false,
    "deletable": true,
    "editable": true,
    "scrolled": true
   },
   "outputs": [
    {
     "name": "stdout",
     "output_type": "stream",
     "text": [
      "请输入一串字符：123454\n",
      "234541\n"
     ]
    }
   ],
   "source": [
    "def fanzhuan(s):\n",
    "    x=''\n",
    "    for i in range(len(s)):\n",
    "        x=s[-i]+x\n",
    "    return x\n",
    "n=input('请输入一串字符：')\n",
    "print(fanzhuan(n))"
   ]
  },
  {
   "cell_type": "markdown",
   "metadata": {
    "deletable": true,
    "editable": true
   },
   "source": [
    "练习2.写函数，根据给定符号和行数，打印相应直角三角形，等腰三角形及其他形式的三角形。"
   ]
  },
  {
   "cell_type": "code",
   "execution_count": 22,
   "metadata": {
    "collapsed": false,
    "deletable": true,
    "editable": true,
    "scrolled": true
   },
   "outputs": [
    {
     "name": "stdout",
     "output_type": "stream",
     "text": [
      "请输入给定符号：$\n",
      "请输入行数：8\n",
      "\n",
      "$\n",
      "$$\n",
      "$$$\n",
      "$$$$\n",
      "$$$$$\n",
      "$$$$$$\n",
      "$$$$$$$\n",
      "$$$$$$$$\n",
      "               $\n",
      "              $$$\n",
      "             $$$$$\n",
      "            $$$$$$$\n",
      "           $$$$$$$$$\n",
      "          $$$$$$$$$$$\n",
      "         $$$$$$$$$$$$$\n"
     ]
    }
   ],
   "source": [
    "def RT_triangle(a,b):\n",
    "    for i in range(b+1):\n",
    "        print(a*i)\n",
    "def IT_triangle(a,b):\n",
    "    for i in range(1,b):\n",
    "        if i == 1:\n",
    "            print(' '*(b*2-1) +a)\n",
    "        else:\n",
    "            print(' '*(b*2-i) +a*i+a*(i-1))\n",
    "            \n",
    "x=input('请输入给定符号：')\n",
    "y=int(input('请输入行数：'))\n",
    "RT_triangle(x,y)\n",
    "IT_triangle(x,y)"
   ]
  },
  {
   "cell_type": "markdown",
   "metadata": {
    "deletable": true,
    "editable": true
   },
   "source": [
    "练习三：将任务4中的英语动词变复数的函数，完整实现。"
   ]
  },
  {
   "cell_type": "code",
   "execution_count": 1,
   "metadata": {
    "collapsed": false,
    "deletable": true,
    "editable": true
   },
   "outputs": [
    {
     "name": "stdout",
     "output_type": "stream",
     "text": [
      "输入单词apple\n",
      "apples\n"
     ]
    }
   ],
   "source": [
    "def change(word):  \n",
    "    if word.endswith('y'):  \n",
    "        return word[:-1] + 'ies'  \n",
    "    elif word[-1] in ('s'or'x') or word[-2:] in ['sh', 'ch']:  \n",
    "        return word + 'es'  \n",
    "    elif word.endswith('f') or word[-2:] in ['fe']:  \n",
    "        return word[:-2] + 'ves'  \n",
    "    else:  \n",
    "        return word + 's'\n",
    "x=input('输入单词')\n",
    "print(change(x))"
   ]
  },
  {
   "cell_type": "markdown",
   "metadata": {
    "deletable": true,
    "editable": true
   },
   "source": [
    "四：写函数，根据给定符号，上底、下底、高，打印各种梯形。"
   ]
  },
  {
   "cell_type": "code",
   "execution_count": 2,
   "metadata": {
    "collapsed": false,
    "deletable": true,
    "editable": true
   },
   "outputs": [
    {
     "name": "stdout",
     "output_type": "stream",
     "text": [
      "请输入给定符号3\n",
      "请输入上底长度2\n",
      "请输入下底长度8\n",
      "请输入高度4\n",
      "33\n",
      "3333\n",
      "333333\n",
      "33333333\n"
     ]
    }
   ],
   "source": [
    "def tixing(a,b,c,d):\n",
    "    if b<=c:\n",
    "        k=(c-b)//(d-1)\n",
    "        for i in range(d):\n",
    "            print(b*a+k*a*i)\n",
    "    else:\n",
    "        k=k=(b-c)//(d-1)\n",
    "        for i in range(d):\n",
    "            print((b-k*i)*a)\n",
    "x=input('请输入给定符号')\n",
    "A=int(input('请输入上底长度'))\n",
    "B=int(input('请输入下底长度'))\n",
    "h=int(input('请输入高度'))\n",
    "tixing(x,A,B,h)\n",
    "        "
   ]
  },
  {
   "cell_type": "markdown",
   "metadata": {
    "deletable": true,
    "editable": true
   },
   "source": [
    "练习五：写函数，根据给定符号，打印各种菱形。"
   ]
  },
  {
   "cell_type": "code",
   "execution_count": 12,
   "metadata": {
    "collapsed": false,
    "deletable": true,
    "editable": true
   },
   "outputs": [
    {
     "name": "stdout",
     "output_type": "stream",
     "text": [
      "请输入给定符号（为单个字符）：H\n",
      "请输入给定行数，必须为奇数：9\n",
      "    H\n",
      "   HHH\n",
      "  HHHHH\n",
      " HHHHHHH\n",
      "HHHHHHHHH\n",
      " HHHHHHH\n",
      "  HHHHH\n",
      "   HHH\n",
      "    H\n"
     ]
    }
   ],
   "source": [
    "def linxing(a,b):\n",
    "    x=b//2\n",
    "    for i in range(1,x+1):\n",
    "        print(' '*(x-(i-1))+a*(2*i-1))\n",
    "    for j in range(0,x+1):\n",
    "        print(' '*j+a*(b-j*2))\n",
    "x=input('请输入给定符号（为单个字符）：')\n",
    "y=int(input('请输入给定行数，必须为奇数：'))\n",
    "linxing(x,y)"
   ]
  },
  {
   "cell_type": "markdown",
   "metadata": {
    "deletable": true,
    "editable": true
   },
   "source": [
    "练习六：文本加密解密。"
   ]
  },
  {
   "cell_type": "markdown",
   "metadata": {
    "deletable": true,
    "editable": true
   },
   "source": [
    "练习六：与本小节任务基本相同，但要求打印回文字符倒三角形。"
   ]
  },
  {
   "cell_type": "code",
   "execution_count": 3,
   "metadata": {
    "collapsed": false,
    "deletable": true,
    "editable": true
   },
   "outputs": [
    {
     "name": "stdout",
     "output_type": "stream",
     "text": [
      " 床前明月光光月明前床\n",
      "  床前明月光月明前床\n",
      "   床前明月月明前床\n",
      "    床前明月明前床\n",
      "     床前明明前床\n",
      "      床前明前床\n",
      "       床前前床\n",
      "        床前床\n",
      "         床床\n",
      "          床\n"
     ]
    }
   ],
   "source": [
    "def plalindrome(line):\n",
    "    x=len(line)\n",
    "    for i in range(1,x*2+1):\n",
    "        if i==x*2:\n",
    "            print(' '*i+line[0])\n",
    "            break\n",
    "        if i%2==1:\n",
    "            print(' '*i+line[:x-((i-1)//2)]+line[x-((i+1)//2)::-1])\n",
    "        if i%2==0:\n",
    "            print(' '*i+line[:x-(i//2)]+ line[x-(i//2)]+line[x-(i//2)-1::-1])\n",
    "        \n",
    "def main():\n",
    "    text = '床前明月光'\n",
    "    plalindrome(text)\n",
    "if __name__ == '__main__':\n",
    "    main()"
   ]
  }
 ],
 "metadata": {
  "kernelspec": {
   "display_name": "Python 3",
   "language": "python",
   "name": "python3"
  },
  "language_info": {
   "codemirror_mode": {
    "name": "ipython",
    "version": 3
   },
   "file_extension": ".py",
   "mimetype": "text/x-python",
   "name": "python",
   "nbconvert_exporter": "python",
   "pygments_lexer": "ipython3",
   "version": "3.6.0"
  }
 },
 "nbformat": 4,
 "nbformat_minor": 2
}
