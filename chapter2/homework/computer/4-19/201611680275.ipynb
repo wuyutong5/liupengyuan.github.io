{
 "cells": [
  {
   "cell_type": "markdown",
   "metadata": {},
   "source": [
    "练习1："
   ]
  },
  {
   "cell_type": "code",
   "execution_count": 23,
   "metadata": {
    "collapsed": false
   },
   "outputs": [
    {
     "name": "stdout",
     "output_type": "stream",
     "text": [
      "机算计爱我森派学爱我"
     ]
    }
   ],
   "source": [
    "line = '我爱学派森我爱计算机'\n",
    "def reserve(line):\n",
    "    x = len(line)\n",
    "    sub_line = ''\n",
    "    for i in range(x):\n",
    "        sub_line += line[i]\n",
    "        \n",
    "    for i in range(x-1, -1, -1):\n",
    "        print(sub_line[i], end='')\n",
    "        \n",
    "    reserve(line)"
   ]
  },
  {
   "cell_type": "markdown",
   "metadata": {},
   "source": [
    "练习2："
   ]
  },
  {
   "cell_type": "code",
   "execution_count": 19,
   "metadata": {
    "collapsed": false
   },
   "outputs": [
    {
     "name": "stdout",
     "output_type": "stream",
     "text": [
      "等腰三角形如下：\n",
      "           。\n",
      "          。。\n",
      "         。。。\n",
      "        。。。。\n",
      "       。。。。。\n",
      "      。。。。。。\n",
      "     。。。。。。。\n",
      "    。。。。。。。。\n",
      "   。。。。。。。。。\n",
      "  。。。。。。。。。。\n",
      " 。。。。。。。。。。。\n",
      "。。。。。。。。。。。。\n",
      "直角三角形如下：\n",
      "           .\n",
      "          ..\n",
      "         ...\n",
      "        ....\n",
      "       .....\n",
      "      ......\n",
      "     .......\n",
      "    ........\n",
      "   .........\n",
      "  ..........\n",
      " ...........\n",
      "............\n",
      "钝角三角形如下：\n",
      "                                 。    \n",
      "                              。    。    \n",
      "                           。    。    。    \n",
      "                        。    。    。    。    \n",
      "                     。    。    。    。    。    \n",
      "                  。    。    。    。    。    。    \n",
      "               。    。    。    。    。    。    。    \n",
      "            。    。    。    。    。    。    。    。    \n",
      "         。    。    。    。    。    。    。    。    。    \n",
      "      。    。    。    。    。    。    。    。    。    。    \n",
      "   。    。    。    。    。    。    。    。    。    。    。    \n",
      "。    。    。    。    。    。    。    。    。    。    。    。    \n"
     ]
    }
   ],
   "source": [
    "line = '。'*6\n",
    "print('等腰三角形如下：')\n",
    "for i in range(1, len(line)*2+1):\n",
    "    print((len(line)*2-i)*' ' + line[0]*i, end='')\n",
    "    print()\n",
    "line = '.'*6\n",
    "print('直角三角形如下：')\n",
    "for i in range(1, len(line)*2+1):\n",
    "    print((len(line)*2-i)*' ' + line[0]*i, end='')\n",
    "    print()\n",
    "line = '。 '*6\n",
    "print('钝角三角形如下：')\n",
    "for i in range(1, len(line)+1):\n",
    "    print((len(line)-i)*'   ' + (line[0]+line[1]+line[1]+line[1]+line[1])*i, end='')\n",
    "    print()"
   ]
  },
  {
   "cell_type": "markdown",
   "metadata": {},
   "source": [
    "练习3："
   ]
  },
  {
   "cell_type": "code",
   "execution_count": 15,
   "metadata": {
    "collapsed": false
   },
   "outputs": [
    {
     "name": "stdout",
     "output_type": "stream",
     "text": [
      "请输入一个动词原形：fly\n",
      "flies\n"
     ]
    }
   ],
   "source": [
    "word=input('请输入一个动词原形：')\n",
    "if word.endswith('s') or word.endswith('x') or word.endswith('ch') or word.endswith('sh') or word.endswith('o'):\n",
    "    print(word,'es',sep='')\n",
    "elif word.endswith('ay')==0 and word.endswith('ey')==0 and word.endswith('iy')==0 and word.endswith('oy')==0 and word.endswith('uy')==0 and word.endswith('yy')==0 and word.endswith('y'):\n",
    "    for i in range(len(word)-1):\n",
    "        print(word[i],end='')\n",
    "    print('ies')\n",
    "elif word=='have':\n",
    "    print('has')\n",
    "else:\n",
    "    print(word,'s',sep='')"
   ]
  },
  {
   "cell_type": "markdown",
   "metadata": {},
   "source": [
    "练习4："
   ]
  },
  {
   "cell_type": "code",
   "execution_count": 1,
   "metadata": {
    "collapsed": false
   },
   "outputs": [
    {
     "name": "stdout",
     "output_type": "stream",
     "text": [
      "等腰梯形如下：\n",
      "请输入一个全角符号来组成等腰梯形：。\n",
      "请输入一个整数作为梯形的上底：4\n",
      "请输入一个整数作为梯形的高：7\n",
      "                            。。。。\n",
      "                           。。。。。\n",
      "                          。。。。。。\n",
      "                         。。。。。。。\n",
      "                        。。。。。。。。\n",
      "                       。。。。。。。。。\n",
      "                      。。。。。。。。。。\n",
      "直角梯形如下：\n",
      "请输入一个半角符号来组成等腰梯形：.\n",
      "请输入一个整数作为梯形的上底：5\n",
      "请输入一个整数作为梯形的高：6\n",
      "                              .....\n",
      "                             ......\n",
      "                            .......\n",
      "                           ........\n",
      "                          .........\n",
      "                         ..........\n"
     ]
    }
   ],
   "source": [
    "print('等腰梯形如下：')\n",
    "symble1=input('请输入一个全角符号来组成等腰梯形：')\n",
    "topline1=int(input('请输入一个整数作为梯形的上底：'))\n",
    "height1=int(input('请输入一个整数作为梯形的高：'))\n",
    "for i in range(0,height1):\n",
    "    print(' '*(topline1*height1-i) + symble1*(i+topline1))\n",
    "\n",
    "print('直角梯形如下：')\n",
    "symble2=input('请输入一个半角符号来组成等腰梯形：')\n",
    "topline2=int(input('请输入一个整数作为梯形的上底：'))\n",
    "height2=int(input('请输入一个整数作为梯形的高：'))\n",
    "for j in range(0,height2):\n",
    "    print(' '*(topline2*height2-j) + symble2*(j+topline2))"
   ]
  },
  {
   "cell_type": "markdown",
   "metadata": {},
   "source": [
    "练习5："
   ]
  },
  {
   "cell_type": "code",
   "execution_count": 7,
   "metadata": {
    "collapsed": false
   },
   "outputs": [
    {
     "name": "stdout",
     "output_type": "stream",
     "text": [
      "菱形如下：\n",
      "        \n",
      "       。\n",
      "      。。\n",
      "     。。。\n",
      "    。。。。\n",
      "   。。。。。\n",
      "  。。。。。。\n",
      " 。。。。。。。\n",
      " 。。。。。。。\n",
      "  。。。。。。\n",
      "   。。。。。\n",
      "    。。。。\n",
      "     。。。\n",
      "      。。\n",
      "       。\n",
      "        \n"
     ]
    }
   ],
   "source": [
    "print('菱形如下：')\n",
    "for i in range(8):\n",
    "    print(' '*(8-i)+'。'*i)\n",
    "for j in range(1,9):\n",
    "    print(' '*j+'。'*(8-j))"
   ]
  },
  {
   "cell_type": "markdown",
   "metadata": {},
   "source": [
    "练习6："
   ]
  },
  {
   "cell_type": "code",
   "execution_count": 63,
   "metadata": {
    "collapsed": false
   },
   "outputs": [
    {
     "name": "stdout",
     "output_type": "stream",
     "text": [
      "赏花归去马如飞飞如马去归花赏\n",
      " 赏花归去马如飞如马去归花赏\n",
      "  赏花归去马如如马去归花赏\n",
      "   赏花归去马如马去归花赏\n",
      "    赏花归去马马去归花赏\n",
      "     赏花归去马去归花赏\n",
      "      赏花归去去归花赏\n",
      "       赏花归去归花赏\n",
      "        赏花归归花赏\n",
      "         赏花归花赏\n",
      "          赏花花赏\n",
      "           赏花赏\n",
      "            赏赏\n",
      "             赏\n"
     ]
    }
   ],
   "source": [
    "def plalindrome(line):\n",
    "    for i in range(len(line)*2,0,-1):\n",
    "        if i == 1:\n",
    "            print(' '*(len(line)*2-1)+line[0])\n",
    "        elif i%2 == 1 :\n",
    "            print(' '*(len(line)*2-i) + line[:i//2] + line[i//2] + line[i//2-1::-1])\n",
    "        else :\n",
    "            print(' '*(len(line)*2-i) + line[:i//2] + line[i//2-1::-1])\n",
    "\n",
    "def main():\n",
    "    text = '赏花归去马如飞'\n",
    "    plalindrome(text)\n",
    "    \n",
    "\n",
    "if __name__ == '__main__':\n",
    "    main()"
   ]
  }
 ],
 "metadata": {
  "kernelspec": {
   "display_name": "Python 3",
   "language": "python",
   "name": "python3"
  },
  "language_info": {
   "codemirror_mode": {
    "name": "ipython",
    "version": 3
   },
   "file_extension": ".py",
   "mimetype": "text/x-python",
   "name": "python",
   "nbconvert_exporter": "python",
   "pygments_lexer": "ipython3",
   "version": "3.6.0"
  }
 },
 "nbformat": 4,
 "nbformat_minor": 2
}
