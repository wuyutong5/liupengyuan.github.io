{
 "cells": [
  {
   "cell_type": "code",
   "execution_count": 1,
   "metadata": {
    "collapsed": true,
    "deletable": true,
    "editable": true
   },
   "outputs": [],
   "source": [
    "#练习一：自己定义一个reverse(s)函数，功能返回字符串s的倒序字符串。\n",
    "#练习二：写函数，根据给定符号和行数，打印相应直角三角形，等腰三角形及其他形式的三角形。\n",
    "#练习三：将任务4中的英语名词单数变复数的函数，尽可能的考虑多种情况，重新进行实现。\n",
    "#练习四：写函数，根据给定符号，上底、下底、高，打印各种梯形。\n",
    "#练习五：写函数，根据给定符号，打印各种菱形。\n",
    "#练习六：与本小节任务基本相同，但要求打印回文字符倒三角形。"
   ]
  },
  {
   "cell_type": "code",
   "execution_count": 2,
   "metadata": {
    "collapsed": false
   },
   "outputs": [
    {
     "name": "stdout",
     "output_type": "stream",
     "text": [
      "。程编欢喜我\n"
     ]
    }
   ],
   "source": [
    "#练习一：自己定义一个reverse(s)函数，功能返回字符串s的倒序字符串。\n",
    "def my_reverse(s):\n",
    "    v=s[len(s)::-1]\n",
    "    #v=s[-1:-len(s)-1:-1]\n",
    "    return v\n",
    "\n",
    "def main():\n",
    "    s = '我喜欢编程。'\n",
    "    print (my_reverse(s))\n",
    "    \n",
    "\n",
    "if __name__ == '__main__':\n",
    "    main() "
   ]
  },
  {
   "cell_type": "code",
   "execution_count": 3,
   "metadata": {
    "collapsed": false
   },
   "outputs": [
    {
     "name": "stdout",
     "output_type": "stream",
     "text": [
      "*\n",
      "***\n",
      "*****\n",
      "*******\n",
      "*********\n",
      "***********\n",
      "     *\n",
      "    ***\n",
      "   *****\n",
      "  *******\n",
      " *********\n",
      "***********\n",
      "          *\n",
      "        ****\n",
      "      *******\n",
      "    **********\n",
      "  *************\n",
      "****************\n"
     ]
    }
   ],
   "source": [
    "#练习二：写函数，根据给定符号和行数，打印相应直角三角形，等腰三角形及其他形式的三角形。\n",
    "def my_triangle(s,line_num):\n",
    "    if s==1:\n",
    "        for i in range(1,line_num+1):\n",
    "            print('*'*(2*i-1))\n",
    "    elif s==2:\n",
    "        for j in range(1,line_num+1):\n",
    "            print(' '*(line_num-j) +'*'*(2*j-1))\n",
    "    else:\n",
    "        for k in range(1,line_num+1):\n",
    "            print(' '*(2*(line_num-k)) +'*'*(3*k-2))\n",
    "\n",
    "def main():\n",
    "    line_num=6\n",
    "    s=1#打印直角三角形\n",
    "    my_triangle(s,line_num)\n",
    "    s=2#打印等腰三角形\n",
    "    my_triangle(s,line_num)\n",
    "    s=3#打印不规则三角形\n",
    "    my_triangle(s,line_num)   \n",
    "\n",
    "if __name__ == '__main__':\n",
    "    main() "
   ]
  },
  {
   "cell_type": "code",
   "execution_count": 10,
   "metadata": {
    "collapsed": false
   },
   "outputs": [
    {
     "name": "stdout",
     "output_type": "stream",
     "text": [
      "happies\n",
      "watches\n",
      "eggs\n"
     ]
    }
   ],
   "source": [
    "#练习三：将任务4中的英语名词单数变复数的函数，尽可能的考虑多种情况，重新进行实现。\n",
    "def dan2fu(word):\n",
    "    if(word.endswith('s') | word.endswith('z') | word.endswith('sh') | word.endswith('ch')):\n",
    "        word=word+'es'\n",
    "    elif(word.endswith('y')):\n",
    "        word=word[:-1]+'ies'\n",
    "    else:\n",
    "        word=word+'s'\n",
    "    return word\n",
    "\n",
    "def main():\n",
    "    print(dan2fu('happy'))\n",
    "    print(dan2fu('watch'))\n",
    "    print(dan2fu('egg'))\n",
    "\n",
    "if __name__ == '__main__':\n",
    "    main()   "
   ]
  },
  {
   "cell_type": "code",
   "execution_count": 8,
   "metadata": {
    "collapsed": false
   },
   "outputs": [
    {
     "name": "stdout",
     "output_type": "stream",
     "text": [
      "打印直角梯形：\n",
      "***********\n",
      "************\n",
      "**************\n",
      "***************\n",
      "****************\n",
      "******************\n",
      "\n",
      "打印等腰梯形：\n",
      "    **********\n",
      "   ************\n",
      "  **************\n",
      "  **************\n",
      " ****************\n",
      "******************\n",
      "\n",
      "打印不规则梯形：\n",
      "     **********\n",
      "    ***********\n",
      "   *************\n",
      "  **************\n",
      " ****************\n",
      "*****************\n"
     ]
    }
   ],
   "source": [
    "#练习四：写函数，根据给定符号，上底、下底、高，打印各种梯形。\n",
    "def my_trapezoid(s,up,down,height):\n",
    "    if (s==1):\n",
    "        num=(down-up)/height\n",
    "        print('打印直角梯形：')\n",
    "        for i in range(1,height+1):\n",
    "            n=int(num*i)\n",
    "            print('*'*up  +'*'*n)\n",
    "    elif(s==2):\n",
    "        num=((down-up)/2)/height\n",
    "        print('打印等腰梯形：')\n",
    "        for i in range(1,height+1):\n",
    "            n=int(num*i)\n",
    "            l=int((down-up)/2-n)\n",
    "            print(' '*l +'*'*n +'*'*up  +'*'*n)\n",
    "    else:\n",
    "        num=(down-up)/3\n",
    "        print('打印不规则梯形：')\n",
    "        for i in range(1,height+1):\n",
    "            m=int(((num*2)/height)*i)\n",
    "            n=int(((num)/height)*i)\n",
    "            l=int(((down-up)/3)*2-m)\n",
    "            print(' '*l +'*'*m +'*'*up  +'*'*n)\n",
    "\n",
    "def main():\n",
    "    my_trapezoid(1,10,18,6)\n",
    "    print()\n",
    "    my_trapezoid(2,10,18,6)\n",
    "    print()\n",
    "    my_trapezoid(3,10,18,6)\n",
    "\n",
    "if __name__ == '__main__':\n",
    "    main() "
   ]
  },
  {
   "cell_type": "code",
   "execution_count": 9,
   "metadata": {
    "collapsed": false
   },
   "outputs": [
    {
     "name": "stdout",
     "output_type": "stream",
     "text": [
      "增量为2：\n",
      "     *\n",
      "    ***\n",
      "   *****\n",
      "  *******\n",
      " *********\n",
      "***********\n",
      " *********\n",
      "  *******\n",
      "   *****\n",
      "    ***\n",
      "     *\n",
      "增量为4：\n",
      "        *\n",
      "      *****\n",
      "    *********\n",
      "  *************\n",
      "*****************\n",
      "  *************\n",
      "    *********\n",
      "      *****\n",
      "        *\n",
      "增量为6：\n",
      "            *\n",
      "         *******\n",
      "      *************\n",
      "   *******************\n",
      "*************************\n",
      "   *******************\n",
      "      *************\n",
      "         *******\n",
      "            *\n"
     ]
    }
   ],
   "source": [
    "#练习五：写函数，根据给定符号，打印各种菱形。\n",
    "def my_diamond(line,star):\n",
    "    for i in range(1,line+1):\n",
    "        print(' '*((line-i)*(star//2))  +'*'*(star*i-star+1))\n",
    "    for j in range(1,line):\n",
    "        print(' '*((star//2)*j)  +'*'*(star*(line-j)-star+1))\n",
    "        \n",
    "def main():\n",
    "    #line是菱形每条边上的*的个数（即行数），star是每行的增量（只能是偶数）\n",
    "    print('增量为2：')\n",
    "    my_diamond(6,2)\n",
    "    print('增量为4：')\n",
    "    my_diamond(5,4)\n",
    "    print('增量为6：')\n",
    "    my_diamond(5,6)\n",
    "    \n",
    "if __name__ == '__main__':\n",
    "    main()   "
   ]
  },
  {
   "cell_type": "code",
   "execution_count": 5,
   "metadata": {
    "collapsed": false
   },
   "outputs": [
    {
     "name": "stdout",
     "output_type": "stream",
     "text": [
      "赏花归去马如飞飞如马去归花赏\n",
      " 赏花归去马如飞如马去归花赏\n",
      "  赏花归去马如如马去归花赏\n",
      "   赏花归去马如马去归花赏\n",
      "    赏花归去马马去归花赏\n",
      "     赏花归去马去归花赏\n",
      "      赏花归去去归花赏\n",
      "       赏花归去归花赏\n",
      "        赏花归归花赏\n",
      "         赏花归花赏\n",
      "          赏花花赏\n",
      "           赏花赏\n",
      "            赏赏\n",
      "             赏\n"
     ]
    }
   ],
   "source": [
    "#练习六：与本小节任务基本相同，但要求打印回文字符倒三角形。\n",
    "def replalindrome(text):\n",
    "    for i in range(1, len(text)*2+1):\n",
    "        if (i==14):\n",
    "            print(' '*13 + text[0:1])\n",
    "        elif (i%2 ==1):\n",
    "            print(' '*(i-1) + text[:len(text)-(i//2)] + text[len(text)-(i//2)-1::-1])   \n",
    "        else:\n",
    "            print(' '*(i-1) + text[:len(text)-(i//2)] + text[len(text)-(i//2)] + text[len(text)-(i//2)-1::-1])\n",
    "\n",
    "def main():\n",
    "    text = '赏花归去马如飞'\n",
    "    replalindrome(text)\n",
    "    \n",
    "\n",
    "if __name__ == '__main__':\n",
    "    main()"
   ]
  }
 ],
 "metadata": {
  "kernelspec": {
   "display_name": "Python 3",
   "language": "python",
   "name": "python3"
  },
  "language_info": {
   "codemirror_mode": {
    "name": "ipython",
    "version": 3
   },
   "file_extension": ".py",
   "mimetype": "text/x-python",
   "name": "python",
   "nbconvert_exporter": "python",
   "pygments_lexer": "ipython3",
   "version": "3.6.0"
  }
 },
 "nbformat": 4,
 "nbformat_minor": 2
}
