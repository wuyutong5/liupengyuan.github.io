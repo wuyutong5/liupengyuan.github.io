{
 "cells": [
  {
   "cell_type": "code",
   "execution_count": 29,
   "metadata": {
    "collapsed": false
   },
   "outputs": [
    {
     "name": "stdout",
     "output_type": "stream",
     "text": [
      "5.305829286575317\n",
      "0.0004980564117431641\n"
     ]
    },
    {
     "ename": "RecursionError",
     "evalue": "maximum recursion depth exceeded in comparison",
     "output_type": "error",
     "traceback": [
      "\u001b[0;31m---------------------------------------------------------------------------\u001b[0m",
      "\u001b[0;31mRecursionError\u001b[0m                            Traceback (most recent call last)",
      "\u001b[0;32m<ipython-input-29-cc35d4255e1c>\u001b[0m in \u001b[0;36m<module>\u001b[0;34m()\u001b[0m\n\u001b[1;32m     37\u001b[0m \u001b[0mprint\u001b[0m\u001b[1;33m(\u001b[0m\u001b[0mend\u001b[0m\u001b[1;33m-\u001b[0m\u001b[0mstart\u001b[0m\u001b[1;33m)\u001b[0m\u001b[1;33m\u001b[0m\u001b[0m\n\u001b[1;32m     38\u001b[0m \u001b[0mstart\u001b[0m\u001b[1;33m=\u001b[0m\u001b[0mtime\u001b[0m\u001b[1;33m.\u001b[0m\u001b[0mtime\u001b[0m\u001b[1;33m(\u001b[0m\u001b[1;33m)\u001b[0m\u001b[1;33m\u001b[0m\u001b[0m\n\u001b[0;32m---> 39\u001b[0;31m \u001b[0mquick_sort\u001b[0m\u001b[1;33m(\u001b[0m\u001b[0mnumbers\u001b[0m\u001b[1;33m)\u001b[0m\u001b[1;33m\u001b[0m\u001b[0m\n\u001b[0m\u001b[1;32m     40\u001b[0m \u001b[0mend\u001b[0m\u001b[1;33m=\u001b[0m\u001b[0mtime\u001b[0m\u001b[1;33m.\u001b[0m\u001b[0mtime\u001b[0m\u001b[1;33m(\u001b[0m\u001b[1;33m)\u001b[0m\u001b[1;33m\u001b[0m\u001b[0m\n\u001b[1;32m     41\u001b[0m \u001b[0mprint\u001b[0m\u001b[1;33m(\u001b[0m\u001b[0mend\u001b[0m\u001b[1;33m-\u001b[0m\u001b[0mstart\u001b[0m\u001b[1;33m)\u001b[0m\u001b[1;33m\u001b[0m\u001b[0m\n",
      "\u001b[0;32m<ipython-input-29-cc35d4255e1c>\u001b[0m in \u001b[0;36mquick_sort\u001b[0;34m(line)\u001b[0m\n\u001b[1;32m     12\u001b[0m         \u001b[0mleft_seq\u001b[0m\u001b[1;33m=\u001b[0m\u001b[0mquick_sort\u001b[0m\u001b[1;33m(\u001b[0m\u001b[0mleft_seq\u001b[0m\u001b[1;33m)\u001b[0m\u001b[1;33m\u001b[0m\u001b[0m\n\u001b[1;32m     13\u001b[0m     \u001b[1;32mif\u001b[0m \u001b[0mright_seq\u001b[0m\u001b[1;33m:\u001b[0m\u001b[1;33m\u001b[0m\u001b[0m\n\u001b[0;32m---> 14\u001b[0;31m         \u001b[0mright_seq\u001b[0m\u001b[1;33m=\u001b[0m\u001b[0mquick_sort\u001b[0m\u001b[1;33m(\u001b[0m\u001b[0mright_seq\u001b[0m\u001b[1;33m)\u001b[0m\u001b[1;33m\u001b[0m\u001b[0m\n\u001b[0m\u001b[1;32m     15\u001b[0m \u001b[1;33m\u001b[0m\u001b[0m\n\u001b[1;32m     16\u001b[0m     \u001b[1;32mreturn\u001b[0m \u001b[0mleft_seq\u001b[0m\u001b[1;33m+\u001b[0m\u001b[1;33m[\u001b[0m\u001b[0mp\u001b[0m\u001b[1;33m]\u001b[0m\u001b[1;33m+\u001b[0m\u001b[0mright_seq\u001b[0m\u001b[1;33m\u001b[0m\u001b[0m\n",
      "... last 1 frames repeated, from the frame below ...\n",
      "\u001b[0;32m<ipython-input-29-cc35d4255e1c>\u001b[0m in \u001b[0;36mquick_sort\u001b[0;34m(line)\u001b[0m\n\u001b[1;32m     12\u001b[0m         \u001b[0mleft_seq\u001b[0m\u001b[1;33m=\u001b[0m\u001b[0mquick_sort\u001b[0m\u001b[1;33m(\u001b[0m\u001b[0mleft_seq\u001b[0m\u001b[1;33m)\u001b[0m\u001b[1;33m\u001b[0m\u001b[0m\n\u001b[1;32m     13\u001b[0m     \u001b[1;32mif\u001b[0m \u001b[0mright_seq\u001b[0m\u001b[1;33m:\u001b[0m\u001b[1;33m\u001b[0m\u001b[0m\n\u001b[0;32m---> 14\u001b[0;31m         \u001b[0mright_seq\u001b[0m\u001b[1;33m=\u001b[0m\u001b[0mquick_sort\u001b[0m\u001b[1;33m(\u001b[0m\u001b[0mright_seq\u001b[0m\u001b[1;33m)\u001b[0m\u001b[1;33m\u001b[0m\u001b[0m\n\u001b[0m\u001b[1;32m     15\u001b[0m \u001b[1;33m\u001b[0m\u001b[0m\n\u001b[1;32m     16\u001b[0m     \u001b[1;32mreturn\u001b[0m \u001b[0mleft_seq\u001b[0m\u001b[1;33m+\u001b[0m\u001b[1;33m[\u001b[0m\u001b[0mp\u001b[0m\u001b[1;33m]\u001b[0m\u001b[1;33m+\u001b[0m\u001b[0mright_seq\u001b[0m\u001b[1;33m\u001b[0m\u001b[0m\n",
      "\u001b[0;31mRecursionError\u001b[0m: maximum recursion depth exceeded in comparison"
     ]
    }
   ],
   "source": [
    "import time,random\n",
    "def quick_sort(line):\n",
    "    left_seq=[]\n",
    "    right_seq=[]\n",
    "    p=line[0]\n",
    "    for number in line[1:]:\n",
    "        if number<p:\n",
    "            left_seq.append(number)\n",
    "        else:\n",
    "            right_seq.append(number)\n",
    "    if left_seq:\n",
    "        left_seq=quick_sort(left_seq)\n",
    "    if right_seq:\n",
    "        right_seq=quick_sort(right_seq)\n",
    "    \n",
    "    return left_seq+[p]+right_seq\n",
    "\n",
    "def sort_simple_selection(seq):\n",
    "    for i in range(len(seq)-1):\n",
    "        min=i\n",
    "        for j in range(i+1,len(seq)):\n",
    "            if seq[j]<seq[min]:\n",
    "                min=j\n",
    "        seq[i],seq[min]=seq[min],seq[i]\n",
    "\n",
    "numbers=[]\n",
    "for i in range(10000):\n",
    "    numbers.append(random.randint(1,100000))\n",
    "\n",
    "start=time.time()\n",
    "sort_simple_selection(numbers)\n",
    "end=time.time()\n",
    "print(end-start)\n",
    "start=time.time()\n",
    "numbers.sort()\n",
    "end=time.time()\n",
    "print(end-start)\n",
    "start=time.time()\n",
    "quick_sort(numbers)\n",
    "end=time.time()\n",
    "print(end-start)"
   ]
  },
  {
   "cell_type": "code",
   "execution_count": null,
   "metadata": {
    "collapsed": true
   },
   "outputs": [],
   "source": []
  }
 ],
 "metadata": {
  "kernelspec": {
   "display_name": "Python 3",
   "language": "python",
   "name": "python3"
  },
  "language_info": {
   "codemirror_mode": {
    "name": "ipython",
    "version": 3
   },
   "file_extension": ".py",
   "mimetype": "text/x-python",
   "name": "python",
   "nbconvert_exporter": "python",
   "pygments_lexer": "ipython3",
   "version": "3.6.0"
  }
 },
 "nbformat": 4,
 "nbformat_minor": 2
}
