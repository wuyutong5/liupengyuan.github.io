{
 "cells": [
  {
   "cell_type": "markdown",
   "metadata": {},
   "source": [
    "1、随机生成1万个整数，范围在0-10万之间，分别进行简单选择排序、快速排序（自行递归实现的）以及内置sort函数3种排序，打印出3种排序的运行时间。"
   ]
  },
  {
   "cell_type": "code",
   "execution_count": 32,
   "metadata": {
    "collapsed": false
   },
   "outputs": [
    {
     "name": "stdout",
     "output_type": "stream",
     "text": [
      "随机数： [0, 0, 1, 2, 4, 7, 12, 13, 18, 20]\n",
      "简单排序, 时间复杂度： 900\n",
      "[605, 1887, 1953, 6530, 6666, 20734, 23697, 30133, 30453, 36896, 42205, 43284, 46157, 50090, 50308, 54308, 55106, 55655, 57762, 60225, 61866, 62859, 63513, 65023, 65745, 68401, 76702, 79204, 88076, 89178]\n",
      "快速排序, 时间复杂度： 147.20671786825557\n",
      "[605, 1887, 1953, 6530, 6666, 20734, 23697, 30133, 30453, 36896, 42205, 43284, 46157, 50090, 50308, 54308, 55106, 55655, 57762, 60225, 61866, 62859, 63513, 65023, 65745, 68401, 76702, 79204, 88076, 89178]\n",
      "内置函数\n",
      "[605, 1887, 1953, 6530, 6666, 20734, 23697, 30133, 30453, 36896, 42205, 43284, 46157, 50090, 50308, 54308, 55106, 55655, 57762, 60225, 61866, 62859, 63513, 65023, 65745, 68401, 76702, 79204, 88076, 89178]\n"
     ]
    }
   ],
   "source": [
    "import random\n",
    "import math\n",
    "def get_num():\n",
    "    num_list=[]\n",
    "    for i in range(0,30):\n",
    "        num_list.append(random.randint(0,100000))\n",
    "    return num_list\n",
    "def sort_simple_selection(seq):\n",
    "    print(\"简单排序\",end=', ')\n",
    "    print(\"时间复杂度：\",len(seq)*len(seq))\n",
    "    for i in range(len(seq)-1):\n",
    "        min = i\n",
    "        for j in range(i+1, len(seq)):\n",
    "            if seq[j] < seq[min]:\n",
    "                min = j\n",
    "        seq[i], seq[min] = seq[min], seq[i]\n",
    "    return seq\n",
    "def quick_sort(seq):\n",
    "    left_seq =  []\n",
    "    right_seq = []\n",
    "    p=seq[0]\n",
    "    for number in seq[1:]:\n",
    "        if number <= p:\n",
    "            left_seq.append(number)\n",
    "        else:\n",
    "            right_seq.append(number)\n",
    "    if left_seq:\n",
    "        left_seq = quick_sort(left_seq)\n",
    "    if right_seq:\n",
    "        right_seq = quick_sort(right_seq)\n",
    "   \n",
    "    return  left_seq + [p] + right_seq\n",
    "   \n",
    "\n",
    "numbers=get_num()\n",
    "print(\"随机数：\",number)\n",
    "simple_sorted_numbers=sort_simple_selection(numbers)\n",
    "print(simple_sorted_numbers)\n",
    "quick_sorted_numbers = quick_sort(numbers)\n",
    "n=len(numbers)\n",
    "time_complex=n*math.log(n,2)\n",
    "print(\"快速排序, 时间复杂度：\",time_complex)\n",
    "print(quick_sorted_numbers)\n",
    "print(\"内置函数\")   \n",
    "print(sorted(numbers))"
   ]
  }
 ],
 "metadata": {
  "kernelspec": {
   "display_name": "Python 3",
   "language": "python",
   "name": "python3"
  },
  "language_info": {
   "codemirror_mode": {
    "name": "ipython",
    "version": 3
   },
   "file_extension": ".py",
   "mimetype": "text/x-python",
   "name": "python",
   "nbconvert_exporter": "python",
   "pygments_lexer": "ipython3",
   "version": "3.6.0"
  }
 },
 "nbformat": 4,
 "nbformat_minor": 2
}
