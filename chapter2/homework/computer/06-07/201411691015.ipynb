{
 "cells": [
  {
   "cell_type": "markdown",
   "metadata": {},
   "source": [
    "1、随机生成1万个整数，范围在0-10万之间，分别进行简单选择排序、快速排序（自行递归实现的）以及内置sort函数3种排序，打印出3种排序的运行时间。"
   ]
  },
  {
   "cell_type": "code",
   "execution_count": 1,
   "metadata": {
    "collapsed": false
   },
   "outputs": [
    {
     "name": "stdout",
     "output_type": "stream",
     "text": [
      "sort_simple_selection time = 4.676347494125366\n",
      "quick_sort time = 0.027019262313842773\n",
      "computer_sorted(sort()) time = 0.003000974655151367\n"
     ]
    }
   ],
   "source": [
    "#python默认的递归深度是很有限,可手工设置递归调用深度\n",
    "\n",
    "import random,time\n",
    "import sys,copy\n",
    "sys.setrecursionlimit(100000)\n",
    "\n",
    "def sort_simple_selection(seq):\n",
    "    test_seq = seq.copy()\n",
    "    start_time = time.time()\n",
    "    for i in range(len(test_seq)-1):\n",
    "        min = i\n",
    "        for j in range(i+1, len(test_seq)):\n",
    "            if test_seq[j] < test_seq[min]:\n",
    "                min = j\n",
    "        test_seq[i], test_seq[min] = test_seq[min], test_seq[i]\n",
    "    end_time = time.time()\n",
    "\n",
    "    return end_time - start_time    \n",
    "\n",
    "def quick_sort(seq):\n",
    "    test_seq = seq.copy()\n",
    "    start_time = time.time()\n",
    "    left_seq =  []\n",
    "    right_seq = []\n",
    "    p=test_seq[0]\n",
    "    for number in test_seq[1:]:\n",
    "        if number <= p:\n",
    "            left_seq.append(number)\n",
    "        else:\n",
    "            right_seq.append(number)\n",
    "    if left_seq:\n",
    "        left_seq = quick_sort(left_seq)\n",
    "    if right_seq:\n",
    "        right_seq = quick_sort(right_seq)\n",
    "        \n",
    "    end_time = time.time()\n",
    "    return end_time - start_time  \n",
    "\n",
    "def computer_sorted(seq):\n",
    "    test_seq = seq.copy()\n",
    "    start_time = time.time()\n",
    "    \n",
    "    test_seq.sort()\n",
    "        \n",
    "    end_time = time.time()\n",
    "    return end_time - start_time \n",
    "\n",
    "random_numbers = [random.randint(0,100000) for i in range(10000)] \n",
    "print('sort_simple_selection time =',sort_simple_selection(random_numbers))\n",
    "print('quick_sort time =',quick_sort(random_numbers))\n",
    "print('computer_sorted(sort()) time =',computer_sorted(random_numbers))"
   ]
  },
  {
   "cell_type": "markdown",
   "metadata": {},
   "source": [
    "2、随机生成1万个整数，范围在0-10万之间，求其中每个整数出现的次数。并按照整数大小排序输出整数及出现次数。"
   ]
  },
  {
   "cell_type": "code",
   "execution_count": 2,
   "metadata": {
    "collapsed": false
   },
   "outputs": [
    {
     "name": "stdout",
     "output_type": "stream",
     "text": [
      "从小到大输出其中的前60个：\n",
      "     8 1\n",
      "    19 1\n",
      "    29 1\n",
      "    31 1\n",
      "    55 1\n",
      "   107 1\n",
      "   129 1\n",
      "   134 1\n",
      "   146 2\n",
      "   148 1\n",
      "   151 1\n",
      "   178 1\n",
      "   179 1\n",
      "   213 1\n",
      "   214 1\n",
      "   216 1\n",
      "   227 1\n",
      "   231 1\n",
      "   240 1\n",
      "   284 1\n",
      "   301 1\n",
      "   312 1\n",
      "   326 1\n",
      "   328 1\n",
      "   331 1\n",
      "   341 1\n",
      "   343 1\n",
      "   348 1\n",
      "   353 1\n",
      "   370 1\n",
      "   372 1\n",
      "   380 1\n",
      "   386 2\n",
      "   399 1\n",
      "   408 1\n",
      "   415 1\n",
      "   437 1\n",
      "   443 1\n",
      "   479 1\n",
      "   487 1\n",
      "   488 1\n",
      "   497 1\n",
      "   500 1\n",
      "   515 1\n",
      "   529 1\n",
      "   584 1\n",
      "   615 1\n",
      "   625 1\n",
      "   630 1\n",
      "   665 1\n",
      "   685 1\n",
      "   721 1\n",
      "   727 1\n",
      "   744 1\n",
      "   771 1\n",
      "   779 1\n",
      "   781 1\n",
      "   854 1\n",
      "   897 1\n",
      "   928 1\n",
      "   968 1\n"
     ]
    }
   ],
   "source": [
    "import random\n",
    "\n",
    "def sort_randnums(numbers):\n",
    "    numbers.sort()\n",
    "    num_freq_dict = {}\n",
    "    for number in numbers:\n",
    "        if number in num_freq_dict:\n",
    "            num_freq_dict[number] += 1\n",
    "        else:\n",
    "            num_freq_dict[number] = 1\n",
    "            \n",
    "    return  num_freq_dict       \n",
    "\n",
    "random_numbers = [random.randint(0,100000) for i in range(10000)] \n",
    "sorted_numbers = sort_randnums(random_numbers)\n",
    "print ('从小到大输出其中的前60个：')\n",
    "for i ,item in enumerate(sorted_numbers):\n",
    "    print ( '{0:6} {1}'.format(item,sorted_numbers[item]))\n",
    "    if i == 60:\n",
    "        break"
   ]
  }
 ],
 "metadata": {
  "kernelspec": {
   "display_name": "Python 3",
   "language": "python",
   "name": "python3"
  },
  "language_info": {
   "codemirror_mode": {
    "name": "ipython",
    "version": 3
   },
   "file_extension": ".py",
   "mimetype": "text/x-python",
   "name": "python",
   "nbconvert_exporter": "python",
   "pygments_lexer": "ipython3",
   "version": "3.6.0"
  }
 },
 "nbformat": 4,
 "nbformat_minor": 2
}
