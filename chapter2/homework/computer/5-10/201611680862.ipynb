{
 "cells": [
  {
   "cell_type": "code",
   "execution_count": 1,
   "metadata": {
    "collapsed": false
   },
   "outputs": [
    {
     "name": "stdout",
     "output_type": "stream",
     "text": [
      "['I', 'iu', 'oh', 'oijoi', 'llij', 'erwer', 'dfsdf', 'ijoijoij', 'oi', 'oij', 'iu', 'nkuh', 'fefw', 'dfsef', 'se', 'fefws', 's', 'xff', 'oijoij', 'lk', 'mlk', 'qweqwe', 'iuoi', 'sfs', 'fefws']\n",
      "25\n",
      "['J', 'd', 'z', 's', 'y', 'o', 'z', 'o', 'd', 's']\n",
      "['k', 'y', 'k', 'd', 'g', 'x', 'm', 'v', 'i', 'l']\n",
      "['q', 'l', 'w', 'q', 'x', 'i', 's', 'o', 'c', 'h']\n",
      "['t', 'm', 'm', 'w', 'o', 'b', 'x', 'f', 'c', 'u']\n",
      "['p', 'r', 'p', 'o', 'v', 'z', 'h', 'w', 'l', 'o']\n",
      "['j', 'z', 'D', 'k', 'A', 'u', 'n', 'n', 'q', 'x']\n",
      "['i', 'k', 'A', 'i', 'm', 'h', 'o', 'u', 'b', 'z']\n",
      "['q', 'k', 'r', 'l', 'o', 'w', 'j', 'j', 'b', 'h']\n",
      "['q', 'm', 'b', 'y', 'g', 'i', 'd', 'q', 'y', 'a']\n",
      "['r', 'l', 'q', 'c', 'q', 's', 'k', 'd', 's', 'z']\n",
      "['k', 'z', 'g', 'p', 'l', 'e', 'v', 't', 's', 'e']\n",
      "['r', 'q', 'C', 'j', 'x', 't', 'u', 'e', 'y', 'l']\n",
      "['j', 'l', 'g', 'A', 'k', 'u', 'o', 'x', 'a', 'e']\n",
      "['i', 'h', 'A', 'f', 'l', 'j', 'i', 'b', 'h', 'm']\n",
      "['u', 'i', 'd', 'l', 'e', 'b', 'a', 'z', 'h', 'g']\n",
      "['k', 'n', 'i', 'z', 'v', 'k', 'w', 'z', 'l', 'p']\n",
      "['t', 'v', 'i', 'g', 'b', 's', 'p', 'i', 'm', 'y']\n",
      "['A', 'l', 'm', 'v', 'c', 'h', 'k', 'k', 'i', 'q']\n",
      "['u', 'k', 's', 's', 'o', 'r', 'z', 'd', 'u', 'c']\n",
      "['n', 'q', 'r', 'j', 't', 'a', 'r', 'z', 's', 'k']\n",
      "['p', 't', 'k', 'd', 'c', 't', 'f', 'p', 'q', 'u']\n",
      "['w', 'D', 'k', 'q', 'E', 'h', 'a', 'e', 't', 'f']\n",
      "['m', 'v', 'v', 'p', 'u', 'z', 'u', 'd', 'o', 'j']\n",
      "['v', 'm', 'B', 'a', 's', 's', 'q', 'v', 'c', 'q']\n",
      "['k', 'j', 'n', 'y', 't', 'k', 'y', 'u', 'm', 'q']\n"
     ]
    }
   ],
   "source": [
    "import random \n",
    "\n",
    "fh=open(r'd:\\python\\English.txt')\n",
    "text=fh.read()\n",
    "text=text.split()\n",
    "fh.close()\n",
    "print(text)\n",
    "\n",
    "words=len(text)\n",
    "print(words)\n",
    "for word in range(words):\n",
    "    n=len(text[word])\n",
    "    number=random.randint(100000000,999999999)\n",
    "    new_str=str(n)+str(number)\n",
    "    new_word1=text[word]\n",
    "    new_word2=[]\n",
    "    for i in range(0,n):\n",
    "        x=ord(new_word1[i])+ord(new_str[i])-48\n",
    "        if x<=90 or 97<=x<=122:\n",
    "            new_word2.append(chr(x))\n",
    "        elif x>122:\n",
    "            new_word2.append(chr(x-58))\n",
    "        elif 90<x<97:\n",
    "            new_word2.append(chr(x-26))\n",
    "    text[word]=new_word2   \n",
    "   \n",
    "    if n<10:\n",
    "        for y in range(n,10):\n",
    "            text[word].append(random.choice(['a', 'b', 'c','d','e','f','g','h','i','j','k','l','m','n','o','p','q','r','s','t','u','v','w','x','y','z']))      \n",
    "\n",
    "for word in range(words):\n",
    "    str(text[word])\n",
    "    print(text[word])\n",
    "\n",
    "fh = open(r'd:\\python\\English_correct.txt', 'w')\n",
    "str(text).replace(',','  ')\n",
    "fh.writelines(str(text))\n",
    "fh.close()"
   ]
  }
 ],
 "metadata": {
  "kernelspec": {
   "display_name": "Python 3",
   "language": "python",
   "name": "python3"
  },
  "language_info": {
   "codemirror_mode": {
    "name": "ipython",
    "version": 3
   },
   "file_extension": ".py",
   "mimetype": "text/x-python",
   "name": "python",
   "nbconvert_exporter": "python",
   "pygments_lexer": "ipython3",
   "version": "3.6.0"
  }
 },
 "nbformat": 4,
 "nbformat_minor": 2
}
