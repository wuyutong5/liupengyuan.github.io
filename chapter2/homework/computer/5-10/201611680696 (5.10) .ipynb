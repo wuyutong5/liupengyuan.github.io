{
 "cells": [
  {
   "cell_type": "code",
   "execution_count": 23,
   "metadata": {
    "collapsed": false
   },
   "outputs": [
    {
     "name": "stdout",
     "output_type": "stream",
     "text": [
      "原文件： pen pencil case ruler book bag card eraser crayon take place beauty harvest hunter starve origin religious seasonal ancestor grave incense in memory of trick play essity\n",
      "\n",
      "\n",
      "词数： 26\n",
      "\n",
      "\n",
      "源码： ['pen', 'pencil', 'case', 'ruler', 'book', 'bag', 'card', 'eraser', 'crayon', 'take', 'place', 'beauty', 'harvest', 'hunter', 'starve', 'origin', 'religious', 'seasonal', 'ancestor', 'grave', 'incense', 'in', 'memory', 'of', 'trick', 'play', 'essity']\n",
      "\n",
      "\n",
      "密码： ['7696717242', '6022356875', '1171040583', '3309958794', '3989370173', '1176718062', '8986167933', '1940718195', '5346888585', '2784143843', '1116040144', '4829968175', '5612546746', '6188271615', '2621404575', '8414160885', '9689095598', '7207515717', '4278633757', '8601729484', '6545373546', '7026344301', '2014396305', '6380456951', '4045133474', '6242248623']\n",
      "\n",
      "\n",
      "加密： ['wkw', 'vepelq', 'dhzf', 'uxlna', 'exwt', 'chn', 'kjzj', 'faesls', 'hueewv', 'vhsi', 'qmhie', 'fmcdce', 'mgsxjwz', 'nvvbgy', 'uzcsze', 'wvjkjt', 'aktrgrtzb', 'zggztofs', 'epjmywry', 'oxgwl', 'osgjqzh', 'pn', 'oensuh', 'ui', 'xrmhl', 'vnea']\n",
      "\n",
      "\n",
      "解密： ['wkwhtylxcq', 'vepelqfjpx', 'dhzfogpqqj', 'uxlnayaeei', 'exwteiromc', 'chnsylqxun', 'kjzjopytiq', 'faeslsrfcg', 'hueewvylvc', 'vhsiozriwk', 'qmhiemvpgt', 'fmcdcepsvr', 'mgsxjwzani', 'nvvbgyyosr', 'uzcszetjdf', 'wvjkjtvoxy', 'aktrgrtzbd', 'zggztofsbp', 'epjmywryhk', 'oxgwluyrsm', 'osgjqzhuhx', 'pnfvyjklnp', 'oensuhuwtv', 'uiluqoaysg', 'xrmhlpddjx', 'vnealcqwez']\n"
     ]
    }
   ],
   "source": [
    "import random,string,os\n",
    "\n",
    "fh = open(r'c:\\temp\\words.txt')\n",
    "text = fh.read()\n",
    "fh.close()\n",
    "print(\"原文件：\",text)\n",
    "print('\\n')\n",
    "l=0\n",
    "end=0\n",
    "while end<len(text):\n",
    "    if text[end] ==' ':\n",
    "        l+=1\n",
    "    end+=1\n",
    "print(\"词数：\",l)\n",
    "print('\\n')\n",
    "words=text.split(' ')\n",
    "print(\"源码：\",words)\n",
    "print('\\n')\n",
    "fh = open(r'c:\\temp\\words_correct.txt','w')\n",
    "fh.writelines(words)\n",
    "fh.close\n",
    "key=[]\n",
    "for i in range(l):\n",
    "    key.append(str(random.randint(100000000,999999999)*10+len(words[i])-1))\n",
    "print(\"密码：\",key)\n",
    "print('\\n')\n",
    "m=[]\n",
    "for i in range(l):\n",
    "    word=''\n",
    "    for j in range(len(words[i])):\n",
    "        n=ord(words[i][j])\n",
    "        if 99<=n+int(key[i][j])<=122:\n",
    "            n=n+int(key[i][j])\n",
    "            word+=chr(n)\n",
    "        else:\n",
    "            n=int(key[i][j])+n-26\n",
    "            word+=chr(n)\n",
    "    m.append(word)\n",
    "for i in range(l):\n",
    "    m[i]=m[i].lower()\n",
    "print(\"加密：\",m)\n",
    "print('\\n')\n",
    "for i in range(l):\n",
    "    m[i]=m[i]+''.join(random.sample(string.ascii_letters,(10-len(words[i]))))\n",
    "    m[i]=m[i].lower()\n",
    "print(\"解密：\",m)\n",
    "fh = open(r'c:\\temp\\key.txt','w')\n",
    "fh.writelines(t)\n",
    "fh.close()\n",
    "fh= open(r'c:\\temp\\key.txt','w')\n",
    "m=[m+' ' for m in m]\n",
    "fh.writelines(t)\n",
    "fh.close()"
   ]
  },
  {
   "cell_type": "code",
   "execution_count": null,
   "metadata": {
    "collapsed": true
   },
   "outputs": [],
   "source": []
  }
 ],
 "metadata": {
  "kernelspec": {
   "display_name": "Python 3",
   "language": "python",
   "name": "python3"
  },
  "language_info": {
   "codemirror_mode": {
    "name": "ipython",
    "version": 3
   },
   "file_extension": ".py",
   "mimetype": "text/x-python",
   "name": "python",
   "nbconvert_exporter": "python",
   "pygments_lexer": "ipython3",
   "version": "3.6.0"
  }
 },
 "nbformat": 4,
 "nbformat_minor": 2
}
