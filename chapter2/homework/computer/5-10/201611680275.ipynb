{
 "cells": [
  {
   "cell_type": "markdown",
   "metadata": {},
   "source": [
    "文件开始为：\n",
    "the whispers in the morning of lovers sleeping tight are rolling by like thunder now as i look in your eyes i hold on to your body and feel each move you make your voice is warm and tender a love that i could not forsake cause i am your lady and you are my man whenever you reach for me i will do all that i can"
   ]
  },
  {
   "cell_type": "code",
   "execution_count": 4,
   "metadata": {
    "collapsed": false
   },
   "outputs": [],
   "source": [
    "fh=open(r'd:\\temp\\秘密花园.txt')\n",
    "text = fh.read()\n",
    "words = text.split(' ')\n",
    "fh.close()"
   ]
  },
  {
   "cell_type": "markdown",
   "metadata": {},
   "source": [
    "编辑为密码："
   ]
  },
  {
   "cell_type": "code",
   "execution_count": 5,
   "metadata": {
    "collapsed": false
   },
   "outputs": [],
   "source": [
    "import random\n",
    "fh=open(r'd:\\temp\\秘密花园.txt','w')\n",
    "for word in words:\n",
    "    length=len(word)\n",
    "    idiom=word\n",
    "    number=random.randint(100000000,999999999)\n",
    "    key=(length-1)*10**9+number\n",
    "    key1=str(key)\n",
    "    i=0\n",
    "    wordkey=[]\n",
    "    if key/1000000000>=1:\n",
    "        wordkey.append(chr(97+int(key1[0])))\n",
    "        for i in range(1,length+1):\n",
    "            if ord(idiom[i-1])+int(key1[i])<123:\n",
    "                wordkey.append(chr(ord(idiom[i-1])+int(key1[i])))\n",
    "            else:\n",
    "                wordkey.append(chr(ord(idiom[i-1])+int(key1[i])-57))\n",
    "        for i in range(length,9):\n",
    "            wordkey.append(chr(97+int(key1[i])))\n",
    "    else:\n",
    "        wordkey.append('a')\n",
    "        for i in range(0,length+1):\n",
    "            if ord(idiom[i-1])+int(key1[i-1])<123:\n",
    "                wordkey.append(chr(ord(idiom[i-1])+int(key1[i-1])))\n",
    "            else:\n",
    "                wordkey.append(chr(ord(idiom[i-1])+int(key1[i-1])-57))\n",
    "        for i in range(length,8):\n",
    "            wordkey.append(chr(97+int(key1[i])))\n",
    "    wordkey1=''.join(wordkey)\n",
    "    wordkey2=wordkey1+' '\n",
    "    fh.write(wordkey2)\n",
    "fh.close()"
   ]
  },
  {
   "cell_type": "markdown",
   "metadata": {},
   "source": [
    "文件最终显示为：\n",
    "cDmfbdajbj hEmjCxjrai bogeejbbeh cDmfbbbggj gtqBrpqdfh bpbhjgghcb fosxitcfgi hylmnwlsff evkmibgbab civeabibij gvoloivicd bkjbeigfjf dnnoeaidfi gwmurigcga cttffbhaaj bffgfibjfd afihibjije dspvhbfcai bpheffiagh dFxDidiiij diymifgebc aidhjaihai dqsncjceaf bpbigafaii bBhhgiceab dzquahhajh deogdhgcbj cguhdfdggc dkghdeiied dhfdbhegdg dpuvafifjc cGxjafhhbe dverhfdhjd dGxwchjbae eDujgehaab bkcdeeghfa dzhwfcecff cbreggeghe fxmsdnjjai agjcbgfagg droEicdajj dvjbbfhfif aeeccfbedi ekxCmbejhf cqrdhjbejb gjurvimcjb eefExfafje adfeaecjee biigjgjaie dCtzffhcfg dncdahiafb chtgjbhfhe cIvhcjbdgb cdxgcefgih buijffhagd coddaacijb hxpepkFlhg cCpbafbbjb esjhljagjd cordedjaja bvjffeiddd afbgcjcdbj dFpshabefc bmjdjadfge ciujeiaffg dymjjagbci abafghefce cfggecgigd "
   ]
  },
  {
   "cell_type": "markdown",
   "metadata": {},
   "source": [
    "解密："
   ]
  },
  {
   "cell_type": "code",
   "execution_count": 13,
   "metadata": {
    "collapsed": false
   },
   "outputs": [
    {
     "ename": "IndexError",
     "evalue": "string index out of range",
     "output_type": "error",
     "traceback": [
      "\u001b[0;31m---------------------------------------------------------------------------\u001b[0m",
      "\u001b[0;31mIndexError\u001b[0m                                Traceback (most recent call last)",
      "\u001b[0;32m<ipython-input-13-bf54a582ba44>\u001b[0m in \u001b[0;36m<module>\u001b[0;34m()\u001b[0m\n\u001b[1;32m      4\u001b[0m \u001b[0mtrue_word\u001b[0m\u001b[1;33m=\u001b[0m\u001b[1;33m[\u001b[0m\u001b[1;33m]\u001b[0m\u001b[1;33m\u001b[0m\u001b[0m\n\u001b[1;32m      5\u001b[0m \u001b[1;32mfor\u001b[0m \u001b[0mwordkey1\u001b[0m \u001b[1;32min\u001b[0m \u001b[0mwordkey2\u001b[0m\u001b[1;33m:\u001b[0m\u001b[1;33m\u001b[0m\u001b[0m\n\u001b[0;32m----> 6\u001b[0;31m     \u001b[1;32mif\u001b[0m \u001b[0mwordkey1\u001b[0m\u001b[1;33m[\u001b[0m\u001b[1;36m1\u001b[0m\u001b[1;33m]\u001b[0m\u001b[1;33m==\u001b[0m\u001b[1;34m'a'\u001b[0m\u001b[1;33m:\u001b[0m\u001b[1;33m\u001b[0m\u001b[0m\n\u001b[0m\u001b[1;32m      7\u001b[0m         \u001b[1;32mif\u001b[0m \u001b[0mord\u001b[0m\u001b[1;33m(\u001b[0m\u001b[0mwordkey1\u001b[0m\u001b[1;33m[\u001b[0m\u001b[1;36m1\u001b[0m\u001b[1;33m]\u001b[0m\u001b[1;33m)\u001b[0m\u001b[1;33m<\u001b[0m\u001b[1;36m97\u001b[0m\u001b[1;33m:\u001b[0m\u001b[1;33m\u001b[0m\u001b[0m\n\u001b[1;32m      8\u001b[0m             \u001b[0mtrue_word\u001b[0m\u001b[1;33m=\u001b[0m\u001b[0mchr\u001b[0m\u001b[1;33m(\u001b[0m\u001b[0mord\u001b[0m\u001b[1;33m(\u001b[0m\u001b[0mwordkey1\u001b[0m\u001b[1;33m[\u001b[0m\u001b[1;36m1\u001b[0m\u001b[1;33m]\u001b[0m\u001b[1;33m)\u001b[0m\u001b[1;33m+\u001b[0m\u001b[1;36m57\u001b[0m\u001b[1;33m-\u001b[0m\u001b[0mint\u001b[0m\u001b[1;33m(\u001b[0m\u001b[0mkey1\u001b[0m\u001b[1;33m[\u001b[0m\u001b[1;36m1\u001b[0m\u001b[1;33m]\u001b[0m\u001b[1;33m)\u001b[0m\u001b[1;33m)\u001b[0m\u001b[1;33m\u001b[0m\u001b[0m\n",
      "\u001b[0;31mIndexError\u001b[0m: string index out of range"
     ]
    }
   ],
   "source": [
    "fh=open(r'd:\\temp\\秘密花园.txt','r+')\n",
    "text = fh.read()\n",
    "wordkey2 = text.split(' ')\n",
    "true_word=[]\n",
    "for wordkey1 in wordkey2:\n",
    "    if wordkey1[0]=='a':\n",
    "        if ord(wordkey1[1])<97:\n",
    "            true_word=chr(ord(wordkey1[1])+57-int(key1[1]))\n",
    "        else:\n",
    "            true_word=chr(ord(wordkey1[1])-int(key1[1]))\n",
    "    else:\n",
    "        headword=ord(wordkey1[0])-97\n",
    "        for i in range(1,headword):\n",
    "            if ord(wordkey1[i-1])<97:\n",
    "                true_word.append=chr(ord(wordkey1[i])+57-int(key1[i]))\n",
    "            elif ord(wordkey1[i-1])>97:\n",
    "                true_word.append=chr(ord(wordkey1[i])-int(key1[i]))\n",
    "    true_word1=''.join(true_word)\n",
    "    true_word2=true_word1+' '\n",
    "    fh.write(true_word2)\n",
    "fh.close()"
   ]
  }
 ],
 "metadata": {
  "kernelspec": {
   "display_name": "Python 3",
   "language": "python",
   "name": "python3"
  },
  "language_info": {
   "codemirror_mode": {
    "name": "ipython",
    "version": 3
   },
   "file_extension": ".py",
   "mimetype": "text/x-python",
   "name": "python",
   "nbconvert_exporter": "python",
   "pygments_lexer": "ipython3",
   "version": "3.6.0"
  }
 },
 "nbformat": 4,
 "nbformat_minor": 2
}
