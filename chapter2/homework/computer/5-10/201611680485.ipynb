{
 "cells": [
  {
   "cell_type": "code",
   "execution_count": 14,
   "metadata": {
    "collapsed": false
   },
   "outputs": [
    {
     "name": "stdout",
     "output_type": "stream",
     "text": [
      "['i', 'like', 'apple']\n",
      "368225070368225070\n",
      "734841077734841077\n",
      "172109832172109832\n",
      "[['l', 'i', 'e', 'w', 'y', 'z', 't', 'x', 'g', 'p'], ['s', 'l', 'o', 'm', 'a', 'z', 't', 'e', 'h', 's'], ['b', 'w', 'r', 'm', 'e', 'r', 'x', 'u', 'l', 'b']]\n"
     ]
    }
   ],
   "source": [
    "import random\n",
    "\n",
    "fh = open(r'/Users/liudongying/Desktop/pyth.txt')\n",
    "text = fh.read()\n",
    "idioms = text.split(' ') \n",
    "print(idioms)\n",
    "fh.close()\n",
    "\n",
    "for number in range(len(idioms)): \n",
    "    n = len(idioms[number]) \n",
    "    code =  random.randint(100000000,999999999)\n",
    "    new_code = str(code) + str(code) \n",
    "    print(new_code)\n",
    "    new_idioms = []\n",
    "    for i in range(len(idioms[number])):\n",
    "        word = ord((idioms[number])[i]) + ord(new_code[i])-48\n",
    "        if 97 < word < 122:\n",
    "            new_idioms.append(chr(word))\n",
    "        elif word > 122:\n",
    "            new_idioms.append(chr(word-26))\n",
    "    idioms[number] = new_idioms\n",
    "    \n",
    "    if n < 10:\n",
    "        for x in range(n,10):\n",
    "            idioms[number].append(random.choice(['a','b','c','d','e','f','g','h','i','j','k','l','m','n','o','p','q','r','s','t','u','v','w','x','y','z']))\n",
    "    \n",
    "print(idioms)\n",
    "\n",
    "fh = open(r'/Users/liudongying/Desktop/pyth_new.txt', 'w')\n",
    "fh.writelines(str(idioms))\n",
    "fh.close()"
   ]
  }
 ],
 "metadata": {
  "kernelspec": {
   "display_name": "Python 3",
   "language": "python",
   "name": "python3"
  },
  "language_info": {
   "codemirror_mode": {
    "name": "ipython",
    "version": 3
   },
   "file_extension": ".py",
   "mimetype": "text/x-python",
   "name": "python",
   "nbconvert_exporter": "python",
   "pygments_lexer": "ipython3",
   "version": "3.6.0"
  }
 },
 "nbformat": 4,
 "nbformat_minor": 2
}
