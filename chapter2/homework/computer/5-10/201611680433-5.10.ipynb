{
 "cells": [
  {
   "cell_type": "markdown",
   "metadata": {
    "deletable": true,
    "editable": true
   },
   "source": [
    "练习一：文本加密解密。\n",
    "(先看有关ASCII码的相关知识以及码表，查维基百科或百度百科)\n",
    "输入：一个txt文件(假设全是字母的英文词，每个单词之间用单个空格隔开，假设单词最长为10个字母)\n",
    "加密：得到每个单词的长度n，随机生成一个9位的数字，将n-1与这个9位的数字连接，形成一个10位的数字，作为密匙key。依照key中各个数字对单词中每一个对应位置的字母进行向后移位(例：如过key中某数字为2，对应该位置的字母为a，加密则应移位成c，如果超过z，则回到A处继续移位)，对长度不到10的单词，移位后，将移位后的单词利用随机字母补全到10个，最终形成以10个字母为一个单词，并以单个空格分割的加密文本，存入文件。\n",
    "解密：给定该文本文件并给定key(10位数字)，恢复原来的文本。\n",
    "(提示，利用ord()及chr()函数，ord(x)是取得字符x的ASCII码，chr(n)是取得整数n(代表ASCII码)对应的字符。例：ord(a)的值为97，chr(97)的值为'a'，因字母a的ASCII码值为97。)"
   ]
  },
  {
   "cell_type": "code",
   "execution_count": null,
   "metadata": {
    "collapsed": true,
    "deletable": true,
    "editable": true
   },
   "outputs": [],
   "source": [
    "import random\n",
    "\n",
    "fh=open(r'd:\\temp\\字母.txt')\n",
    "text=fh.read()\n",
    "fh.close()\n",
    "\n",
    "words=[]\n",
    "words=text.split(' ')\n",
    "\n",
    "\n",
    "suiji=[]\n",
    "for i in range(0,10):\n",
    "    suiji[i]=random(1,10)\n",
    "\n",
    "for word in words: \n",
    "    key=[]\n",
    "    key[0]=len(word)-1\n",
    "    for i in range(1,11):\n",
    "        key[i]=suiji[i-1]\n",
    "\n",
    "    for j in range(0,10):\n",
    "        if len(word)==10:\n",
    "            if ord(word[j]+key[j])<123:\n",
    "                word[j]=chr(ord(word[j])+key[j])\n",
    "            else:\n",
    "                word[j]=chr(ord(word[j])+key[j]-122+97)\n",
    "        else:\n",
    "            if j<=len(word):\n",
    "                if ord(word[j]+key[j])<123:\n",
    "                    word[j]=chr(ord(word[j])+key[j])\n",
    "                else:\n",
    "                    word[j]=chr(ord(word[j])+key[j]-122+97)\n",
    "            else:\n",
    "                word[j]=chr(random(97,123))\n",
    "\n",
    "fh=open(r'd:\\temp\\words_correct.txt', 'w')\n",
    "fh.write('\\n'.join(words))\n",
    "fh.close()"
   ]
  }
 ],
 "metadata": {
  "kernelspec": {
   "display_name": "Python 3",
   "language": "python",
   "name": "python3"
  },
  "language_info": {
   "codemirror_mode": {
    "name": "ipython",
    "version": 3
   },
   "file_extension": ".py",
   "mimetype": "text/x-python",
   "name": "python",
   "nbconvert_exporter": "python",
   "pygments_lexer": "ipython3",
   "version": "3.6.0"
  }
 },
 "nbformat": 4,
 "nbformat_minor": 2
}
