{
 "cells": [
  {
   "cell_type": "markdown",
   "metadata": {},
   "source": [
    "输入：一个txt文件(假设全是字母的英文词，每个单词之间用单个空格隔开，假设单词最长为10个字母)\n",
    "加密：得到每个单词的长度n，随机生成一个9位的数字，将n-1与这个9位的数字连接，形成一个10位的数字，作为密匙key。依照key中各个数字对单词中每一个对应位置的字母进行向后移位(例：如过key中某数字为2，对应该位置的字母为a，加密则应移位成c，如果超过z，则回到A处继续移位)，对长度不到10的单词，移位后，将移位后的单词利用随机字母补全到10个，最终形成以10个字母为一个单词，并以单个空格分割的加密文本，存入文件。\n",
    "解密：给定该文本文件并给定key(10位数字)，恢复原来的文本。"
   ]
  },
  {
   "cell_type": "code",
   "execution_count": null,
   "metadata": {
    "collapsed": true
   },
   "outputs": [],
   "source": [
    "import random\n",
    "import string\n",
    "\n",
    "def move(k,w):#加密\n",
    "    for i in range(0,len(w),10):\n",
    "        for j in range(i+1,i+1+k[i]):\n",
    "        temp=chr(w[j])+k[j]\n",
    "        if temp>122:\n",
    "            w[j]=ord(temp-26)\n",
    "            elif:\n",
    "                w[j]=ord(temp)\n",
    "    return k,w\n",
    "\n",
    "def remove(k,w):#解密\n",
    "    text=[]\n",
    "    fh=open(r'filel_name',w)\n",
    "    for i in range(0,len(w),10):\n",
    "        for j in range(i+1,i+1+k[i]):\n",
    "            temp=chr(w[j])-k[j]\n",
    "            if temp<97:\n",
    "                text[j]=ord(temp+26)\n",
    "                elif:\n",
    "                    text[j]=ord(temp)\n",
    "        text.append(' ')\n",
    "    return fh.writelines(text)\n",
    "        \n",
    "    \n",
    "fh=open(r'file_name txt')\n",
    "Words=fh.read()\n",
    "fh.close()\n",
    "secret=open(r'file_name',w)\n",
    "\n",
    "key=[]\n",
    "letters=['a','b','c','d','e','f','g','h','i','j','k','l','m','n','o','p','q','r','s','t','u','v','w','x','y','z']\n",
    "\n",
    "for word in Words:\n",
    "    i=len(word)\n",
    "    key.append(i)\n",
    "    word+sampe.join([word,10-i])\n",
    "for ke in key:\n",
    "    key+sample.join(['0','1','2','3','4','5','6','7','8','9'],9)\n",
    "    \n",
    "fh.writelines(Word)\n",
    "secret.writelines(key)\n",
    "\n",
    "\n",
    "secret,fh=move(key,Word)\n",
    "print(\"加密文字：\")\n",
    "fh.open(r'file_name')\n",
    "print(\"密钥：\")\n",
    "secret(r'file_name')\n",
    "\n",
    "#解密：\n",
    "fh=remove(secret,fh)\n",
    "print(\"解密文字：\")\n",
    "fh.open(r'file_name')"
   ]
  }
 ],
 "metadata": {
  "kernelspec": {
   "display_name": "Python 3",
   "language": "python",
   "name": "python3"
  },
  "language_info": {
   "codemirror_mode": {
    "name": "ipython",
    "version": 3
   },
   "file_extension": ".py",
   "mimetype": "text/x-python",
   "name": "python",
   "nbconvert_exporter": "python",
   "pygments_lexer": "ipython3",
   "version": "3.6.0"
  }
 },
 "nbformat": 4,
 "nbformat_minor": 2
}
