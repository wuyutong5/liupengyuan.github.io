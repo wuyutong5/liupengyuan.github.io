{
 "cells": [
  {
   "cell_type": "code",
   "execution_count": 50,
   "metadata": {
    "collapsed": false
   },
   "outputs": [
    {
     "name": "stdout",
     "output_type": "stream",
     "text": [
      "初始单词： ['so', 'what', 'should', 'we', 'do', 'to', 'protect', 'our', 'identity', 'informatio', 'Keep', 'your', 'important', 'documents', 'properly', 'dont', 'tell', 'your', 'informatio', 'to', 'the', 'stranger', 'when', 'you', 'use', 'a', 'computer', 'please', 'make', 'sure', 'that', 'this', 'computer', 'has', 'firewall', 'if', 'you', 'sign', 'in', 'some', 'pplication', 'you', 'should', 'download', 'the', 'safe', 'pplication', 'the', 'related', 'department', 'should', 'devote', 'great', 'effects', 'to', 'educating', 'citizens', 'to', 'keep', 'them', 'from', 'being', 'in', 'trouble']\n",
      "数字密码： ['3091691222', '3620577194', '1358626136', '9140563542', '5492783782', '8291509772', '7867273387', '2955683263', '5409390538', '55218025510', '3524556714', '1377027424', '1461556209', '4189206409', '1565021418', '9951063304', '3157593274', '8937076774', '11055471810', '8305239162', '9022103143', '1426874968', '5813392474', '1026621523', '8122391043', '3885573451', '5011381598', '2319940776', '6124393604', '5929021494', '3726434254', '9299014394', '9886633348', '7699941103', '3533723358', '6089308542', '7220334423', '4930618524', '5376649272', '8333645064', '59649766710', '2915502333', '9060310336', '4689967248', '4873495113', '3437968534', '53501381210', '5100023313', '5591866817', '51975978010', '1931427796', '8156252586', '5846146755', '2401610407', '9429580012', '1638924189', '9420669578', '4234768832', '5901075434', '5820934454', '8490748524', '6792234555', '2338924652', '8065326777']\n",
      "初始字母密码： ['zt', 'znGu', 'anpwqf', 'zl', 'lu', 'wq', 'qrpwlcx', 'xxy', 'nlgnzjbc', 'nvhotnjxip', '9mjv', 'gpay', 'kpuxwzfuy', 'hsebqivuv', 'sspvnttb', 'mwpv', 'xhos', 'hwda', 'jwnpxnfyrp', 'us', 'yjk', 'uxvgrihx', 'fpmq', 'fwu', 'yyk', 'j', 'jxttwyez', 'urfgxj', 'ujon', 'ucyl', 'yqGu', 'bjnt', 'ituqacku', 'odz', 'ikwmycrt', 'll', 'hpb', 'tjmv', 'qq', 'asqe', 'wruojhzpuo', 'ctx', 'aptwtm', 'ktxqqshj', 'zqj', 'vgmi', 'yxnrleyqxo', 'xqi', 'ujshuld', 'lhsestumvu', 'wnvapi', 'fjeozh', 'kzhcz', 'fhneczb', 'bo', 'jivfialvp', 'gntphhvs', 'xx', 'smhy', 'yqkp', 'jzss', 'jfjsj', 'qo', 'vtvahme']\n",
      "字母密码： ['uucpkntswl', 'anfxoqcwil', 'bnoyohdchm', 'xljkyorkan', 'iuhtsjlyua', 'vuudmxkgpi', 'wywahcbwat', 'rzxwzwcygp', 'ohhublyboh', 'lwfsaoibkp', '8hjykjsetd', 'dodvgdlsqc', 'kmquytjsym', 'hwluqkuwsa', 'wvsuhzmgbj', 'kopvukqvlq', 'blmtrsqenp', 'gvbzjldubd', 'pqmrzqfbnp', 'ysndakpjvm', 'wlgsmfrvqa', 'bzvdwogxta', 'ekmtvgprrp', 'ctudzfilsq', 'avearlbpcg', 'cnsrbjgdkf', 'ermtucirjw', 'xofeaeaqri', 'tgllfwlfhj', 'udvnltsyhu', 'whicaviuyw', 'ypouktsxqb', 'jrntuzhtuo', 'kfufnkeokr', 'niyixjrngt', 'ngrikmzghn', 'fsdkhwxrdu', 'zoiovwqvdi', 'rqfwkmabss', 'uqmncdplom', 'uypjeibnto', 'zozxroakci', 'vnwaqjutky', 'gtbqmqhjyy', 'zihhxrqhca', 'agfhknfyor', 'ytorejtnpo', 'cnekixwjur', 'ynngzmghft', 'leudwxoisu', 'biqcrdgujf', 'jhxrbmzdsc', 'ouefcablnz', 'nhijcbbkfd', 'xugcdnmwru', 'nlbicxjtps', 'jpulhjsxmn', 'zxivocisga', 'nikuthfyya', 'ujksifakhy', 'kusqvovtzh', 'fjorlwzjle', 'qtputmlfbc', 'arsciueuhe']\n"
     ]
    }
   ],
   "source": [
    "import random,string\n",
    "\n",
    "\n",
    "def get_key(line):\n",
    "    keylen=[]\n",
    "    key_len=[]\n",
    "    lenth=[]\n",
    "    for word in line:\n",
    "        lenth.append(len(word))\n",
    "    n=len(line)\n",
    "    for i in range(0,n):\n",
    "        key_len.append(str(random.randint(100000000,1000000000)))\n",
    "    for j in range(0,n):\n",
    "        keylen.append(str(key_len[j])+str(lenth[j]))\n",
    "    return keylen\n",
    "\n",
    "def get_letter(line):\n",
    "    key=get_key(line)#密码\n",
    "    key_=line#原始\n",
    "    str_tol=[]\n",
    "    for i in range(len(line)):\n",
    "        str_=''\n",
    "        for j in range(len(key_[i])):\n",
    "            a=ord(key_[i][j])\n",
    "            b=int(key[i][j])\n",
    "            if 99<=(a+b)<=122:\n",
    "                str_+=chr(a+b)\n",
    "            else:\n",
    "                str_+=chr(a+b-26)\n",
    "        str_tol.append(str_)\n",
    "    return str_tol\n",
    "\n",
    "def get_letter_(line):\n",
    "    letter_=line\n",
    "    letter=[]\n",
    "    letter__=get_letter(line)\n",
    "    for i in range(len(line)):\n",
    "        letter.append(str(letter__[i])+''.join(random.sample(string.ascii_letters,(10-(len(letter__[i]))))))\n",
    "        letter[i]=letter[i].lower()\n",
    "    return letter\n",
    "\n",
    "\n",
    "    \n",
    "\n",
    "\n",
    "fh=open(r'd:\\temp\\code.txt')\n",
    "text=fh.read()\n",
    "text=text.split()\n",
    "fh.close()\n",
    "print('初始单词：',text)\n",
    "print('数字密码：',get_key(text))\n",
    "print('初始字母密码：',get_letter(text))\n",
    "print('字母密码：',get_letter_(text))"
   ]
  },
  {
   "cell_type": "code",
   "execution_count": 53,
   "metadata": {
    "collapsed": false
   },
   "outputs": [
    {
     "name": "stdout",
     "output_type": "stream",
     "text": [
      "['t', 'r', 'l', 'k', 'b', 'B', 'G', 'N']\n",
      "['d', 'Y', 'l', 'q', 'P', 'W', 'X', 'D']\n",
      "['E', 'g', 'J', 'C', 'l', 'i', 'Q', 'r']\n",
      "['r', 'M', 'j', 'U', 'v', 'i', 'L', 'l']\n",
      "['d', 'w', 'M', 'W', 'm', 'A', 'i', 'f']\n"
     ]
    }
   ],
   "source": [
    "import random, string\n",
    "\n",
    "for c in range(5):\n",
    "    print(random.sample(string.ascii_letters, 8))"
   ]
  }
 ],
 "metadata": {
  "kernelspec": {
   "display_name": "Python 3",
   "language": "python",
   "name": "python3"
  },
  "language_info": {
   "codemirror_mode": {
    "name": "ipython",
    "version": 3
   },
   "file_extension": ".py",
   "mimetype": "text/x-python",
   "name": "python",
   "nbconvert_exporter": "python",
   "pygments_lexer": "ipython3",
   "version": "3.6.0"
  }
 },
 "nbformat": 4,
 "nbformat_minor": 2
}
