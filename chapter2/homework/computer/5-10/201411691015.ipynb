{
 "cells": [
  {
   "cell_type": "code",
   "execution_count": 1,
   "metadata": {
    "collapsed": false
   },
   "outputs": [
    {
     "name": "stdout",
     "output_type": "stream",
     "text": [
      "原来的文件：\n",
      "South African Duo Amis to be First to Row Across Southern Atlantic\n",
      "后来的文件：\n",
      "ZwDziKrsJl HnzodcpwdN KDwSYOmXXn HuqywIEqRa BwfGwSBooB imhgoYRZIe MqzyudPZBO BwTGLYzLDq YwFfolsJaq HkzutucqbI ZwDzigtvlg HCtgovkkcy \n",
      "解密后的文件：\n",
      "South African Duo Amis to be First to Row Across Southern Atlantic "
     ]
    }
   ],
   "source": [
    "import random\n",
    "\n",
    "def compute_rand_key():\n",
    "    rand_num = [0]*9\n",
    "    for i in range(9):\n",
    "        rand_num[i] = random.randint(0,9)\n",
    "    return rand_num\n",
    "\n",
    "def compute_rand_letter():\n",
    "    rand_letter = random.randint(65,122)\n",
    "    while rand_letter >= 91 and rand_letter <= 96:\n",
    "        rand_letter = random.randint(65,122)\n",
    "    return rand_letter\n",
    "\n",
    "def encode(rand_key,word_len):\n",
    "    file_in = open('F:\\\\python\\\\510test.txt','r')\n",
    "    file_out = open('F:\\\\python\\\\510test_new_out.txt','w')\n",
    "    for line in file_in:\n",
    "        line = line.split()\n",
    "        for word in line:\n",
    "            word_len.append(len(word))\n",
    "            key = rand_key.copy()\n",
    "            key.append(len(word))\n",
    "            word_new = []\n",
    "            for i in range(len(word)):\n",
    "                ascii_i = ord(word[i])\n",
    "                ascii_i += int(key[i])\n",
    "                if ascii_i>122:\n",
    "                    ascii_i -= 57\n",
    "                ascii_i = chr(ascii_i)\n",
    "                word_new.append(ascii_i)\n",
    "            for j in range(len(word),10):   # len(word)要如何保存下来\n",
    "                rand_le = compute_rand_letter()\n",
    "                word_new.append(chr(rand_le))\n",
    "            word_new = \"\".join(word_new)\n",
    "            file_out.write(word_new+' ')\n",
    "    file_in.close()\n",
    "    file_out.close()\n",
    "\n",
    "def decode(rand_key,word_len):\n",
    "    file_in = open('F:\\\\python\\\\510test_new_out.txt','r')\n",
    "    file_out = open('F:\\\\python\\\\510test_old_out.txt','w')\n",
    "    for line in file_in:\n",
    "        print (line+'\\n解密后的文件：')\n",
    "        line = line.split()\n",
    "        j = 0\n",
    "        for word_new in line:\n",
    "            rand_key.append(len(word_new))   ###如何得到原来的len(word)即字符的长度\n",
    "            key = rand_key.copy()\n",
    "            word_old = []\n",
    "            for i in range(int(word_len[j])):\n",
    "                ascii_i = ord(word_new[i])\n",
    "                ascii_i -= int(key[i])\n",
    "                if ascii_i<65:\n",
    "                    ascii_i =122 -(int(key[i])- (ord(word_new[i]) - 65) ) \n",
    "                ascii_i = chr(ascii_i)\n",
    "                word_old.append(ascii_i)\n",
    "\n",
    "            word_old = \"\".join(word_old)\n",
    "            j += 1\n",
    "            print (word_old,end = ' ')\n",
    "            file_out.write(word_old+' ')\n",
    "    file_in.close()\n",
    "    file_out.close()\n",
    "\n",
    "def main():\n",
    "    file_in = open('F:\\\\python\\\\510test.txt','r')\n",
    "    print ('原来的文件：')\n",
    "    for line in file_in:\n",
    "        print (line)\n",
    "    word_len = []\n",
    "    rand_key = compute_rand_key()\n",
    "    encode(rand_key,word_len)\n",
    "    print ('后来的文件：')\n",
    "    decode(rand_key,word_len)\n",
    "    \n",
    "\n",
    "if __name__ == '__main__':\n",
    "    main()"
   ]
  }
 ],
 "metadata": {
  "kernelspec": {
   "display_name": "Python 3",
   "language": "python",
   "name": "python3"
  },
  "language_info": {
   "codemirror_mode": {
    "name": "ipython",
    "version": 3
   },
   "file_extension": ".py",
   "mimetype": "text/x-python",
   "name": "python",
   "nbconvert_exporter": "python",
   "pygments_lexer": "ipython3",
   "version": "3.6.0"
  }
 },
 "nbformat": 4,
 "nbformat_minor": 2
}
