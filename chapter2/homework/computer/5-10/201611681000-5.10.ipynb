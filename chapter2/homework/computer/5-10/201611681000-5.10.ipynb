{
 "cells": [
  {
   "cell_type": "code",
   "execution_count": 149,
   "metadata": {
    "collapsed": false,
    "deletable": true,
    "editable": true
   },
   "outputs": [
    {
     "name": "stdout",
     "output_type": "stream",
     "text": [
      "原单词为: ['alter', 'burst', 'dispose', 'blast', 'consume', 'split', 'spit', 'spill', 'slip', 'slide', 'bacteria', 'breed', 'budget', 'candidate', 'campus', 'liberal', 'transform', 'transplant', 'transport', 'shift', 'vary', 'vanish', 'suspicion', 'suspicious', 'mild', 'tender']\n",
      "\n",
      "\n",
      "加密后为: ['eoceyhlzwq', 'fdrtvbicvh', 'jqtppsnzyo', 'fojwwaqqmd', 'irtydmfyyy', 'wxsjwssobk', 'vxqbskvxne', 'wwimuqyeyi', 'vriwnxvkal', 'wpjigyduak', 'ihhzevibak', 'fvmnfzjpzu', 'gxhgfxynez', 'khnkqgjukl', 'hfmqvselbr', 'rjdkvjuvfz', 'baiobkpyrt', 'cajowvoivz', 'btbruvwwyd', 'wnmgcfbvif', 'yeydpxicvl', 'afsmsmpjqq', 'ayapolnxrh', 'bbuxkjixyb', 'pjrfgqlsok', 'ynplgygwyt']\n"
     ]
    }
   ],
   "source": [
    "import random,math\n",
    "fp = open(r'd:temp\\单词.txt')\n",
    "text = fp.read()\n",
    "fp.close()##读出单词\n",
    "\n",
    "\n",
    "words=[]\n",
    "words = text.split()##分割单词\n",
    "print('原单词为:',words)\n",
    "print('\\n')\n",
    "\n",
    "fp = open(r'd:temp\\words.txt','w')\n",
    "fp.write('\\n'.join(words))\n",
    "fp.close()##写到另一个文件中\n",
    "\n",
    "j=sum=0##数组下标\n",
    "fp = open(r'd:temp\\words.txt')\n",
    "text=fp.read()\n",
    "\n",
    "def get_word_table(list):\n",
    "    word_t=[]\n",
    "    for w in list:\n",
    "            word_t.append(w)\n",
    "    return word_t##得到每个字母\n",
    "word_table=get_word_table(text.replace('\\n',''))\n",
    "\n",
    "new_word=[]         ##用来放加密后的单词\n",
    "new_ch=[]           ##加密后的字母\n",
    "for word in words:  ##循环加密\n",
    "    len_of_word=len(word) ##得到每个单词的长度\n",
    "    #print(len_of_word)\n",
    "    num=random.randrange(100000000,999999999)##随机生成的9位数\n",
    "    key=(len_of_word-1)*1000000000+num       ##得到密匙key\n",
    "    key=str(key)                         ##将key转化为字符型，拆分10个数字\n",
    "    \n",
    "    for i in key:                #10次循环得到10个加密后的字母\n",
    "        if(j<sum+len_of_word):  ##属于原文件单词的字母用以下方式加密\n",
    "                #print(word_table[j])\n",
    "                if(ord(word_table[j])+int(i)>122):\n",
    "                    ch=chr(ord(word_table[j])+int(i)-26)##注意越界\n",
    "                else:ch=chr(ord(word_table[j])+int(i))\n",
    "                new_ch.append(ch)   ##将加密后的字母存放在list中\n",
    "                j+=1\n",
    "        else: new_ch.append(chr(random.randint(97,122)))   ##不在单词中的字母随意生成\n",
    "    sum=sum+len_of_word           ##指针指向下一单词的开头\n",
    "#print(new_ch)\n",
    "s=''                          ##将加密后的字母连成字符串\n",
    "for i in range(len(new_ch)):\n",
    "    s=s+new_ch[i]\n",
    "for i in range(0,len(new_ch),10): ##每10个字母截成一个单词存放在new_word中\n",
    "    new_word.append(s[i:i+10])\n",
    "print('加密后为:',new_word)\n",
    "fp.close()\n",
    "\n",
    "fp = open(r'd:temp\\newwords.txt','w')\n",
    "fp.write(' '.join(new_word)) ##每个加密后的单词以空格隔开\n",
    "fp.close()"
   ]
  },
  {
   "cell_type": "code",
   "execution_count": null,
   "metadata": {
    "collapsed": true,
    "deletable": true,
    "editable": true
   },
   "outputs": [],
   "source": []
  }
 ],
 "metadata": {
  "kernelspec": {
   "display_name": "Python 3",
   "language": "python",
   "name": "python3"
  },
  "language_info": {
   "codemirror_mode": {
    "name": "ipython",
    "version": 3
   },
   "file_extension": ".py",
   "mimetype": "text/x-python",
   "name": "python",
   "nbconvert_exporter": "python",
   "pygments_lexer": "ipython3",
   "version": "3.6.0"
  }
 },
 "nbformat": 4,
 "nbformat_minor": 2
}
