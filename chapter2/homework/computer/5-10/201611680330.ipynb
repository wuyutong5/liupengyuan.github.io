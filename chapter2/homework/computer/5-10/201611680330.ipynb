{
 "cells": [
  {
   "cell_type": "markdown",
   "metadata": {},
   "source": [
    "(先看有关ASCII码的相关知识以及码表，查维基百科或百度百科)\n",
    "\n",
    "输入：一个txt文件(假设全是字母的英文词，每个单词之间用单个空格隔开，假设单词最长为10个字母)\n",
    "\n",
    "加密：得到每个单词的长度n，随机生成一个9位的数字，将n-1与这个9位的数字连接，形成一个10位的数字，作为密匙key。依照key中各个数字对单词中每一个对应位置的字母进行向后移位(例：如过key中某数字为2，对应该位置的字母为a，加密则应移位成c，如果超过z，则回到A处继续移位)，对长度不到10的单词，移位后，将移位后的单词利用随机字母补全到10个，最终形成以10个字母为一个单词，并以单个空格分割的加密文本，存入文件。\n",
    "\n",
    "解密：给定该文本文件并给定key(10位数字)，恢复原来的文本。\n",
    "(提示，利用ord()及chr()函数，ord(x)是取得字符x的ASCII码，chr(n)是取得整数n(代表ASCII码)对应的字符。例：ord(a)的值为97，chr(97)的值为'a'，因字母a的ASCII码值为97。)"
   ]
  },
  {
   "cell_type": "code",
   "execution_count": 1,
   "metadata": {
    "collapsed": false,
    "deletable": true,
    "editable": true
   },
   "outputs": [
    {
     "name": "stdout",
     "output_type": "stream",
     "text": [
      "1\n",
      "2\n",
      "3\n",
      "\n"
     ]
    },
    {
     "ename": "ValueError",
     "evalue": "invalid literal for int() with base 10: ''",
     "output_type": "error",
     "traceback": [
      "\u001b[1;31m---------------------------------------------------------------------------\u001b[0m",
      "\u001b[1;31mValueError\u001b[0m                                Traceback (most recent call last)",
      "\u001b[1;32m<ipython-input-1-1eabd13a93c2>\u001b[0m in \u001b[0;36m<module>\u001b[1;34m()\u001b[0m\n\u001b[0;32m     10\u001b[0m     \u001b[0mi\u001b[0m\u001b[1;33m=\u001b[0m\u001b[1;36m0\u001b[0m\u001b[1;33m\u001b[0m\u001b[0m\n\u001b[0;32m     11\u001b[0m     \u001b[1;32mwhile\u001b[0m \u001b[0mi\u001b[0m\u001b[1;33m<\u001b[0m\u001b[1;36m10\u001b[0m\u001b[1;33m:\u001b[0m\u001b[1;33m\u001b[0m\u001b[0m\n\u001b[1;32m---> 12\u001b[1;33m         \u001b[0mkey\u001b[0m\u001b[1;33m[\u001b[0m\u001b[0mi\u001b[0m\u001b[1;33m]\u001b[0m\u001b[1;33m=\u001b[0m\u001b[0mint\u001b[0m\u001b[1;33m(\u001b[0m\u001b[0minput\u001b[0m\u001b[1;33m(\u001b[0m\u001b[1;33m)\u001b[0m\u001b[1;33m)\u001b[0m\u001b[1;33m\u001b[0m\u001b[0m\n\u001b[0m\u001b[0;32m     13\u001b[0m         \u001b[0mi\u001b[0m\u001b[1;33m=\u001b[0m\u001b[0mi\u001b[0m\u001b[1;33m+\u001b[0m\u001b[1;36m1\u001b[0m\u001b[1;33m\u001b[0m\u001b[0m\n\u001b[0;32m     14\u001b[0m     \u001b[0mn\u001b[0m\u001b[1;33m=\u001b[0m\u001b[1;36m0\u001b[0m\u001b[1;33m\u001b[0m\u001b[0m\n",
      "\u001b[1;31mValueError\u001b[0m: invalid literal for int() with base 10: ''"
     ]
    }
   ],
   "source": [
    "#### 请在d存入txt文件，命名为：待解.txt,输入代解码单词。\n",
    "import string\n",
    "fh = open(r'd:\\待解.txt')\n",
    "text = fh.read()\n",
    "idioms = text.split(' ')\n",
    "fh.close()\n",
    "idioms2 = []\n",
    "key=[1,1,1,1,1,1,1,1,1,1]\n",
    "for word in idioms:\n",
    "    i=0\n",
    "    while i<10:\n",
    "        key[i]=int(input())\n",
    "        i=i+1\n",
    "    n=0\n",
    "    while n < key[9]:\n",
    "        if (ord(word[n])-key[n]) < 97:\n",
    "            idioms2.append(chr(ord(word[n])-key[n]+26))\n",
    "        else:\n",
    "            idioms2.append(chr(ord(word[n])-key[n]))\n",
    "            n=n+1\n",
    "        idioms2.append(' ')\n",
    "fh = open(r'd:\\解.txt','w')\n",
    "fh.write(''.join(idioms2))\n",
    "fh.close()"
   ]
  },
  {
   "cell_type": "markdown",
   "metadata": {},
   "source": [
    "##### "
   ]
  },
  {
   "cell_type": "code",
   "execution_count": null,
   "metadata": {
    "collapsed": true
   },
   "outputs": [],
   "source": []
  }
 ],
 "metadata": {
  "kernelspec": {
   "display_name": "Python 3",
   "language": "python",
   "name": "python3"
  }
 },
 "nbformat": 4,
 "nbformat_minor": 2
}
