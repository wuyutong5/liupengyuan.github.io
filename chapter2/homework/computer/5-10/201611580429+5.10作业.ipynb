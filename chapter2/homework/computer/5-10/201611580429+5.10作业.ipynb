{
 "cells": [
  {
   "cell_type": "code",
   "execution_count": 4,
   "metadata": {
    "collapsed": false
   },
   "outputs": [
    {
     "name": "stdout",
     "output_type": "stream",
     "text": [
      "字节数： 187\n",
      "源码 ['rice', 'bread', 'beef', 'milk', 'water', 'egg', 'fish', 'tofu', 'cake', 'meat', 'chicken', 'pork', 'mutton', 'vegetable', 'salad', 'soup', 'ice', 'juice', 'tea', 'coffee', 'breakfast', 'lunch', 'dinner', 'apple', 'banana', 'pear', 'orange', 'watermelon', 'grape', 'eggplant', '']\n",
      "密码:  ['2232767553', '3171480424', '8604562273', '6032386063', '5192110434', '7181445632', '4612440343', '6255201153', '3856188793', '4414996533', '6318905026', '6154979433', '2173124285', '4422241408', '4114726314', '3011538343', '3958436292', '8503486314', '2624879702', '2643468545', '7705211098', '6190566224', '1092387885', '7953974824', '6192410115', '6247181653', '6607175045', '4887844279', '1679444884', '3486452127']\n",
      "初始密码： ['tkfg', 'eslhh', 'jkej', 'siom', 'bhcgs', 'lho', 'jotj', 'zqkz', 'fipk', 'qihx', 'ikjktes', 'vpwo', 'ovawpp', 'ziigvecpe', 'whmek', 'vovq', 'llj', 'rzifi', 'vkc', 'eujiik', 'iyefmghsc', 'rvwcm', 'eiwphz', 'hyuon', 'hhwcrh', 'vgey', 'uxguhl', 'aiblzqinvw', 'hxhyi', 'hkovpfpu']\n",
      "最终密码： ['tkfgrxndju', 'eslhhlmzuo', 'jkejtpmaxe', 'siomgjfstr', 'bhcgsfplqe', 'lhoenwykar', 'jotjfxuthl', 'zqkzvbrqmo', 'fipkpuljbm', 'qihxneyxhr', 'ikjktesdxx', 'vpwodelaqf', 'ovawppjukw', 'ziigvecpev', 'whmekewkgk', 'vovqykvlbv', 'lljocwdzak', 'rzifihgfvo', 'vkcnbgkkde', 'eujiikbukc', 'iyefmghsci', 'rvwcmjysnb', 'eiwphzlaso', 'hyuonjeoum', 'hhwcrhhkkp', 'vgeyqijcox', 'uxguhlqfru', 'aiblzqinvw', 'hxhyisgrjr', 'hkovpfpukh']\n"
     ]
    }
   ],
   "source": [
    "import random,string,os\n",
    "fh = open(r'd:\\temp\\单词.txt')#文件对象赋值给fh\n",
    "text = fh.read()#文件中内容读入text\n",
    "fh.close()#关闭文件\n",
    "print(\"字节数：\",len(text))\n",
    "words = text.split(' ')\n",
    "print(\"源码\",words)\n",
    "fh = open(r'd:\\temp\\words_correct.txt', 'w')#写入\n",
    "fh.writelines(words)\n",
    "fh.close()\n",
    "key=[]\n",
    "for i in range(30):#密码\n",
    "    key.append(str(random.randint(100000000,999999999)*10+len(words[i])-1))\n",
    "print(\"密码: \",key)\n",
    "t = []\n",
    "for i in range(30):#转码\n",
    "    str_word=''\n",
    "    for j in range(len(words[i])):\n",
    "        x=ord(words[i][j])\n",
    "        if 99<=x+int(key[i][j])<=122:\n",
    "            x=x+int(key[i][j])\n",
    "            str_word+=chr(x)\n",
    "        else:\n",
    "            x=int(key[i][j])+x-26\n",
    "            str_word+=chr(x)\n",
    "    t.append(str_word)\n",
    "for i in range(30):\n",
    "    t[i]=t[i].lower()\n",
    "print(\"初始密码：\",t)\n",
    "for i in range(30):#补码\n",
    "    t[i]= t[i]+''.join(random.sample(string.ascii_letters,(10-len(words[i]))))\n",
    "    t[i]=t[i].lower()\n",
    "print(\"最终密码：\",t)\n",
    "fh = open(r'd:\\temp\\words_key.txt', 'w')#写入\n",
    "fh.writelines(t)\n",
    "fh.close()\n",
    "fh = open(r'd:\\temp\\words_key.txt', 'w')\n",
    "t = [t + ' ' for t in t]\n",
    "fh.writelines(t)#写入文件\n",
    "fh.close()"
   ]
  },
  {
   "cell_type": "code",
   "execution_count": null,
   "metadata": {
    "collapsed": true
   },
   "outputs": [],
   "source": []
  },
  {
   "cell_type": "code",
   "execution_count": null,
   "metadata": {
    "collapsed": true
   },
   "outputs": [],
   "source": []
  },
  {
   "cell_type": "code",
   "execution_count": null,
   "metadata": {
    "collapsed": true
   },
   "outputs": [],
   "source": []
  },
  {
   "cell_type": "code",
   "execution_count": null,
   "metadata": {
    "collapsed": true
   },
   "outputs": [],
   "source": []
  }
 ],
 "metadata": {
  "anaconda-cloud": {},
  "kernelspec": {
   "display_name": "Python [default]",
   "language": "python",
   "name": "python3"
  },
  "language_info": {
   "codemirror_mode": {
    "name": "ipython",
    "version": 3
   },
   "file_extension": ".py",
   "mimetype": "text/x-python",
   "name": "python",
   "nbconvert_exporter": "python",
   "pygments_lexer": "ipython3",
   "version": "3.5.2"
  }
 },
 "nbformat": 4,
 "nbformat_minor": 1
}
