{
 "cells": [
  {
   "cell_type": "code",
   "execution_count": 6,
   "metadata": {
    "collapsed": false
   },
   "outputs": [],
   "source": [
    "import random\n",
    "def gen_key(n,upper_bound):\n",
    "    key=[]\n",
    "    for i in range(n):\n",
    "        key.append(random.randint(0,upper_bound))\n",
    "    return key"
   ]
  },
  {
   "cell_type": "code",
   "execution_count": 7,
   "metadata": {
    "collapsed": true
   },
   "outputs": [],
   "source": [
    "def en_correct_ord(order):\n",
    "    if 97> order >90:\n",
    "        #大写小写之间的字符\n",
    "        return order+6\n",
    "    if order > 122:\n",
    "        #被挤出去的字符，A是65\n",
    "        return order-122+64    \n",
    "    return order   "
   ]
  },
  {
   "cell_type": "code",
   "execution_count": 8,
   "metadata": {
    "collapsed": true
   },
   "outputs": [],
   "source": [
    "def correct_num(number):\n",
    "    order=number+65\n",
    "    if order > 90:\n",
    "        return order+6\n",
    "    return order"
   ]
  },
  {
   "cell_type": "code",
   "execution_count": 9,
   "metadata": {
    "collapsed": true
   },
   "outputs": [],
   "source": [
    "def de_correct_ord(order):\n",
    "    if 97> order >90:\n",
    "        #大写小写之间的字符\n",
    "        return order-6\n",
    "    if order < 65:\n",
    "        #被挤出去的字符，A是65\n",
    "        return order+122-64    \n",
    "    return order  "
   ]
  },
  {
   "cell_type": "code",
   "execution_count": 10,
   "metadata": {
    "collapsed": true
   },
   "outputs": [],
   "source": [
    "def ensecret(infile,outfile):\n",
    "    keys=[]\n",
    "    encrpt_texts=[]\n",
    "    with open(infile) as f:\n",
    "        words=f.read().split()\n",
    "    for word in words:\n",
    "        encrpt_text=''\n",
    "        key=[len(wors)-1]+gen_key(9,9)\n",
    "        keys.append(key)\n",
    "        \n",
    "        for index,ch in enumerate(word):\n",
    "            encrpt_text+= chr(en_correct_ord(ord(ch)+key[index]))\n",
    "            #chr(i)返回数i对应的ASCII字符,ord()返回对应字符的ascii码\n",
    "        for number in gen_key(10-len(word),51):\n",
    "            #一共10位，需要补充10-len（）位，a-zA-Z一共52个字母\n",
    "            encrpt_text +=chr(correct_num(number))\n",
    "        encrpt_texts.append(encrpt_text)\n",
    "    with open(outfile,'w',encoding='gbk') as f:\n",
    "        f.write(' '.join(encrpt_texts))\n",
    "    return keys"
   ]
  },
  {
   "cell_type": "code",
   "execution_count": 12,
   "metadata": {
    "collapsed": false
   },
   "outputs": [],
   "source": [
    "def decryption(file,keys):\n",
    "    real_text=''\n",
    "    with open(file) as f:\n",
    "        words =f.read().split()\n",
    "    for index,word in enumerate(words):\n",
    "        cut_word=word[:keys[index][0]+1]\n",
    "        for i,ch in enumerate(cut_down):\n",
    "            real_text +=chr(de_correct_ord(ord(ch)-keys[index][i]))\n",
    "        real_text+=''\n",
    "    return real_text"
   ]
  },
  {
   "cell_type": "code",
   "execution_count": null,
   "metadata": {
    "collapsed": true
   },
   "outputs": [],
   "source": []
  }
 ],
 "metadata": {
  "kernelspec": {
   "display_name": "Python 3",
   "language": "python",
   "name": "python3"
  },
  "language_info": {
   "codemirror_mode": {
    "name": "ipython",
    "version": 3
   },
   "file_extension": ".py",
   "mimetype": "text/x-python",
   "name": "python",
   "nbconvert_exporter": "python",
   "pygments_lexer": "ipython3",
   "version": "3.6.0"
  }
 },
 "nbformat": 4,
 "nbformat_minor": 2
}
