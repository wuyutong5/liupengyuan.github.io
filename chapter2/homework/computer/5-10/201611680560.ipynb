{
 "cells": [
  {
   "cell_type": "code",
   "execution_count": 36,
   "metadata": {
    "collapsed": false,
    "deletable": true,
    "editable": true
   },
   "outputs": [
    {
     "name": "stdout",
     "output_type": "stream",
     "text": [
      "the key is [8, 4, 4, 3, 2, 0, 9, 9, 8, 1, 1, 8, 8, 4, 7, 7, 9, 1, 8, 7, 5, 8, 2, 4, 0, 3, 8, 9, 6, 0, 1, 4, 6, 5, 3, 0]\n",
      "gsy bsm dlwg latf \n"
     ]
    }
   ],
   "source": [
    "import random\n",
    "\n",
    "fh = open(r'd:\\temp\\ASCII.txt')\n",
    "text = fh.read()\n",
    "fh.close()\n",
    "words = []\n",
    "number = []\n",
    "new_words = str()\n",
    "words = text.split(' ')\n",
    "\n",
    "for word in words:\n",
    "    n = len(word)\n",
    "    for i in range(0,9):\n",
    "        m = random.randrange(10)\n",
    "        number.append(m)\n",
    "        if i<=n-1:\n",
    "            t = (ord(word[i])+m-97)%26+97\n",
    "            new_words = new_words+chr(t)\n",
    "    new_words = new_words+' '\n",
    "    \n",
    "    \n",
    "print('the key is',number)\n",
    "print(new_words)\n"
   ]
  }
 ],
 "metadata": {
  "kernelspec": {
   "display_name": "Python 3",
   "language": "python",
   "name": "python3"
  },
  "language_info": {
   "codemirror_mode": {
    "name": "ipython",
    "version": 3
   },
   "file_extension": ".py",
   "mimetype": "text/x-python",
   "name": "python",
   "nbconvert_exporter": "python",
   "pygments_lexer": "ipython3",
   "version": "3.6.0"
  }
 },
 "nbformat": 4,
 "nbformat_minor": 2
}
