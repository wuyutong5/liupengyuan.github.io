{
 "cells": [
  {
   "cell_type": "markdown",
   "metadata": {},
   "source": [
    "第一题"
   ]
  },
  {
   "cell_type": "code",
   "execution_count": 18,
   "metadata": {
    "collapsed": false,
    "scrolled": true
   },
   "outputs": [
    {
     "name": "stdout",
     "output_type": "stream",
     "text": [
      "请输入符号：*\n",
      "请输入行数：5\n",
      "    * \n",
      "   * * \n",
      "  * * * \n",
      " * * * * \n",
      "* * * * * \n"
     ]
    }
   ],
   "source": [
    "def Equilateral(a,b):\n",
    "    for m in range(1,b+1):\n",
    "        print((b-m)*' '+m*(a+' '))\n",
    "        \n",
    "symbol = input('请输入符号：')\n",
    "side = int(input('请输入行数：'))\n",
    "Equilateral(symbol,side)"
   ]
  },
  {
   "cell_type": "markdown",
   "metadata": {},
   "source": [
    "第二题"
   ]
  },
  {
   "cell_type": "code",
   "execution_count": 19,
   "metadata": {
    "collapsed": false
   },
   "outputs": [
    {
     "name": "stdout",
     "output_type": "stream",
     "text": [
      "1 * 1 = 1   \t\n",
      "1 * 2 = 2   \t2 * 2 = 4   \t\n",
      "1 * 3 = 3   \t2 * 3 = 6   \t3 * 3 = 9   \t\n",
      "1 * 4 = 4   \t2 * 4 = 8   \t3 * 4 = 12   \t4 * 4 = 16   \t\n",
      "1 * 5 = 5   \t2 * 5 = 10   \t3 * 5 = 15   \t4 * 5 = 20   \t5 * 5 = 25   \t\n",
      "1 * 6 = 6   \t2 * 6 = 12   \t3 * 6 = 18   \t4 * 6 = 24   \t5 * 6 = 30   \t6 * 6 = 36   \t\n",
      "1 * 7 = 7   \t2 * 7 = 14   \t3 * 7 = 21   \t4 * 7 = 28   \t5 * 7 = 35   \t6 * 7 = 42   \t7 * 7 = 49   \t\n",
      "1 * 8 = 8   \t2 * 8 = 16   \t3 * 8 = 24   \t4 * 8 = 32   \t5 * 8 = 40   \t6 * 8 = 48   \t7 * 8 = 56   \t8 * 8 = 64   \t\n",
      "1 * 9 = 9   \t2 * 9 = 18   \t3 * 9 = 27   \t4 * 9 = 36   \t5 * 9 = 45   \t6 * 9 = 54   \t7 * 9 = 63   \t8 * 9 = 72   \t9 * 9 = 81   \t\n"
     ]
    }
   ],
   "source": [
    "for i in range(1,10):\n",
    "    for j in range(1,i+1):\n",
    "        print(j,\"*\",i,\"=\",i*j,\" \",'\\t',end=\"\")\n",
    "    print(end='\\n')"
   ]
  },
  {
   "cell_type": "markdown",
   "metadata": {},
   "source": [
    "第三题"
   ]
  },
  {
   "cell_type": "code",
   "execution_count": 25,
   "metadata": {
    "collapsed": false
   },
   "outputs": [
    {
     "ename": "SyntaxError",
     "evalue": "invalid syntax (<ipython-input-25-136c68b46833>, line 18)",
     "output_type": "error",
     "traceback": [
      "\u001b[0;36m  File \u001b[0;32m\"<ipython-input-25-136c68b46833>\"\u001b[0;36m, line \u001b[0;32m18\u001b[0m\n\u001b[0;31m    if a=m+n and m in the list and n in the list and:\u001b[0m\n\u001b[0m        ^\u001b[0m\n\u001b[0;31mSyntaxError\u001b[0m\u001b[0;31m:\u001b[0m invalid syntax\n"
     ]
    }
   ],
   "source": [
    "import math\n",
    "def getprimes(n):\n",
    "    p=2\n",
    "    x=0\n",
    "    list=[]\n",
    "    while(x<n):\n",
    "        result=True\n",
    "        for i in range(2,p_1):\n",
    "            if(p%i==0):\n",
    "                result=False\n",
    "        if result==True:\n",
    "            list.append(p)\n",
    "    return list      \n",
    "\n",
    "def judge(a):\n",
    "    for m in range(1,100000):\n",
    "        for n in range(1,100000):\n",
    "            if a=m+n and m in the list and n in the list and:\n",
    "                print(m,n)\n",
    "\n",
    "number=int(input(\"请输入需要判断的整数：\"))\n",
    "getprimes(100000)\n",
    "judge(number)"
   ]
  },
  {
   "cell_type": "markdown",
   "metadata": {},
   "source": [
    "第四题"
   ]
  },
  {
   "cell_type": "code",
   "execution_count": null,
   "metadata": {
    "collapsed": true
   },
   "outputs": [],
   "source": [
    "list=[1,2,3,4,5,6,7,8,9,10,11,12,13,14,15,16,17,18,19,20]\n",
    "n=20\n"
   ]
  }
 ],
 "metadata": {
  "kernelspec": {
   "display_name": "Python 3",
   "language": "python",
   "name": "python3"
  },
  "language_info": {
   "codemirror_mode": {
    "name": "ipython",
    "version": 3
   },
   "file_extension": ".py",
   "mimetype": "text/x-python",
   "name": "python",
   "nbconvert_exporter": "python",
   "pygments_lexer": "ipython3",
   "version": "3.6.0"
  }
 },
 "nbformat": 4,
 "nbformat_minor": 2
}
