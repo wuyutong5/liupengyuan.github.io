{
 "cells": [
  {
   "cell_type": "code",
   "execution_count": 3,
   "metadata": {
    "collapsed": false
   },
   "outputs": [
    {
     "name": "stdout",
     "output_type": "stream",
     "text": [
      "请输入字符:*\n",
      "请输入行数:5\n",
      "         * \n",
      "        * * \n",
      "       * * * \n",
      "      * * * * \n",
      "     * * * * * \n"
     ]
    }
   ],
   "source": [
    "a=str(input('请输入字符:'))\n",
    "line=a+' '\n",
    "n=int(input('请输入行数:'))\n",
    "for i in range(1,n+1):\n",
    "    print((n*2-i)*' '+line*i,end='')\n",
    "    print()"
   ]
  },
  {
   "cell_type": "code",
   "execution_count": 10,
   "metadata": {
    "collapsed": false
   },
   "outputs": [
    {
     "name": "stdout",
     "output_type": "stream",
     "text": [
      "1*1= 1  \n",
      "2*1= 2  2*2= 4  \n",
      "3*1= 3  3*2= 6  3*3= 9  \n",
      "4*1= 4  4*2= 8  4*3=12  4*4=16  \n",
      "5*1= 5  5*2=10  5*3=15  5*4=20  5*5=25  \n",
      "6*1= 6  6*2=12  6*3=18  6*4=24  6*5=30  6*6=36  \n",
      "7*1= 7  7*2=14  7*3=21  7*4=28  7*5=35  7*6=42  7*7=49  \n",
      "8*1= 8  8*2=16  8*3=24  8*4=32  8*5=40  8*6=48  8*7=56  8*8=64  \n",
      "9*1= 9  9*2=18  9*3=27  9*4=36  9*5=45  9*6=54  9*7=63  9*8=72  9*9=81  \n"
     ]
    }
   ],
   "source": [
    "for i in range(1,10):\n",
    "    for j in range(1,i+1):\n",
    "        print('{}*{}={:2}'.format(i,j,i*j)+'  ',end='')\n",
    "    print()"
   ]
  },
  {
   "cell_type": "code",
   "execution_count": 22,
   "metadata": {
    "collapsed": false
   },
   "outputs": [
    {
     "name": "stdout",
     "output_type": "stream",
     "text": [
      "请输入一个整数:93887\n",
      "不能表示为两个质数的和\n"
     ]
    }
   ],
   "source": [
    "def search(n):\n",
    "    t=1\n",
    "    for i in range(2,n):\n",
    "        if n%i==0:\n",
    "            t=0\n",
    "            break\n",
    "    return t\n",
    "n=int(input('请输入一个整数:'))\n",
    "q=0\n",
    "for j in range(2,n):\n",
    "    if search(j)==1:\n",
    "        p=n-j\n",
    "        if search(p)==1:\n",
    "            print(n,'=',j,'+',p)\n",
    "            q=1\n",
    "if q==0:\n",
    "    print('不能表示为两个质数的和')"
   ]
  },
  {
   "cell_type": "code",
   "execution_count": 25,
   "metadata": {
    "collapsed": false
   },
   "outputs": [
    {
     "name": "stdout",
     "output_type": "stream",
     "text": [
      "1 [ 1* , 2 , 3 , 4 , 5 ]\n",
      "\n",
      "2 [ 1 , 2* , 3 , 4 , 5 ]\n",
      "\n",
      "3 [ 1 , 2 , 3* , 4 , 5 ]\n",
      "\n",
      "4 [ 2 , 3 , 4* , 5 , 6 ]\n",
      "\n",
      "5 [ 3 , 4 , 5* , 6 , 7 ]\n",
      "\n",
      "6 [ 4 , 5 , 6* , 7 , 8 ]\n",
      "\n",
      "7 [ 5 , 6 , 7* , 8 , 9 ]\n",
      "\n",
      "8 [ 6 , 7 , 8* , 9 , 10 ]\n",
      "\n",
      "9 [ 7 , 8 , 9* , 10 , 11 ]\n",
      "\n",
      "10 [ 8 , 9 , 10* , 11 , 12 ]\n",
      "\n",
      "11 [ 9 , 10 , 11* , 12 , 13 ]\n",
      "\n",
      "12 [ 10 , 11 , 12* , 13 , 14 ]\n",
      "\n",
      "13 [ 11 , 12 , 13* , 14 , 15 ]\n",
      "\n",
      "14 [ 12 , 13 , 14* , 15 , 16 ]\n",
      "\n",
      "15 [ 13 , 14 , 15* , 16 , 17 ]\n",
      "\n",
      "16 [ 14 , 15 , 16* , 17 , 18 ]\n",
      "\n",
      "17 [ 15 , 16 , 17* , 18 , 19 ]\n",
      "\n",
      "18 [ 16 , 17 , 18* , 19 , 20 ]\n",
      "\n",
      "19 [ 16 , 17 , 18 , 19* , 20 ]\n",
      "\n",
      "20 [ 16 , 17 , 18 , 19 , 20* ]\n",
      "\n"
     ]
    }
   ],
   "source": [
    "for i in range(1,21):\n",
    "    line=str(i)+'*'\n",
    "    if i==1:\n",
    "        print(i,'[',line,',',i+1,',',i+2,',',i+3,',',i+4,']')\n",
    "        print()\n",
    "    elif i==2:\n",
    "        print(i,'[',i-1,',',line,',',i+1,',',i+2,',',i+3,']')\n",
    "        print()\n",
    "    elif i==19:\n",
    "        print(i,'[',i-3,',',i-2,',',i-1,',',line,',',i+1,']')\n",
    "        print()\n",
    "    elif i==20:\n",
    "        print(i,'[',i-4,',',i-3,',',i-2,',',i-1,',',line,']')\n",
    "        print()\n",
    "    else:\n",
    "        print(i,'[',i-2,',',i-1,',',line,',',i+1,',',i+2,']')\n",
    "        print()\n",
    "        "
   ]
  },
  {
   "cell_type": "code",
   "execution_count": null,
   "metadata": {
    "collapsed": true
   },
   "outputs": [],
   "source": []
  },
  {
   "cell_type": "code",
   "execution_count": null,
   "metadata": {
    "collapsed": true
   },
   "outputs": [],
   "source": []
  },
  {
   "cell_type": "code",
   "execution_count": null,
   "metadata": {
    "collapsed": true
   },
   "outputs": [],
   "source": []
  },
  {
   "cell_type": "code",
   "execution_count": null,
   "metadata": {
    "collapsed": true
   },
   "outputs": [],
   "source": []
  },
  {
   "cell_type": "code",
   "execution_count": null,
   "metadata": {
    "collapsed": true
   },
   "outputs": [],
   "source": []
  },
  {
   "cell_type": "code",
   "execution_count": null,
   "metadata": {
    "collapsed": true
   },
   "outputs": [],
   "source": []
  },
  {
   "cell_type": "code",
   "execution_count": null,
   "metadata": {
    "collapsed": true
   },
   "outputs": [],
   "source": []
  },
  {
   "cell_type": "code",
   "execution_count": null,
   "metadata": {
    "collapsed": true
   },
   "outputs": [],
   "source": []
  },
  {
   "cell_type": "code",
   "execution_count": null,
   "metadata": {
    "collapsed": true
   },
   "outputs": [],
   "source": []
  },
  {
   "cell_type": "code",
   "execution_count": null,
   "metadata": {
    "collapsed": true
   },
   "outputs": [],
   "source": []
  },
  {
   "cell_type": "code",
   "execution_count": null,
   "metadata": {
    "collapsed": true
   },
   "outputs": [],
   "source": []
  },
  {
   "cell_type": "code",
   "execution_count": null,
   "metadata": {
    "collapsed": true
   },
   "outputs": [],
   "source": []
  },
  {
   "cell_type": "code",
   "execution_count": null,
   "metadata": {
    "collapsed": true
   },
   "outputs": [],
   "source": []
  },
  {
   "cell_type": "code",
   "execution_count": null,
   "metadata": {
    "collapsed": true
   },
   "outputs": [],
   "source": []
  },
  {
   "cell_type": "code",
   "execution_count": null,
   "metadata": {
    "collapsed": true
   },
   "outputs": [],
   "source": []
  },
  {
   "cell_type": "code",
   "execution_count": null,
   "metadata": {
    "collapsed": true
   },
   "outputs": [],
   "source": []
  },
  {
   "cell_type": "code",
   "execution_count": null,
   "metadata": {
    "collapsed": true
   },
   "outputs": [],
   "source": []
  },
  {
   "cell_type": "code",
   "execution_count": null,
   "metadata": {
    "collapsed": true
   },
   "outputs": [],
   "source": []
  },
  {
   "cell_type": "code",
   "execution_count": null,
   "metadata": {
    "collapsed": true
   },
   "outputs": [],
   "source": []
  },
  {
   "cell_type": "code",
   "execution_count": null,
   "metadata": {
    "collapsed": true
   },
   "outputs": [],
   "source": []
  },
  {
   "cell_type": "code",
   "execution_count": null,
   "metadata": {
    "collapsed": true
   },
   "outputs": [],
   "source": []
  }
 ],
 "metadata": {
  "kernelspec": {
   "display_name": "Python 3",
   "language": "python",
   "name": "python3"
  },
  "language_info": {
   "codemirror_mode": {
    "name": "ipython",
    "version": 3
   },
   "file_extension": ".py",
   "mimetype": "text/x-python",
   "name": "python",
   "nbconvert_exporter": "python",
   "pygments_lexer": "ipython3",
   "version": "3.6.0"
  }
 },
 "nbformat": 4,
 "nbformat_minor": 2
}
