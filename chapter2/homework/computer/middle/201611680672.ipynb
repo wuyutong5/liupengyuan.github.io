{
 "cells": [
  {
   "cell_type": "markdown",
   "metadata": {},
   "source": [
    "1、写函数，给定符号和行数，如’*’，5，可打印相应行数的如下图形："
   ]
  },
  {
   "cell_type": "code",
   "execution_count": 2,
   "metadata": {
    "collapsed": false
   },
   "outputs": [
    {
     "name": "stdout",
     "output_type": "stream",
     "text": [
      "请输入一个字符: *\n",
      "请输入打印行数：5\n",
      "    * \n",
      "   * * \n",
      "  * * * \n",
      " * * * * \n",
      "* * * * * \n"
     ]
    }
   ],
   "source": [
    "ch=input('请输入一个字符: ')\n",
    "n=int(input('请输入打印行数：'))\n",
    "\n",
    "for i in range(1,n+1):\n",
    "    print(' '*(n-i)+(ch+' ')*i)"
   ]
  },
  {
   "cell_type": "markdown",
   "metadata": {},
   "source": [
    "2、打印如下9*9 乘法口诀表，注意每列左侧竖向对齐。"
   ]
  },
  {
   "cell_type": "code",
   "execution_count": 10,
   "metadata": {
    "collapsed": false
   },
   "outputs": [
    {
     "name": "stdout",
     "output_type": "stream",
     "text": [
      "1*1=1  \n",
      "2*1=2  2*2=4  \n",
      "3*1=3  3*2=6  3*3=9  \n",
      "4*1=4  4*2=8  4*3=12 4*4=16 \n",
      "5*1=5  5*2=10 5*3=15 5*4=20 5*5=25 \n",
      "6*1=6  6*2=12 6*3=18 6*4=24 6*5=30 6*6=36 \n",
      "7*1=7  7*2=14 7*3=21 7*4=28 7*5=35 7*6=42 7*7=49 \n",
      "8*1=8  8*2=16 8*3=24 8*4=32 8*5=40 8*6=48 8*7=56 8*8=64 \n",
      "9*1=9  9*2=18 9*3=27 9*4=36 9*5=45 9*6=54 9*7=63 9*8=72 9*9=81 \n"
     ]
    }
   ],
   "source": [
    "for i in range(1,10):\n",
    "    for j in range(1,i+1):\n",
    "        print('{}*{}={:<2}'.format(i,j,i*j),end=' ')\n",
    "    print()"
   ]
  },
  {
   "cell_type": "markdown",
   "metadata": {},
   "source": [
    "3、写函数，可检查一个数（2-100000之间整数）能不能表示成两个质数之和，如果能，则打印这两个质数。主程序用18及93887分别做测试。"
   ]
  },
  {
   "cell_type": "code",
   "execution_count": null,
   "metadata": {
    "collapsed": false
   },
   "outputs": [
    {
     "name": "stdout",
     "output_type": "stream",
     "text": [
      "18 可以写成两个质数之和:\n",
      "18 = 5 + 13\n",
      "18 可以写成两个质数之和:\n",
      "18 = 7 + 11\n",
      "933887 可以写成两个质数之和:\n",
      "933887 = 4 + 933883\n"
     ]
    }
   ],
   "source": [
    "def zhishu(x):\n",
    "    flag=1\n",
    "    for i in range(2,x//2):\n",
    "        if x%i==0:\n",
    "            flag=0\n",
    "    return flag\n",
    "            \n",
    "def test(n):\n",
    "    flag=0\n",
    "    for i in range (2,n//2):\n",
    "        j=n-i\n",
    "        if zhishu(i)+zhishu(j)==2:\n",
    "            print(n,'可以写成两个质数之和:')\n",
    "            print(n,'=',i,'+',j)\n",
    "            flag+=1\n",
    "    if flag==0:\n",
    "        print(n,'不能写成两个质数之和.')\n",
    "        \n",
    "\n",
    "test(18)\n",
    "test(933887)\n"
   ]
  },
  {
   "cell_type": "markdown",
   "metadata": {},
   "source": [
    "4、有一个列表：[1, 2, 3, 4…n]，n=20；请编写代码打印如下规律的输出（不允许直接拷贝并直接打印作为答案，想象n可能是变量）："
   ]
  },
  {
   "cell_type": "code",
   "execution_count": null,
   "metadata": {
    "collapsed": true
   },
   "outputs": [],
   "source": [
    "list=[1,2,3,4,5]\n",
    "for i in range (1,20):\n",
    "    if i<=3:\n",
    "        for j in range(3):\n",
    "            print(i,list)\n",
    "    elif i<=20-2:\n",
    "        list[0]=i-2\n",
    "        for m in range(1,5):\n",
    "            list[i]=list[i-1]+1\n",
    "        print(list)\n",
    "    else:\n",
    "        print(list)\n",
    "        "
   ]
  }
 ],
 "metadata": {
  "kernelspec": {
   "display_name": "Python 3",
   "language": "python",
   "name": "python3"
  },
  "language_info": {
   "codemirror_mode": {
    "name": "ipython",
    "version": 3
   },
   "file_extension": ".py",
   "mimetype": "text/x-python",
   "name": "python",
   "nbconvert_exporter": "python",
   "pygments_lexer": "ipython3",
   "version": "3.6.0"
  }
 },
 "nbformat": 4,
 "nbformat_minor": 2
}
