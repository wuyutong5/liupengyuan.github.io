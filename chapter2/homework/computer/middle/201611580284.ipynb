{
 "cells": [
  {
   "cell_type": "code",
   "execution_count": null,
   "metadata": {
    "collapsed": false
   },
   "outputs": [],
   "source": [
    "for i in range(5):\n",
    "    print(\" \"*(5-i),end=\"\")\n",
    "    print(\"* \"*(i+1))\n"
   ]
  },
  {
   "cell_type": "code",
   "execution_count": null,
   "metadata": {
    "collapsed": false
   },
   "outputs": [],
   "source": [
    "#打印如下9*9 乘法口诀表，注意每列左侧竖向对齐。\n",
    "for i in range(9):\n",
    "    i=i+1\n",
    "    for j in range(i):\n",
    "        j=j+1\n",
    "        print(i,\"*\",j,\"=\",i*j,end=\"\\t\")\n",
    "    print(\"\")\n"
   ]
  },
  {
   "cell_type": "code",
   "execution_count": 3,
   "metadata": {
    "collapsed": false
   },
   "outputs": [
    {
     "name": "stdout",
     "output_type": "stream",
     "text": [
      "pls enter :19\n",
      "2 , 17\n"
     ]
    }
   ],
   "source": [
    "#、写函数，可检查一个数（2-100000之间整数）能不能表示成两个质数之和，如果能，则打印这两个质数。主程序用18及93887分别做测试。\n",
    "def zhi(n):\n",
    "    i=2\n",
    "    flag =1\n",
    "    while(i<n//2):\n",
    "        if(n%i==0):\n",
    "            flag=0\n",
    "        i=i+1\n",
    "    if(flag):\n",
    "        return 1\n",
    "    else:\n",
    "        return 0\n",
    "    \n",
    "n= int(input('pls enter :'))\n",
    "test=0 \n",
    "for i in range(2,n):\n",
    "    if(test==0):    \n",
    "        if(zhi(i)*2>n):\n",
    "            test=1\n",
    "        else:\n",
    "            for j in range(i,n):\n",
    "                if(zhi(j)):\n",
    "                    if(i+j==n):\n",
    "                        print(i,\",\",j)\n",
    "                        test=1\n",
    "if(test==0):\n",
    "    print(\"不能\")\n",
    "                    \n",
    "    \n",
    "        \n",
    "        \n"
   ]
  },
  {
   "cell_type": "code",
   "execution_count": null,
   "metadata": {
    "collapsed": false
   },
   "outputs": [],
   "source": [
    "#4、有一个列表：[1, 2, 3, 4…n]，n=20；请编写代码打印如下规律的输出（不允许直接拷贝并直接打印作为答案，想象n可能是变量）：3 [1,2,3*,4,5]\n",
    "n=int(input('pls enter'))\n",
    "\n",
    "m = n+2\n",
    "for i in range(n) :\n",
    "    i=i+1\n",
    "    print(i,\"[\",end=\"\")\n",
    "    for j in range(5):\n",
    "        j=j+1\n",
    "        if(i<=2):\n",
    "            if(i==j):\n",
    "                print(i,\"*\",\",\",end=\"\")\n",
    "            else:\n",
    "                if(j==5):\n",
    "                    print(j,end=\"\") \n",
    "                else:\n",
    "                    print(j,\",\",end=\"\")\n",
    "        else:\n",
    "            if(i==i+j-3): \n",
    "                print(i,\"*\",\",\",end=\"\")\n",
    "            else:\n",
    "                if(j==5):\n",
    "                    print(i+j-3,end=\"\")\n",
    "                else:\n",
    "                    print(i+j-3,\",\",end=\"\")\n",
    "                \n",
    "    print(\"]\")\n",
    "            \n",
    "        \n",
    "   \n"
   ]
  },
  {
   "cell_type": "code",
   "execution_count": 24,
   "metadata": {
    "collapsed": false
   },
   "outputs": [
    {
     "name": "stdout",
     "output_type": "stream",
     "text": [
      "0\n"
     ]
    }
   ],
   "source": [
    "#、写函数，可检查一个数（2-100000之间整数）能不能表示成两个质数之和，如果能，则打印这两个质数。主程序用18及93887分别做测试。\n",
    "def zhi(n):\n",
    "    i=2\n",
    "    flag =1\n",
    "    while(i<n):\n",
    "        if(n%i==0):\n",
    "            flag=0\n",
    "        i=i+1\n",
    "    if(flag):\n",
    "        return 1\n",
    "    else:\n",
    "        return 0\n",
    "    \n",
    "n= int(input('pls enter :'))\n",
    "test=0 \n",
    "for i in range(2,n):\n",
    "    if(test==0):    \n",
    "        if(zhi(i)):\n",
    "            for j in range(2,n):\n",
    "                if(zhi(j)):\n",
    "                    if(i+j==n):\n",
    "                        print(i,\",\",j)\n",
    "                        test=1\n",
    "if(test==0):\n",
    "    print(\"不能\")\n",
    "                    \n",
    "    \n",
    "        \n",
    "        \n"
   ]
  },
  {
   "cell_type": "code",
   "execution_count": 1,
   "metadata": {
    "collapsed": false
   },
   "outputs": [
    {
     "name": "stdout",
     "output_type": "stream",
     "text": [
      "0\n"
     ]
    }
   ],
   "source": [
    "print(1//2)"
   ]
  },
  {
   "cell_type": "code",
   "execution_count": null,
   "metadata": {
    "collapsed": true
   },
   "outputs": [],
   "source": []
  }
 ],
 "metadata": {
  "kernelspec": {
   "display_name": "Python 3",
   "language": "python",
   "name": "python3"
  },
  "language_info": {
   "codemirror_mode": {
    "name": "ipython",
    "version": 3
   },
   "file_extension": ".py",
   "mimetype": "text/x-python",
   "name": "python",
   "nbconvert_exporter": "python",
   "pygments_lexer": "ipython3",
   "version": "3.6.0"
  }
 },
 "nbformat": 4,
 "nbformat_minor": 2
}
