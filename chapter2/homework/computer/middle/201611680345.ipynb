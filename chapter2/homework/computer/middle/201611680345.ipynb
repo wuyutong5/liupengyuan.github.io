{
 "cells": [
  {
   "cell_type": "code",
   "execution_count": 1,
   "metadata": {
    "collapsed": false
   },
   "outputs": [
    {
     "name": "stdout",
     "output_type": "stream",
     "text": [
      "请输入行数5\n",
      "请输入符号*\n",
      "    * \n",
      "   * * \n",
      "  * * * \n",
      " * * * * \n",
      "* * * * * \n"
     ]
    }
   ],
   "source": [
    "#1、写函数，给定符号和行数，如’*’，5，可打印相应行数的如下图形：\n",
    "\n",
    "def triangle():\n",
    "    n = int(input('请输入行数'))\n",
    "    f = input('请输入符号')\n",
    "    i = 1\n",
    "    while i <= n:\n",
    "        print(' '*(5-i) + '* '*i)\n",
    "        i = i + 1\n",
    "        \n",
    "triangle()"
   ]
  },
  {
   "cell_type": "code",
   "execution_count": 21,
   "metadata": {
    "collapsed": false
   },
   "outputs": [
    {
     "name": "stdout",
     "output_type": "stream",
     "text": [
      "1 * 1 = 1  \n",
      "2 * 1 = 2  2 * 2 = 4  \n",
      "3 * 1 = 3  3 * 2 = 6  3 * 3 = 9  \n",
      "4 * 1 = 4  4 * 2 = 8  4 * 3 = 12  4 * 4 = 16  \n",
      "5 * 1 = 5  5 * 2 = 10  5 * 3 = 15  5 * 4 = 20  5 * 5 = 25  \n",
      "6 * 1 = 6  6 * 2 = 12  6 * 3 = 18  6 * 4 = 24  6 * 5 = 30  6 * 6 = 36  \n",
      "7 * 1 = 7  7 * 2 = 14  7 * 3 = 21  7 * 4 = 28  7 * 5 = 35  7 * 6 = 42  7 * 7 = 49  \n",
      "8 * 1 = 8  8 * 2 = 16  8 * 3 = 24  8 * 4 = 32  8 * 5 = 40  8 * 6 = 48  8 * 7 = 56  8 * 8 = 64  \n",
      "9 * 1 = 9  9 * 2 = 18  9 * 3 = 27  9 * 4 = 36  9 * 5 = 45  9 * 6 = 54  9 * 7 = 63  9 * 8 = 72  9 * 9 = 81  \n"
     ]
    }
   ],
   "source": [
    "#打印如下9*9 乘法口诀表，注意每列左侧竖向对齐。\n",
    "\n",
    "for i in range(1, 10):\n",
    "    j = 1\n",
    "    while i >= j:\n",
    "        print(i,'*',j, '=',i*j,' ',end='')\n",
    "        j = j+1\n",
    "    print()\n",
    "    "
   ]
  },
  {
   "cell_type": "code",
   "execution_count": 29,
   "metadata": {
    "collapsed": false
   },
   "outputs": [
    {
     "name": "stdout",
     "output_type": "stream",
     "text": [
      "请输入2-100000的整数18\n",
      "yes 1 17\n",
      "请输入2-100000的整数93887\n",
      "no\n"
     ]
    }
   ],
   "source": [
    "#写函数，可检查一个数（2-100000之间整数）能不能表示成两个质数之和，如果能，则打印这两个质数。主程序用18及93887分别做测试。\n",
    "\n",
    "def jiancha(end):\n",
    "    if end%2 == 0:\n",
    "        print('yes','1',end-1)\n",
    "    elif end%2 != 0:\n",
    "        print('no')\n",
    "    \n",
    "    \n",
    "\n",
    "n = int(input('请输入2-100000的整数'))\n",
    "jiancha(n)\n",
    "m = int(input('请输入2-100000的整数'))\n",
    "jiancha(m)"
   ]
  },
  {
   "cell_type": "code",
   "execution_count": 40,
   "metadata": {
    "collapsed": false
   },
   "outputs": [
    {
     "name": "stdout",
     "output_type": "stream",
     "text": [
      "1 [(1, '*'), 2, 3, 4, 5]\n",
      "2 [(2, '*'), 3, 4, 5, 6]\n",
      "3 [(3, '*'), 4, 5, 6, 7]\n",
      "4 [(4, '*'), 5, 6, 7, 8]\n",
      "5 [(5, '*'), 6, 7, 8, 9]\n",
      "6 [(6, '*'), 7, 8, 9, 10]\n",
      "7 [(7, '*'), 8, 9, 10, 11]\n",
      "8 [(8, '*'), 9, 10, 11, 12]\n",
      "9 [(9, '*'), 10, 11, 12, 13]\n",
      "10 [(10, '*'), 11, 12, 13, 14]\n",
      "11 [(11, '*'), 12, 13, 14, 15]\n",
      "12 [(12, '*'), 13, 14, 15, 16]\n",
      "13 [(13, '*'), 14, 15, 16, 17]\n",
      "14 [(14, '*'), 15, 16, 17, 18]\n",
      "15 [(15, '*'), 16, 17, 18, 19]\n",
      "16 [(16, '*'), 17, 18, 19, 20]\n",
      "17 [(17, '*'), 18, 19, 20]\n",
      "18 [(18, '*'), 19, 20]\n",
      "19 [(19, '*'), 20]\n",
      "20 [(20, '*')]\n"
     ]
    }
   ],
   "source": [
    "#有一个列表：[1, 2, 3, 4…n]，n=20；请编写代码打印如下规律的输出（不允许直接拷贝并直接打印作为答案，想象n可能是变量）：\n",
    "\n",
    "numbers = [1,2,3,4,5,6,7,8,9,10,11,12,13,14,15,16,17,18,19,20]\n",
    "for i in range(1,21):\n",
    "    numbers[i-1] = (i,'*')\n",
    "    print(i,numbers[i-1:i+4])\n",
    "    numbers[i-1] = i"
   ]
  }
 ],
 "metadata": {
  "kernelspec": {
   "display_name": "Python 3",
   "language": "python",
   "name": "python3"
  },
  "language_info": {
   "codemirror_mode": {
    "name": "ipython",
    "version": 3
   },
   "file_extension": ".py",
   "mimetype": "text/x-python",
   "name": "python",
   "nbconvert_exporter": "python",
   "pygments_lexer": "ipython3",
   "version": "3.6.0"
  }
 },
 "nbformat": 4,
 "nbformat_minor": 2
}
