{
 "cells": [
  {
   "cell_type": "code",
   "execution_count": 21,
   "metadata": {
    "collapsed": false
   },
   "outputs": [
    {
     "name": "stdout",
     "output_type": "stream",
     "text": [
      "请输入字符:*\n",
      "请输入行数：5\n",
      "    * \n",
      "   * * \n",
      "  * * * \n",
      " * * * * \n"
     ]
    }
   ],
   "source": [
    "def triangle(m,n):\n",
    "    for i in range (1,n):\n",
    "        print((n-i)*' '+i*(m+' '))\n",
    "\n",
    "m=input('请输入字符:')\n",
    "n=int(input('请输入行数：'))\n",
    "triangle(m,n)"
   ]
  },
  {
   "cell_type": "code",
   "execution_count": 34,
   "metadata": {
    "collapsed": false
   },
   "outputs": [
    {
     "ename": "IndentationError",
     "evalue": "expected an indented block (<ipython-input-34-1aeb31f2490b>, line 9)",
     "output_type": "error",
     "traceback": [
      "\u001b[0;36m  File \u001b[0;32m\"<ipython-input-34-1aeb31f2490b>\"\u001b[0;36m, line \u001b[0;32m9\u001b[0m\n\u001b[0;31m    print(x,'*',j,'=',x*j,' ')\u001b[0m\n\u001b[0m        ^\u001b[0m\n\u001b[0;31mIndentationError\u001b[0m\u001b[0;31m:\u001b[0m expected an indented block\n"
     ]
    }
   ],
   "source": [
    "numbers=[1,9]\n",
    "for i in range (1,10):\n",
    "    for j in range (1,10):\n",
    "        total=i*j\n",
    "        if j==1:\n",
    "            print(i,'*',j,'=',total) \n",
    "        else:\n",
    "            for x in range (1,j+1):\n",
    "            print(x,'*',j,'=',x*j,' ')"
   ]
  },
  {
   "cell_type": "code",
   "execution_count": 30,
   "metadata": {
    "collapsed": false
   },
   "outputs": [
    {
     "ename": "SyntaxError",
     "evalue": "invalid syntax (<ipython-input-30-d2c6dd7e1193>, line 1)",
     "output_type": "error",
     "traceback": [
      "\u001b[0;36m  File \u001b[0;32m\"<ipython-input-30-d2c6dd7e1193>\"\u001b[0;36m, line \u001b[0;32m1\u001b[0m\n\u001b[0;31m    import random:\u001b[0m\n\u001b[0m                 ^\u001b[0m\n\u001b[0;31mSyntaxError\u001b[0m\u001b[0;31m:\u001b[0m invalid syntax\n"
     ]
    }
   ],
   "source": [
    "import random:\n",
    "    n=random.randint(2,100000)\n",
    "    for i in range (2,100000):\n",
    "        for j in range(2,100000):\n",
    "            if n==i+j:\n",
    "                print(i,j)"
   ]
  },
  {
   "cell_type": "code",
   "execution_count": 31,
   "metadata": {
    "collapsed": false
   },
   "outputs": [
    {
     "ename": "SyntaxError",
     "evalue": "can't assign to function call (<ipython-input-31-8c16e8da6ec2>, line 1)",
     "output_type": "error",
     "traceback": [
      "\u001b[0;36m  File \u001b[0;32m\"<ipython-input-31-8c16e8da6ec2>\"\u001b[0;36m, line \u001b[0;32m1\u001b[0m\n\u001b[0;31m    numbers(20)=[1,2,3,4,5,6,7,8,9,10,11,12,13,14,15,16,17,18,19,20]\u001b[0m\n\u001b[0m                                                                    ^\u001b[0m\n\u001b[0;31mSyntaxError\u001b[0m\u001b[0;31m:\u001b[0m can't assign to function call\n"
     ]
    }
   ],
   "source": [
    "numbers(20)=[1,2,3,4,5,6,7,8,9,10,11,12,13,14,15,16,17,18,19,20]\n",
    "for i in range(20):\n",
    "    print('[',)"
   ]
  },
  {
   "cell_type": "code",
   "execution_count": null,
   "metadata": {
    "collapsed": true
   },
   "outputs": [],
   "source": []
  }
 ],
 "metadata": {
  "kernelspec": {
   "display_name": "Python 3",
   "language": "python",
   "name": "python3"
  },
  "language_info": {
   "codemirror_mode": {
    "name": "ipython",
    "version": 3
   },
   "file_extension": ".py",
   "mimetype": "text/x-python",
   "name": "python",
   "nbconvert_exporter": "python",
   "pygments_lexer": "ipython3",
   "version": "3.6.0"
  }
 },
 "nbformat": 4,
 "nbformat_minor": 2
}
