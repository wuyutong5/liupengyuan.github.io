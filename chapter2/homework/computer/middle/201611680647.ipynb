{
 "cells": [
  {
   "cell_type": "code",
   "execution_count": 4,
   "metadata": {
    "collapsed": false
   },
   "outputs": [
    {
     "name": "stdout",
     "output_type": "stream",
     "text": [
      "请输入想要输出的字符,以回车结束。*\n",
      "请输入输出行数，以回车结束。5\n",
      "    * \n",
      "   * * \n",
      "  * * * \n",
      " * * * * \n",
      "* * * * * \n"
     ]
    }
   ],
   "source": [
    "def print0():\n",
    "    n=input('请输入想要输出的字符,以回车结束。')\n",
    "    m=int(input('请输入输出行数，以回车结束。'))\n",
    "    line = n*m\n",
    "    for i in range(1, m+1):\n",
    "        print((m-i)*' ' + (line[0]+' ')*i, end='')\n",
    "        print()\n",
    "print0()"
   ]
  },
  {
   "cell_type": "code",
   "execution_count": 5,
   "metadata": {
    "collapsed": false
   },
   "outputs": [
    {
     "ename": "SyntaxError",
     "evalue": "invalid syntax (<ipython-input-5-198a32ab0d0a>, line 4)",
     "output_type": "error",
     "traceback": [
      "\u001b[0;36m  File \u001b[0;32m\"<ipython-input-5-198a32ab0d0a>\"\u001b[0;36m, line \u001b[0;32m4\u001b[0m\n\u001b[0;31m    str[7]={n*m=s}\u001b[0m\n\u001b[0m               ^\u001b[0m\n\u001b[0;31mSyntaxError\u001b[0m\u001b[0;31m:\u001b[0m invalid syntax\n"
     ]
    }
   ],
   "source": [
    "n=1\n",
    "m=1\n",
    "s=n*m\n",
    "str[7]={n*m=s}\n",
    "while n<10:\n",
    "    while m<10:\n",
    "        for i in range(i,m+1):\n",
    "            print(str[7],end=' ')\n",
    "            m=m+1\n",
    "        m=m+1\n",
    "    n=n+1"
   ]
  },
  {
   "cell_type": "code",
   "execution_count": null,
   "metadata": {
    "collapsed": true
   },
   "outputs": [],
   "source": []
  }
 ],
 "metadata": {
  "kernelspec": {
   "display_name": "Python 3",
   "language": "python",
   "name": "python3"
  },
  "language_info": {
   "codemirror_mode": {
    "name": "ipython",
    "version": 3
   },
   "file_extension": ".py",
   "mimetype": "text/x-python",
   "name": "python",
   "nbconvert_exporter": "python",
   "pygments_lexer": "ipython3",
   "version": "3.6.0"
  }
 },
 "nbformat": 4,
 "nbformat_minor": 2
}
