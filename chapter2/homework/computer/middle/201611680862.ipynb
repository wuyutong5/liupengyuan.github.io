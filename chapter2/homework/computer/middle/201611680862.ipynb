{
 "cells": [
  {
   "cell_type": "code",
   "execution_count": 7,
   "metadata": {
    "collapsed": false
   },
   "outputs": [
    {
     "name": "stdout",
     "output_type": "stream",
     "text": [
      "请输入行数:5\n",
      "     * \n",
      "    * * \n",
      "   * * * \n",
      "  * * * * \n",
      " * * * * * \n"
     ]
    }
   ],
   "source": [
    "def fun(n):\n",
    "    for i in range(1,n+1):\n",
    "        for j in range(0,n+1-i):\n",
    "            print(' ',end = '')\n",
    "        for k in range(1,i+1):\n",
    "            print('* ',end = '')  \n",
    "        print()\n",
    "            \n",
    "    \n",
    "n=int(input('请输入行数:'))\n",
    "fun(n)"
   ]
  },
  {
   "cell_type": "code",
   "execution_count": 9,
   "metadata": {
    "collapsed": false
   },
   "outputs": [
    {
     "name": "stdout",
     "output_type": "stream",
     "text": [
      "1*1=1  \n",
      "2*1=2  2*2=4  \n",
      "3*1=3  3*2=6  3*3=9  \n",
      "4*1=4  4*2=8  4*3=12 4*4=16 \n",
      "5*1=5  5*2=10 5*3=15 5*4=20 5*5=25 \n",
      "6*1=6  6*2=12 6*3=18 6*4=24 6*5=30 6*6=36 \n",
      "7*1=7  7*2=14 7*3=21 7*4=28 7*5=35 7*6=42 7*7=49 \n",
      "8*1=8  8*2=16 8*3=24 8*4=32 8*5=40 8*6=48 8*7=56 8*8=64 \n",
      "9*1=9  9*2=18 9*3=27 9*4=36 9*5=45 9*6=54 9*7=63 9*8=72 9*9=81 \n"
     ]
    }
   ],
   "source": [
    "for i in range(1,10):\n",
    "    for j in range(1,i+1):\n",
    "        print('{}*{}={:<3}'.format(i,j,i*j),end = '')\n",
    "    print()"
   ]
  },
  {
   "cell_type": "code",
   "execution_count": 22,
   "metadata": {
    "collapsed": false
   },
   "outputs": [
    {
     "name": "stdout",
     "output_type": "stream",
     "text": [
      "请输入2-10000内的一个整数：18\n"
     ]
    },
    {
     "ename": "TypeError",
     "evalue": "'float' object cannot be interpreted as an integer",
     "output_type": "error",
     "traceback": [
      "\u001b[0;31m---------------------------------------------------------------------------\u001b[0m",
      "\u001b[0;31mTypeError\u001b[0m                                 Traceback (most recent call last)",
      "\u001b[0;32m<ipython-input-22-23c5b12932ac>\u001b[0m in \u001b[0;36m<module>\u001b[0;34m()\u001b[0m\n\u001b[1;32m     20\u001b[0m \u001b[1;33m\u001b[0m\u001b[0m\n\u001b[1;32m     21\u001b[0m \u001b[0mnumber\u001b[0m\u001b[1;33m=\u001b[0m\u001b[0mint\u001b[0m\u001b[1;33m(\u001b[0m\u001b[0minput\u001b[0m\u001b[1;33m(\u001b[0m\u001b[1;34m'请输入2-10000内的一个整数：'\u001b[0m\u001b[1;33m)\u001b[0m\u001b[1;33m)\u001b[0m\u001b[1;33m\u001b[0m\u001b[0m\n\u001b[0;32m---> 22\u001b[0;31m \u001b[0mfun\u001b[0m\u001b[1;33m(\u001b[0m\u001b[0mnumber\u001b[0m\u001b[1;33m)\u001b[0m\u001b[1;33m\u001b[0m\u001b[0m\n\u001b[0m",
      "\u001b[0;32m<ipython-input-22-23c5b12932ac>\u001b[0m in \u001b[0;36mfun\u001b[0;34m(number)\u001b[0m\n\u001b[1;32m      1\u001b[0m \u001b[1;33m\u001b[0m\u001b[0m\n\u001b[1;32m      2\u001b[0m \u001b[1;32mdef\u001b[0m \u001b[0mfun\u001b[0m\u001b[1;33m(\u001b[0m\u001b[0mnumber\u001b[0m\u001b[1;33m)\u001b[0m\u001b[1;33m:\u001b[0m\u001b[1;33m\u001b[0m\u001b[0m\n\u001b[0;32m----> 3\u001b[0;31m     \u001b[1;32mfor\u001b[0m \u001b[0mnumber1\u001b[0m \u001b[1;32min\u001b[0m \u001b[0mrange\u001b[0m\u001b[1;33m(\u001b[0m\u001b[1;36m2\u001b[0m\u001b[1;33m,\u001b[0m\u001b[0mnumber\u001b[0m\u001b[1;33m/\u001b[0m\u001b[1;36m2\u001b[0m\u001b[1;33m+\u001b[0m\u001b[1;36m1\u001b[0m\u001b[1;33m)\u001b[0m\u001b[1;33m:\u001b[0m\u001b[1;33m\u001b[0m\u001b[0m\n\u001b[0m\u001b[1;32m      4\u001b[0m         \u001b[0mnumber2\u001b[0m\u001b[1;33m=\u001b[0m\u001b[0mnumber\u001b[0m\u001b[1;33m-\u001b[0m\u001b[0mnumber1\u001b[0m\u001b[1;33m\u001b[0m\u001b[0m\n\u001b[1;32m      5\u001b[0m         \u001b[1;32mfor\u001b[0m \u001b[0mk\u001b[0m \u001b[1;32min\u001b[0m \u001b[0mrange\u001b[0m\u001b[1;33m(\u001b[0m\u001b[1;36m2\u001b[0m\u001b[1;33m,\u001b[0m\u001b[0mnumber1\u001b[0m\u001b[1;33m)\u001b[0m\u001b[1;33m:\u001b[0m\u001b[1;33m\u001b[0m\u001b[0m\n",
      "\u001b[0;31mTypeError\u001b[0m: 'float' object cannot be interpreted as an integer"
     ]
    }
   ],
   "source": [
    "\n",
    "def fun(number):\n",
    "    for number1 in range(2,number/2+1):\n",
    "        number2=number-number1\n",
    "        for k in range(2,number1):\n",
    "            if(number1%k==0):\n",
    "                print('此数不能表示成两个质数之和。') \n",
    "                break; \n",
    "            if(k==number1-1):\n",
    "                n=1;\n",
    "        for j in range(2,number2):\n",
    "            if(number2%j==0):\n",
    "                print('此数不能表示成两个质数之和。')\n",
    "                break;\n",
    "            if(j==number2-1):\n",
    "                m=1;\n",
    "    if(m==1 and n==1):\n",
    "        print('能表示成两个质数之和分别为',number1 ,number2)\n",
    "    \n",
    "    \n",
    "number=int(input('请输入2-10000内的一个整数：'))\n",
    "fun(number)"
   ]
  },
  {
   "cell_type": "code",
   "execution_count": 18,
   "metadata": {
    "collapsed": false
   },
   "outputs": [
    {
     "name": "stdout",
     "output_type": "stream",
     "text": [
      "1 [1*,2,3,4,5]\n",
      "2 [1,2*,3,4,5]\n",
      "3 [1,2,3*,4,5]\n",
      "4 [2,3,4*,5,6]\n",
      "5 [3,4,5*,6,7]\n",
      "6 [4,5,6*,7,8]\n",
      "7 [5,6,7*,8,9]\n",
      "8 [6,7,8*,9,10]\n",
      "9 [7,8,9*,10,11]\n",
      "10 [8,9,10*,11,12]\n",
      "11 [9,10,11*,12,13]\n",
      "12 [10,11,12*,13,14]\n",
      "13 [11,12,13*,14,15]\n",
      "14 [12,13,14*,15,16]\n",
      "15 [13,14,15*,16,17]\n",
      "16 [14,15,16*,17,18]\n",
      "17 [15,16,17*,18,19]\n",
      "18 [16,17,18*,19,20]\n",
      "19 [16,17,18,19*,20]\n",
      "20 [16,17,18,19,20*]\n"
     ]
    }
   ],
   "source": [
    "list=['1','2','3','4','5','6','7','8','9','10','11','12','13','14','15','16','17','18','19','20']\n",
    "print(1,'['+list[0]+'*'+','+list[1]+','+list[2]+','+list[3]+','+list[4]+']')\n",
    "print(2,'['+list[0]+','+list[1]+'*'+','+list[2]+','+list[3]+','+list[4]+']')\n",
    "for i in range(3,19):\n",
    "    print(i,'['+list[i-3]+','+list[i-2]+','+list[i-1]+'*'+','+list[i]+','+list[i+1]+']')\n",
    "print(19,'['+list[15]+','+list[16]+','+list[17]+','+list[18]+'*'+','+list[19]+']')\n",
    "print(20,'['+list[15]+','+list[16]+','+list[17]+','+list[18]+','+list[19]+'*'+']') "
   ]
  }
 ],
 "metadata": {
  "kernelspec": {
   "display_name": "Python 3",
   "language": "python",
   "name": "python3"
  },
  "language_info": {
   "codemirror_mode": {
    "name": "ipython",
    "version": 3
   },
   "file_extension": ".py",
   "mimetype": "text/x-python",
   "name": "python",
   "nbconvert_exporter": "python",
   "pygments_lexer": "ipython3",
   "version": "3.6.0"
  }
 },
 "nbformat": 4,
 "nbformat_minor": 2
}
