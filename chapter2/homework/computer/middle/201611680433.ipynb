{
 "cells": [
  {
   "cell_type": "markdown",
   "metadata": {},
   "source": [
    "1、写函数，给定符号和行数，如’*’，5，可打印相应行数的如下图形："
   ]
  },
  {
   "cell_type": "code",
   "execution_count": 5,
   "metadata": {
    "collapsed": false
   },
   "outputs": [
    {
     "name": "stdout",
     "output_type": "stream",
     "text": [
      "请给定符号:*\n",
      "请给定行数:5\n",
      "    * \n",
      "   * * \n",
      "  * * * \n",
      " * * * * \n",
      "* * * * * \n"
     ]
    }
   ],
   "source": [
    "def dayin(m,n):\n",
    "    for i in range(n):\n",
    "        print(' '*(n-i-1)+(m+' ')*(i+1))\n",
    "\n",
    "m=input('请给定符号:')\n",
    "n=int(input('请给定行数:'))\n",
    "dayin(m,n)\n"
   ]
  },
  {
   "cell_type": "markdown",
   "metadata": {},
   "source": [
    "2、打印如下9*9 乘法口诀表，注意每列左侧竖向对齐。"
   ]
  },
  {
   "cell_type": "code",
   "execution_count": 22,
   "metadata": {
    "collapsed": false
   },
   "outputs": [
    {
     "name": "stdout",
     "output_type": "stream",
     "text": [
      "1*1= 1 \n",
      "2*1= 2 2*2= 4 \n",
      "3*1= 3 3*2= 6 3*3= 9 \n",
      "4*1= 4 4*2= 8 4*3=12 4*4=16 \n",
      "5*1= 5 5*2=10 5*3=15 5*4=20 5*5=25 \n",
      "6*1= 6 6*2=12 6*3=18 6*4=24 6*5=30 6*6=36 \n",
      "7*1= 7 7*2=14 7*3=21 7*4=28 7*5=35 7*6=42 7*7=49 \n",
      "8*1= 8 8*2=16 8*3=24 8*4=32 8*5=40 8*6=48 8*7=56 8*8=64 \n",
      "9*1= 9 9*2=18 9*3=27 9*4=36 9*5=45 9*6=54 9*7=63 9*8=72 9*9=81 \n"
     ]
    }
   ],
   "source": [
    "for i in range(1, 10):\n",
    "    for j in range(1,10):\n",
    "        if j<=i:\n",
    "            print('{}*{}={:2}'.format(i,j,i*j),end=' ')\n",
    "    print()"
   ]
  },
  {
   "cell_type": "markdown",
   "metadata": {},
   "source": [
    "3、写函数，可检查一个数（2-100000之间整数）能不能表示成两个质数之和，如果能，则打印这两个质数。主程序用18及93887分别做测试。"
   ]
  },
  {
   "cell_type": "code",
   "execution_count": 19,
   "metadata": {
    "collapsed": false
   },
   "outputs": [
    {
     "name": "stdout",
     "output_type": "stream",
     "text": [
      "请输入一个2-100000之间的整数：18\n",
      "不能表示为两个质数之和\n"
     ]
    }
   ],
   "source": [
    "def zhishu(k):\n",
    "    i=1\n",
    "    while i<(int(k**1/2)+1):\n",
    "        i+=1\n",
    "        if k%i==0:\n",
    "            break\n",
    "        else:\n",
    "            continue\n",
    "    if i<=int(k**1/2)+1:\n",
    "        return 0\n",
    "    else:\n",
    "        return 1\n",
    "\n",
    "def jiancha(m):\n",
    "    flag=0\n",
    "    for k in range(2,m+1):\n",
    "        if zhishu(k)==1 and zhishu(m-k)==1:\n",
    "            flag=1\n",
    "        else:\n",
    "            flag=0\n",
    "    if flag==1:\n",
    "        print('能表示为两个质数之和为：',m,'=',k,'+',m-k)\n",
    "    else:\n",
    "        print('不能表示为两个质数之和')\n",
    "\n",
    "m=int(input('请输入一个2-100000之间的整数：'))\n",
    "jiancha(m)"
   ]
  },
  {
   "cell_type": "markdown",
   "metadata": {},
   "source": [
    "4、有一个列表：[1, 2, 3, 4…n]，n=20；请编写代码打印如下规律的输出（不允许直接拷贝并直接打印作为答案，想象n可能是变量）："
   ]
  },
  {
   "cell_type": "code",
   "execution_count": 18,
   "metadata": {
    "collapsed": false
   },
   "outputs": [
    {
     "name": "stdout",
     "output_type": "stream",
     "text": [
      "1 [1,2,3,4,5]\n",
      "2 [1,2,3,4,5]\n",
      "3 [1,2,3,4,5]\n",
      "4 [2,3,4*,5,6]\n",
      "5 [3,4,5*,6,7]\n",
      "6 [4,5,6*,7,8]\n",
      "7 [5,6,7*,8,9]\n",
      "8 [6,7,8*,9,10]\n",
      "9 [7,8,9*,10,11]\n",
      "10 [8,9,10*,11,12]\n",
      "11 [9,10,11*,12,13]\n",
      "12 [10,11,12*,13,14]\n",
      "13 [11,12,13*,14,15]\n",
      "14 [12,13,14*,15,16]\n",
      "15 [13,14,15*,16,17]\n",
      "16 [14,15,16*,17,18]\n",
      "17 [15,16,17*,18,19]\n",
      "18 [16,17,18*,19,20]\n",
      "19 [17,18,19,20,21]\n",
      "20 [19,19,20,21,22]\n"
     ]
    }
   ],
   "source": [
    "for i in range(1,21):\n",
    "    if i<=3:\n",
    "        print(i,' ','[',1,',',2,',',3,',',4,',',5,']',sep='')\n",
    "    elif i<=(21-3):\n",
    "        print(i,' ','[',i-2,',',i-1,',',i,'*,',i+1,',',i+2,']',sep='')\n",
    "    else:\n",
    "        print(i,' ','[',2*i-21,',',i-1,',',i,',',i+1,',',i+2,']',sep='')"
   ]
  },
  {
   "cell_type": "code",
   "execution_count": null,
   "metadata": {
    "collapsed": true
   },
   "outputs": [],
   "source": []
  }
 ],
 "metadata": {
  "kernelspec": {
   "display_name": "Python 3",
   "language": "python",
   "name": "python3"
  },
  "language_info": {
   "codemirror_mode": {
    "name": "ipython",
    "version": 3
   },
   "file_extension": ".py",
   "mimetype": "text/x-python",
   "name": "python",
   "nbconvert_exporter": "python",
   "pygments_lexer": "ipython3",
   "version": "3.6.0"
  }
 },
 "nbformat": 4,
 "nbformat_minor": 2
}
