{
 "cells": [
  {
   "cell_type": "code",
   "execution_count": 1,
   "metadata": {
    "collapsed": false
   },
   "outputs": [
    {
     "name": "stdout",
     "output_type": "stream",
     "text": [
      "输入任意整数:3\n",
      "输入任意整数:1\n",
      "输入任意整数:10\n",
      "1 个随机整数的平方根为 5.0\n",
      "2 个随机整数的平方根为 11.180339887498949\n",
      "3 个随机整数的平方根为 13.19090595827292\n"
     ]
    }
   ],
   "source": [
    "import random\n",
    "import math\n",
    "\n",
    "def q():\n",
    "    n=int(input('输入任意整数:'))\n",
    "    m=int(input('输入任意整数:'))\n",
    "    k=int(input('输入任意整数:'))\n",
    "    number=random.randint(m,k)\n",
    "    double=number*number\n",
    "    total=double\n",
    "    square=math.sqrt(total)\n",
    "    i=1\n",
    "    while i<=n:\n",
    "        print(i,'个随机整数的平方根为',square)\n",
    "        number=random.randint(m,k)\n",
    "        double=number*number\n",
    "        total=total+double\n",
    "        square=math.sqrt(total)\n",
    "        i=i+1\n",
    "        \n",
    "q()"
   ]
  },
  {
   "cell_type": "code",
   "execution_count": 15,
   "metadata": {
    "collapsed": false
   },
   "outputs": [
    {
     "name": "stdout",
     "output_type": "stream",
     "text": [
      "输入任意整数:4\n",
      "输入任意整数:1\n",
      "输入任意整数:9\n",
      "1 个随机整数的西格玛log为 0.6931471805599453\n",
      "1 个随机整数的西格玛1/log为 1.4426950408889634\n",
      "2 个随机整数的西格玛log为 0.6931471805599453\n",
      "2 个随机整数的西格玛1/log为 0.5581106265512472\n",
      "3 个随机整数的西格玛log为 0.6931471805599453\n",
      "3 个随机整数的西格玛1/log为 0.45511961331341866\n",
      "4 个随机整数的西格玛log为 0.6931471805599453\n",
      "4 个随机整数的西格玛1/log为 1.4426950408889634\n"
     ]
    }
   ],
   "source": [
    "import random\n",
    "import math\n",
    "\n",
    "def s():\n",
    "    n=int(input('输入任意整数:'))\n",
    "    m=int(input('输入任意整数:'))\n",
    "    k=int(input('输入任意整数:'))\n",
    "    number=random.randint(m,k)\n",
    "    result1=math.log(number)\n",
    "    result2=1/math.log(number)\n",
    "    total1=result1\n",
    "    total2=result2\n",
    "    i=1\n",
    "    while i<=n and result2!=0:\n",
    "        print(i,'个随机整数的西格玛log为',result1)\n",
    "        print(i,'个随机整数的西格玛1/log为',result2)\n",
    "        number=random.randint(m,k)\n",
    "        result1:math.log(number)\n",
    "        result2=1/math.log(number)\n",
    "        total1=total1+result1\n",
    "        total2=total2+result2\n",
    "        i=i+1\n",
    "        \n",
    "s()"
   ]
  },
  {
   "cell_type": "code",
   "execution_count": 16,
   "metadata": {
    "collapsed": false
   },
   "outputs": [
    {
     "name": "stdout",
     "output_type": "stream",
     "text": [
      "输入一个整数：4\n",
      "随机数为 3\n",
      "结果为 3702\n"
     ]
    }
   ],
   "source": [
    "import random\n",
    "\n",
    "def mut(n):\n",
    "    r=1\n",
    "    i=0\n",
    "    while i<=n-1:\n",
    "        r=r*10\n",
    "        r=r+1\n",
    "        i=i+1\n",
    "    return r\n",
    "def add():\n",
    "    number=random.randint(1,9)\n",
    "    n=int(input('输入一个整数：'))\n",
    "    total=1\n",
    "    i=0\n",
    "    s=0\n",
    "    while i<=n-1:\n",
    "        total=mut(i)\n",
    "        s=s+total*number\n",
    "        i=i+1\n",
    "    print('随机数为',number)\n",
    "    print('结果为',s)\n",
    "    \n",
    "add()"
   ]
  },
  {
   "cell_type": "code",
   "execution_count": 2,
   "metadata": {
    "collapsed": false
   },
   "outputs": [
    {
     "name": "stdout",
     "output_type": "stream",
     "text": [
      "想好一个数字,在0到10之间3\n",
      "输入猜的次数8\n",
      "输入下限:1\n",
      "输入上限:10\n",
      "7\n",
      "猜的数大了\n",
      "1\n",
      "5\n",
      "猜的数大了\n",
      "1\n",
      "3\n",
      "猜对了\n",
      "3\n"
     ]
    }
   ],
   "source": [
    "import random\n",
    "\n",
    "def guess():\n",
    "    r=int(input('想好一个数字,在0到10之间'))\n",
    "    times=int(input('输入猜的次数'))\n",
    "    m=int(input('输入下限:'))\n",
    "    k=int(input('输入上限:'))\n",
    "    number=random.randint(m,k)\n",
    "    print(number)\n",
    "    i=1\n",
    "    if number>r:\n",
    "            print('猜的数大了')\n",
    "            j=input()\n",
    "            number=random.randint(m,number)\n",
    "            print(number)\n",
    "            p=m\n",
    "    elif number<r:\n",
    "            print('猜的数小了')\n",
    "            j=input()\n",
    "            number=random.randint(number,k)\n",
    "            print(number)\n",
    "            p=k\n",
    "    while i<=times:\n",
    "        if number>r:\n",
    "            print('猜的数大了')\n",
    "            j=input()\n",
    "            number=random.randint(p,number)\n",
    "            print(number)\n",
    "        elif number<r:\n",
    "            print('猜的数小了')\n",
    "            j=input()\n",
    "            number=random.randint(number,p)\n",
    "            print(number)\n",
    "        else:\n",
    "            print('猜对了')\n",
    "            break\n",
    "    print(r)\n",
    "guess()"
   ]
  },
  {
   "cell_type": "code",
   "execution_count": null,
   "metadata": {
    "collapsed": true
   },
   "outputs": [],
   "source": []
  }
 ],
 "metadata": {
  "kernelspec": {
   "display_name": "Python 3",
   "language": "python",
   "name": "python3"
  },
  "language_info": {
   "codemirror_mode": {
    "name": "ipython",
    "version": 3
   },
   "file_extension": ".py",
   "mimetype": "text/x-python",
   "name": "python",
   "nbconvert_exporter": "python",
   "pygments_lexer": "ipython3",
   "version": "3.6.0"
  }
 },
 "nbformat": 4,
 "nbformat_minor": 2
}
