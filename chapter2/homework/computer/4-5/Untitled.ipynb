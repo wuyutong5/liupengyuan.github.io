{
 "cells": [
  {
   "cell_type": "code",
   "execution_count": null,
   "metadata": {
    "collapsed": false
   },
   "outputs": [],
   "source": [
    "import random,math\n",
    "def jisquan():\n",
    "    n=int(input('请输入一个整数'))\n",
    "    i=int(input('请输入一个整数'))\n",
    "    k=int(input('请输入一个整数'))\n",
    "    i=0\n",
    "    while i<n:\n",
    "        i=i+1\n",
    "        j=random.randint(i,k)\n",
    "        print(math.sqrt(j))\n",
    "jisquan()\n",
    "    "
   ]
  },
  {
   "cell_type": "code",
   "execution_count": 3,
   "metadata": {
    "collapsed": false
   },
   "outputs": [
    {
     "name": "stdout",
     "output_type": "stream",
     "text": [
      "请输入一个整数3\n",
      "请输入一个整数7\n",
      "请输入一个整数9\n",
      "1.3862943611198906\n",
      "0.7213475204444817\n",
      "1.9459101490553132\n",
      "0.5138983423697507\n",
      "1.6094379124341003\n",
      "0.6213349345596119\n"
     ]
    }
   ],
   "source": [
    "import random,math\n",
    "def jisuan():\n",
    "    n=int(input('请输入一个整数'))\n",
    "    i=int(input('请输入一个整数'))\n",
    "    k=int(input('请输入一个整数'))\n",
    "    i=0\n",
    "    while i<n:\n",
    "        i=i+1\n",
    "        j=random.randint(i,k)\n",
    "        m=math.log(j)\n",
    "        if m!=0:\n",
    "            h=1/m\n",
    "        else:\n",
    "            h=0\n",
    "        print(m)\n",
    "        print(h)\n",
    "jisuan()"
   ]
  }
 ],
 "metadata": {
  "kernelspec": {
   "display_name": "Python 3",
   "language": "python",
   "name": "python3"
  },
  "language_info": {
   "codemirror_mode": {
    "name": "ipython",
    "version": 3
   },
   "file_extension": ".py",
   "mimetype": "text/x-python",
   "name": "python",
   "nbconvert_exporter": "python",
   "pygments_lexer": "ipython3",
   "version": "3.6.0"
  }
 },
 "nbformat": 4,
 "nbformat_minor": 2
}
