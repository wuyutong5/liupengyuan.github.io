{
 "cells": [
  {
   "cell_type": "code",
   "execution_count": 1,
   "metadata": {
    "collapsed": false
   },
   "outputs": [
    {
     "name": "stdout",
     "output_type": "stream",
     "text": [
      "请输入个数:3\n",
      "左:2\n",
      "右:3\n",
      "sqrt： 2.6457513110645907\n"
     ]
    }
   ],
   "source": [
    "import random,math\n",
    "n=int(input('请输入个数:'))\n",
    "j=int(input('左:'))\n",
    "k=int(input('右:'))\n",
    "i=1\n",
    "sum=0\n",
    "while(i<=n):\n",
    "    sum=sum+random.randint(j,k)\n",
    "    i=i+1\n",
    "print('sqrt：',math.sqrt(sum))"
   ]
  },
  {
   "cell_type": "code",
   "execution_count": 2,
   "metadata": {
    "collapsed": false
   },
   "outputs": [
    {
     "name": "stdout",
     "output_type": "stream",
     "text": [
      "请输入个数:3\n",
      "左:2\n",
      "右:3\n",
      "2.4849066497880004 , 2.730717679880512\n"
     ]
    }
   ],
   "source": [
    "import random,math\n",
    "n=int(input('请输入个数:'))\n",
    "j=int(input('左:'))\n",
    "k=int(input('右:'))\n",
    "i=1\n",
    "sum1=0\n",
    "sum2=0\n",
    "while(i<=n):\n",
    "    sum1=sum1+math.log(random.randint(j,k))\n",
    "    sum2=sum2+1/math.log(random.randint(j,k))\n",
    "    i=i+1\n",
    "print(sum1,',',sum2)"
   ]
  },
  {
   "cell_type": "code",
   "execution_count": 3,
   "metadata": {
    "collapsed": false
   },
   "outputs": [
    {
     "name": "stdout",
     "output_type": "stream",
     "text": [
      "你想几个数相加:6\n",
      "246912\n"
     ]
    }
   ],
   "source": [
    "\n",
    "\n",
    "import math,random\n",
    "n=int(input('你想几个数相加:'))\n",
    "rand=random.randint(1,9)\n",
    "sum=0\n",
    "i=1\n",
    "q=0\n",
    "while(i<=n):\n",
    "    q=q+10**(i-1)\n",
    "    sum=sum+rand*q\n",
    "    i=i+1\n",
    "print(sum)\n",
    "\n"
   ]
  },
  {
   "cell_type": "code",
   "execution_count": 4,
   "metadata": {
    "collapsed": false
   },
   "outputs": [
    {
     "name": "stdout",
     "output_type": "stream",
     "text": [
      "请输入你想让计算机猜的数字:一到100\n",
      "3\n",
      "你想让计算机猜几次:6\n",
      "计算机猜的是： 64\n",
      "计算机猜的是： 53\n",
      "计算机猜的是： 3\n",
      "duil\n"
     ]
    }
   ],
   "source": [
    "import random,math\n",
    "n=int(input('请输入你想让计算机猜的数字:一到100\\n'))\n",
    "n2=int(input('你想让计算机猜几次:'))\n",
    "i=1\n",
    "flag=1\n",
    "while(i<=n2):\n",
    "    n3=random.randint(1,100)\n",
    "    print('计算机猜的是：',n3)\n",
    "    if n3==n:\n",
    "        print('duil')\n",
    "        flag=0\n",
    "        break\n",
    "    i=i+1\n",
    "if flag:\n",
    "    print('cuol')"
   ]
  },
  {
   "cell_type": "code",
   "execution_count": null,
   "metadata": {
    "collapsed": true
   },
   "outputs": [],
   "source": []
  }
 ],
 "metadata": {
  "kernelspec": {
   "display_name": "Python 3",
   "language": "python",
   "name": "python3"
  },
  "language_info": {
   "codemirror_mode": {
    "name": "ipython",
    "version": 3
   },
   "file_extension": ".py",
   "mimetype": "text/x-python",
   "name": "python",
   "nbconvert_exporter": "python",
   "pygments_lexer": "ipython3",
   "version": "3.6.0"
  }
 },
 "nbformat": 4,
 "nbformat_minor": 2
}
