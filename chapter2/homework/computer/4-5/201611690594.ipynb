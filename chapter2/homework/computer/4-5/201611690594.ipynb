{
 "cells": [
  {
   "cell_type": "code",
   "execution_count": 1,
   "metadata": {
    "collapsed": false,
    "deletable": true,
    "editable": true
   },
   "outputs": [
    {
     "name": "stdout",
     "output_type": "stream",
     "text": [
      "请输入随机数个数n 1\n",
      "请输入m 2\n",
      "请输入k 3\n",
      "1.4142135623730951\n"
     ]
    }
   ],
   "source": [
    "def computer(x, y, t):\n",
    "    total = 0\n",
    "    i = 0\n",
    "    while i < t:\n",
    "        import random\n",
    "        number = random.randint(x, y)\n",
    "        total = total + number\n",
    "        i = i + 1\n",
    "    aver = total/t\n",
    "    import math\n",
    "    sqrt = math.sqrt(aver)\n",
    "    print(sqrt)\n",
    "    \n",
    "n = int(input('请输入随机数个数n '))\n",
    "m = int(input('请输入m '))\n",
    "k = int(input('请输入k '))\n",
    "computer(m, k, n)"
   ]
  },
  {
   "cell_type": "code",
   "execution_count": 3,
   "metadata": {
    "collapsed": false,
    "deletable": true,
    "editable": true
   },
   "outputs": [
    {
     "name": "stdout",
     "output_type": "stream",
     "text": [
      "请输入随机数个数n 2\n",
      "请输入m 1\n",
      "请输入k 5\n",
      "2.772588722239781\n"
     ]
    }
   ],
   "source": [
    "def computer(x, y, t):\n",
    "    total = 0\n",
    "    i = 0\n",
    "    while i < t:\n",
    "        import random\n",
    "        num= random.randint(x, y)\n",
    "        import math\n",
    "        log = math.log(num)\n",
    "        total = total + log\n",
    "        i = i + 1\n",
    "    print(total)\n",
    "        \n",
    "    \n",
    "n = int(input('请输入随机数个数n '))\n",
    "m = int(input('请输入m '))\n",
    "k = int(input('请输入k '))\n",
    "computer(m, k, n)"
   ]
  },
  {
   "cell_type": "code",
   "execution_count": 5,
   "metadata": {
    "collapsed": false,
    "deletable": true,
    "editable": true
   },
   "outputs": [
    {
     "name": "stdout",
     "output_type": "stream",
     "text": [
      "请输入随机数个数n 5\n",
      "请输入m 1\n",
      "请输入k 6\n",
      "4.605855949146732\n"
     ]
    }
   ],
   "source": [
    "def computer(x, y, t):\n",
    "    total = 0\n",
    "    i = 0\n",
    "    while i < t:\n",
    "        import random\n",
    "        num= random.randint(x, y)\n",
    "        import math\n",
    "        log = math.log(num)\n",
    "        total = total + 1/log\n",
    "        i = i + 1\n",
    "    print(total)\n",
    "        \n",
    "    \n",
    "n = int(input('请输入随机数个数n '))\n",
    "m = int(input('请输入m '))\n",
    "k = int(input('请输入k '))\n",
    "computer(m, k, n)"
   ]
  },
  {
   "cell_type": "code",
   "execution_count": 6,
   "metadata": {
    "collapsed": false,
    "deletable": true,
    "editable": true
   },
   "outputs": [
    {
     "name": "stdout",
     "output_type": "stream",
     "text": [
      "请输入有几个数相加5\n",
      "s的值是 98760\n"
     ]
    }
   ],
   "source": [
    "def computer(a):\n",
    "    import random\n",
    "    x = random.randint(1,9)\n",
    "    i= 0\n",
    "    total= 0\n",
    "    while i < a:\n",
    "        y = x * 10**i\n",
    "        total = total + y*(a-i)\n",
    "        i = i + 1\n",
    "    print('s的值是',total)\n",
    "n = int(input('请输入有几个数相加'))\n",
    "computer(n)"
   ]
  }
 ],
 "metadata": {
  "kernelspec": {
   "display_name": "Python 3",
   "language": "python",
   "name": "python3"
  },
  "language_info": {
   "codemirror_mode": {
    "name": "ipython",
    "version": 3
   },
   "file_extension": ".py",
   "mimetype": "text/x-python",
   "name": "python",
   "nbconvert_exporter": "python",
   "pygments_lexer": "ipython3",
   "version": "3.6.0"
  }
 },
 "nbformat": 4,
 "nbformat_minor": 2
}
