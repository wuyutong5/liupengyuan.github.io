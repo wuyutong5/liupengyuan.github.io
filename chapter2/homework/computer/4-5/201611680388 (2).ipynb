{
 "cells": [
  {
   "cell_type": "code",
   "execution_count": 1,
   "metadata": {
    "collapsed": false
   },
   "outputs": [
    {
     "ename": "SyntaxError",
     "evalue": "invalid syntax (<ipython-input-1-da21c3110b95>, line 17)",
     "output_type": "error",
     "traceback": [
      "\u001b[1;36m  File \u001b[1;32m\"<ipython-input-1-da21c3110b95>\"\u001b[1;36m, line \u001b[1;32m17\u001b[0m\n\u001b[1;33m    print(number_1(1,1000,20))\u001b[0m\n\u001b[1;37m        ^\u001b[0m\n\u001b[1;31mSyntaxError\u001b[0m\u001b[1;31m:\u001b[0m invalid syntax\n"
     ]
    }
   ],
   "source": [
    "import random\n",
    "def number_1(m,k,n):\n",
    "    number = random.randint(m, k)    \n",
    "    sum = 0\n",
    "    i = 0\n",
    "    while i<n:\n",
    "        sum = number+sum\n",
    "        i=i+1\n",
    "        return \n",
    "        aver = sum/n\n",
    "        print((sqrt(aver))\n",
    "              \n",
    "              \n",
    "              \n",
    "              \n",
    "#原函数\n",
    "print(number_1(1,1000,20))\n"
   ]
  },
  {
   "cell_type": "code",
   "execution_count": 2,
   "metadata": {
    "collapsed": false
   },
   "outputs": [
    {
     "ename": "SyntaxError",
     "evalue": "invalid syntax (<ipython-input-2-8e2921604804>, line 7)",
     "output_type": "error",
     "traceback": [
      "\u001b[1;36m  File \u001b[1;32m\"<ipython-input-2-8e2921604804>\"\u001b[1;36m, line \u001b[1;32m7\u001b[0m\n\u001b[1;33m    x = int(input('请输入一个数字，并以回车结束。'))\u001b[0m\n\u001b[1;37m    ^\u001b[0m\n\u001b[1;31mSyntaxError\u001b[0m\u001b[1;31m:\u001b[0m invalid syntax\n"
     ]
    }
   ],
   "source": [
    "import random\n",
    "def num_1(m,k):\n",
    "    number = random.randint(m, k)\n",
    "    print(math.log(e,number))\n",
    "    print(1/(math.log(e,number))\n",
    "#原函数\n",
    "x = int(input('请输入一个数字，并以回车结束。'))\n",
    "y = int(input('请输入一个数字，并以回车结束。'))\n",
    "num_1(x,y)\n"
   ]
  },
  {
   "cell_type": "code",
   "execution_count": null,
   "metadata": {
    "collapsed": true
   },
   "outputs": [],
   "source": [
    "import random\n",
    "def num_1(m,k):\n",
    "    number = random.randint(m, k)\n",
    "    print(math.log(e,number))\n",
    "    print(1/(math.log(e,number))\n",
    "#原函数\n",
    "x = int(input('请输入一个数字，并以回车结束。'))\n",
    "y = int(input('请输入一个数字，并以回车结束。'))\n",
    "num_1(x,y)\n"
   ]
  }
 ],
 "metadata": {
  "kernelspec": {
   "display_name": "Python 3",
   "language": "python",
   "name": "python3"
  },
  "language_info": {
   "codemirror_mode": {
    "name": "ipython",
    "version": 3
   },
   "file_extension": ".py",
   "mimetype": "text/x-python",
   "name": "python",
   "nbconvert_exporter": "python",
   "pygments_lexer": "ipython3",
   "version": "3.6.0"
  }
 },
 "nbformat": 4,
 "nbformat_minor": 2
}
