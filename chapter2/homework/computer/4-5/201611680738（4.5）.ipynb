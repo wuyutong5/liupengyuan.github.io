{
 "cells": [
  {
   "cell_type": "code",
   "execution_count": 4,
   "metadata": {
    "collapsed": false,
    "deletable": true,
    "editable": true
   },
   "outputs": [
    {
     "name": "stdout",
     "output_type": "stream",
     "text": [
      "请输入整数个数:3\n",
      "请输入整数范围的下界：1\n",
      "请输入整数范围的上界：10\n",
      "1.632993161855452\n"
     ]
    }
   ],
   "source": [
    "import random, math\n",
    "n = int(input('请输入整数个数:'))\n",
    "m = int(input('请输入整数范围的下界：'))\n",
    "k = int(input('请输入整数范围的上界：'))\n",
    "i = 0\n",
    "sum_ = 0\n",
    "while i < n:\n",
    "    i += 1\n",
    "    number = random.randint(m , k)\n",
    "    sum_ = sum_ + number\n",
    "aver = sum_/n\n",
    "x = math.sqrt(aver)\n",
    "print (x)"
   ]
  },
  {
   "cell_type": "code",
   "execution_count": 11,
   "metadata": {
    "collapsed": false,
    "deletable": true,
    "editable": true
   },
   "outputs": [
    {
     "name": "stdout",
     "output_type": "stream",
     "text": [
      "请输入整数个数:5\n",
      "请输入整数范围的下界：1\n",
      "请输入整数范围的上界：10\n",
      "9.754887502163468 2.98204564771079\n"
     ]
    }
   ],
   "source": [
    "import random, math\n",
    "n = int(input('请输入整数个数:'))\n",
    "m = int(input('请输入整数范围的下界：'))\n",
    "k = int(input('请输入整数范围的上界：'))\n",
    "s1 = 0\n",
    "s2 = 0\n",
    "i = 0\n",
    "while i < n:\n",
    "    i += 1\n",
    "    num = random.randint(m , k)\n",
    "    num1 = math.log2(num)\n",
    "    num2 = 1 / num1\n",
    "    s1 += num1\n",
    "    s2 += num2\n",
    "print (s1,s2,sep=' ')"
   ]
  },
  {
   "cell_type": "code",
   "execution_count": 6,
   "metadata": {
    "collapsed": false,
    "deletable": true,
    "editable": true
   },
   "outputs": [
    {
     "name": "stdout",
     "output_type": "stream",
     "text": [
      "请输入相加整数的个数:3\n",
      "随机整数a为： 1\n",
      "123\n"
     ]
    }
   ],
   "source": [
    "import random, math\n",
    "n = int(input('请输入相加整数的个数:'))\n",
    "a = random.randint(1 , 9)\n",
    "print ('随机整数a为：',a)\n",
    "s = 0\n",
    "i = 0\n",
    "num_ = 0\n",
    "while i < n:\n",
    "    i += 1\n",
    "    num = a*(10**(i-1))\n",
    "    num_ = num_ + num\n",
    "    s = s + num_\n",
    "print (s)"
   ]
  },
  {
   "cell_type": "code",
   "execution_count": 5,
   "metadata": {
    "collapsed": false,
    "deletable": true,
    "editable": true
   },
   "outputs": [
    {
     "name": "stdout",
     "output_type": "stream",
     "text": [
      "请输入一个大于0的整数，作为神秘整数的上界，回车结束。10\n",
      "电脑猜的数字为： 1\n",
      "一共可以猜 4 次\n",
      "电脑已经猜了 1 次\n",
      "若猜对了请输入0，若猜大了请输入1，若猜小了请输入2: 2\n",
      "电脑猜的数字为： 4\n",
      "一共可以猜 4 次\n",
      "电脑已经猜了 2 次\n",
      "若猜对了请输入0，若猜大了请输入1，若猜小了请输入2: 2\n",
      "电脑猜的数字为： 9\n",
      "一共可以猜 4 次\n",
      "电脑已经猜了 3 次\n",
      "若猜对了请输入0，若猜大了请输入1，若猜小了请输入2: 0\n",
      "win\n",
      "神秘数字是： 9\n",
      "电脑比标准次数少 1 次\n"
     ]
    }
   ],
   "source": [
    "import random, math\n",
    "\n",
    "def win():\n",
    "    print ('win')\n",
    "    \n",
    "def lose():\n",
    "    print ('lose')\n",
    "\n",
    "def guess_game():\n",
    "    n = int(input('请输入一个大于0的整数，作为神秘整数的上界，回车结束。'))\n",
    "    m = 1\n",
    "    max_times = math.ceil(math.log(n, 2))\n",
    "    guess_times = 0\n",
    "    while guess_times < max_times:\n",
    "        number = random.randint(m, n)\n",
    "        print ('电脑猜的数字为：',number)\n",
    "        guess_times += 1\n",
    "        print('一共可以猜', max_times, '次')\n",
    "        print('电脑已经猜了', guess_times, '次')\n",
    "        i=int(input('若猜对了请输入0，若猜大了请输入1，若猜小了请输入2: '))\n",
    "        if i == 0:\n",
    "            win()\n",
    "            print('神秘数字是：', number)\n",
    "            print('电脑比标准次数少', max_times-guess_times, '次')\n",
    "            break\n",
    "        elif i == 1:\n",
    "            n = number\n",
    "        else:\n",
    "            m = number\n",
    "    else:\n",
    "        lose()\n",
    "\n",
    "guess_game()"
   ]
  }
 ],
 "metadata": {
  "kernelspec": {
   "display_name": "Python 3",
   "language": "python",
   "name": "python3"
  },
  "language_info": {
   "codemirror_mode": {
    "name": "ipython",
    "version": 3
   },
   "file_extension": ".py",
   "mimetype": "text/x-python",
   "name": "python",
   "nbconvert_exporter": "python",
   "pygments_lexer": "ipython3",
   "version": "3.6.0"
  }
 },
 "nbformat": 4,
 "nbformat_minor": 2
}
