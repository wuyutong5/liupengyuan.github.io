{
 "cells": [
  {
   "cell_type": "code",
   "execution_count": 1,
   "metadata": {
    "collapsed": false
   },
   "outputs": [],
   "source": [
    "import random\n",
    "def correct_file(infile):\n",
    "    text=[]\n",
    "    fh=open(r'filename',w)\n",
    "    text=fh.read()\n",
    "    text.replace(',','').split()\n",
    "    return text\n",
    "\n",
    "def pick_verse(text):\n",
    "    verse=[]\n",
    "    sublist=[]\n",
    "    verse= random.choice(text)\n",
    "    sublist=[character for character in sublist]\n",
    "    return sublist\n",
    "\n",
    "def add_new_words(sublist,text):\n",
    "    chs=[ch for ch in sublist]\n",
    "    for i in range(len(chs),12):\n",
    "        temp=(random.choice(random.choice(text)))\n",
    "        if temp not in chs:\n",
    "            chs.append(temp)\n",
    "    return chs\n",
    "\n",
    "\n",
    "def new_verse():\n",
    "    f=correct_file(infile)\n",
    "    chosen_verse=pick_verse(f)\n",
    "    final_chs=random.shuffle(add_new_words(chosen_verse,f))\n",
    "    for i in range(0,12,2):\n",
    "        print(final_chs[i],final_chs[i+1],'\\n')\n",
    "\n",
    "def win():\n",
    "    print(\"恭喜你猜对了！\")\n",
    "    return\n",
    "    \n",
    "def lose():\n",
    "    (\"真可惜你没猜对。\")\n",
    "    return\n",
    "\n",
    "def main():\n",
    "    score = 10\n",
    "    while score >= 0:\n",
    "        verse_sentence=new_verse.join('')\n",
    "        answer_verse = input('请输入猜测诗句，回车结束，直接回车表示退出游戏：')\n",
    "        if answer_verse == verse_sentence:\n",
    "            print('答对了，加十分')\n",
    "            score += 10\n",
    "            print('你当前的分数是：', score)\n",
    "            if score == 100:\n",
    "                win()\n",
    "                return\n",
    "        elif answer_verse == '':\n",
    "            print('退出游戏。')\n",
    "            print('你最后的分数是：', score)\n",
    "            return\n",
    "        else:\n",
    "            score -= 10\n",
    "            print('答错了，减十分')\n",
    "            print('成语其实是：',chosen_verse.join(''))\n",
    "            print('你当前的分数是：', score)\n",
    "    else:\n",
    "        lose()\n",
    "        return\n",
    "\n",
    "if __name__ == '__main()__':\n",
    "    main()"
   ]
  },
  {
   "cell_type": "code",
   "execution_count": null,
   "metadata": {
    "collapsed": true
   },
   "outputs": [],
   "source": []
  }
 ],
 "metadata": {
  "kernelspec": {
   "display_name": "Python 3",
   "language": "python",
   "name": "python3"
  },
  "language_info": {
   "codemirror_mode": {
    "name": "ipython",
    "version": 3
   },
   "file_extension": ".py",
   "mimetype": "text/x-python",
   "name": "python",
   "nbconvert_exporter": "python",
   "pygments_lexer": "ipython3",
   "version": "3.6.0"
  }
 },
 "nbformat": 4,
 "nbformat_minor": 2
}
