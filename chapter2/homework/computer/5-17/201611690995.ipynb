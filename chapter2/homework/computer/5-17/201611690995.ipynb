{
 "cells": [
  {
   "cell_type": "code",
   "execution_count": 1,
   "metadata": {},
   "outputs": [
    {
     "name": "stdout",
     "output_type": "stream",
     "text": [
      "人 见 初\n",
      "风 只 生\n",
      "若 如 时\n",
      "请输入猜测诗词，回车结束，直接回车表示退出游戏：人生若只如初见\n",
      "答对了，加十分\n",
      "你当前的分数是： 20\n",
      "扇 何 节\n",
      "事 见 秋\n",
      "风 悲 画\n",
      "请输入猜测诗词，回车结束，直接回车表示退出游戏：何事秋风画悲扇\n",
      "答错了，减十分\n",
      "诗词其实是： 何事秋风悲画扇\n",
      "你当前的分数是： 10\n",
      "扇 明 清\n",
      "画 何 风\n",
      "事 悲 秋\n",
      "请输入猜测诗词，回车结束，直接回车表示退出游戏：\n",
      "退出游戏。\n",
      "你最后的分数是： 10\n"
     ]
    }
   ],
   "source": [
    "import random\n",
    "fh = open(r'd:\\诗词大全.txt')\n",
    "text = fh.read()\n",
    "fh.close()\n",
    "\n",
    "def win():\n",
    "    print('恭喜你，你赢啦！')\n",
    "    return\n",
    "    \n",
    "def lose():\n",
    "    print('很遗憾，你输了。')\n",
    "    return\n",
    "    \n",
    "def get_ch_table(line):\n",
    "    ch_table = []\n",
    "    for ch in line:\n",
    "        if ch not in ch_table:\n",
    "            ch_table.append(ch)\n",
    "    return ch_table\n",
    "\n",
    "def idiom_robot(file_name):\n",
    "    with open(file_name) as fh:\n",
    "        text = fh.read()\n",
    "    idioms = text.split()\n",
    "    idiom = random.choice(idioms)\n",
    "    chs = get_ch_table(text.replace(r'\\n', ''))\n",
    "\n",
    "    guess_ch_table = [ch for ch in idiom]\n",
    "    while len(guess_ch_table) < 9:\n",
    "        ch = random.choice(chs)\n",
    "        if ch not in guess_ch_table:\n",
    "            guess_ch_table.append(ch)\n",
    "    \n",
    "    random.shuffle(guess_ch_table)\n",
    "    \n",
    "    for i in range(0,9,3):\n",
    "        print(guess_ch_table[i], guess_ch_table[i+1],guess_ch_table[i+2])\n",
    "    return idiom\n",
    "\n",
    "def main():\n",
    "    filename = r'd:\\诗词大全.txt'\n",
    "    score = 10\n",
    "    while score >= 0:\n",
    "        real_idiom = idiom_robot(filename)\n",
    "        answer_idiom = input('请输入猜测诗词，回车结束，直接回车表示退出游戏：')\n",
    "        if answer_idiom == real_idiom:\n",
    "            print('答对了，加十分')\n",
    "            score += 10\n",
    "            print('你当前的分数是：', score)\n",
    "            if score == 100:\n",
    "                win()\n",
    "                return\n",
    "        elif answer_idiom == '':\n",
    "            print('退出游戏。')\n",
    "            print('你最后的分数是：', score)\n",
    "            return\n",
    "        else:\n",
    "            score -= 10\n",
    "            print('答错了，减十分')\n",
    "            print('诗词其实是：', real_idiom)\n",
    "            print('你当前的分数是：', score)\n",
    "    else:\n",
    "        lose()\n",
    "        return\n",
    "\n",
    "main()"
   ]
  },
  {
   "cell_type": "code",
   "execution_count": null,
   "metadata": {
    "collapsed": true
   },
   "outputs": [],
   "source": []
  }
 ],
 "metadata": {
  "kernelspec": {
   "display_name": "Python 3",
   "language": "python",
   "name": "python3"
  },
  "language_info": {
   "codemirror_mode": {
    "name": "ipython",
    "version": 3
   },
   "file_extension": ".py",
   "mimetype": "text/x-python",
   "name": "python",
   "nbconvert_exporter": "python",
   "pygments_lexer": "ipython3",
   "version": "3.6.0"
  }
 },
 "nbformat": 4,
 "nbformat_minor": 2
}
