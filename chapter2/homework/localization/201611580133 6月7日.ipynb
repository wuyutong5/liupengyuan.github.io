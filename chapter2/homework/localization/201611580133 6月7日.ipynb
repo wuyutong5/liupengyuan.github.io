{
 "cells": [
  {
   "cell_type": "code",
   "execution_count": null,
   "metadata": {
    "collapsed": true
   },
   "outputs": [],
   "source": [
    "#选择排序\n",
    "import time\n",
    "def choose():\n",
    "    for i in range(10000):\n",
    "        k = a[i]\n",
    "        for j in range(10000):\n",
    "            if a[j] < k:\n",
    "                k = a[j]\n",
    "                h = j\n",
    "        a[j] = a[i]\n",
    "        a[i] = k\n",
    "for i in range(10000):\n",
    "    a[i] = int(input())\n",
    "t1 = time.time()\n",
    "choose()\n",
    "t2 = time.time()\n",
    "print(t2-t1)\n",
    "\n",
    "#快速排序\n",
    "import time\n",
    "def qsort(l,r,a):\n",
    "    i = l\n",
    "    j = r\n",
    "    k = a[l]\n",
    "    if l<r:\n",
    "        while i < j:\n",
    "            while (a[j]>=k) and (i<j):\n",
    "                j -= 1\n",
    "            if i<j:\n",
    "                a[i] = a[j]\n",
    "                i += 1\n",
    "            while (a[i]<k) and (i<j):\n",
    "                i += 1\n",
    "            if i<j:\n",
    "                a[j] = a[i]\n",
    "                j -= 1\n",
    "        a[i] = k        \n",
    "        qsort(l,i-1,a)\n",
    "        qsort(j+1,r,a)\n",
    "s = [0 for i in range(10000)]\n",
    "for i in range(10000):\n",
    "    s[i] = int(input())\n",
    "t1 = time.time()\n",
    "qsort(0,9999,s)\n",
    "t2 = time.time()\n",
    "print(t2 - t1)\n",
    "for i in range(10000):\n",
    "    print(s[i],end=' ')\n",
    "    \n",
    "#内置函数\n",
    "import time\n",
    "for i in range(10000):\n",
    "    a[i] = int(input())\n",
    "t1 = time.time()\n",
    "sort(a)\n",
    "t2 = time.time()\n",
    "print(t2-t1)"
   ]
  }
 ],
 "metadata": {
  "kernelspec": {
   "display_name": "Python 3",
   "language": "python",
   "name": "python3"
  },
  "language_info": {
   "codemirror_mode": {
    "name": "ipython",
    "version": 3
   },
   "file_extension": ".py",
   "mimetype": "text/x-python",
   "name": "python",
   "nbconvert_exporter": "python",
   "pygments_lexer": "ipython3",
   "version": "3.6.0"
  }
 },
 "nbformat": 4,
 "nbformat_minor": 2
}
