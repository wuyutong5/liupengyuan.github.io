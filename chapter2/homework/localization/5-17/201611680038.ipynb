{
 "cells": [
  {
   "cell_type": "code",
   "execution_count": 3,
   "metadata": {
    "collapsed": false
   },
   "outputs": [],
   "source": [
    "##完整的诗词游戏\n",
    "\n",
    "import random\n",
    "\n",
    "def win():\n",
    "    print('win')\n",
    "    return\n",
    "\n",
    "def lose():\n",
    "    print('lose')\n",
    "    return\n",
    "\n",
    "def get_ch_table(line):\n",
    "    ch_table = []\n",
    "    for ch in line:\n",
    "        if ch not in ch_table:\n",
    "            ch_table.append(ch)\n",
    "        return ch_table\n",
    "\n",
    "def poem_robot(file_name):\n",
    "    with open(file_name) as fh:\n",
    "        text = fh.read()\n",
    "    poems = text.split()\n",
    "    poem = random.choice(poems)\n",
    "    chs = get_ch_table(text.replace(r'\\n', ''))\n",
    "    \n",
    "    guess_ch_table = [ch for ch in poem]\n",
    "    while len(guess_ch_table) < 9:\n",
    "        ch = random.choice(chs)\n",
    "        if ch not in guess_ch_table:\n",
    "            guess_ch_table.append(ch)\n",
    "            \n",
    "    random.shuffle(guess_ch_table)\n",
    "    \n",
    "    for i in range(0,9,3):\n",
    "        print(guess_ch_table[i],guess_ch_table[i+1])\n",
    "    \n",
    "    return poem\n",
    "\n",
    "def main():\n",
    "    filename = r'/Users/pepper/Desktop/诗词.txt'\n",
    "    score = 10\n",
    "    while score >= 0:\n",
    "        real_poem = poem_robot(filename)\n",
    "        answer_poem = input('请输入猜测诗句：')\n",
    "        if answwer_poem == real_poem:\n",
    "            print('答对了，加十分')\n",
    "            score += 10\n",
    "            print('你当前的分数是：', score)\n",
    "            if score == 100:\n",
    "                win()\n",
    "                return\n",
    "        \n",
    "        elif answer_poem == '':\n",
    "            print('退出游戏。')\n",
    "            print('你最后的分数是：', score)\n",
    "            return\n",
    "        else:\n",
    "            score -= 10\n",
    "            print('打错了，减十分')\n",
    "            print('成语其实是：', real_poem)\n",
    "            print('你当前的分数是：', score)\n",
    "    else:\n",
    "        lose()\n",
    "        return\n",
    "\n",
    "if __name__ == '__main()__':\n",
    "    main()\n",
    "            \n",
    "            "
   ]
  },
  {
   "cell_type": "code",
   "execution_count": null,
   "metadata": {
    "collapsed": true
   },
   "outputs": [],
   "source": []
  }
 ],
 "metadata": {
  "kernelspec": {
   "display_name": "Python 3",
   "language": "python",
   "name": "python3"
  },
  "language_info": {
   "codemirror_mode": {
    "name": "ipython",
    "version": 3
   },
   "file_extension": ".py",
   "mimetype": "text/x-python",
   "name": "python",
   "nbconvert_exporter": "python",
   "pygments_lexer": "ipython3",
   "version": "3.6.0"
  }
 },
 "nbformat": 4,
 "nbformat_minor": 2
}
