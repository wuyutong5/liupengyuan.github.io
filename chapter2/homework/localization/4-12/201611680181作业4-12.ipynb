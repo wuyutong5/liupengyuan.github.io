{
 "cells": [
  {
   "cell_type": "code",
   "execution_count": 1,
   "metadata": {
    "collapsed": false
   },
   "outputs": [
    {
     "name": "stdout",
     "output_type": "stream",
     "text": [
      "21\n"
     ]
    }
   ],
   "source": [
    "#练习2\n",
    "def total():\n",
    "    numbers=[1,2,3,4,5,6]\n",
    "    total=0\n",
    "    for number in numbers:\n",
    "        total += number\n",
    "    return total\n",
    "print(total())"
   ]
  },
  {
   "cell_type": "code",
   "execution_count": 2,
   "metadata": {
    "collapsed": false
   },
   "outputs": [
    {
     "name": "stdout",
     "output_type": "stream",
     "text": [
      "2\n"
     ]
    }
   ],
   "source": [
    "#练习3\n",
    "def min():\n",
    "    numbers=[2,3,4,5,6,7]\n",
    "    min = numbers[0]\n",
    "    for i in numbers:\n",
    "        if i<min:\n",
    "            min=i\n",
    "    return min\n",
    "print(min())"
   ]
  },
  {
   "cell_type": "code",
   "execution_count": 14,
   "metadata": {
    "collapsed": false
   },
   "outputs": [
    {
     "name": "stdout",
     "output_type": "stream",
     "text": [
      "请输入6\n",
      "kite\n"
     ]
    }
   ],
   "source": [
    "#练习4\n",
    "words=['cat','sea','goat','kite']\n",
    "n=int(input('请输入'))\n",
    "if n<= 3:\n",
    "    n = n\n",
    "if n>3:\n",
    "    while n>3:\n",
    "        n=n-1\n",
    "print(words[n])"
   ]
  },
  {
   "cell_type": "code",
   "execution_count": null,
   "metadata": {
    "collapsed": true
   },
   "outputs": [],
   "source": [
    "#练习5\n"
   ]
  }
 ],
 "metadata": {
  "kernelspec": {
   "display_name": "Python 3",
   "language": "python",
   "name": "python3"
  },
  "language_info": {
   "codemirror_mode": {
    "name": "ipython",
    "version": 3
   },
   "file_extension": ".py",
   "mimetype": "text/x-python",
   "name": "python",
   "nbconvert_exporter": "python",
   "pygments_lexer": "ipython3",
   "version": "3.6.0"
  }
 },
 "nbformat": 4,
 "nbformat_minor": 2
}
