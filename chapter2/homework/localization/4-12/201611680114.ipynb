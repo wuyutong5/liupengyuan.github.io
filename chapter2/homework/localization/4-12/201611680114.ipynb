{
 "cells": [
  {
   "cell_type": "code",
   "execution_count": 56,
   "metadata": {
    "collapsed": false
   },
   "outputs": [
    {
     "name": "stdout",
     "output_type": "stream",
     "text": [
      "23\n"
     ]
    }
   ],
   "source": [
    "numbers = [22,23]\n",
    "m=1\n",
    "\n",
    "print(numbers[m])"
   ]
  },
  {
   "cell_type": "code",
   "execution_count": null,
   "metadata": {
    "collapsed": true
   },
   "outputs": [],
   "source": []
  },
  {
   "cell_type": "code",
   "execution_count": 39,
   "metadata": {
    "collapsed": false
   },
   "outputs": [
    {
     "name": "stdout",
     "output_type": "stream",
     "text": [
      "请输入您想在集合中输入的数字个数3\n",
      "请输入一个数字，回车结束。11\n",
      "[11]\n",
      "请输入一个数字，回车结束。22\n",
      "[11, 22]\n",
      "请输入一个数字，回车结束。33\n",
      "[11, 22, 33]\n",
      "66\n"
     ]
    }
   ],
   "source": [
    "def hello():\n",
    "    numbers = []\n",
    "    n=int(input(\"请输入您想在集合中输入的数字个数\"))\n",
    "    i=0\n",
    "    total=0\n",
    "    while i<n:\n",
    "        number = int(input('请输入一个数字，回车结束。'))\n",
    "        numbers.append(number)\n",
    "        print(numbers)\n",
    "        i += 1\n",
    "    for number in numbers:\n",
    "        total+=number\n",
    "    \n",
    "    return total\n",
    "print(hello())"
   ]
  },
  {
   "cell_type": "code",
   "execution_count": 45,
   "metadata": {
    "collapsed": false
   },
   "outputs": [
    {
     "name": "stdout",
     "output_type": "stream",
     "text": [
      "请输入您想在集合中输入的数字个数3\n",
      "请输入一个数字11\n",
      "[11]\n",
      "再输入一个数字22\n",
      "[11, 22]\n",
      "再输入一个数字33\n",
      "[11, 22, 33]\n",
      "集合中最小数为 11\n"
     ]
    }
   ],
   "source": [
    "def hello():\n",
    "    n=int(input(\"请输入您想在集合中输入的数字个数\"))\n",
    "    numbers=[]\n",
    "    min_number=int(input(\"请输入一个数字\"))\n",
    "    numbers.append(min_number)\n",
    "    print(numbers)\n",
    "    i=1\n",
    "    while i<n:\n",
    "        number=int(input(\"再输入一个数字\"))\n",
    "        numbers.append(number)\n",
    "        print(numbers)\n",
    "        i += 1\n",
    "        if min_number>number:\n",
    "            min_number=number\n",
    "    return min_number\n",
    "print(\"集合中最小数为\",hello())"
   ]
  },
  {
   "cell_type": "code",
   "execution_count": 82,
   "metadata": {
    "collapsed": false
   },
   "outputs": [
    {
     "name": "stdout",
     "output_type": "stream",
     "text": [
      "请输入你觉得可能在本集合中的数字23\n",
      "该数是集合中的第 2 个数\n"
     ]
    }
   ],
   "source": [
    "def hello():\n",
    "    numbers=[1,23,3,98,5,33,64,8,12,24,36,48]\n",
    "    n=int(input(\"请输入你觉得可能在本集合中的数字\"))\n",
    "    m=-1\n",
    "    if n in numbers:\n",
    "        while m<11:\n",
    "            m+=1\n",
    "            if n == numbers[m]:\n",
    "                k=m+1\n",
    "                print(\"该数是集合中的第\",k,\"个数\")\n",
    "                \n",
    "    else:\n",
    "        print(\"-1\")\n",
    "        \n",
    "hello()\n",
    "            \n",
    "    "
   ]
  },
  {
   "cell_type": "code",
   "execution_count": 91,
   "metadata": {
    "collapsed": false
   },
   "outputs": [
    {
     "name": "stdout",
     "output_type": "stream",
     "text": [
      "本软件运算使用的均为平面直角坐标系\n",
      "请输入a向量的横坐标1\n",
      "请输入a向量的纵坐标1\n",
      "a向量为( 1 , 1 )\n",
      "请输入b向量的横坐标1\n",
      "请输入b向量的纵坐标1\n",
      "b向量为( 1 , 1 )\n",
      "两个向量的夹角余弦值是 0.9999999999999998\n"
     ]
    }
   ],
   "source": [
    "import math\n",
    "def hello():\n",
    "    print(\"本软件运算使用的均为平面直角坐标系\")\n",
    "    a=int(input(\"请输入a向量的横坐标\"))\n",
    "    b=int(input(\"请输入a向量的纵坐标\"))\n",
    "    print(\"a向量为(\",a,\",\",b,\")\")\n",
    "    c=int(input(\"请输入b向量的横坐标\"))\n",
    "    d=int(input(\"请输入b向量的纵坐标\"))\n",
    "    print(\"b向量为(\",c,\",\",d,\")\")\n",
    "    e=a*c+b*d\n",
    "    f=math.sqrt(a**2+b**2)\n",
    "    g=math.sqrt(c**2+d**2)\n",
    "    cos=e/(f*g)\n",
    "    return cos\n",
    "\n",
    "print(\"两个向量的夹角余弦值是\",hello())\n",
    "    "
   ]
  },
  {
   "cell_type": "code",
   "execution_count": null,
   "metadata": {
    "collapsed": true
   },
   "outputs": [],
   "source": []
  }
 ],
 "metadata": {
  "kernelspec": {
   "display_name": "Python 3",
   "language": "python",
   "name": "python3"
  },
  "language_info": {
   "codemirror_mode": {
    "name": "ipython",
    "version": 3
   },
   "file_extension": ".py",
   "mimetype": "text/x-python",
   "name": "python",
   "nbconvert_exporter": "python",
   "pygments_lexer": "ipython3",
   "version": "3.6.0"
  }
 },
 "nbformat": 4,
 "nbformat_minor": 2
}
