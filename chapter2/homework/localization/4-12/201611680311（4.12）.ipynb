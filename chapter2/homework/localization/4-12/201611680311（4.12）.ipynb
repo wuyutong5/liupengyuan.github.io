{
 "cells": [
  {
   "cell_type": "code",
   "execution_count": 1,
   "metadata": {
    "collapsed": false
   },
   "outputs": [
    {
     "name": "stdout",
     "output_type": "stream",
     "text": [
      "请输入随机整数的个数3\n",
      "请输入随机整数的下界1\n",
      "请输入随机整数的上界5\n",
      "2\n",
      "1\n",
      "5\n",
      "2.23606797749979\n"
     ]
    }
   ],
   "source": [
    "#写函数，求n个随机整数均值的平方根，整数范围在m与k之间\n",
    "import random , math\n",
    "\n",
    "n=int(input('请输入随机整数的个数'))\n",
    "m=int(input('请输入随机整数的下界'))\n",
    "k=int(input('请输入随机整数的上界'))\n",
    "\n",
    "i=0\n",
    "total=0\n",
    "for i in range(n):\n",
    "    number=random.randint(m,k)\n",
    "    print(number)\n",
    "    i+=1\n",
    "    \n",
    "numbers=[]\n",
    "numbers.append(number)\n",
    "\n",
    "for number in numbers:\n",
    "    total+=number\n",
    "    print(math.sqrt(total))\n",
    "    \n",
    "        \n",
    "    "
   ]
  },
  {
   "cell_type": "code",
   "execution_count": 11,
   "metadata": {
    "collapsed": false
   },
   "outputs": [
    {
     "name": "stdout",
     "output_type": "stream",
     "text": [
      "请输入随机整数的个数2\n",
      "请输入随机整数的下界4\n",
      "请输入随机整数的上界7\n",
      "6\n",
      "4\n",
      "1.3862943611198906\n",
      "0.7213475204444817\n"
     ]
    }
   ],
   "source": [
    "#写函数，共n个随机整数，整数范围在m与k之间，（n,m,k由用户输入）。求1：西格玛log(随机整数)，2：西格玛1/log(随机整数)\n",
    "import random , math\n",
    "\n",
    "n=int(input('请输入随机整数的个数'))\n",
    "m=int(input('请输入随机整数的下界'))\n",
    "k=int(input('请输入随机整数的上界'))\n",
    "\n",
    "i=0\n",
    "\n",
    "for i in range(n):\n",
    "    number=random.randint(m,k)\n",
    "    print(number)\n",
    "    i+=1\n",
    "\n",
    "numbers=[]\n",
    "numbers.append(number)\n",
    "\n",
    "for number in numbers:\n",
    "    total_1=0\n",
    "    total_1+=math.log(number)\n",
    "    total_2=0\n",
    "    total_2+=1/math.log(number)\n",
    "    \n",
    "def my_sum():\n",
    "    print(total_1)\n",
    "    print(total_2)\n",
    "    \n",
    "my_sum()\n",
    "\n",
    "\n",
    "\n"
   ]
  },
  {
   "cell_type": "code",
   "execution_count": 8,
   "metadata": {
    "collapsed": false
   },
   "outputs": [
    {
     "name": "stdout",
     "output_type": "stream",
     "text": [
      "请输入一个整数作为所有整数的个数3\n",
      "请输入一个整数1\n",
      "请输入一个整数2\n",
      "请输入一个整数3\n",
      "6\n"
     ]
    }
   ],
   "source": [
    "#写出由用户指定整数个数，并由用户输入多个整数，并求和的代码\n",
    "\n",
    "n=int(input('请输入一个整数作为所有整数的个数'))\n",
    "\n",
    "i=0\n",
    "numbers=[]\n",
    "\n",
    "for i in range(n)\n",
    "    number=int(input('请输入一个整数'))\n",
    "    numbers.append(number)\n",
    "    i+=1\n",
    "\n",
    "total=0\n",
    "for number in numbers:\n",
    "    total+=number\n",
    "print(total)\n",
    "    "
   ]
  },
  {
   "cell_type": "code",
   "execution_count": 14,
   "metadata": {
    "collapsed": false
   },
   "outputs": [
    {
     "name": "stdout",
     "output_type": "stream",
     "text": [
      "请输入一个整数作为下界3\n",
      "请输入一个整数作为上界6\n",
      "求和，输入0；求积，输入1；求余数,输入2；否则，整除0\n",
      "18\n"
     ]
    }
   ],
   "source": [
    "#写程序，可由键盘读入两个整数m与k(n不等于0)，询问用户意图，\n",
    "#如果要求和则计算从m到k的和输出，\n",
    "#如果要乘积则计算从m到k的积并输出，\n",
    "#如果要求余数则计算m除以k的余数的值并输出，\n",
    "#否则则计算m整除k的值并输出\n",
    "\n",
    "k=int(input('请输入一个整数作为下界'))\n",
    "m=int(input('请输入一个整数作为上界'))\n",
    "\n",
    "\n",
    "n=int(input('求和，输入0；求积，输入1；求余数,输入2；否则，整除'))\n",
    "\n",
    "if n==0:\n",
    "    total=0\n",
    "    for i in range(k,m+1):\n",
    "        total+=i\n",
    "    print(total)\n",
    "\n",
    "elif n==1:\n",
    "    total=1\n",
    "    for i in range(k,m+1):\n",
    "        total=total*i\n",
    "    print(total)\n",
    "\n",
    "elif n==2:\n",
    "    print(m%k)\n",
    "    \n",
    "else:\n",
    "    print(m//k)\n",
    "        \n",
    "    \n",
    "    \n",
    "    \n"
   ]
  },
  {
   "cell_type": "code",
   "execution_count": 27,
   "metadata": {
    "collapsed": false
   },
   "outputs": [
    {
     "name": "stdout",
     "output_type": "stream",
     "text": [
      "请输入第1个整数，以回车结束。1\n",
      "请输入第2个整数，以回车结束。1\n",
      "请输入第3个整数，以回车结束。1\n",
      "最终的和是： 3\n"
     ]
    }
   ],
   "source": [
    "#仿照求$ \\sum_{i=1}^mi + \\sum_{i=1}^ni  + \\sum_{i=1}^ki$的完整代码，写程序，可求m!+n!+k!\n",
    "def total(end):\n",
    "    \n",
    "    i = 1\n",
    "    total_n = 1\n",
    "\n",
    "    for i in range(end):\n",
    "        total_n = total_n * (i+1)\n",
    "\n",
    "    return total_n\n",
    "\n",
    "n = int(input('请输入第1个整数，以回车结束。'))\n",
    "m = int(input('请输入第2个整数，以回车结束。'))\n",
    "k = int(input('请输入第3个整数，以回车结束。'))\n",
    "\n",
    "print('最终的和是：', total(m) + total(n) + total(k))\n",
    "\n",
    "        \n",
    "    \n",
    "        "
   ]
  },
  {
   "cell_type": "code",
   "execution_count": 40,
   "metadata": {
    "collapsed": false
   },
   "outputs": [
    {
     "name": "stdout",
     "output_type": "stream",
     "text": [
      "请输入一个整数作为下界1\n",
      "请输入一个整数作为上界5\n",
      "请输入一个整数作为间隔2\n",
      "9\n"
     ]
    }
   ],
   "source": [
    "#写程序，可以求从整数m到整数n累加的和，间隔为k，求和部分需用函数实现，主程序中由用户输入m，n，k调用函数验证正确性。\n",
    "\n",
    "m=int(input('请输入一个整数作为下界'))\n",
    "n=int(input('请输入一个整数作为上界'))\n",
    "k=int(input('请输入一个整数作为间隔'))\n",
    "\n",
    "total=0\n",
    "for i in range(m,n+1,k):\n",
    "    total+=i\n",
    "    \n",
    "print(total)\n",
    "    "
   ]
  },
  {
   "cell_type": "code",
   "execution_count": 42,
   "metadata": {
    "collapsed": false
   },
   "outputs": [
    {
     "name": "stdout",
     "output_type": "stream",
     "text": [
      "3.1414926535900367\n"
     ]
    }
   ],
   "source": [
    "#写函数可返回1 - 1/3 + 1/5 - 1/7...的前n项的和。在主程序中，分别令n=1000及100000，打印4倍该函数的和\n",
    "def my_sum(n):\n",
    "    total=0\n",
    "    for i in range(1,n+1,2):\n",
    "        total+=1/(2*i-1)-1/(2*i+1)\n",
    "    print(total*4)\n",
    "    \n",
    "my_sum(10000)\n",
    "my_sum(1000)"
   ]
  },
  {
   "cell_type": "code",
   "execution_count": 3,
   "metadata": {
    "collapsed": false
   },
   "outputs": [
    {
     "name": "stdout",
     "output_type": "stream",
     "text": [
      "5 5 90\n",
      "5 6 89\n",
      "5 7 88\n",
      "5 8 87\n",
      "5 9 86\n",
      "5 10 85\n",
      "5 11 84\n",
      "5 12 83\n",
      "5 13 82\n",
      "5 14 81\n",
      "6 5 89\n",
      "6 6 88\n",
      "6 7 87\n",
      "6 8 86\n",
      "6 9 85\n",
      "6 10 84\n",
      "6 11 83\n",
      "6 12 82\n",
      "6 13 81\n",
      "6 14 80\n",
      "7 5 88\n",
      "7 6 87\n",
      "7 7 86\n",
      "7 8 85\n",
      "7 9 84\n",
      "7 10 83\n",
      "7 11 82\n",
      "7 12 81\n",
      "7 13 80\n",
      "7 14 79\n",
      "8 5 87\n",
      "8 6 86\n",
      "8 7 85\n",
      "8 8 84\n",
      "8 9 83\n",
      "8 10 82\n",
      "8 11 81\n",
      "8 12 80\n",
      "8 13 79\n",
      "8 14 78\n",
      "9 5 86\n",
      "9 6 85\n",
      "9 7 84\n",
      "9 8 83\n",
      "9 9 82\n",
      "9 10 81\n",
      "9 11 80\n",
      "9 12 79\n",
      "9 13 78\n",
      "9 14 77\n",
      "10 5 85\n",
      "10 6 84\n",
      "10 7 83\n",
      "10 8 82\n",
      "10 9 81\n",
      "10 10 80\n",
      "10 11 79\n",
      "10 12 78\n",
      "10 13 77\n",
      "10 14 76\n",
      "11 5 84\n",
      "11 6 83\n",
      "11 7 82\n",
      "11 8 81\n",
      "11 9 80\n",
      "11 10 79\n",
      "11 11 78\n",
      "11 12 77\n",
      "11 13 76\n",
      "11 14 75\n",
      "12 5 83\n",
      "12 6 82\n",
      "12 7 81\n",
      "12 8 80\n",
      "12 9 79\n",
      "12 10 78\n",
      "12 11 77\n",
      "12 12 76\n",
      "12 13 75\n",
      "12 14 74\n",
      "13 5 82\n",
      "13 6 81\n",
      "13 7 80\n",
      "13 8 79\n",
      "13 9 78\n",
      "13 10 77\n",
      "13 11 76\n",
      "13 12 75\n",
      "13 13 74\n",
      "13 14 73\n",
      "14 5 81\n",
      "14 6 80\n",
      "14 7 79\n",
      "14 8 78\n",
      "14 9 77\n",
      "14 10 76\n",
      "14 11 75\n",
      "14 12 74\n",
      "14 13 73\n",
      "14 14 72\n"
     ]
    }
   ],
   "source": [
    "#挑战性习题：python语言老师为了激励学生学python，自费买了100个完全相同的Macbook Pro，\n",
    "#分给三个班级，每个班级至少分5个，用穷举法计算共有多少种分法？\n",
    "for i in range(0,101):\n",
    "    for j in range(0,101):\n",
    "        print(5+i,5+j,90-i-j)\n"
   ]
  },
  {
   "cell_type": "code",
   "execution_count": 2,
   "metadata": {
    "collapsed": false
   },
   "outputs": [
    {
     "name": "stdout",
     "output_type": "stream",
     "text": [
      "0 0 0 = 0\n",
      "0 0 1 = 0\n",
      "0 1 0 = 0\n",
      "0 1 1 = 0\n",
      "0 2 0 = 0\n",
      "0 2 1 = 0\n",
      "1 0 0 = 0\n",
      "1 0 1 = 0\n",
      "1 1 0 = 0\n",
      "1 1 1 = 1\n",
      "1 2 0 = 0\n",
      "1 2 1 = 2\n",
      "2 0 0 = 0\n",
      "2 0 1 = 0\n",
      "2 1 0 = 0\n",
      "2 1 1 = 2\n",
      "2 2 0 = 0\n",
      "2 2 1 = 4\n"
     ]
    }
   ],
   "source": [
    "for i in range(3):\n",
    "    for j in range(3):\n",
    "        for k in range(2):\n",
    "            print(i, j, k, '=', i*j*k)"
   ]
  }
 ],
 "metadata": {
  "kernelspec": {
   "display_name": "Python 3",
   "language": "python",
   "name": "python3"
  },
  "language_info": {
   "codemirror_mode": {
    "name": "ipython",
    "version": 3
   },
   "file_extension": ".py",
   "mimetype": "text/x-python",
   "name": "python",
   "nbconvert_exporter": "python",
   "pygments_lexer": "ipython3",
   "version": "3.6.0"
  }
 },
 "nbformat": 4,
 "nbformat_minor": 2
}
