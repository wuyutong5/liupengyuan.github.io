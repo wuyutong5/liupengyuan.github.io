{
 "cells": [
  {
   "cell_type": "code",
   "execution_count": 26,
   "metadata": {
    "collapsed": false
   },
   "outputs": [
    {
     "name": "stdout",
     "output_type": "stream",
     "text": [
      "请输入一个整数作为元素个数。3\n",
      "请输入整数1\n",
      "请输入整数2\n",
      "请输入整数3\n",
      "请输入要检验的整数1\n",
      "0\n"
     ]
    }
   ],
   "source": [
    "#写函数，返回某个元素/对象在一个list中的位置，如果不在，则返回-1.\n",
    "def check():\n",
    "    numbers=[]\n",
    "    n=int(input('请输入一个整数作为元素个数。'))\n",
    "    \n",
    "    for i in range(n):\n",
    "        number=int(input('请输入整数'))\n",
    "        numbers.append(number)\n",
    "        \n",
    "    my_number=int(input('请输入要检验的整数'))\n",
    "    if my_number in numbers:\n",
    "        print(numbers.index(my_number))\n",
    "    else:\n",
    "        print(-1)\n",
    "        \n",
    "check()\n",
    "    \n"
   ]
  },
  {
   "cell_type": "code",
   "execution_count": null,
   "metadata": {
    "collapsed": true
   },
   "outputs": [],
   "source": [
    "#写函数，返回一个list中的最小值\n",
    "def min_num():\n",
    "    numbers=[]\n",
    "    n=int(input('请输入数字个数。'))\n",
    "    for i in range(n):\n",
    "        number=int(input('请输入一个数字'))\n",
    "        numbers.append(number)\n",
    "    for number in numbers:\n",
    "        return(min(numbers))\n",
    "    print(min(number))\n",
    "        \n",
    "min_num()"
   ]
  },
  {
   "cell_type": "code",
   "execution_count": 41,
   "metadata": {
    "collapsed": false
   },
   "outputs": [
    {
     "name": "stdout",
     "output_type": "stream",
     "text": [
      "请输入数字个数2\n",
      "请输入一个整数1\n",
      "请输入一个整数2\n",
      "3\n"
     ]
    }
   ],
   "source": [
    "#写函数，返回一个list中所有数字的和\n",
    "def my_sum():\n",
    "    \n",
    "    numbers=[]\n",
    "    n=int(input('请输入数字个数'))\n",
    "    total=0\n",
    "    \n",
    "    for i in range(n):\n",
    "        number=int(input('请输入一个整数'))\n",
    "        numbers.append(number)\n",
    "        \n",
    "    for number in numbers:\n",
    "        total+=number\n",
    "    print(total)\n",
    "        \n",
    "my_sum()"
   ]
  },
  {
   "cell_type": "code",
   "execution_count": 40,
   "metadata": {
    "collapsed": false
   },
   "outputs": [
    {
     "name": "stdout",
     "output_type": "stream",
     "text": [
      "0.4242640687119285\n"
     ]
    }
   ],
   "source": [
    "#写函数，可求两个向量的夹角余弦值，向量可放在list中。主程序调用该函数。\n",
    "import math\n",
    "def cos(a,b):\n",
    "    result1=0\n",
    "    result2=0\n",
    "    result3=0\n",
    "    for i in range(len(a)):\n",
    "        result1+=a[i]+b[i]\n",
    "        result2+=a[i]**2\n",
    "        result3+=b[i]**2\n",
    "    print(result1/math.sqrt(result2*result3))\n",
    "        \n",
    "cos([9,3],[2,4])\n",
    "    "
   ]
  }
 ],
 "metadata": {
  "kernelspec": {
   "display_name": "Python 3",
   "language": "python",
   "name": "python3"
  },
  "language_info": {
   "codemirror_mode": {
    "name": "ipython",
    "version": 3
   },
   "file_extension": ".py",
   "mimetype": "text/x-python",
   "name": "python",
   "nbconvert_exporter": "python",
   "pygments_lexer": "ipython3",
   "version": "3.6.0"
  }
 },
 "nbformat": 4,
 "nbformat_minor": 2
}
