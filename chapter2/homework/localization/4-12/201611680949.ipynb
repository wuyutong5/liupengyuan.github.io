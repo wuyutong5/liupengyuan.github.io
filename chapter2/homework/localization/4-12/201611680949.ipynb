{
 "cells": [
  {
   "cell_type": "code",
   "execution_count": 15,
   "metadata": {
    "collapsed": false,
    "deletable": true,
    "editable": true
   },
   "outputs": [
    {
     "name": "stdout",
     "output_type": "stream",
     "text": [
      "55\n"
     ]
    }
   ],
   "source": [
    "#练习2\n",
    "\n",
    "def sum_list(numbers):\n",
    "    total=0\n",
    "    for number in numbers:\n",
    "        total+=number\n",
    "    return total\n",
    "\n",
    "numbers=[1,2,3,4,5,6,7,8,9,10]\n",
    "print(sum_list(numbers))\n"
   ]
  },
  {
   "cell_type": "code",
   "execution_count": 14,
   "metadata": {
    "collapsed": false,
    "deletable": true,
    "editable": true
   },
   "outputs": [
    {
     "name": "stdout",
     "output_type": "stream",
     "text": [
      "-1\n"
     ]
    }
   ],
   "source": [
    "#练习3\n",
    "\n",
    "def find_min(numbers):\n",
    "    min_num=9999\n",
    "    i=0\n",
    "    for number in numbers:\n",
    "        if number<=min_num:\n",
    "            min_num=numbers[i]\n",
    "            i+=1\n",
    "    return min_num\n",
    "    \n",
    "numbers=[-1,2,3,4,5,6,7,8,9,10]\n",
    "print(find_min(numbers))\n",
    "            "
   ]
  },
  {
   "cell_type": "code",
   "execution_count": 13,
   "metadata": {
    "collapsed": false,
    "deletable": true,
    "editable": true
   },
   "outputs": [
    {
     "name": "stdout",
     "output_type": "stream",
     "text": [
      "请输入一个整数:5\n",
      "4\n"
     ]
    }
   ],
   "source": [
    "#练习4\n",
    "\n",
    "def return_n(numbers):\n",
    "    n=int(input('请输入一个整数:'))\n",
    "    i=0\n",
    "    if n in numbers:\n",
    "        while numbers[i]!=n:\n",
    "            i+=1\n",
    "        return i\n",
    "    else:\n",
    "        return -1\n",
    "    \n",
    "numbers=[1,2,3,4,5,6,7,8,9,10]\n",
    "print(return_n(numbers))"
   ]
  },
  {
   "cell_type": "code",
   "execution_count": 19,
   "metadata": {
    "collapsed": false
   },
   "outputs": [
    {
     "name": "stdout",
     "output_type": "stream",
     "text": [
      "请输入x坐标：1\n",
      "请输入y坐标：1\n",
      "0.7071067811865475\n"
     ]
    }
   ],
   "source": [
    "#练习5\n",
    "\n",
    "import math \n",
    " \n",
    "def cos_(x,y):\n",
    "    x=int(input('请输入x坐标：'))\n",
    "    y=int(input('请输入y坐标：'))\n",
    "    z=math.hypot(x,y)\n",
    "    cos=y/z\n",
    "    return cos\n",
    "\n",
    "\n",
    "print(cos_(x,y))"
   ]
  },
  {
   "cell_type": "code",
   "execution_count": null,
   "metadata": {
    "collapsed": true
   },
   "outputs": [],
   "source": []
  }
 ],
 "metadata": {
  "kernelspec": {
   "display_name": "Python 3",
   "language": "python",
   "name": "python3"
  },
  "language_info": {
   "codemirror_mode": {
    "name": "ipython",
    "version": 3
   },
   "file_extension": ".py",
   "mimetype": "text/x-python",
   "name": "python",
   "nbconvert_exporter": "python",
   "pygments_lexer": "ipython3",
   "version": "3.6.0"
  }
 },
 "nbformat": 4,
 "nbformat_minor": 2
}
