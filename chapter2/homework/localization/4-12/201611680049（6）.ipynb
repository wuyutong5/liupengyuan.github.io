{
 "cells": [
  {
   "cell_type": "markdown",
   "metadata": {},
   "source": [
    "## 写函数，返回一个list中所有数字的和"
   ]
  },
  {
   "cell_type": "code",
   "execution_count": null,
   "metadata": {
    "collapsed": false
   },
   "outputs": [],
   "source": [
    "numbers = []\n",
    "n = int(input('请输入你要输入的数字的个数，回车结束'))\n",
    "\n",
    "for i in range(n):\n",
    "    number = int(input('请输入一个数字，回车结束'))\n",
    "    numbers.append(number)\n",
    "\n",
    "total = 0\n",
    "for i in range(n):\n",
    "    total = total + numbers[i]\n",
    "    \n",
    "print('所有数字的和是：', total)"
   ]
  },
  {
   "cell_type": "markdown",
   "metadata": {
    "collapsed": true
   },
   "source": [
    "## 写函数，返回一个list中的最小值"
   ]
  },
  {
   "cell_type": "code",
   "execution_count": null,
   "metadata": {
    "collapsed": true
   },
   "outputs": [],
   "source": [
    "numbers = []\n",
    "n = int(input('请输入将要输入的数字的个数，回车结束'))\n",
    "\n",
    "for i in range(n):\n",
    "    number = int(input('请输入一个数字，回车结束'))\n",
    "    numbers.append(number)\n",
    "    \n",
    "min_number = numbers[1]\n",
    "for i in range(n):\n",
    "    for j in range(-1,n-1):\n",
    "        if min_number > numbers[j]:\n",
    "            min_number = numbers[j]\n",
    "        \n",
    "print('最小数是：', min_number)"
   ]
  },
  {
   "cell_type": "markdown",
   "metadata": {},
   "source": [
    "## 写函数，返回某个元素/对象在一个list中的位置，如果不在，则返回-1."
   ]
  },
  {
   "cell_type": "code",
   "execution_count": null,
   "metadata": {
    "collapsed": true
   },
   "outputs": [],
   "source": [
    "numbers = []\n",
    "n = int(input('请输入要输入的元素的个数'))\n",
    "\n",
    "for i in range(n):\n",
    "    number = int(input('请输入一个数字，回车结束'))\n",
    "    numbers.append(number)\n",
    "    \n",
    "m = 1\n",
    "k = int(input('请输入你想查询位置的数字'))\n",
    "l = numbers[1]\n",
    "for i in range(n):\n",
    "    for j in range(1 , n-1):\n",
    "        if k != l:\n",
    "            m += 1\n",
    "            l = numbers[j]\n",
    "            locate = -1\n",
    "        elif k == l:\n",
    "            locate = m\n",
    "        \n",
    "print('位置为：',locate)"
   ]
  },
  {
   "cell_type": "markdown",
   "metadata": {},
   "source": [
    "## 写函数，可求两个向量的夹角余弦值，向量可放在list中。主程序调用该函数。"
   ]
  },
  {
   "cell_type": "code",
   "execution_count": null,
   "metadata": {
    "collapsed": true
   },
   "outputs": [],
   "source": [
    "def cosvector(x,y):\n",
    "    result1=0.0;\n",
    "    result2=0.0;\n",
    "    result3=0.0;\n",
    "    for i in range(len(x)):\n",
    "        result1 += x[i] * y[i]\n",
    "        result2 += x[i] ** 2\n",
    "        result3 += y[i] ** 2\n",
    "        \n",
    "    print('结果为：',str(result1/((result2*result3)**0.5)))\n",
    "    \n",
    "cosvector([2,1],[1,1])"
   ]
  }
 ],
 "metadata": {
  "kernelspec": {
   "display_name": "Python 3",
   "language": "python",
   "name": "python3"
  },
  "language_info": {
   "codemirror_mode": {
    "name": "ipython",
    "version": 3
   },
   "file_extension": ".py",
   "mimetype": "text/x-python",
   "name": "python",
   "nbconvert_exporter": "python",
   "pygments_lexer": "ipython3",
   "version": "3.6.0"
  }
 },
 "nbformat": 4,
 "nbformat_minor": 2
}
