{
 "cells": [
  {
   "cell_type": "code",
   "execution_count": null,
   "metadata": {
    "collapsed": true,
    "deletable": true,
    "editable": true
   },
   "outputs": [],
   "source": [
    "写函数，返回一个list中所有数字的和"
   ]
  },
  {
   "cell_type": "code",
   "execution_count": 1,
   "metadata": {
    "collapsed": false,
    "deletable": true,
    "editable": true
   },
   "outputs": [
    {
     "name": "stdout",
     "output_type": "stream",
     "text": [
      "39\n"
     ]
    }
   ],
   "source": [
    "def my_sum():\n",
    "    numbers=[2,4,6,11,7,9,]\n",
    "    total=0\n",
    "    for n in numbers:\n",
    "        total+=n\n",
    "    return total\n",
    "print(my_sum())"
   ]
  },
  {
   "cell_type": "code",
   "execution_count": null,
   "metadata": {
    "collapsed": true,
    "deletable": true,
    "editable": true
   },
   "outputs": [],
   "source": [
    "写函数，返回一个list中的最小值"
   ]
  },
  {
   "cell_type": "code",
   "execution_count": 3,
   "metadata": {
    "collapsed": false,
    "deletable": true,
    "editable": true
   },
   "outputs": [
    {
     "name": "stdout",
     "output_type": "stream",
     "text": [
      "4\n"
     ]
    }
   ],
   "source": [
    "def my_min():\n",
    "    numbers=[4,6,8,14,23,65,77,99,108]\n",
    "    x=min(numbers)\n",
    "    \n",
    "    return x\n",
    "print(my_min())"
   ]
  },
  {
   "cell_type": "code",
   "execution_count": null,
   "metadata": {
    "collapsed": true,
    "deletable": true,
    "editable": true
   },
   "outputs": [],
   "source": [
    "写函数，返回某个元素/对象在一个list中的位置，如果不在，则返回-1"
   ]
  },
  {
   "cell_type": "code",
   "execution_count": 15,
   "metadata": {
    "collapsed": false,
    "deletable": true,
    "editable": true
   },
   "outputs": [
    {
     "name": "stdout",
     "output_type": "stream",
     "text": [
      "请输入你想查找的元素，回车结束。3\n",
      "3\n",
      "2\n"
     ]
    }
   ],
   "source": [
    "def back():\n",
    "    elements=[1,2,3,4,5,6,7,8,9,0]\n",
    "    n=int(input('请输入你想查找的元素，回车结束。'))\n",
    "    print(n)\n",
    "    if n in elements:\n",
    "        print(elements.index(n))\n",
    "    else:\n",
    "        print(-1)\n",
    "\n",
    "back()"
   ]
  },
  {
   "cell_type": "code",
   "execution_count": null,
   "metadata": {
    "collapsed": true
   },
   "outputs": [],
   "source": [
    "写函数，可求两个向量的夹角余弦值，向量可放在list中。主程序调用该函数"
   ]
  },
  {
   "cell_type": "code",
   "execution_count": 19,
   "metadata": {
    "collapsed": false
   },
   "outputs": [
    {
     "name": "stdout",
     "output_type": "stream",
     "text": [
      "请输入一个整数，回车结束。1\n",
      "请输入一个整数，回车结束。2\n",
      "请输入一个整数，回车结束。3\n",
      "请输入一个整数，回车结束。4\n"
     ]
    },
    {
     "data": {
      "text/plain": [
       "1.5201626123751157"
      ]
     },
     "execution_count": 19,
     "metadata": {},
     "output_type": "execute_result"
    }
   ],
   "source": [
    "import math\n",
    "def my_cos():\n",
    "    x1=int(input('请输入一个整数，回车结束。'))\n",
    "    y1=int(input('请输入一个整数，回车结束。'))\n",
    "    x2=int(input('请输入一个整数，回车结束。'))\n",
    "    y2=int(input('请输入一个整数，回车结束。'))\n",
    "    list1=[x1,x2,y1,y2]\n",
    "    x=x1*x2+y1*y2\n",
    "    y=math.sqrt(x1*x1+y1*y1)+math.sqrt(x2*x2+y2*y2)\n",
    "    cos=x/y*1\n",
    "    \n",
    "    return cos\n",
    "my_cos()"
   ]
  }
 ],
 "metadata": {
  "kernelspec": {
   "display_name": "Python 3",
   "language": "python",
   "name": "python3"
  },
  "language_info": {
   "codemirror_mode": {
    "name": "ipython",
    "version": 3
   },
   "file_extension": ".py",
   "mimetype": "text/x-python",
   "name": "python",
   "nbconvert_exporter": "python",
   "pygments_lexer": "ipython3",
   "version": "3.6.0"
  }
 },
 "nbformat": 4,
 "nbformat_minor": 2
}
