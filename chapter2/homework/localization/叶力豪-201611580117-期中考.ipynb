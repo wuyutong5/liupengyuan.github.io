{
 "cells": [
  {
   "cell_type": "code",
   "execution_count": 24,
   "metadata": {
    "collapsed": false
   },
   "outputs": [
    {
     "name": "stdout",
     "output_type": "stream",
     "text": [
      "      * \n",
      "     * * \n",
      "    * * * \n",
      "   * * * * \n",
      "  * * * * * \n"
     ]
    }
   ],
   "source": [
    "#练习1#\n",
    "def function(m,n):\n",
    "    for i in range(n+1,1,-1):\n",
    "        print((i+1//2)*' '+(m+\" \")*(n+2-i), end = '')\n",
    "        print('')\n",
    "function('*',5)"
   ]
  },
  {
   "cell_type": "code",
   "execution_count": 32,
   "metadata": {
    "collapsed": false
   },
   "outputs": [
    {
     "name": "stdout",
     "output_type": "stream",
     "text": [
      "1*1=1 \n",
      "2*1=2 2*2=4 \n",
      "3*1=3 3*2=6 3*3=9 \n",
      "4*1=4 4*2=8 4*3=12 4*4=16 \n",
      "5*1=5 5*2=10 5*3=15 5*4=20 5*5=25 \n",
      "6*1=6 6*2=12 6*3=18 6*4=24 6*5=30 6*6=36 \n",
      "7*1=7 7*2=14 7*3=21 7*4=28 7*5=35 7*6=42 7*7=49 \n",
      "8*1=8 8*2=16 8*3=24 8*4=32 8*5=40 8*6=48 8*7=56 8*8=64 \n",
      "9*1=9 9*2=18 9*3=27 9*4=36 9*5=45 9*6=54 9*7=63 9*8=72 9*9=81 \n"
     ]
    }
   ],
   "source": [
    "#练习2#\n",
    "for j in range(1,10):\n",
    "    for k in range(1,j+1):\n",
    "        answer = str(j*k)\n",
    "        a = str(j)\n",
    "        b = str(k)\n",
    "        print(a+'*'+b+'='+answer, end = ' ')\n",
    "    print()"
   ]
  },
  {
   "cell_type": "code",
   "execution_count": null,
   "metadata": {
    "collapsed": true
   },
   "outputs": [],
   "source": [
    "#练习3#\n"
   ]
  },
  {
   "cell_type": "code",
   "execution_count": 54,
   "metadata": {
    "collapsed": false
   },
   "outputs": [
    {
     "name": "stdout",
     "output_type": "stream",
     "text": [
      "['1*', '2', '3', '4', '5']\n",
      "\n",
      "['1', '2*', '3', '4', '5']\n",
      "\n",
      "['1', '2', '3*', '4', '5']\n",
      "\n",
      "['2', '3', '4*', '5', '6']\n",
      "\n",
      "['3', '4', '5*', '6', '7']\n",
      "\n",
      "['4', '5', '6*', '7', '8']\n",
      "\n",
      "['5', '6', '7*', '8', '9']\n",
      "\n",
      "['6', '7', '8*', '9', '10']\n",
      "\n",
      "['7', '8', '9*', '10', '11']\n",
      "\n",
      "['8', '9', '10*', '11', '12']\n",
      "\n",
      "['9', '10', '11*', '12', '13']\n",
      "\n",
      "['10', '11', '12*', '13', '14']\n",
      "\n",
      "['11', '12', '13*', '14', '15']\n",
      "\n",
      "['12', '13', '14*', '15', '16']\n",
      "\n",
      "['13', '14', '15*', '16', '17']\n",
      "\n",
      "['14', '15', '16*', '17', '18']\n",
      "\n",
      "['15', '16', '17*', '18', '19']\n",
      "\n",
      "['16', '17', '18*', '19', '20']\n",
      "\n",
      "['16', '17', '18', '19*', '20']\n",
      "\n",
      "['16', '17', '18', '19', '20*']\n",
      "\n"
     ]
    }
   ],
   "source": [
    "#练习4#\n",
    "line = []\n",
    "for i in range(1,21):\n",
    "    for j in range(1,i):\n",
    "        number = str(j)\n",
    "        line.append(number)\n",
    "    number = str(i)+'*'\n",
    "    line.append(number)\n",
    "    for k in range(i+1,21):\n",
    "        number = str(k)\n",
    "        line.append(number)\n",
    "    while i<3:\n",
    "        print(line[0:5])\n",
    "        print()\n",
    "        line = []\n",
    "        break\n",
    "    while 3<=i<=18:\n",
    "        print(line[i-3:i+2])\n",
    "        print()\n",
    "        line = []\n",
    "        break\n",
    "    while i>18:\n",
    "        print(line[15:20])\n",
    "        print()\n",
    "        line = []\n",
    "        break"
   ]
  },
  {
   "cell_type": "code",
   "execution_count": null,
   "metadata": {
    "collapsed": true
   },
   "outputs": [],
   "source": []
  }
 ],
 "metadata": {
  "kernelspec": {
   "display_name": "Python 3",
   "language": "python",
   "name": "python3"
  },
  "language_info": {
   "codemirror_mode": {
    "name": "ipython",
    "version": 3
   },
   "file_extension": ".py",
   "mimetype": "text/x-python",
   "name": "python",
   "nbconvert_exporter": "python",
   "pygments_lexer": "ipython3",
   "version": "3.6.0"
  }
 },
 "nbformat": 4,
 "nbformat_minor": 2
}
