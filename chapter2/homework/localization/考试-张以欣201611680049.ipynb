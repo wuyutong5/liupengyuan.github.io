{
 "cells": [
  {
   "cell_type": "markdown",
   "metadata": {},
   "source": [
    "第一题"
   ]
  },
  {
   "cell_type": "code",
   "execution_count": null,
   "metadata": {
    "collapsed": false
   },
   "outputs": [],
   "source": [
    "l = int(input('请输入行数'))\n",
    "line = '*'* l\n",
    "\n",
    "for i in range(1,len(line)+1):\n",
    "    print((len(line)-i)* ' '+ line[0]*i, end=' ')\n",
    "    print()"
   ]
  },
  {
   "cell_type": "markdown",
   "metadata": {},
   "source": [
    "第二题\n"
   ]
  },
  {
   "cell_type": "code",
   "execution_count": null,
   "metadata": {
    "collapsed": true
   },
   "outputs": [],
   "source": [
    "for i in range(1, 10):\n",
    "    print()\n",
    "    for j in range(1, i+1):\n",
    "        print ('%d*%d=%d' % (i, j, i*j), ' ', end = '')"
   ]
  },
  {
   "cell_type": "markdown",
   "metadata": {},
   "source": [
    "第三题"
   ]
  },
  {
   "cell_type": "code",
   "execution_count": null,
   "metadata": {
    "collapsed": true
   },
   "outputs": [],
   "source": [
    "number = int(input('请输入要检查的整数，在2 - 100000之间：'))\n",
    "import random\n",
    "from math import sqrt\n",
    "\n",
    "def code():\n",
    "    code1 = random.randint(2,100000)\n",
    "    code2 = random.randint(2,100000)\n",
    "    k = code1 + code2\n",
    "    return \n",
    "    \n",
    "while True:\n",
    "    code()\n",
    "    if code() == number:\n",
    "        for i in range(2, int(sqrt(n))+1):\n",
    "            if n % i == 0:\n",
    "                print(code1,code2)\n",
    "    else:\n",
    "        code()"
   ]
  }
 ],
 "metadata": {
  "kernelspec": {
   "display_name": "Python 3",
   "language": "python",
   "name": "python3"
  },
  "language_info": {
   "codemirror_mode": {
    "name": "ipython",
    "version": 3
   },
   "file_extension": ".py",
   "mimetype": "text/x-python",
   "name": "python",
   "nbconvert_exporter": "python",
   "pygments_lexer": "ipython3",
   "version": "3.6.0"
  }
 },
 "nbformat": 4,
 "nbformat_minor": 2
}
