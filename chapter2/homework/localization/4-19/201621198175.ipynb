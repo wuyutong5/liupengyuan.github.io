{
 "cells": [
  {
   "cell_type": "code",
   "execution_count": 2,
   "metadata": {
    "collapsed": false
   },
   "outputs": [
    {
     "name": "stdout",
     "output_type": "stream",
     "text": [
      "[0, 1, 2, 3, 4, 5, 6, 7, 8, 9]\n"
     ]
    }
   ],
   "source": [
    "#练习一：自己定义一个reverse(s)函数，功能返回字符串s的倒序字符串。\n",
    "def reverse():\n",
    "    x = []\n",
    "    s = [9,8,7,6,5,4,3,2,1,0]\n",
    "    for i in range(len(s)-1,-1,-1):\n",
    "        x.append(s[i])\n",
    "    return(x)\n",
    "    \n",
    "y = reverse()\n",
    "print(y)"
   ]
  },
  {
   "cell_type": "code",
   "execution_count": 1,
   "metadata": {
    "collapsed": false
   },
   "outputs": [
    {
     "name": "stdout",
     "output_type": "stream",
     "text": [
      "*  \n",
      "*  *  \n",
      "*  *  *  \n",
      "*  *  *  *  \n",
      "*  *  *  *  *  \n",
      "------------------------------\n",
      "    *\n",
      "   ***\n",
      "  *****\n",
      " *******\n",
      "------------------------------\n",
      "     *  \n",
      "    *  *  \n",
      "   *  *  *  \n",
      "  *  *  *  *  \n",
      " *  *  *  *  *  \n",
      "*  *  *  *  *  *  \n"
     ]
    }
   ],
   "source": [
    "#练习二：写函数，根据给定符号和行数，打印相应直角三角形，等腰三角形及其他形式的三角形。\n",
    "def pattern(pat):\n",
    "    for i in range(1,len(pat)):\n",
    "        for j in range(1,i+1):\n",
    "            print(pat[0],' ',end = '')\n",
    "        print()\n",
    "    \n",
    "    \n",
    "    print(\"-\"*30)\n",
    "    for i in range(1,len(pat)-1):\n",
    "        for j in range(len(pat)-1-i,0,-1):\n",
    "            print(' ',end = '')\n",
    "        for k in range(1,2*i):\n",
    "            print(pat[0],end = '')\n",
    "        print()\n",
    "        \n",
    "    print(\"-\"*30)        \n",
    "    for i in range(1,len(pat)+1):\n",
    "        for j in range(len(pat)-i,0,-1):\n",
    "            print(' ',end = '')\n",
    "        for k in range(1,i+1):\n",
    "            print(pat[0],' ',end = '')\n",
    "        print()\n",
    "\n",
    "        \n",
    "def main():\n",
    "    text = \"******\"\n",
    "    pattern(text)   \n",
    "\n",
    "if __name__ == '__main__':\n",
    "    main()\n",
    "    \n",
    "\n"
   ]
  },
  {
   "cell_type": "code",
   "execution_count": 3,
   "metadata": {
    "collapsed": false
   },
   "outputs": [
    {
     "name": "stdout",
     "output_type": "stream",
     "text": [
      "请输入一个英语动词的单数形式，以回车结束：study\n",
      "studes\n",
      "请输入一个英语动词的单数形式，以回车结束：teach\n",
      "teaches\n",
      "请输入一个英语动词的单数形式，以回车结束：sing\n",
      "sings\n",
      "请输入一个英语动词的单数形式，以回车结束：\n"
     ]
    }
   ],
   "source": [
    "#练习三：将任务4中的英语动词单数变复数的函数，尽可能的考虑多种情况，重新进行实现。\n",
    "def plur():\n",
    "    sp = input(\"请输入一个英语动词的单数形式，以回车结束：\")\n",
    "    x1 = ['o','x','s','sh','ch']\n",
    "    x2 = ['by','cy','dy','fy','gy','jy','ky','ly','my','my','py','qy','ry','sy','ty','vy','wy','xy','yy','zy']\n",
    "    while sp:\n",
    "        if sp[-1] in x1:\n",
    "            print(sp + 'es')\n",
    "        elif sp[-2:] in x1:\n",
    "            print(sp + 'es')\n",
    "        else:\n",
    "            if sp[-2:] in x2:\n",
    "                print(sp[:-1] + 'es')\n",
    "            else:\n",
    "                print(sp +'s')\n",
    "        sp = input(\"请输入一个英语动词的单数形式，以回车结束：\")\n",
    "    \n",
    "plur()\n"
   ]
  },
  {
   "cell_type": "code",
   "execution_count": 16,
   "metadata": {
    "collapsed": false
   },
   "outputs": [
    {
     "name": "stdout",
     "output_type": "stream",
     "text": [
      "请输入要打印的梯形的s底，以回车结束：3\n",
      "请输入要打印的梯形的x底，以回车结束：6\n",
      "请输入要打印的梯形的高，以回车结束：4\n",
      "***\n",
      "\n",
      "****\n",
      "\n",
      "*****\n",
      "\n",
      "******\n",
      "\n"
     ]
    }
   ],
   "source": [
    "#练习四：写函数，根据给定符号，上底、下底、高，打印各种梯形。\n",
    "symbol = \"*\"\n",
    "def shape():\n",
    "    x= int(input(\"请输入要打印的梯形的s底，以回车结束：\"))\n",
    "    y= int(input(\"请输入要打印的梯形的x底，以回车结束：\"))\n",
    "    z = int(input(\"请输入要打印的梯形的高，以回车结束：\"))\n",
    "    for i in range(1,z+1):\n",
    "        for k in range(1,i+x):\n",
    "            print(\"*\",end='')\n",
    "    #for j in range(z-i,0,-1):\n",
    "        print('\\n')\n",
    "shape()"
   ]
  },
  {
   "cell_type": "code",
   "execution_count": 3,
   "metadata": {
    "collapsed": false
   },
   "outputs": [
    {
     "name": "stdout",
     "output_type": "stream",
     "text": [
      "   *   \n",
      "  ***  \n",
      " ***** \n",
      "*******\n",
      " ***** \n",
      "  ***  \n",
      "   *   \n",
      "\n"
     ]
    }
   ],
   "source": [
    "#练习五：写函数，根据给定符号，打印各种菱形。\n",
    "def shape():\n",
    "    s = \"*\"\n",
    "    for i in range(1,8,2):\n",
    "        print((s*i).center(7))\n",
    "    for i in reversed(range(1,6,2)):\n",
    "        print((s*i).center(7))\n",
    "    print()\n",
    "    \n",
    "shape()\n",
    "    "
   ]
  },
  {
   "cell_type": "code",
   "execution_count": 21,
   "metadata": {
    "collapsed": false
   },
   "outputs": [
    {
     "name": "stdout",
     "output_type": "stream",
     "text": [
      "赏花归去马如飞飞如马去归花赏\n",
      " 赏花归去马如飞如马去归花赏\n",
      "  赏花归去马如如马去归花赏\n",
      "   赏花归去马如马去归花赏\n",
      "    赏花归去马马去归花赏\n",
      "     赏花归去马去归花赏\n",
      "      赏花归去去归花赏\n",
      "       赏花归去归花赏\n",
      "        赏花归归花赏\n",
      "         赏花归花赏\n",
      "          赏花花赏\n",
      "           赏花赏\n",
      "            赏赏\n",
      "             赏\n"
     ]
    }
   ],
   "source": [
    "#练习六：与本小节任务基本相同，但要求打印回文字符倒三角形。\n",
    "def plalindrome(line):\n",
    "    for i in range(len(line)*2,0,-1):\n",
    "        if i == 1:\n",
    "            print(' '*(len(line)*2-1) +line[0])\n",
    "        elif i%2 == 1:\n",
    "            print(' '*(len(line)*2-i) + line[:i//2] + line[i//2] + line[i//2-1::-1])\n",
    "        else:\n",
    "            print(' '*(len(line)*2-i) + line[:i//2] + line[i//2-1::-1])\n",
    "\n",
    "def main():\n",
    "    text = '赏花归去马如飞'\n",
    "    plalindrome(text)\n",
    "    \n",
    "\n",
    "if __name__ == '__main__':\n",
    "    main()\n",
    "\n",
    "\n",
    "    "
   ]
  },
  {
   "cell_type": "code",
   "execution_count": 17,
   "metadata": {
    "collapsed": false
   },
   "outputs": [
    {
     "name": "stdout",
     "output_type": "stream",
     "text": [
      "赏花归去马如飞飞如马去归花赏\n",
      "赏花归去马如飞如马去归花赏\n",
      "赏花归去马如如马去归花赏\n",
      "赏花归去马如马去归花赏\n",
      "赏花归去马马去归花赏\n",
      "赏花归去马去归花赏\n",
      "赏花归去去归花赏\n",
      "赏花归去归花赏\n",
      "赏花归归花赏\n",
      "赏花归花赏\n",
      "赏花花赏\n",
      "赏花赏\n",
      "赏赏\n",
      "赏\n"
     ]
    }
   ],
   "source": [
    "line = \"赏花归去马如飞\"\n",
    "for i in range(1,15):\n",
    "    if i%2 == 1:\n",
    "        print(line[:7-i//2],end = '')\n",
    "        print(line[:7-i//2][-1::-1])\n",
    "    else:\n",
    "        print(line[:7-int((i)/2)+1],end = '')\n",
    "        print(line[:7-int((i)/2)+1][-2::-1])\n"
   ]
  },
  {
   "cell_type": "code",
   "execution_count": null,
   "metadata": {
    "collapsed": true
   },
   "outputs": [],
   "source": []
  }
 ],
 "metadata": {
  "kernelspec": {
   "display_name": "Python 3",
   "language": "python",
   "name": "python3"
  },
  "language_info": {
   "codemirror_mode": {
    "name": "ipython",
    "version": 3
   },
   "file_extension": ".py",
   "mimetype": "text/x-python",
   "name": "python",
   "nbconvert_exporter": "python",
   "pygments_lexer": "ipython3",
   "version": "3.6.0"
  }
 },
 "nbformat": 4,
 "nbformat_minor": 2
}
