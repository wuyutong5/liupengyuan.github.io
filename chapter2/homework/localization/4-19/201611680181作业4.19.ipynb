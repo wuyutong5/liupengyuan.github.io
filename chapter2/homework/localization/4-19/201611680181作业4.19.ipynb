{
 "cells": [
  {
   "cell_type": "code",
   "execution_count": null,
   "metadata": {
    "collapsed": true
   },
   "outputs": [],
   "source": [
    "#练习一：自己定义一个reverse(s)函数，功能返回字符串s的倒序字符串。\n",
    "\n",
    "#练习二：写函数，根据给定符号和行数，打印相应直角三角形，等腰三角形及其他形式的三角形。\n",
    "\n",
    "#练习三：将任务4中的英语名词单数变复数的函数，尽可能的考虑多种情况，重新进行实现。"
   ]
  },
  {
   "cell_type": "code",
   "execution_count": 1,
   "metadata": {
    "collapsed": false
   },
   "outputs": [
    {
     "name": "stdout",
     "output_type": "stream",
     "text": [
      "请输入字符hello\n",
      "olleh\n"
     ]
    }
   ],
   "source": [
    "#练习1\n",
    "def reverse(line):\n",
    "    print(line[::-1])\n",
    "    \n",
    "line = str(input('请输入字符'))\n",
    "reverse(line)"
   ]
  },
  {
   "cell_type": "code",
   "execution_count": 2,
   "metadata": {
    "collapsed": false
   },
   "outputs": [
    {
     "name": "stdout",
     "output_type": "stream",
     "text": [
      "请输入￥￥￥￥￥￥￥￥￥￥￥￥￥\n",
      "￥\n",
      "￥￥\n",
      "￥￥￥\n",
      "￥￥￥￥\n",
      "￥￥￥￥￥\n",
      "￥￥￥￥￥￥\n",
      "￥￥￥￥￥￥￥\n",
      "￥￥￥￥￥￥￥￥\n",
      "￥￥￥￥￥￥￥￥￥\n",
      "￥￥￥￥￥￥￥￥￥￥\n",
      "￥￥￥￥￥￥￥￥￥￥￥\n",
      "￥￥￥￥￥￥￥￥￥￥￥￥\n"
     ]
    }
   ],
   "source": [
    "#练习2 直角三角形\n",
    "\n",
    "line = str(input('请输入'))\n",
    "for i in range(1,len(line)):\n",
    "    print(line[0:i])"
   ]
  },
  {
   "cell_type": "code",
   "execution_count": 3,
   "metadata": {
    "collapsed": false
   },
   "outputs": [
    {
     "name": "stdout",
     "output_type": "stream",
     "text": [
      "请输入字符#############\n",
      "                          #\n",
      "                         ###\n",
      "                        #####\n",
      "                       #######\n",
      "                      #########\n",
      "                     ###########\n",
      "                    #############\n",
      "                   ###############\n",
      "                  #################\n",
      "                 ###################\n",
      "                #####################\n",
      "               #######################\n",
      "              #########################\n",
      "             ###########################\n",
      "            #############################\n",
      "           ###############################\n",
      "          #################################\n",
      "         ###################################\n",
      "        #####################################\n",
      "       #######################################\n",
      "      #########################################\n",
      "     ###########################################\n",
      "    #############################################\n",
      "   ###############################################\n",
      "  #################################################\n",
      " ###################################################\n"
     ]
    }
   ],
   "source": [
    "#练习2 等腰三角形\n",
    "line = str(input('请输入字符'))\n",
    "n = len(line)\n",
    "for i in range(1,2*n+1):\n",
    "    print(' '*(2*n-i+1) + line[0]*(2*i-1))"
   ]
  },
  {
   "cell_type": "code",
   "execution_count": 7,
   "metadata": {
    "collapsed": false
   },
   "outputs": [
    {
     "name": "stdout",
     "output_type": "stream",
     "text": [
      "请输入一个名词kiss\n",
      "kisses\n"
     ]
    },
    {
     "ename": "AttributeError",
     "evalue": "'str' object has no attribute 'append'",
     "output_type": "error",
     "traceback": [
      "\u001b[0;31m---------------------------------------------------------------------------\u001b[0m",
      "\u001b[0;31mAttributeError\u001b[0m                            Traceback (most recent call last)",
      "\u001b[0;32m<ipython-input-7-bb40a6e8ff49>\u001b[0m in \u001b[0;36m<module>\u001b[0;34m()\u001b[0m\n\u001b[1;32m     26\u001b[0m         \u001b[0mline\u001b[0m \u001b[1;33m=\u001b[0m \u001b[1;34m''\u001b[0m\u001b[1;33m.\u001b[0m\u001b[0mjoin\u001b[0m\u001b[1;33m(\u001b[0m\u001b[0mline\u001b[0m\u001b[1;33m)\u001b[0m\u001b[1;33m\u001b[0m\u001b[0m\n\u001b[1;32m     27\u001b[0m         \u001b[0mprint\u001b[0m\u001b[1;33m(\u001b[0m\u001b[0mline\u001b[0m\u001b[1;33m)\u001b[0m\u001b[1;33m\u001b[0m\u001b[0m\n\u001b[0;32m---> 28\u001b[0;31m \u001b[0mresult\u001b[0m\u001b[1;33m(\u001b[0m\u001b[1;33m)\u001b[0m\u001b[1;33m\u001b[0m\u001b[0m\n\u001b[0m",
      "\u001b[0;32m<ipython-input-7-bb40a6e8ff49>\u001b[0m in \u001b[0;36mresult\u001b[0;34m()\u001b[0m\n\u001b[1;32m     23\u001b[0m         \u001b[0mprint\u001b[0m\u001b[1;33m(\u001b[0m\u001b[0mline\u001b[0m\u001b[1;33m)\u001b[0m\u001b[1;33m\u001b[0m\u001b[0m\n\u001b[1;32m     24\u001b[0m     \u001b[1;32melse\u001b[0m\u001b[1;33m:\u001b[0m\u001b[1;33m\u001b[0m\u001b[0m\n\u001b[0;32m---> 25\u001b[0;31m         \u001b[0mline\u001b[0m\u001b[1;33m.\u001b[0m\u001b[0mappend\u001b[0m\u001b[1;33m(\u001b[0m\u001b[1;34m's'\u001b[0m\u001b[1;33m)\u001b[0m\u001b[1;33m\u001b[0m\u001b[0m\n\u001b[0m\u001b[1;32m     26\u001b[0m         \u001b[0mline\u001b[0m \u001b[1;33m=\u001b[0m \u001b[1;34m''\u001b[0m\u001b[1;33m.\u001b[0m\u001b[0mjoin\u001b[0m\u001b[1;33m(\u001b[0m\u001b[0mline\u001b[0m\u001b[1;33m)\u001b[0m\u001b[1;33m\u001b[0m\u001b[0m\n\u001b[1;32m     27\u001b[0m         \u001b[0mprint\u001b[0m\u001b[1;33m(\u001b[0m\u001b[0mline\u001b[0m\u001b[1;33m)\u001b[0m\u001b[1;33m\u001b[0m\u001b[0m\n",
      "\u001b[0;31mAttributeError\u001b[0m: 'str' object has no attribute 'append'"
     ]
    }
   ],
   "source": [
    "#练习3\n",
    "def result():\n",
    "    word = input('请输入一个名词')\n",
    "    line = list(word)\n",
    "    n = len(line)\n",
    "    \n",
    "    if line[n-1] == 'y':\n",
    "        line.remove('y')\n",
    "        line.append('ies')\n",
    "        line = ''.join(line)\n",
    "        print(line)\n",
    "    if line[n-1] == 's':\n",
    "        line.append('es')\n",
    "        line = ''.join(line)\n",
    "        print(line)\n",
    "    if line[n-2:n:1] == 'ch':\n",
    "        line.append('es')\n",
    "        line = ''.join(line)\n",
    "        print(line)\n",
    "    if line[n-2:n:1] == 'sh':\n",
    "        line.append('es')\n",
    "        line = ''.join(line)\n",
    "        print(line)\n",
    "    else:\n",
    "        line.append('s')\n",
    "        line = ''.join(line)\n",
    "        print(line)\n",
    "result()"
   ]
  },
  {
   "cell_type": "markdown",
   "metadata": {},
   "source": [
    "#python语言老师为了激励学生学python，自费买了100个完全相同的Macbook Pro，分给三个班级，每个班级至少分5个，用穷举法计算共有多少种分法？"
   ]
  },
  {
   "cell_type": "code",
   "execution_count": 8,
   "metadata": {
    "collapsed": false
   },
   "outputs": [
    {
     "name": "stdout",
     "output_type": "stream",
     "text": [
      "3655\n"
     ]
    }
   ],
   "source": [
    "total = 0\n",
    "for i in range(5,90):\n",
    "    for j in range(5,95-i):\n",
    "        total += 1\n",
    "print(total)"
   ]
  }
 ],
 "metadata": {
  "kernelspec": {
   "display_name": "Python 3",
   "language": "python",
   "name": "python3"
  },
  "language_info": {
   "codemirror_mode": {
    "name": "ipython",
    "version": 3
   },
   "file_extension": ".py",
   "mimetype": "text/x-python",
   "name": "python",
   "nbconvert_exporter": "python",
   "pygments_lexer": "ipython3",
   "version": "3.6.0"
  }
 },
 "nbformat": 4,
 "nbformat_minor": 2
}
