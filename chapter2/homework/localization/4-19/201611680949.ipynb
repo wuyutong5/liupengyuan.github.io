{
 "cells": [
  {
   "cell_type": "code",
   "execution_count": 2,
   "metadata": {
    "collapsed": false,
    "deletable": true,
    "editable": true
   },
   "outputs": [
    {
     "name": "stdout",
     "output_type": "stream",
     "text": [
      "55\n"
     ]
    }
   ],
   "source": [
    "#将前面几章用while循环的习题，用for循环实现，并尽量写成函数。\n",
    "def sum_(numbers):\n",
    "    total=0\n",
    "    for number in numbers:\n",
    "        total+=number\n",
    "    return total\n",
    "\n",
    "numbers=[1,2,3,4,5,6,7,8,9,10]\n",
    "print(sum_(numbers))"
   ]
  },
  {
   "cell_type": "code",
   "execution_count": 27,
   "metadata": {
    "collapsed": false,
    "deletable": true,
    "editable": true
   },
   "outputs": [
    {
     "name": "stdout",
     "output_type": "stream",
     "text": [
      "请输入想要倒序的字符123\n",
      "321\n"
     ]
    }
   ],
   "source": [
    "#练习1\n",
    "\n",
    "list=input('请输入想要倒序的字符：')\n",
    "\n",
    "def reverse():\n",
    "    print(list[len(s)-1:0:-1]+list[0])\n",
    "    \n",
    "reverse()\n"
   ]
  },
  {
   "cell_type": "code",
   "execution_count": 32,
   "metadata": {
    "collapsed": false
   },
   "outputs": [
    {
     "name": "stdout",
     "output_type": "stream",
     "text": [
      "请输入行数：3\n",
      "请输入指定符号：s\n",
      "\n",
      "s\n",
      "ss\n",
      "sss\n"
     ]
    }
   ],
   "source": [
    "#练习2\n",
    "\n",
    "def triangle():\n",
    "    n=int(input('请输入行数：'))\n",
    "    a=str(input('请输入指定符号：'))\n",
    "    for i in range(n+1):\n",
    "        print(a*i)\n",
    "        \n",
    "triangle()\n",
    "\n"
   ]
  },
  {
   "cell_type": "code",
   "execution_count": 35,
   "metadata": {
    "collapsed": false
   },
   "outputs": [
    {
     "name": "stdout",
     "output_type": "stream",
     "text": [
      "请输入单词：shelf\n",
      "shelves\n"
     ]
    }
   ],
   "source": [
    "#练习3\n",
    "\n",
    "def pl():\n",
    "    word=input('请输入单词：')\n",
    "    if word.endswith('s') or word.endswith('ch') or word.endswith('sh'):\n",
    "        print(word,'es',sep='')\n",
    "    elif word.endswith('f'):\n",
    "        print(word[0:len(word)-1]+'ves',sep='')\n",
    "    elif word.endswith('y'):\n",
    "        print(word[0:len(word)-1]+'ies',sep='')\n",
    "    else:\n",
    "        print(word,'s',sep='')\n",
    "        \n",
    "        \n",
    "pl()"
   ]
  },
  {
   "cell_type": "code",
   "execution_count": 37,
   "metadata": {
    "collapsed": false
   },
   "outputs": [
    {
     "name": "stdout",
     "output_type": "stream",
     "text": [
      "请输入上底长：2\n",
      "请输入下底长：5\n",
      "请输入指定符号：i\n",
      "ii\n",
      "iii\n",
      "iiii\n",
      "iiiii\n"
     ]
    }
   ],
   "source": [
    "#练习4\n",
    "\n",
    "def tixing():\n",
    "    n1=int(input('请输入上底长：'))\n",
    "    n2=int(input('请输入下底长：'))\n",
    "    s=str(input('请输入指定符号：'))\n",
    "    for i in range(n1,n2+1):\n",
    "        print(s*i)\n",
    "        \n",
    "tixing()"
   ]
  },
  {
   "cell_type": "code",
   "execution_count": null,
   "metadata": {
    "collapsed": true
   },
   "outputs": [],
   "source": []
  }
 ],
 "metadata": {
  "kernelspec": {
   "display_name": "Python 3",
   "language": "python",
   "name": "python3"
  },
  "language_info": {
   "codemirror_mode": {
    "name": "ipython",
    "version": 3
   },
   "file_extension": ".py",
   "mimetype": "text/x-python",
   "name": "python",
   "nbconvert_exporter": "python",
   "pygments_lexer": "ipython3",
   "version": "3.6.0"
  }
 },
 "nbformat": 4,
 "nbformat_minor": 2
}
