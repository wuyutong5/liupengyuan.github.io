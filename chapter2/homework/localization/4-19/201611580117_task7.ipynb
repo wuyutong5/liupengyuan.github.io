{
 "cells": [
  {
   "cell_type": "markdown",
   "metadata": {},
   "source": [
    "#练习一：自己定义一个reverse(s)函数，功能返回字符串s的倒序字符串。#"
   ]
  },
  {
   "cell_type": "code",
   "execution_count": 1,
   "metadata": {
    "collapsed": false
   },
   "outputs": [
    {
     "data": {
      "text/plain": [
       "[0, 1, 2, 3, 4, 5, 6, 7, 8, 9]"
      ]
     },
     "execution_count": 1,
     "metadata": {},
     "output_type": "execute_result"
    }
   ],
   "source": [
    "def reverse():\n",
    "    x = []\n",
    "    s = [9,8,7,6,5,4,3,2,1,0]\n",
    "    for i in range(len(s)-1,-1,-1):\n",
    "        x.append(s[i])\n",
    "    return(x)\n",
    "    \n",
    "reverse()"
   ]
  },
  {
   "cell_type": "markdown",
   "metadata": {},
   "source": [
    "#练习二：写函数，根据给定符号和行数，打印相应直角三角形，等腰三角形及其他形式的三角形。#"
   ]
  },
  {
   "cell_type": "code",
   "execution_count": 3,
   "metadata": {
    "collapsed": false
   },
   "outputs": [
    {
     "name": "stdout",
     "output_type": "stream",
     "text": [
      "*  \n",
      "*  *  \n",
      "*  *  *  \n",
      "*  *  *  *  \n",
      "*  *  *  *  *  \n",
      "------------------------------\n",
      "    *\n",
      "   ***\n",
      "  *****\n",
      " *******\n",
      "------------------------------\n",
      "     *  \n",
      "    *  *  \n",
      "   *  *  *  \n",
      "  *  *  *  *  \n",
      " *  *  *  *  *  \n",
      "*  *  *  *  *  *  \n"
     ]
    }
   ],
   "source": [
    "def pattern(pat):\n",
    "    for i in range(1,len(pat)):\n",
    "        for j in range(1,i+1):\n",
    "            print(pat[0],' ',end = '')\n",
    "        print()\n",
    "    \n",
    "    \n",
    "    print(\"-\"*30)\n",
    "    for i in range(1,len(pat)-1):\n",
    "        for j in range(len(pat)-1-i,0,-1):\n",
    "            print(' ',end = '')\n",
    "        for k in range(1,2*i):\n",
    "            print(pat[0],end = '')\n",
    "        print()\n",
    "        \n",
    "    print(\"-\"*30)        \n",
    "    for i in range(1,len(pat)+1):\n",
    "        for j in range(len(pat)-i,0,-1):\n",
    "            print(' ',end = '')\n",
    "        for k in range(1,i+1):\n",
    "            print(pat[0],' ',end = '')\n",
    "        print()\n",
    "\n",
    "pattern('******')   "
   ]
  },
  {
   "cell_type": "markdown",
   "metadata": {},
   "source": [
    "#练习4写函数，根据给定符号，上底、下底、高，打印各种梯形。#"
   ]
  },
  {
   "cell_type": "code",
   "execution_count": 1,
   "metadata": {
    "collapsed": false
   },
   "outputs": [
    {
     "name": "stdout",
     "output_type": "stream",
     "text": [
      "请输入符号，回车结束：*\n",
      "请输入梯形上底，回车结束：4\n",
      "请输入梯形下底，回车结束：8\n",
      "请输入梯形的高，回车结束：5\n",
      "    ****\n",
      "   *****\n",
      "  ******\n",
      " *******\n",
      "********\n"
     ]
    }
   ],
   "source": [
    "def trapezium(symbol,upper_line,lower_line,height): \n",
    "    symbol = input(\"请输入符号，回车结束：\") \n",
    "    upper_line = int(input(\"请输入梯形上底，回车结束：\"))\n",
    "    lower_line = int(input(\"请输入梯形下底，回车结束：\"))\n",
    "    height = int(input(\"请输入梯形的高，回车结束：\"))\n",
    "    for i in range(height):\n",
    "        print (' '*(lower_line-upper_line-i)+symbol*(i+upper_line))\n",
    "        \n",
    "a = 0 \n",
    "b = 0\n",
    "c = 0\n",
    "d = 0 \n",
    "trapezium(a,b,c,d)"
   ]
  },
  {
   "cell_type": "markdown",
   "metadata": {},
   "source": [
    "#练习5：写函数，根据给定符号，打印各种菱形。#"
   ]
  },
  {
   "cell_type": "code",
   "execution_count": 4,
   "metadata": {
    "collapsed": false
   },
   "outputs": [
    {
     "name": "stdout",
     "output_type": "stream",
     "text": [
      "请输入行数，回车结束：8\n",
      "rhombus：\n",
      "       *       \n",
      "      ***      \n",
      "     *****     \n",
      "    *******    \n",
      "     *****    \n",
      "      ***     \n",
      "       *      \n"
     ]
    }
   ],
   "source": [
    "def rhombus(symbol,rows):\n",
    "    print ('rhombus：')  \n",
    "    for i in range(rows):\n",
    "        if i < rows//2:\n",
    "            print (' '*(rows-i-1)+symbol*(i)+'*'+symbol*(i)+' '*(rows-i-1))\n",
    "        else:\n",
    "            if rows%2 == 0:\n",
    "                j = rows-i-2\n",
    "                if (i != rows-1):\n",
    "                    print (' '*(i+1)+symbol*(j)+'*'+symbol*(j)+' '*(i))\n",
    "            else:\n",
    "                j = rows-i-1\n",
    "                print (' '*(i)+symbol*(j)+'*'+symbol*(j)+' '*(i))\n",
    "\n",
    "                \n",
    "symbol = '*' \n",
    "rows = int(input(\"请输入行数，回车结束：\"))  \n",
    "rhombus(symbol,rows)"
   ]
  },
  {
   "cell_type": "markdown",
   "metadata": {},
   "source": [
    "#练习6：与本小节任务基本相同，但要求打印回文字符倒三角形。#"
   ]
  },
  {
   "cell_type": "code",
   "execution_count": 5,
   "metadata": {
    "collapsed": false
   },
   "outputs": [
    {
     "name": "stdout",
     "output_type": "stream",
     "text": [
      "赏花归去马如飞飞如马去归花赏\n",
      "赏花归去马如飞如马去归花赏  \n",
      "赏花归去马如如马去归花赏  \n",
      "赏花归去马如马去归花赏      \n",
      "赏花归去马马去归花赏    \n",
      "赏花归去马去归花赏          \n",
      "赏花归去去归花赏      \n",
      "赏花归去归花赏              \n",
      "赏花归归花赏        \n",
      "赏花归花赏                  \n",
      "赏花花赏          \n",
      "赏花赏                      \n",
      "赏赏            \n",
      "赏             \n"
     ]
    }
   ],
   "source": [
    "def plalindrome(line):\n",
    "    for i in range(len(line)*2,0,-1):\n",
    "        if i == 1:\n",
    "            print( line[0] + ' '*(len(line)*2-1))\n",
    "        elif i%2 == 1:\n",
    "            print(line[:i//2] + line[i//2] + line[i//2-1::-1] +'  '*(len(line)*2-i) )\n",
    "        else:\n",
    "            print(line[:i//2] + line[i//2-1::-1] + ' '*(len(line)*2-i) )\n",
    "\n",
    "def main():\n",
    "    text = '赏花归去马如飞'\n",
    "    plalindrome(text)\n",
    "    \n",
    "\n",
    "if __name__ == '__main__':\n",
    "    main()"
   ]
  },
  {
   "cell_type": "code",
   "execution_count": null,
   "metadata": {
    "collapsed": true
   },
   "outputs": [],
   "source": []
  }
 ],
 "metadata": {
  "kernelspec": {
   "display_name": "Python 3",
   "language": "python",
   "name": "python3"
  },
  "language_info": {
   "codemirror_mode": {
    "name": "ipython",
    "version": 3
   },
   "file_extension": ".py",
   "mimetype": "text/x-python",
   "name": "python",
   "nbconvert_exporter": "python",
   "pygments_lexer": "ipython3",
   "version": "3.6.0"
  }
 },
 "nbformat": 4,
 "nbformat_minor": 2
}
