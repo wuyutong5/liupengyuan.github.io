{
 "cells": [
  {
   "cell_type": "code",
   "execution_count": 6,
   "metadata": {
    "collapsed": false,
    "deletable": true,
    "editable": true
   },
   "outputs": [
    {
     "name": "stdout",
     "output_type": "stream",
     "text": [
      "i love kim\n",
      "mik evol i\n"
     ]
    }
   ],
   "source": [
    "##练习一：自己定义一个reverse(s)函数，功能返回字符串s的倒序字符串。\n",
    "\n",
    "def reverse(s): \n",
    "    return line[ : : -1]\n",
    "        \n",
    "line = input('')\n",
    "print(reverse(line))"
   ]
  },
  {
   "cell_type": "code",
   "execution_count": 2,
   "metadata": {
    "collapsed": false,
    "deletable": true,
    "editable": true
   },
   "outputs": [
    {
     "name": "stdout",
     "output_type": "stream",
     "text": [
      "请输入三角形行数，回车结束：3\n",
      "直角三角形：\n",
      "  *\n",
      " **\n",
      "***\n",
      "等腰三角形：\n",
      "  *  \n",
      " *** \n",
      "*****\n",
      "其他三角形：\n",
      "  *\n",
      " **\n",
      "  *\n"
     ]
    }
   ],
   "source": [
    "#写函数，根据给定符号和行数，打印相应直角三角形，等腰三角形及其他形式的三角形。\n",
    "def triangle(symbol,rows):\n",
    "    print ('直角三角形：')   \n",
    "    for i in range(rows):\n",
    "        print (' '*(rows-i-1)+symbol*(i+1))\n",
    "    print ('等腰三角形：')  \n",
    "    for i in range(rows):\n",
    "        print (' '*(rows-i-1)+symbol*(i)+'*'+symbol*(i)+' '*(rows-i-1))\n",
    "    print ('其他三角形：')      \n",
    "    for i in range(rows):\n",
    "        if i < rows//2:\n",
    "            print (' '*(rows-i-1)+symbol*(i+1))\n",
    "        else:\n",
    "            if rows%2 == 0:\n",
    "                j = rows-i-2\n",
    "            else:\n",
    "                j = rows-i-1\n",
    "            print (' '*(rows-j-1)+symbol*(j+1))\n",
    "               \n",
    "symbol = '*' \n",
    "rows = int(input(\"请输入三角形行数，回车结束：\"))\n",
    "triangle(symbol,rows)"
   ]
  },
  {
   "cell_type": "code",
   "execution_count": null,
   "metadata": {
    "collapsed": true
   },
   "outputs": [],
   "source": []
  },
  {
   "cell_type": "code",
   "execution_count": null,
   "metadata": {
    "collapsed": true
   },
   "outputs": [],
   "source": []
  },
  {
   "cell_type": "code",
   "execution_count": null,
   "metadata": {
    "collapsed": true
   },
   "outputs": [],
   "source": []
  },
  {
   "cell_type": "code",
   "execution_count": 3,
   "metadata": {
    "collapsed": false,
    "deletable": true,
    "editable": true
   },
   "outputs": [
    {
     "name": "stdout",
     "output_type": "stream",
     "text": [
      "请输入一个要转换的英语单词，回车结束,输入‘q’结束  fish\n",
      "fishes\n"
     ]
    }
   ],
   "source": [
    "#将任务4中的英语名词单数变复数的函数，尽可能的考虑多种情况，重新进行实现。\n",
    "def sin_to_plu(Eng_word):\n",
    "    if Eng_word.endswith('s') or Eng_word.endswith('x') or Eng_word.endswith('sh') or Eng_word.endswith('ch'):\n",
    "        print (Eng_word+'es')\n",
    "    elif Eng_word.endswith('y'):\n",
    "        print (Eng_word[0:len(Eng_word)-1]+'ies')\n",
    "    else :\n",
    "        print (Eng_word+'s')\n",
    "        \n",
    "Eng_word = input('请输入一个要转换的英语单词，回车结束  ')\n",
    "sin_to_plu(Eng_word)"
   ]
  },
  {
   "cell_type": "code",
   "execution_count": null,
   "metadata": {
    "collapsed": true
   },
   "outputs": [],
   "source": []
  },
  {
   "cell_type": "code",
   "execution_count": 4,
   "metadata": {
    "collapsed": false,
    "deletable": true,
    "editable": true
   },
   "outputs": [
    {
     "name": "stdout",
     "output_type": "stream",
     "text": [
      "请输入梯形上底，回车结束：3\n",
      "请输入梯形下底，回车结束：6\n",
      "请输入梯形的高，回车结束：4\n",
      "trapezium：\n",
      "   ***\n",
      "  ****\n",
      " *****\n",
      "******\n"
     ]
    }
   ],
   "source": [
    "#写函数，根据给定符号，上底、下底、高，打印各种梯形。\n",
    "def trapezium(symbol,upper_line,lower_line,height):\n",
    "    print ('trapezium：')   \n",
    "    for i in range(height):\n",
    "        print (' '*(lower_line-upper_line-i)+symbol*(i+upper_line))\n",
    "        \n",
    "symbol = '*' \n",
    "upper_line = int(input(\"请输入梯形上底，回车结束：\"))\n",
    "lower_line = int(input(\"请输入梯形下底，回车结束：\"))\n",
    "height = int(input(\"请输入梯形的高，回车结束：\"))\n",
    "trapezium(symbol,upper_line,lower_line,height)"
   ]
  },
  {
   "cell_type": "code",
   "execution_count": null,
   "metadata": {
    "collapsed": true
   },
   "outputs": [],
   "source": []
  },
  {
   "cell_type": "code",
   "execution_count": 6,
   "metadata": {
    "collapsed": false,
    "deletable": true,
    "editable": true
   },
   "outputs": [
    {
     "name": "stdout",
     "output_type": "stream",
     "text": [
      "请输入行数，回车结束：5\n",
      "rhombus：\n",
      "    *    \n",
      "   ***   \n",
      "  *****  \n",
      "   ***   \n",
      "    *    \n"
     ]
    }
   ],
   "source": [
    "#写函数，根据给定符号，打印各种菱形。\n",
    "def rhombus(symbol,rows):\n",
    "    print ('rhombus：')  \n",
    "    for i in range(rows):\n",
    "        if i < rows//2:\n",
    "            print (' '*(rows-i-1)+symbol*(i)+'*'+symbol*(i)+' '*(rows-i-1))\n",
    "        else:\n",
    "            if rows%2 == 0:\n",
    "                j = rows-i-2\n",
    "                if (i != rows-1):\n",
    "                    print (' '*(i+1)+symbol*(j)+'*'+symbol*(j)+' '*(i))\n",
    "            else:\n",
    "                j = rows-i-1\n",
    "                print (' '*(i)+symbol*(j)+'*'+symbol*(j)+' '*(i))\n",
    "symbol = '*' \n",
    "rows = int(input(\"请输入行数，回车结束：\"))  \n",
    "rhombus(symbol,rows)"
   ]
  },
  {
   "cell_type": "code",
   "execution_count": null,
   "metadata": {
    "collapsed": true
   },
   "outputs": [],
   "source": []
  },
  {
   "cell_type": "code",
   "execution_count": null,
   "metadata": {
    "collapsed": true
   },
   "outputs": [],
   "source": []
  },
  {
   "cell_type": "code",
   "execution_count": 7,
   "metadata": {
    "collapsed": false,
    "deletable": true,
    "editable": true
   },
   "outputs": [
    {
     "name": "stdout",
     "output_type": "stream",
     "text": [
      "赏花归去马如飞飞如马去归花赏\n",
      "赏花归去马如飞如马去归花赏  \n",
      "赏花归去马如如马去归花赏  \n",
      "赏花归去马如马去归花赏      \n",
      "赏花归去马马去归花赏    \n",
      "赏花归去马去归花赏          \n",
      "赏花归去去归花赏      \n",
      "赏花归去归花赏              \n",
      "赏花归归花赏        \n",
      "赏花归花赏                  \n",
      "赏花花赏          \n",
      "赏花赏                      \n",
      "赏赏            \n",
      "赏             \n"
     ]
    }
   ],
   "source": [
    "#与本小节任务基本相同，但要求打印回文字符倒三角形。\n",
    "def plalindrome(line):\n",
    "    for i in range(len(line)*2,0,-1):\n",
    "        if i == 1:\n",
    "            print( line[0] + ' '*(len(line)*2-1))\n",
    "        elif i%2 == 1:\n",
    "            print(line[:i//2] + line[i//2] + line[i//2-1::-1] +'  '*(len(line)*2-i) )\n",
    "        else:\n",
    "            print(line[:i//2] + line[i//2-1::-1] + ' '*(len(line)*2-i) )\n",
    "\n",
    "def main():\n",
    "    text = '赏花归去马如飞'\n",
    "    plalindrome(text)\n",
    "    \n",
    "\n",
    "if __name__ == '__main__':\n",
    "    main()"
   ]
  },
  {
   "cell_type": "code",
   "execution_count": null,
   "metadata": {
    "collapsed": true
   },
   "outputs": [],
   "source": []
  },
  {
   "cell_type": "code",
   "execution_count": null,
   "metadata": {
    "collapsed": true,
    "deletable": true,
    "editable": true
   },
   "outputs": [],
   "source": []
  },
  {
   "cell_type": "code",
   "execution_count": null,
   "metadata": {
    "collapsed": true,
    "deletable": true,
    "editable": true
   },
   "outputs": [],
   "source": []
  },
  {
   "cell_type": "code",
   "execution_count": null,
   "metadata": {
    "collapsed": true,
    "deletable": true,
    "editable": true
   },
   "outputs": [],
   "source": []
  },
  {
   "cell_type": "code",
   "execution_count": null,
   "metadata": {
    "collapsed": true,
    "deletable": true,
    "editable": true
   },
   "outputs": [],
   "source": []
  },
  {
   "cell_type": "code",
   "execution_count": null,
   "metadata": {
    "collapsed": true,
    "deletable": true,
    "editable": true
   },
   "outputs": [],
   "source": []
  },
  {
   "cell_type": "code",
   "execution_count": null,
   "metadata": {
    "collapsed": true,
    "deletable": true,
    "editable": true
   },
   "outputs": [],
   "source": []
  },
  {
   "cell_type": "code",
   "execution_count": null,
   "metadata": {
    "collapsed": true,
    "deletable": true,
    "editable": true
   },
   "outputs": [],
   "source": []
  },
  {
   "cell_type": "code",
   "execution_count": null,
   "metadata": {
    "collapsed": true,
    "deletable": true,
    "editable": true
   },
   "outputs": [],
   "source": []
  },
  {
   "cell_type": "code",
   "execution_count": null,
   "metadata": {
    "collapsed": true,
    "deletable": true,
    "editable": true
   },
   "outputs": [],
   "source": []
  },
  {
   "cell_type": "code",
   "execution_count": 20,
   "metadata": {
    "collapsed": false,
    "deletable": true,
    "editable": true
   },
   "outputs": [
    {
     "name": "stdout",
     "output_type": "stream",
     "text": [
      "\n",
      "天\n",
      "天天\n",
      "天天天\n",
      "天天天天\n",
      "天天天天天\n",
      "天天天天天天\n",
      "天天天天天天天\n",
      "天天天天天天天天\n",
      "天天天天天天天天天\n",
      "天天天天天天天天天天\n",
      "天天天天天天天天天天天\n"
     ]
    }
   ],
   "source": [
    "line = '天天天天天天'\n",
    "for i in range(1, len(line)*2+1):\n",
    "    for j in range(1,i):\n",
    "        print(line[0], end='')\n",
    "    print()"
   ]
  },
  {
   "cell_type": "code",
   "execution_count": null,
   "metadata": {
    "collapsed": true,
    "deletable": true,
    "editable": true
   },
   "outputs": [],
   "source": []
  },
  {
   "cell_type": "code",
   "execution_count": null,
   "metadata": {
    "collapsed": true,
    "deletable": true,
    "editable": true
   },
   "outputs": [],
   "source": []
  },
  {
   "cell_type": "code",
   "execution_count": null,
   "metadata": {
    "collapsed": true,
    "deletable": true,
    "editable": true
   },
   "outputs": [],
   "source": []
  },
  {
   "cell_type": "code",
   "execution_count": null,
   "metadata": {
    "collapsed": true,
    "deletable": true,
    "editable": true
   },
   "outputs": [],
   "source": []
  },
  {
   "cell_type": "code",
   "execution_count": null,
   "metadata": {
    "collapsed": true,
    "deletable": true,
    "editable": true
   },
   "outputs": [],
   "source": []
  },
  {
   "cell_type": "code",
   "execution_count": null,
   "metadata": {
    "collapsed": true,
    "deletable": true,
    "editable": true
   },
   "outputs": [],
   "source": []
  },
  {
   "cell_type": "code",
   "execution_count": null,
   "metadata": {
    "collapsed": true,
    "deletable": true,
    "editable": true
   },
   "outputs": [],
   "source": []
  },
  {
   "cell_type": "code",
   "execution_count": null,
   "metadata": {
    "collapsed": true,
    "deletable": true,
    "editable": true
   },
   "outputs": [],
   "source": []
  },
  {
   "cell_type": "code",
   "execution_count": null,
   "metadata": {
    "collapsed": true,
    "deletable": true,
    "editable": true
   },
   "outputs": [],
   "source": []
  },
  {
   "cell_type": "code",
   "execution_count": null,
   "metadata": {
    "collapsed": true,
    "deletable": true,
    "editable": true
   },
   "outputs": [],
   "source": []
  },
  {
   "cell_type": "code",
   "execution_count": null,
   "metadata": {
    "collapsed": true,
    "deletable": true,
    "editable": true
   },
   "outputs": [],
   "source": []
  },
  {
   "cell_type": "code",
   "execution_count": null,
   "metadata": {
    "collapsed": true,
    "deletable": true,
    "editable": true
   },
   "outputs": [],
   "source": []
  },
  {
   "cell_type": "code",
   "execution_count": null,
   "metadata": {
    "collapsed": true,
    "deletable": true,
    "editable": true
   },
   "outputs": [],
   "source": []
  },
  {
   "cell_type": "code",
   "execution_count": null,
   "metadata": {
    "collapsed": true,
    "deletable": true,
    "editable": true
   },
   "outputs": [],
   "source": []
  },
  {
   "cell_type": "code",
   "execution_count": null,
   "metadata": {
    "collapsed": true,
    "deletable": true,
    "editable": true
   },
   "outputs": [],
   "source": []
  },
  {
   "cell_type": "code",
   "execution_count": null,
   "metadata": {
    "collapsed": true,
    "deletable": true,
    "editable": true
   },
   "outputs": [],
   "source": []
  },
  {
   "cell_type": "code",
   "execution_count": null,
   "metadata": {
    "collapsed": true,
    "deletable": true,
    "editable": true
   },
   "outputs": [],
   "source": []
  },
  {
   "cell_type": "code",
   "execution_count": null,
   "metadata": {
    "collapsed": true,
    "deletable": true,
    "editable": true
   },
   "outputs": [],
   "source": []
  }
 ],
 "metadata": {
  "kernelspec": {
   "display_name": "Python 3",
   "language": "python",
   "name": "python3"
  },
  "language_info": {
   "codemirror_mode": {
    "name": "ipython",
    "version": 3
   },
   "file_extension": ".py",
   "mimetype": "text/x-python",
   "name": "python",
   "nbconvert_exporter": "python",
   "pygments_lexer": "ipython3",
   "version": "3.6.0"
  }
 },
 "nbformat": 4,
 "nbformat_minor": 2
}
